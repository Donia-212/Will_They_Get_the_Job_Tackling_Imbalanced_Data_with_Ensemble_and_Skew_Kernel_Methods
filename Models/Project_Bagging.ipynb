{
  "nbformat": 4,
  "nbformat_minor": 0,
  "metadata": {
    "colab": {
      "provenance": []
    },
    "kernelspec": {
      "name": "python3",
      "display_name": "Python 3"
    },
    "language_info": {
      "name": "python"
    }
  },
  "cells": [
    {
      "cell_type": "code",
      "execution_count": 7,
      "metadata": {
        "id": "KsiYG2WKKRRB"
      },
      "outputs": [],
      "source": [
        "import pandas as pd\n",
        "import numpy as np\n",
        "from sklearn.model_selection import train_test_split\n",
        "from sklearn.model_selection import GridSearchCV\n",
        "from mlxtend.evaluate import PredefinedHoldoutSplit\n",
        "from sklearn.ensemble import BaggingClassifier\n",
        "from sklearn.metrics import classification_report"
      ]
    },
    {
      "cell_type": "code",
      "source": [
        "X_full = pd.read_csv('New_Train_Features_Full.csv')\n",
        "X_test_full = pd.read_csv('New_Test_Features_Full.csv')\n",
        "y = pd.read_csv('Train_Target.csv').iloc[:,1]\n",
        "\n",
        "X_full_no = pd.read_csv('New_Train_Features.csv')\n",
        "X_test_full_no = pd.read_csv('New_Test_Features.csv')\n",
        "\n",
        "X_no_manual = pd.read_csv('New_Train_Features_No_Selected.csv')\n",
        "X_test_no_manual = pd.read_csv('New_Test_Features_No_Selected.csv')\n",
        "\n",
        "X_RFE = pd.read_csv('New_Train_Features_RFE.csv')\n",
        "X_RFE_test = pd.read_csv('New_Test_Features_RFE.csv')\n",
        "\n",
        "X_LASSO = pd.read_csv('New_Train_Features_LASSO.csv')\n",
        "X_LASSO_test = pd.read_csv('New_Test_Features_LASSO.csv')\n",
        "\n",
        "X_manual = pd.read_csv('New_Train_Features_Selected.csv')\n",
        "X_manual_test = pd.read_csv('New_Test_Features_Selected.csv')"
      ],
      "metadata": {
        "id": "5cHqNsYyCCrZ"
      },
      "execution_count": 2,
      "outputs": []
    },
    {
      "cell_type": "markdown",
      "source": [
        "# Full Dataset:"
      ],
      "metadata": {
        "id": "wft6E7csIUK4"
      }
    },
    {
      "cell_type": "code",
      "source": [
        "np.random.seed(2025)\n",
        "X_train, X_temp, y_train, y_temp = train_test_split(X_full, y, test_size = 0.3, random_state = 2025, stratify = y)\n",
        "X_val, X_test, y_val, y_test = train_test_split(X_temp, y_temp, test_size = 0.5, random_state = 2025, stratify = y_temp)"
      ],
      "metadata": {
        "id": "LPlhePgoJCb0"
      },
      "execution_count": 3,
      "outputs": []
    },
    {
      "cell_type": "code",
      "source": [
        "np.random.seed(2025)\n",
        "train_ind, val_ind = train_test_split(np.arange(X_temp.shape[0]), test_size = 0.3, random_state = 2025, stratify = y_temp)\n",
        "split = PredefinedHoldoutSplit(valid_indices = val_ind)"
      ],
      "metadata": {
        "id": "vv_AEM4SISr2"
      },
      "execution_count": 4,
      "outputs": []
    },
    {
      "cell_type": "code",
      "source": [
        "params = {\n",
        "    \"n_estimators\": [100, 200, 300, 500],\n",
        "    \"max_samples\": [0.5, 0.7, 0.9, 1.0],\n",
        "    \"max_features\": [0.5, 0.7, 0.9, 1.0],\n",
        "    \"bootstrap\": [True, False],\n",
        "    \"bootstrap_features\": [True, False]\n",
        "}\n",
        "\n",
        "bag = BaggingClassifier(random_state = 2025)"
      ],
      "metadata": {
        "id": "L85pvOpRLfP_"
      },
      "execution_count": 12,
      "outputs": []
    },
    {
      "cell_type": "code",
      "source": [
        "np.random.seed(2025)\n",
        "bag_grid = GridSearchCV(bag, param_grid = params, cv = split, n_jobs = -1, scoring = 'f1_macro')\n",
        "bag_grid.fit(X_temp, y_temp)\n",
        "print('Best Parameters:', bag_grid.best_params_)"
      ],
      "metadata": {
        "colab": {
          "base_uri": "https://localhost:8080/"
        },
        "id": "i4rWlWIBLvwu",
        "outputId": "deba4bbd-76a9-413b-8882-dac808a20dc2"
      },
      "execution_count": 13,
      "outputs": [
        {
          "output_type": "stream",
          "name": "stdout",
          "text": [
            "Best Parameters: {'bootstrap': False, 'bootstrap_features': True, 'max_features': 0.7, 'max_samples': 0.7, 'n_estimators': 100}\n"
          ]
        }
      ]
    },
    {
      "cell_type": "code",
      "source": [
        "np.random.seed(2025)\n",
        "bag_model = BaggingClassifier(n_estimators = 100, max_samples = 0.7, max_features = 0.7, bootstrap = False, bootstrap_features = True, random_state = 2025)\n",
        "bag_model.fit(X_temp, y_temp)\n",
        "y_pred = bag_model.predict(X_test)\n",
        "\n",
        "print(classification_report(y_test, y_pred))"
      ],
      "metadata": {
        "colab": {
          "base_uri": "https://localhost:8080/"
        },
        "id": "VU4fJQA9MdhT",
        "outputId": "feaa45f4-7da7-4405-8666-4c8902a62672"
      },
      "execution_count": 14,
      "outputs": [
        {
          "output_type": "stream",
          "name": "stdout",
          "text": [
            "              precision    recall  f1-score   support\n",
            "\n",
            "           0       1.00      1.00      1.00        36\n",
            "           1       1.00      1.00      1.00         9\n",
            "\n",
            "    accuracy                           1.00        45\n",
            "   macro avg       1.00      1.00      1.00        45\n",
            "weighted avg       1.00      1.00      1.00        45\n",
            "\n"
          ]
        }
      ]
    },
    {
      "cell_type": "code",
      "source": [
        "np.random.seed(2025)\n",
        "bag_model.fit(X_full, y)\n",
        "y_pred_bag = bag_model.predict(X_test_full)"
      ],
      "metadata": {
        "id": "wP0FxlVFNJu5"
      },
      "execution_count": 15,
      "outputs": []
    },
    {
      "cell_type": "code",
      "source": [
        "from google.colab import files\n",
        "\n",
        "pred_bag = pd.DataFrame({'ID': range(1, 92), 'Placement': y_pred_bag})\n",
        "\n",
        "with open('BAG_Full_Cov.csv', 'w') as file:\n",
        "    pred_bag.to_csv(file, index = False, header = True)\n",
        "\n",
        "files.download('BAG_Full_Cov.csv')"
      ],
      "metadata": {
        "colab": {
          "base_uri": "https://localhost:8080/",
          "height": 17
        },
        "id": "TlXgaI7HZpiL",
        "outputId": "e5a5b05f-4eaa-4de9-d831-ce7272989232"
      },
      "execution_count": 16,
      "outputs": [
        {
          "output_type": "display_data",
          "data": {
            "text/plain": [
              "<IPython.core.display.Javascript object>"
            ],
            "application/javascript": [
              "\n",
              "    async function download(id, filename, size) {\n",
              "      if (!google.colab.kernel.accessAllowed) {\n",
              "        return;\n",
              "      }\n",
              "      const div = document.createElement('div');\n",
              "      const label = document.createElement('label');\n",
              "      label.textContent = `Downloading \"${filename}\": `;\n",
              "      div.appendChild(label);\n",
              "      const progress = document.createElement('progress');\n",
              "      progress.max = size;\n",
              "      div.appendChild(progress);\n",
              "      document.body.appendChild(div);\n",
              "\n",
              "      const buffers = [];\n",
              "      let downloaded = 0;\n",
              "\n",
              "      const channel = await google.colab.kernel.comms.open(id);\n",
              "      // Send a message to notify the kernel that we're ready.\n",
              "      channel.send({})\n",
              "\n",
              "      for await (const message of channel.messages) {\n",
              "        // Send a message to notify the kernel that we're ready.\n",
              "        channel.send({})\n",
              "        if (message.buffers) {\n",
              "          for (const buffer of message.buffers) {\n",
              "            buffers.push(buffer);\n",
              "            downloaded += buffer.byteLength;\n",
              "            progress.value = downloaded;\n",
              "          }\n",
              "        }\n",
              "      }\n",
              "      const blob = new Blob(buffers, {type: 'application/binary'});\n",
              "      const a = document.createElement('a');\n",
              "      a.href = window.URL.createObjectURL(blob);\n",
              "      a.download = filename;\n",
              "      div.appendChild(a);\n",
              "      a.click();\n",
              "      div.remove();\n",
              "    }\n",
              "  "
            ]
          },
          "metadata": {}
        },
        {
          "output_type": "display_data",
          "data": {
            "text/plain": [
              "<IPython.core.display.Javascript object>"
            ],
            "application/javascript": [
              "download(\"download_0626067b-0230-4b8d-93b5-98c739ce4ffe\", \"BAG_Full_Cov.csv\", 459)"
            ]
          },
          "metadata": {}
        }
      ]
    },
    {
      "cell_type": "markdown",
      "source": [
        "# RFE Dataset:"
      ],
      "metadata": {
        "id": "TEjVn1aVbK5B"
      }
    },
    {
      "cell_type": "code",
      "source": [
        "np.random.seed(2025)\n",
        "X_train_rfe, X_temp_rfe, y_train_rfe, y_temp_rfe = train_test_split(X_RFE, y, test_size = 0.3, random_state = 2025, stratify = y)\n",
        "X_val_rfe, X_test_rfe, y_val_rfe, y_test_rfe = train_test_split(X_temp_rfe, y_temp_rfe, test_size = 0.5, random_state = 2025, stratify = y_temp_rfe)"
      ],
      "metadata": {
        "id": "XBQKs3QZbSR_"
      },
      "execution_count": 17,
      "outputs": []
    },
    {
      "cell_type": "code",
      "source": [
        "np.random.seed(2025)\n",
        "train_rfe_ind, val_rfe_ind = train_test_split(np.arange(X_temp_rfe.shape[0]), test_size = 0.3, random_state = 2025, stratify = y_temp_rfe)\n",
        "split_rfe = PredefinedHoldoutSplit(valid_indices = val_rfe_ind)"
      ],
      "metadata": {
        "id": "1cE8xzu3bmxf"
      },
      "execution_count": 18,
      "outputs": []
    },
    {
      "cell_type": "code",
      "source": [
        "np.random.seed(2025)\n",
        "bag_grid_rfe = GridSearchCV(BaggingClassifier(random_state = 2025), param_grid = params, cv = split_rfe, n_jobs = -1, scoring = 'f1_macro')\n",
        "bag_grid_rfe.fit(X_temp_rfe, y_temp_rfe)\n",
        "print('Best Parameters:', bag_grid_rfe.best_params_)"
      ],
      "metadata": {
        "colab": {
          "base_uri": "https://localhost:8080/"
        },
        "id": "jZ2U-BlkcXX3",
        "outputId": "119bf413-40d1-42ba-cef7-d46a8c800f37"
      },
      "execution_count": 19,
      "outputs": [
        {
          "output_type": "stream",
          "name": "stdout",
          "text": [
            "Best Parameters: {'bootstrap': False, 'bootstrap_features': False, 'max_features': 0.5, 'max_samples': 1.0, 'n_estimators': 500}\n"
          ]
        }
      ]
    },
    {
      "cell_type": "code",
      "source": [
        "np.random.seed(2025)\n",
        "bag_model_rfe = BaggingClassifier(n_estimators = 500, max_samples = 1.0, max_features = 0.5, bootstrap = False, bootstrap_features = False, random_state = 2025)\n",
        "bag_model_rfe.fit(X_temp_rfe, y_temp_rfe)\n",
        "y_pred_rfe = bag_model_rfe.predict(X_test_rfe)\n",
        "\n",
        "print(classification_report(y_test, y_pred_rfe))"
      ],
      "metadata": {
        "colab": {
          "base_uri": "https://localhost:8080/"
        },
        "id": "m9FDkqgOcigg",
        "outputId": "8d45148e-9fc0-49c2-9953-6af231552363"
      },
      "execution_count": 20,
      "outputs": [
        {
          "output_type": "stream",
          "name": "stdout",
          "text": [
            "              precision    recall  f1-score   support\n",
            "\n",
            "           0       1.00      1.00      1.00        36\n",
            "           1       1.00      1.00      1.00         9\n",
            "\n",
            "    accuracy                           1.00        45\n",
            "   macro avg       1.00      1.00      1.00        45\n",
            "weighted avg       1.00      1.00      1.00        45\n",
            "\n"
          ]
        }
      ]
    },
    {
      "cell_type": "code",
      "source": [
        "np.random.seed(2025)\n",
        "bag_model_rfe.fit(X_RFE, y)\n",
        "y_pred_rfe_bag = bag_model_rfe.predict(X_RFE_test)"
      ],
      "metadata": {
        "id": "7LPyGoZ5cw2I"
      },
      "execution_count": 21,
      "outputs": []
    },
    {
      "cell_type": "code",
      "source": [
        "from google.colab import files\n",
        "\n",
        "pred_bag = pd.DataFrame({'ID': range(1, 92), 'Placement': y_pred_rfe_bag})\n",
        "\n",
        "with open('BAG_RFE_Cov.csv', 'w') as file:\n",
        "    pred_bag.to_csv(file, index = False, header = True)\n",
        "\n",
        "files.download('BAG_RFE_Cov.csv')"
      ],
      "metadata": {
        "colab": {
          "base_uri": "https://localhost:8080/",
          "height": 17
        },
        "id": "r99bH7N9datB",
        "outputId": "c5c126ea-02a6-4e08-8df3-319740c7277b"
      },
      "execution_count": 22,
      "outputs": [
        {
          "output_type": "display_data",
          "data": {
            "text/plain": [
              "<IPython.core.display.Javascript object>"
            ],
            "application/javascript": [
              "\n",
              "    async function download(id, filename, size) {\n",
              "      if (!google.colab.kernel.accessAllowed) {\n",
              "        return;\n",
              "      }\n",
              "      const div = document.createElement('div');\n",
              "      const label = document.createElement('label');\n",
              "      label.textContent = `Downloading \"${filename}\": `;\n",
              "      div.appendChild(label);\n",
              "      const progress = document.createElement('progress');\n",
              "      progress.max = size;\n",
              "      div.appendChild(progress);\n",
              "      document.body.appendChild(div);\n",
              "\n",
              "      const buffers = [];\n",
              "      let downloaded = 0;\n",
              "\n",
              "      const channel = await google.colab.kernel.comms.open(id);\n",
              "      // Send a message to notify the kernel that we're ready.\n",
              "      channel.send({})\n",
              "\n",
              "      for await (const message of channel.messages) {\n",
              "        // Send a message to notify the kernel that we're ready.\n",
              "        channel.send({})\n",
              "        if (message.buffers) {\n",
              "          for (const buffer of message.buffers) {\n",
              "            buffers.push(buffer);\n",
              "            downloaded += buffer.byteLength;\n",
              "            progress.value = downloaded;\n",
              "          }\n",
              "        }\n",
              "      }\n",
              "      const blob = new Blob(buffers, {type: 'application/binary'});\n",
              "      const a = document.createElement('a');\n",
              "      a.href = window.URL.createObjectURL(blob);\n",
              "      a.download = filename;\n",
              "      div.appendChild(a);\n",
              "      a.click();\n",
              "      div.remove();\n",
              "    }\n",
              "  "
            ]
          },
          "metadata": {}
        },
        {
          "output_type": "display_data",
          "data": {
            "text/plain": [
              "<IPython.core.display.Javascript object>"
            ],
            "application/javascript": [
              "download(\"download_44fd6031-65df-4ae9-9799-439317751b70\", \"BAG_RFE_Cov.csv\", 459)"
            ]
          },
          "metadata": {}
        }
      ]
    },
    {
      "cell_type": "markdown",
      "source": [
        "# LASSO:"
      ],
      "metadata": {
        "id": "uKIORMg6dmwe"
      }
    },
    {
      "cell_type": "code",
      "source": [
        "np.random.seed(2025)\n",
        "X_train_lasso, X_temp_lasso, y_train_lasso, y_temp_lasso = train_test_split(X_LASSO, y, test_size = 0.3, random_state = 2025, stratify = y)\n",
        "X_val_lasso, X_test_lasso, y_val_lasso, y_test_lasso = train_test_split(X_temp_lasso, y_temp_lasso, test_size = 0.5, random_state = 2025, stratify = y_temp_lasso)"
      ],
      "metadata": {
        "id": "t1ZlNAhpe8gB"
      },
      "execution_count": 23,
      "outputs": []
    },
    {
      "cell_type": "code",
      "source": [
        "np.random.seed(2025)\n",
        "train_lasso_ind, val_lasso_ind = train_test_split(np.arange(X_temp_lasso.shape[0]), test_size = 0.3, random_state = 2025, stratify = y_temp_lasso)\n",
        "split_lasso = PredefinedHoldoutSplit(valid_indices = val_lasso_ind)"
      ],
      "metadata": {
        "id": "cbnVPMnTe8gC"
      },
      "execution_count": 24,
      "outputs": []
    },
    {
      "cell_type": "code",
      "source": [
        "np.random.seed(2025)\n",
        "bag_grid_lasso = GridSearchCV(BaggingClassifier(random_state = 2025), param_grid = params, cv = split_lasso, n_jobs = -1, scoring = 'f1_macro')\n",
        "bag_grid_lasso.fit(X_temp_lasso, y_temp_lasso)\n",
        "print('Best Parameters:', bag_grid_lasso.best_params_)"
      ],
      "metadata": {
        "colab": {
          "base_uri": "https://localhost:8080/"
        },
        "outputId": "91e6bfa1-9362-416e-9662-fd777da45e64",
        "id": "FBLjP5sye8gC"
      },
      "execution_count": 25,
      "outputs": [
        {
          "output_type": "stream",
          "name": "stdout",
          "text": [
            "Best Parameters: {'bootstrap': False, 'bootstrap_features': True, 'max_features': 0.9, 'max_samples': 0.9, 'n_estimators': 200}\n"
          ]
        }
      ]
    },
    {
      "cell_type": "code",
      "source": [
        "np.random.seed(2025)\n",
        "bag_model_lasso = BaggingClassifier(n_estimators = 200, max_samples = 0.9, max_features = 0.9, bootstrap = False, bootstrap_features = True, random_state = 2025)\n",
        "bag_model_lasso.fit(X_temp_lasso, y_temp_lasso)\n",
        "y_pred_lasso = bag_model_lasso.predict(X_test_lasso)\n",
        "\n",
        "print(classification_report(y_test, y_pred_lasso))"
      ],
      "metadata": {
        "colab": {
          "base_uri": "https://localhost:8080/"
        },
        "outputId": "389fd7fe-b10f-4d0b-f59c-1b49ea182008",
        "id": "l-vH5yw-e8gC"
      },
      "execution_count": 26,
      "outputs": [
        {
          "output_type": "stream",
          "name": "stdout",
          "text": [
            "              precision    recall  f1-score   support\n",
            "\n",
            "           0       1.00      1.00      1.00        36\n",
            "           1       1.00      1.00      1.00         9\n",
            "\n",
            "    accuracy                           1.00        45\n",
            "   macro avg       1.00      1.00      1.00        45\n",
            "weighted avg       1.00      1.00      1.00        45\n",
            "\n"
          ]
        }
      ]
    },
    {
      "cell_type": "code",
      "source": [
        "np.random.seed(2025)\n",
        "bag_model_lasso.fit(X_LASSO, y)\n",
        "y_pred_lasso_bag = bag_model_lasso.predict(X_LASSO_test)"
      ],
      "metadata": {
        "id": "aGn51lAhe8gC"
      },
      "execution_count": 27,
      "outputs": []
    },
    {
      "cell_type": "code",
      "source": [
        "from google.colab import files\n",
        "\n",
        "pred_bag = pd.DataFrame({'ID': range(1, 92), 'Placement': y_pred_lasso_bag})\n",
        "\n",
        "with open('BAG_LASSO_Cov.csv', 'w') as file:\n",
        "    pred_bag.to_csv(file, index = False, header = True)\n",
        "\n",
        "files.download('BAG_LASSO_Cov.csv')"
      ],
      "metadata": {
        "colab": {
          "base_uri": "https://localhost:8080/",
          "height": 17
        },
        "outputId": "5df4b048-7304-482e-82b3-0aef307a27cf",
        "id": "ldcUb19Se8gC"
      },
      "execution_count": 28,
      "outputs": [
        {
          "output_type": "display_data",
          "data": {
            "text/plain": [
              "<IPython.core.display.Javascript object>"
            ],
            "application/javascript": [
              "\n",
              "    async function download(id, filename, size) {\n",
              "      if (!google.colab.kernel.accessAllowed) {\n",
              "        return;\n",
              "      }\n",
              "      const div = document.createElement('div');\n",
              "      const label = document.createElement('label');\n",
              "      label.textContent = `Downloading \"${filename}\": `;\n",
              "      div.appendChild(label);\n",
              "      const progress = document.createElement('progress');\n",
              "      progress.max = size;\n",
              "      div.appendChild(progress);\n",
              "      document.body.appendChild(div);\n",
              "\n",
              "      const buffers = [];\n",
              "      let downloaded = 0;\n",
              "\n",
              "      const channel = await google.colab.kernel.comms.open(id);\n",
              "      // Send a message to notify the kernel that we're ready.\n",
              "      channel.send({})\n",
              "\n",
              "      for await (const message of channel.messages) {\n",
              "        // Send a message to notify the kernel that we're ready.\n",
              "        channel.send({})\n",
              "        if (message.buffers) {\n",
              "          for (const buffer of message.buffers) {\n",
              "            buffers.push(buffer);\n",
              "            downloaded += buffer.byteLength;\n",
              "            progress.value = downloaded;\n",
              "          }\n",
              "        }\n",
              "      }\n",
              "      const blob = new Blob(buffers, {type: 'application/binary'});\n",
              "      const a = document.createElement('a');\n",
              "      a.href = window.URL.createObjectURL(blob);\n",
              "      a.download = filename;\n",
              "      div.appendChild(a);\n",
              "      a.click();\n",
              "      div.remove();\n",
              "    }\n",
              "  "
            ]
          },
          "metadata": {}
        },
        {
          "output_type": "display_data",
          "data": {
            "text/plain": [
              "<IPython.core.display.Javascript object>"
            ],
            "application/javascript": [
              "download(\"download_290f7717-0355-4ed6-a973-e35c438c45f6\", \"BAG_LASSO_Cov.csv\", 459)"
            ]
          },
          "metadata": {}
        }
      ]
    },
    {
      "cell_type": "markdown",
      "source": [
        "# Full - Without Standardization\n",
        "\n",
        "\n"
      ],
      "metadata": {
        "id": "bdWgACdnCLGG"
      }
    },
    {
      "cell_type": "code",
      "source": [
        "np.random.seed(2025)\n",
        "X_train, X_temp, y_train, y_temp = train_test_split(X_full_no, y, test_size = 0.3, random_state = 2025, stratify = y)\n",
        "X_val, X_test, y_val, y_test = train_test_split(X_temp, y_temp, test_size = 0.5, random_state = 2025, stratify = y_temp)"
      ],
      "metadata": {
        "id": "KsbuTnJmCwaL"
      },
      "execution_count": 29,
      "outputs": []
    },
    {
      "cell_type": "code",
      "source": [
        "np.random.seed(2025)\n",
        "train_ind, val_ind = train_test_split(np.arange(X_temp.shape[0]), test_size = 0.3, random_state = 2025, stratify = y_temp)\n",
        "split = PredefinedHoldoutSplit(valid_indices = val_ind)"
      ],
      "metadata": {
        "id": "bfnY-zuFCwaL"
      },
      "execution_count": 30,
      "outputs": []
    },
    {
      "cell_type": "code",
      "source": [
        "np.random.seed(2025)\n",
        "bag_grid = GridSearchCV(BaggingClassifier(random_state = 2025), param_grid = params, cv = split, n_jobs = -1, scoring = 'f1_macro')\n",
        "bag_grid.fit(X_temp, y_temp)\n",
        "print('Best Parameters:', bag_grid.best_params_)"
      ],
      "metadata": {
        "colab": {
          "base_uri": "https://localhost:8080/"
        },
        "outputId": "b6e8999f-8447-40d8-f36b-9f780cbbc4c2",
        "id": "Zkv_OGWqCwaL"
      },
      "execution_count": 31,
      "outputs": [
        {
          "output_type": "stream",
          "name": "stdout",
          "text": [
            "Best Parameters: {'bootstrap': False, 'bootstrap_features': True, 'max_features': 0.5, 'max_samples': 1.0, 'n_estimators': 300}\n"
          ]
        }
      ]
    },
    {
      "cell_type": "code",
      "source": [
        "np.random.seed(2025)\n",
        "bag_model = BaggingClassifier(n_estimators = 300, max_samples = 1.0, max_features = 0.5, bootstrap = False, bootstrap_features = True, random_state = 2025)\n",
        "bag_model.fit(X_temp, y_temp)\n",
        "y_pred_bag_no = bag_model.predict(X_test)\n",
        "\n",
        "print(classification_report(y_test, y_pred_bag_no))"
      ],
      "metadata": {
        "colab": {
          "base_uri": "https://localhost:8080/"
        },
        "outputId": "c03b75d5-834c-4c0c-ac75-3c3f2bd1fe7f",
        "id": "fmk6pjejCwaL"
      },
      "execution_count": 32,
      "outputs": [
        {
          "output_type": "stream",
          "name": "stdout",
          "text": [
            "              precision    recall  f1-score   support\n",
            "\n",
            "           0       1.00      1.00      1.00        36\n",
            "           1       1.00      1.00      1.00         9\n",
            "\n",
            "    accuracy                           1.00        45\n",
            "   macro avg       1.00      1.00      1.00        45\n",
            "weighted avg       1.00      1.00      1.00        45\n",
            "\n"
          ]
        }
      ]
    },
    {
      "cell_type": "code",
      "source": [
        "np.random.seed(2025)\n",
        "bag_model.fit(X_full_no, y)\n",
        "y_pred_bag_no = bag_model.predict(X_test_full_no)"
      ],
      "metadata": {
        "id": "CYDDtSFGCwaM"
      },
      "execution_count": 33,
      "outputs": []
    },
    {
      "cell_type": "code",
      "source": [
        "from google.colab import files\n",
        "\n",
        "pred_bag = pd.DataFrame({'ID': range(1, 92), 'Placement': y_pred_bag_no})\n",
        "\n",
        "with open('BAG_Full_No_Cov.csv', 'w') as file:\n",
        "    pred_bag.to_csv(file, index = False, header = True)\n",
        "\n",
        "files.download('BAG_Full_No_Cov.csv')"
      ],
      "metadata": {
        "colab": {
          "base_uri": "https://localhost:8080/",
          "height": 17
        },
        "outputId": "1764e228-3500-4c28-ba40-25f5ff2d5db5",
        "id": "H89nZtA9CwaM"
      },
      "execution_count": 34,
      "outputs": [
        {
          "output_type": "display_data",
          "data": {
            "text/plain": [
              "<IPython.core.display.Javascript object>"
            ],
            "application/javascript": [
              "\n",
              "    async function download(id, filename, size) {\n",
              "      if (!google.colab.kernel.accessAllowed) {\n",
              "        return;\n",
              "      }\n",
              "      const div = document.createElement('div');\n",
              "      const label = document.createElement('label');\n",
              "      label.textContent = `Downloading \"${filename}\": `;\n",
              "      div.appendChild(label);\n",
              "      const progress = document.createElement('progress');\n",
              "      progress.max = size;\n",
              "      div.appendChild(progress);\n",
              "      document.body.appendChild(div);\n",
              "\n",
              "      const buffers = [];\n",
              "      let downloaded = 0;\n",
              "\n",
              "      const channel = await google.colab.kernel.comms.open(id);\n",
              "      // Send a message to notify the kernel that we're ready.\n",
              "      channel.send({})\n",
              "\n",
              "      for await (const message of channel.messages) {\n",
              "        // Send a message to notify the kernel that we're ready.\n",
              "        channel.send({})\n",
              "        if (message.buffers) {\n",
              "          for (const buffer of message.buffers) {\n",
              "            buffers.push(buffer);\n",
              "            downloaded += buffer.byteLength;\n",
              "            progress.value = downloaded;\n",
              "          }\n",
              "        }\n",
              "      }\n",
              "      const blob = new Blob(buffers, {type: 'application/binary'});\n",
              "      const a = document.createElement('a');\n",
              "      a.href = window.URL.createObjectURL(blob);\n",
              "      a.download = filename;\n",
              "      div.appendChild(a);\n",
              "      a.click();\n",
              "      div.remove();\n",
              "    }\n",
              "  "
            ]
          },
          "metadata": {}
        },
        {
          "output_type": "display_data",
          "data": {
            "text/plain": [
              "<IPython.core.display.Javascript object>"
            ],
            "application/javascript": [
              "download(\"download_e0d4e7e5-e2af-418f-9f32-664ec8abba19\", \"BAG_Full_No_Cov.csv\", 459)"
            ]
          },
          "metadata": {}
        }
      ]
    },
    {
      "cell_type": "markdown",
      "source": [
        "# Full - Without Standardization - Manual\n",
        "\n"
      ],
      "metadata": {
        "id": "i6nhI0eESq-h"
      }
    },
    {
      "cell_type": "code",
      "source": [
        "np.random.seed(2025)\n",
        "X_train, X_temp, y_train, y_temp = train_test_split(X_no_manual, y, test_size = 0.3, random_state = 2025, stratify = y)\n",
        "X_val, X_test, y_val, y_test = train_test_split(X_temp, y_temp, test_size = 0.5, random_state = 2025, stratify = y_temp)"
      ],
      "metadata": {
        "id": "PO-SpXjeDusl"
      },
      "execution_count": 35,
      "outputs": []
    },
    {
      "cell_type": "code",
      "source": [
        "np.random.seed(2025)\n",
        "train_ind, val_ind = train_test_split(np.arange(X_temp.shape[0]), test_size = 0.3, random_state = 2025, stratify = y_temp)\n",
        "split = PredefinedHoldoutSplit(valid_indices = val_ind)"
      ],
      "metadata": {
        "id": "a-lGL53nDusm"
      },
      "execution_count": 36,
      "outputs": []
    },
    {
      "cell_type": "code",
      "source": [
        "np.random.seed(2025)\n",
        "bag_grid = GridSearchCV(BaggingClassifier(random_state = 2025), param_grid = params, cv = split, n_jobs = -1, scoring = 'f1_macro')\n",
        "bag_grid.fit(X_temp, y_temp)\n",
        "print('Best Parameters:', bag_grid.best_params_)"
      ],
      "metadata": {
        "colab": {
          "base_uri": "https://localhost:8080/"
        },
        "outputId": "19cec4c2-06e1-4f92-c549-d27de8257d84",
        "id": "ANEgOZbnDusm"
      },
      "execution_count": 37,
      "outputs": [
        {
          "output_type": "stream",
          "name": "stdout",
          "text": [
            "Best Parameters: {'bootstrap': False, 'bootstrap_features': True, 'max_features': 1.0, 'max_samples': 0.9, 'n_estimators': 100}\n"
          ]
        }
      ]
    },
    {
      "cell_type": "code",
      "source": [
        "np.random.seed(2025)\n",
        "bag_model = BaggingClassifier(n_estimators = 100, max_samples = 0.9, max_features = 1.0, bootstrap = False, bootstrap_features = True, random_state = 2025)\n",
        "bag_model.fit(X_temp, y_temp)\n",
        "y_pred_manual = bag_model.predict(X_test)\n",
        "\n",
        "print(classification_report(y_test, y_pred_manual))"
      ],
      "metadata": {
        "colab": {
          "base_uri": "https://localhost:8080/"
        },
        "outputId": "2f5bf6e6-ef4b-4f6d-cfa4-d9437d251fc6",
        "id": "cqLI3l17Dusm"
      },
      "execution_count": 38,
      "outputs": [
        {
          "output_type": "stream",
          "name": "stdout",
          "text": [
            "              precision    recall  f1-score   support\n",
            "\n",
            "           0       1.00      1.00      1.00        36\n",
            "           1       1.00      1.00      1.00         9\n",
            "\n",
            "    accuracy                           1.00        45\n",
            "   macro avg       1.00      1.00      1.00        45\n",
            "weighted avg       1.00      1.00      1.00        45\n",
            "\n"
          ]
        }
      ]
    },
    {
      "cell_type": "code",
      "source": [
        "np.random.seed(2025)\n",
        "bag_model.fit(X_no_manual, y)\n",
        "y_pred_bag_no_manual = bag_model.predict(X_test_no_manual)"
      ],
      "metadata": {
        "id": "tgpuyVy2Dusm"
      },
      "execution_count": 39,
      "outputs": []
    },
    {
      "cell_type": "code",
      "source": [
        "from google.colab import files\n",
        "\n",
        "pred_bag = pd.DataFrame({'ID': range(1, 92), 'Placement': y_pred_bag_no_manual})\n",
        "\n",
        "with open('BAG_No_Manual_Cov.csv', 'w') as file:\n",
        "    pred_bag.to_csv(file, index = False, header = True)\n",
        "\n",
        "files.download('BAG_No_Manual_Cov.csv')"
      ],
      "metadata": {
        "colab": {
          "base_uri": "https://localhost:8080/",
          "height": 17
        },
        "outputId": "64a000ec-2957-4bb5-8783-a51d534c0e4b",
        "id": "gj_QlFrgDusm"
      },
      "execution_count": 40,
      "outputs": [
        {
          "output_type": "display_data",
          "data": {
            "text/plain": [
              "<IPython.core.display.Javascript object>"
            ],
            "application/javascript": [
              "\n",
              "    async function download(id, filename, size) {\n",
              "      if (!google.colab.kernel.accessAllowed) {\n",
              "        return;\n",
              "      }\n",
              "      const div = document.createElement('div');\n",
              "      const label = document.createElement('label');\n",
              "      label.textContent = `Downloading \"${filename}\": `;\n",
              "      div.appendChild(label);\n",
              "      const progress = document.createElement('progress');\n",
              "      progress.max = size;\n",
              "      div.appendChild(progress);\n",
              "      document.body.appendChild(div);\n",
              "\n",
              "      const buffers = [];\n",
              "      let downloaded = 0;\n",
              "\n",
              "      const channel = await google.colab.kernel.comms.open(id);\n",
              "      // Send a message to notify the kernel that we're ready.\n",
              "      channel.send({})\n",
              "\n",
              "      for await (const message of channel.messages) {\n",
              "        // Send a message to notify the kernel that we're ready.\n",
              "        channel.send({})\n",
              "        if (message.buffers) {\n",
              "          for (const buffer of message.buffers) {\n",
              "            buffers.push(buffer);\n",
              "            downloaded += buffer.byteLength;\n",
              "            progress.value = downloaded;\n",
              "          }\n",
              "        }\n",
              "      }\n",
              "      const blob = new Blob(buffers, {type: 'application/binary'});\n",
              "      const a = document.createElement('a');\n",
              "      a.href = window.URL.createObjectURL(blob);\n",
              "      a.download = filename;\n",
              "      div.appendChild(a);\n",
              "      a.click();\n",
              "      div.remove();\n",
              "    }\n",
              "  "
            ]
          },
          "metadata": {}
        },
        {
          "output_type": "display_data",
          "data": {
            "text/plain": [
              "<IPython.core.display.Javascript object>"
            ],
            "application/javascript": [
              "download(\"download_0327bc03-b263-4751-8f43-bcfdddd75c3a\", \"BAG_No_Manual_Cov.csv\", 459)"
            ]
          },
          "metadata": {}
        }
      ]
    },
    {
      "cell_type": "markdown",
      "source": [
        "# Manual Selection:"
      ],
      "metadata": {
        "id": "ii1owwaSDn2D"
      }
    },
    {
      "cell_type": "code",
      "source": [
        "np.random.seed(2025)\n",
        "X_train, X_temp, y_train, y_temp = train_test_split(X_manual, y, test_size = 0.3, random_state = 2025, stratify = y)\n",
        "X_val, X_test, y_val, y_test = train_test_split(X_temp, y_temp, test_size = 0.5, random_state = 2025, stratify = y_temp)"
      ],
      "metadata": {
        "id": "5UhWWJ-PS0FC"
      },
      "execution_count": 41,
      "outputs": []
    },
    {
      "cell_type": "code",
      "source": [
        "np.random.seed(2025)\n",
        "train_ind, val_ind = train_test_split(np.arange(X_temp.shape[0]), test_size = 0.3, random_state = 2025, stratify = y_temp)\n",
        "split = PredefinedHoldoutSplit(valid_indices = val_ind)"
      ],
      "metadata": {
        "id": "nvuCb96ZS0FC"
      },
      "execution_count": 42,
      "outputs": []
    },
    {
      "cell_type": "code",
      "source": [
        "np.random.seed(2025)\n",
        "bag_grid = GridSearchCV(BaggingClassifier(random_state = 2025), param_grid = params, cv = split, n_jobs = -1, scoring = 'f1_macro')\n",
        "bag_grid.fit(X_temp, y_temp)\n",
        "print('Best Parameters:', bag_grid.best_params_)"
      ],
      "metadata": {
        "colab": {
          "base_uri": "https://localhost:8080/"
        },
        "outputId": "efe6de3f-e6ed-44bf-9c9e-51694ef40a90",
        "id": "3Ty77_GYS0FD"
      },
      "execution_count": 43,
      "outputs": [
        {
          "output_type": "stream",
          "name": "stdout",
          "text": [
            "Best Parameters: {'bootstrap': False, 'bootstrap_features': True, 'max_features': 1.0, 'max_samples': 0.9, 'n_estimators': 300}\n"
          ]
        }
      ]
    },
    {
      "cell_type": "code",
      "source": [
        "np.random.seed(2025)\n",
        "bag_model = BaggingClassifier(n_estimators = 300, max_samples = 0.9, max_features = 1.0, bootstrap = False, bootstrap_features = True, random_state = 2025)\n",
        "bag_model.fit(X_temp, y_temp)\n",
        "y_pred_manual = bag_model.predict(X_test)\n",
        "\n",
        "print(classification_report(y_test, y_pred_manual))"
      ],
      "metadata": {
        "colab": {
          "base_uri": "https://localhost:8080/"
        },
        "outputId": "28f47a0a-8fbb-40f3-b899-d4637ed108dc",
        "id": "QdLgcQKVS0FD"
      },
      "execution_count": 44,
      "outputs": [
        {
          "output_type": "stream",
          "name": "stdout",
          "text": [
            "              precision    recall  f1-score   support\n",
            "\n",
            "           0       1.00      1.00      1.00        36\n",
            "           1       1.00      1.00      1.00         9\n",
            "\n",
            "    accuracy                           1.00        45\n",
            "   macro avg       1.00      1.00      1.00        45\n",
            "weighted avg       1.00      1.00      1.00        45\n",
            "\n"
          ]
        }
      ]
    },
    {
      "cell_type": "code",
      "source": [
        "np.random.seed(2025)\n",
        "bag_model.fit(X_manual, y)\n",
        "y_pred_bag_manual = bag_model.predict(X_manual_test)"
      ],
      "metadata": {
        "id": "jB3KD3mgS0FD"
      },
      "execution_count": 45,
      "outputs": []
    },
    {
      "cell_type": "code",
      "source": [
        "from google.colab import files\n",
        "\n",
        "pred_bag = pd.DataFrame({'ID': range(1, 92), 'Placement': y_pred_bag_manual})\n",
        "\n",
        "with open('BAG_Manual_Cov.csv', 'w') as file:\n",
        "    pred_bag.to_csv(file, index = False, header = True)\n",
        "\n",
        "files.download('BAG_Manual_Cov.csv')"
      ],
      "metadata": {
        "colab": {
          "base_uri": "https://localhost:8080/",
          "height": 17
        },
        "outputId": "362bd197-f06d-4d7b-866c-f3f7304a0c3b",
        "id": "ri2wHb4jS0FD"
      },
      "execution_count": 46,
      "outputs": [
        {
          "output_type": "display_data",
          "data": {
            "text/plain": [
              "<IPython.core.display.Javascript object>"
            ],
            "application/javascript": [
              "\n",
              "    async function download(id, filename, size) {\n",
              "      if (!google.colab.kernel.accessAllowed) {\n",
              "        return;\n",
              "      }\n",
              "      const div = document.createElement('div');\n",
              "      const label = document.createElement('label');\n",
              "      label.textContent = `Downloading \"${filename}\": `;\n",
              "      div.appendChild(label);\n",
              "      const progress = document.createElement('progress');\n",
              "      progress.max = size;\n",
              "      div.appendChild(progress);\n",
              "      document.body.appendChild(div);\n",
              "\n",
              "      const buffers = [];\n",
              "      let downloaded = 0;\n",
              "\n",
              "      const channel = await google.colab.kernel.comms.open(id);\n",
              "      // Send a message to notify the kernel that we're ready.\n",
              "      channel.send({})\n",
              "\n",
              "      for await (const message of channel.messages) {\n",
              "        // Send a message to notify the kernel that we're ready.\n",
              "        channel.send({})\n",
              "        if (message.buffers) {\n",
              "          for (const buffer of message.buffers) {\n",
              "            buffers.push(buffer);\n",
              "            downloaded += buffer.byteLength;\n",
              "            progress.value = downloaded;\n",
              "          }\n",
              "        }\n",
              "      }\n",
              "      const blob = new Blob(buffers, {type: 'application/binary'});\n",
              "      const a = document.createElement('a');\n",
              "      a.href = window.URL.createObjectURL(blob);\n",
              "      a.download = filename;\n",
              "      div.appendChild(a);\n",
              "      a.click();\n",
              "      div.remove();\n",
              "    }\n",
              "  "
            ]
          },
          "metadata": {}
        },
        {
          "output_type": "display_data",
          "data": {
            "text/plain": [
              "<IPython.core.display.Javascript object>"
            ],
            "application/javascript": [
              "download(\"download_22bf92f6-c4ba-4976-8712-d983a5287ff3\", \"BAG_Manual_Cov.csv\", 459)"
            ]
          },
          "metadata": {}
        }
      ]
    },
    {
      "cell_type": "markdown",
      "source": [
        "# SMOTE FOR BEST BAG:"
      ],
      "metadata": {
        "id": "_EVxmajxjU85"
      }
    },
    {
      "cell_type": "code",
      "source": [
        "from imblearn.over_sampling import SMOTE"
      ],
      "metadata": {
        "id": "I8nin9u8jb9G"
      },
      "execution_count": 47,
      "outputs": []
    },
    {
      "cell_type": "code",
      "source": [
        "np.random.seed(2025)\n",
        "X_train, X_temp, y_train, y_temp = train_test_split(X_LASSO, y, test_size = 0.3, random_state = 2025, stratify = y)\n",
        "X_val, X_test, y_val, y_test = train_test_split(X_temp, y_temp, test_size = 0.5, random_state = 2025, stratify = y_temp)\n",
        "\n",
        "np.random.seed(2025)\n",
        "train_ind, val_ind = train_test_split(np.arange(X_temp.shape[0]), test_size = 0.3, random_state = 2025, stratify = y_temp)\n",
        "split = PredefinedHoldoutSplit(valid_indices = val_ind)\n",
        "\n",
        "smote = SMOTE(random_state = 2025)\n",
        "X_resampled, y_resampled = smote.fit_resample(X_temp, y_temp)"
      ],
      "metadata": {
        "id": "DG6QQyS9jfSN"
      },
      "execution_count": 48,
      "outputs": []
    },
    {
      "cell_type": "code",
      "source": [
        "np.random.seed(2025)\n",
        "bag_grid_lasso = GridSearchCV(BaggingClassifier(random_state = 2025), param_grid = params, cv = split_lasso, n_jobs = -1, scoring = 'f1_macro')\n",
        "bag_grid_lasso.fit(X_temp, y_temp)\n",
        "print('Best Parameters:', bag_grid_lasso.best_params_)"
      ],
      "metadata": {
        "colab": {
          "base_uri": "https://localhost:8080/"
        },
        "id": "Fw8Sd_6rsrhF",
        "outputId": "9a61fbce-9ff6-49ba-868d-d9e97e92a9a7"
      },
      "execution_count": 49,
      "outputs": [
        {
          "output_type": "stream",
          "name": "stdout",
          "text": [
            "Best Parameters: {'bootstrap': False, 'bootstrap_features': True, 'max_features': 0.9, 'max_samples': 0.9, 'n_estimators': 200}\n"
          ]
        }
      ]
    },
    {
      "cell_type": "code",
      "source": [
        "np.random.seed(2025)\n",
        "bag_model_smote = BaggingClassifier(n_estimators = 200, max_samples = 0.9, max_features = 0.9, bootstrap = False, bootstrap_features = True, random_state = 2025)\n",
        "bag_model_smote.fit(X_resampled, y_resampled)\n",
        "y_pred_smote = bag_model_smote.predict(X_test)\n",
        "\n",
        "print(classification_report(y_test, y_pred_smote))\n",
        "y_pred_smote_bag = bag_model_smote.predict(X_LASSO_test)"
      ],
      "metadata": {
        "colab": {
          "base_uri": "https://localhost:8080/"
        },
        "id": "ZJrQ422gkFXM",
        "outputId": "5973cccb-d67c-472b-fde9-ba5adb6d071f"
      },
      "execution_count": 50,
      "outputs": [
        {
          "output_type": "stream",
          "name": "stdout",
          "text": [
            "              precision    recall  f1-score   support\n",
            "\n",
            "           0       1.00      1.00      1.00        36\n",
            "           1       1.00      1.00      1.00         9\n",
            "\n",
            "    accuracy                           1.00        45\n",
            "   macro avg       1.00      1.00      1.00        45\n",
            "weighted avg       1.00      1.00      1.00        45\n",
            "\n"
          ]
        }
      ]
    },
    {
      "cell_type": "code",
      "source": [
        "from google.colab import files\n",
        "\n",
        "pred_bag = pd.DataFrame({'ID': range(1, 92), 'Placement': y_pred_smote_bag})\n",
        "\n",
        "with open('BAG_SMOTE_Cov.csv', 'w') as file:\n",
        "    pred_bag.to_csv(file, index = False, header = True)\n",
        "\n",
        "files.download('BAG_SMOTE_Cov.csv')"
      ],
      "metadata": {
        "colab": {
          "base_uri": "https://localhost:8080/",
          "height": 17
        },
        "id": "ozKJgNiDpuF0",
        "outputId": "ab444d04-eb7f-4364-bd7b-95546ee91d56"
      },
      "execution_count": 51,
      "outputs": [
        {
          "output_type": "display_data",
          "data": {
            "text/plain": [
              "<IPython.core.display.Javascript object>"
            ],
            "application/javascript": [
              "\n",
              "    async function download(id, filename, size) {\n",
              "      if (!google.colab.kernel.accessAllowed) {\n",
              "        return;\n",
              "      }\n",
              "      const div = document.createElement('div');\n",
              "      const label = document.createElement('label');\n",
              "      label.textContent = `Downloading \"${filename}\": `;\n",
              "      div.appendChild(label);\n",
              "      const progress = document.createElement('progress');\n",
              "      progress.max = size;\n",
              "      div.appendChild(progress);\n",
              "      document.body.appendChild(div);\n",
              "\n",
              "      const buffers = [];\n",
              "      let downloaded = 0;\n",
              "\n",
              "      const channel = await google.colab.kernel.comms.open(id);\n",
              "      // Send a message to notify the kernel that we're ready.\n",
              "      channel.send({})\n",
              "\n",
              "      for await (const message of channel.messages) {\n",
              "        // Send a message to notify the kernel that we're ready.\n",
              "        channel.send({})\n",
              "        if (message.buffers) {\n",
              "          for (const buffer of message.buffers) {\n",
              "            buffers.push(buffer);\n",
              "            downloaded += buffer.byteLength;\n",
              "            progress.value = downloaded;\n",
              "          }\n",
              "        }\n",
              "      }\n",
              "      const blob = new Blob(buffers, {type: 'application/binary'});\n",
              "      const a = document.createElement('a');\n",
              "      a.href = window.URL.createObjectURL(blob);\n",
              "      a.download = filename;\n",
              "      div.appendChild(a);\n",
              "      a.click();\n",
              "      div.remove();\n",
              "    }\n",
              "  "
            ]
          },
          "metadata": {}
        },
        {
          "output_type": "display_data",
          "data": {
            "text/plain": [
              "<IPython.core.display.Javascript object>"
            ],
            "application/javascript": [
              "download(\"download_b36b448d-f5b2-49f9-be82-7ee3fbaa19eb\", \"BAG_SMOTE_Cov.csv\", 459)"
            ]
          },
          "metadata": {}
        }
      ]
    },
    {
      "cell_type": "markdown",
      "source": [
        "# GHOST:\n"
      ],
      "metadata": {
        "id": "ECwEwxSukmBV"
      }
    },
    {
      "cell_type": "code",
      "source": [
        "!pip install ghostml"
      ],
      "metadata": {
        "colab": {
          "base_uri": "https://localhost:8080/"
        },
        "id": "fqIFJC9XljyX",
        "outputId": "64a9cc45-6765-4ad7-ef75-7e4006d0d01c"
      },
      "execution_count": 52,
      "outputs": [
        {
          "output_type": "stream",
          "name": "stdout",
          "text": [
            "Collecting ghostml\n",
            "  Downloading ghostml-0.3.0-py3-none-any.whl.metadata (4.1 kB)\n",
            "Requirement already satisfied: numpy in /usr/local/lib/python3.11/dist-packages (from ghostml) (2.0.2)\n",
            "Requirement already satisfied: pandas in /usr/local/lib/python3.11/dist-packages (from ghostml) (2.2.2)\n",
            "Requirement already satisfied: scikit-learn>=0.22 in /usr/local/lib/python3.11/dist-packages (from ghostml) (1.6.1)\n",
            "Requirement already satisfied: scipy>=1.6.0 in /usr/local/lib/python3.11/dist-packages (from scikit-learn>=0.22->ghostml) (1.14.1)\n",
            "Requirement already satisfied: joblib>=1.2.0 in /usr/local/lib/python3.11/dist-packages (from scikit-learn>=0.22->ghostml) (1.4.2)\n",
            "Requirement already satisfied: threadpoolctl>=3.1.0 in /usr/local/lib/python3.11/dist-packages (from scikit-learn>=0.22->ghostml) (3.6.0)\n",
            "Requirement already satisfied: python-dateutil>=2.8.2 in /usr/local/lib/python3.11/dist-packages (from pandas->ghostml) (2.8.2)\n",
            "Requirement already satisfied: pytz>=2020.1 in /usr/local/lib/python3.11/dist-packages (from pandas->ghostml) (2025.1)\n",
            "Requirement already satisfied: tzdata>=2022.7 in /usr/local/lib/python3.11/dist-packages (from pandas->ghostml) (2025.1)\n",
            "Requirement already satisfied: six>=1.5 in /usr/local/lib/python3.11/dist-packages (from python-dateutil>=2.8.2->pandas->ghostml) (1.17.0)\n",
            "Downloading ghostml-0.3.0-py3-none-any.whl (6.5 kB)\n",
            "Installing collected packages: ghostml\n",
            "Successfully installed ghostml-0.3.0\n"
          ]
        }
      ]
    },
    {
      "cell_type": "code",
      "source": [
        "import ghostml\n",
        "from sklearn import metrics\n",
        "\n",
        "def calc_metrics(labels_test, test_probs, threshold = 0.5):\n",
        "  scores = [1 if x>=threshold else 0 for x in test_probs]\n",
        "  auc = metrics.roc_auc_score(labels_test, test_probs)\n",
        "  kappa = metrics.cohen_kappa_score(labels_test, scores)\n",
        "  confusion = metrics.confusion_matrix(labels_test, scores, labels = list(set(labels_test)))\n",
        "\n",
        "  print('Threshold: %.2f, kappa: %.3f, AUC test set: %.3f'%(threshold, kappa, auc))\n",
        "  print(confusion)\n",
        "  print(metrics.classification_report(labels_test, scores))\n",
        "\n",
        "  return\n",
        "\n",
        "thresholds = np.round(np.arange(0.01, 0.75,0.01),2)"
      ],
      "metadata": {
        "id": "c6IhwNj7lltt"
      },
      "execution_count": 53,
      "outputs": []
    },
    {
      "cell_type": "code",
      "source": [
        "np.random.seed(2025)\n",
        "X_train, X_temp, y_train, y_temp = train_test_split(X_LASSO, y, test_size = 0.3, random_state = 2025, stratify = y)\n",
        "X_val, X_test, y_val, y_test = train_test_split(X_temp, y_temp, test_size = 0.5, random_state = 2025, stratify = y_temp)\n",
        "\n",
        "bag_ghost = BaggingClassifier(n_estimators = 200, max_samples = 0.9, max_features = 0.9, bootstrap = True, bootstrap_features = True, oob_score = True, random_state = 2025)\n",
        "bag_ghost.fit(X_temp, y_temp)\n",
        "bag_test_probs = bag_ghost.predict_proba(X_test)[:,1]\n",
        "calc_metrics(y_test, bag_test_probs, threshold = 0.5)"
      ],
      "metadata": {
        "colab": {
          "base_uri": "https://localhost:8080/"
        },
        "id": "aSLnv8t_l6Qy",
        "outputId": "7f8da13c-2c05-4a91-dec2-b685173c646e"
      },
      "execution_count": 55,
      "outputs": [
        {
          "output_type": "stream",
          "name": "stdout",
          "text": [
            "Threshold: 0.50, kappa: 1.000, AUC test set: 1.000\n",
            "[[36  0]\n",
            " [ 0  9]]\n",
            "              precision    recall  f1-score   support\n",
            "\n",
            "           0       1.00      1.00      1.00        36\n",
            "           1       1.00      1.00      1.00         9\n",
            "\n",
            "    accuracy                           1.00        45\n",
            "   macro avg       1.00      1.00      1.00        45\n",
            "weighted avg       1.00      1.00      1.00        45\n",
            "\n"
          ]
        }
      ]
    },
    {
      "cell_type": "code",
      "source": [
        "np.random.seed(2025)\n",
        "bag_temp_probs = bag_ghost.predict_proba(X_temp)[:,1]\n",
        "bag_threshold = ghostml.optimize_threshold_from_predictions(y_temp, bag_temp_probs, thresholds, ThOpt_metrics = 'Kappa')\n",
        "\n",
        "np.random.seed(2025)\n",
        "calc_metrics(y_test, bag_test_probs, threshold = bag_threshold)\n",
        "bag_GHOST_test = [1 if x >= bag_threshold else 0 for x in bag_test_probs]"
      ],
      "metadata": {
        "colab": {
          "base_uri": "https://localhost:8080/"
        },
        "id": "N_BdHPs0mOBQ",
        "outputId": "2cd48993-290f-49b2-ff62-302d5832962f"
      },
      "execution_count": 56,
      "outputs": [
        {
          "output_type": "stream",
          "name": "stdout",
          "text": [
            "Threshold: 0.25, kappa: 1.000, AUC test set: 1.000\n",
            "[[36  0]\n",
            " [ 0  9]]\n",
            "              precision    recall  f1-score   support\n",
            "\n",
            "           0       1.00      1.00      1.00        36\n",
            "           1       1.00      1.00      1.00         9\n",
            "\n",
            "    accuracy                           1.00        45\n",
            "   macro avg       1.00      1.00      1.00        45\n",
            "weighted avg       1.00      1.00      1.00        45\n",
            "\n"
          ]
        }
      ]
    },
    {
      "cell_type": "code",
      "source": [
        "np.random.seed(2025)\n",
        "bag_ghost.fit(X_LASSO, y)\n",
        "bag_probs = bag_ghost.predict_proba(X_LASSO_test)[:,1]\n",
        "bag_pred_ghost = [1 if x >= bag_threshold else 0 for x in bag_probs]"
      ],
      "metadata": {
        "id": "ZYpcby63wwE-"
      },
      "execution_count": 57,
      "outputs": []
    },
    {
      "cell_type": "code",
      "source": [
        "from google.colab import files\n",
        "\n",
        "pred_rf = pd.DataFrame({'ID': range(1, 92), 'Placement': bag_pred_ghost})\n",
        "\n",
        "with open('BAG_GHOST_Cov.csv', 'w') as file:\n",
        "    pred_rf.to_csv(file, index = False, header = True)\n",
        "\n",
        "files.download('BAG_GHOST_Cov.csv')"
      ],
      "metadata": {
        "colab": {
          "base_uri": "https://localhost:8080/",
          "height": 17
        },
        "id": "e5Zrd6POxio3",
        "outputId": "c226aa2c-7bdc-4f08-c4b5-b5bfff05902e"
      },
      "execution_count": 58,
      "outputs": [
        {
          "output_type": "display_data",
          "data": {
            "text/plain": [
              "<IPython.core.display.Javascript object>"
            ],
            "application/javascript": [
              "\n",
              "    async function download(id, filename, size) {\n",
              "      if (!google.colab.kernel.accessAllowed) {\n",
              "        return;\n",
              "      }\n",
              "      const div = document.createElement('div');\n",
              "      const label = document.createElement('label');\n",
              "      label.textContent = `Downloading \"${filename}\": `;\n",
              "      div.appendChild(label);\n",
              "      const progress = document.createElement('progress');\n",
              "      progress.max = size;\n",
              "      div.appendChild(progress);\n",
              "      document.body.appendChild(div);\n",
              "\n",
              "      const buffers = [];\n",
              "      let downloaded = 0;\n",
              "\n",
              "      const channel = await google.colab.kernel.comms.open(id);\n",
              "      // Send a message to notify the kernel that we're ready.\n",
              "      channel.send({})\n",
              "\n",
              "      for await (const message of channel.messages) {\n",
              "        // Send a message to notify the kernel that we're ready.\n",
              "        channel.send({})\n",
              "        if (message.buffers) {\n",
              "          for (const buffer of message.buffers) {\n",
              "            buffers.push(buffer);\n",
              "            downloaded += buffer.byteLength;\n",
              "            progress.value = downloaded;\n",
              "          }\n",
              "        }\n",
              "      }\n",
              "      const blob = new Blob(buffers, {type: 'application/binary'});\n",
              "      const a = document.createElement('a');\n",
              "      a.href = window.URL.createObjectURL(blob);\n",
              "      a.download = filename;\n",
              "      div.appendChild(a);\n",
              "      a.click();\n",
              "      div.remove();\n",
              "    }\n",
              "  "
            ]
          },
          "metadata": {}
        },
        {
          "output_type": "display_data",
          "data": {
            "text/plain": [
              "<IPython.core.display.Javascript object>"
            ],
            "application/javascript": [
              "download(\"download_042d0a7c-0cb3-4fea-849a-4a4dcb060187\", \"BAG_GHOST_Cov.csv\", 459)"
            ]
          },
          "metadata": {}
        }
      ]
    }
  ]
}