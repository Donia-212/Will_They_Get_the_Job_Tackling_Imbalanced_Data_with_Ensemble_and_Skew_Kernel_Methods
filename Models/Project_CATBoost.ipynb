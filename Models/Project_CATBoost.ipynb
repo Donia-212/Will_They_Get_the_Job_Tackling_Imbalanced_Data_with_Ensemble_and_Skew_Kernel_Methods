{
  "nbformat": 4,
  "nbformat_minor": 0,
  "metadata": {
    "colab": {
      "provenance": []
    },
    "kernelspec": {
      "name": "python3",
      "display_name": "Python 3"
    },
    "language_info": {
      "name": "python"
    }
  },
  "cells": [
    {
      "cell_type": "code",
      "source": [
        "!pip install catboost"
      ],
      "metadata": {
        "colab": {
          "base_uri": "https://localhost:8080/"
        },
        "id": "lc_IdOXEbKr-",
        "outputId": "212117b0-b6c9-4e19-941f-b8ae1c723321"
      },
      "execution_count": 2,
      "outputs": [
        {
          "output_type": "stream",
          "name": "stdout",
          "text": [
            "Requirement already satisfied: catboost in /usr/local/lib/python3.11/dist-packages (1.2.7)\n",
            "Requirement already satisfied: graphviz in /usr/local/lib/python3.11/dist-packages (from catboost) (0.20.3)\n",
            "Requirement already satisfied: matplotlib in /usr/local/lib/python3.11/dist-packages (from catboost) (3.10.1)\n",
            "Requirement already satisfied: numpy<2.0,>=1.16.0 in /usr/local/lib/python3.11/dist-packages (from catboost) (1.26.4)\n",
            "Requirement already satisfied: pandas>=0.24 in /usr/local/lib/python3.11/dist-packages (from catboost) (2.2.3)\n",
            "Requirement already satisfied: scipy in /usr/local/lib/python3.11/dist-packages (from catboost) (1.15.2)\n",
            "Requirement already satisfied: plotly in /usr/local/lib/python3.11/dist-packages (from catboost) (6.0.1)\n",
            "Requirement already satisfied: six in /usr/local/lib/python3.11/dist-packages (from catboost) (1.17.0)\n",
            "Requirement already satisfied: python-dateutil>=2.8.2 in /usr/local/lib/python3.11/dist-packages (from pandas>=0.24->catboost) (2.9.0.post0)\n",
            "Requirement already satisfied: pytz>=2020.1 in /usr/local/lib/python3.11/dist-packages (from pandas>=0.24->catboost) (2025.1)\n",
            "Requirement already satisfied: tzdata>=2022.7 in /usr/local/lib/python3.11/dist-packages (from pandas>=0.24->catboost) (2025.2)\n",
            "Requirement already satisfied: contourpy>=1.0.1 in /usr/local/lib/python3.11/dist-packages (from matplotlib->catboost) (1.3.1)\n",
            "Requirement already satisfied: cycler>=0.10 in /usr/local/lib/python3.11/dist-packages (from matplotlib->catboost) (0.12.1)\n",
            "Requirement already satisfied: fonttools>=4.22.0 in /usr/local/lib/python3.11/dist-packages (from matplotlib->catboost) (4.56.0)\n",
            "Requirement already satisfied: kiwisolver>=1.3.1 in /usr/local/lib/python3.11/dist-packages (from matplotlib->catboost) (1.4.8)\n",
            "Requirement already satisfied: packaging>=20.0 in /usr/local/lib/python3.11/dist-packages (from matplotlib->catboost) (24.2)\n",
            "Requirement already satisfied: pillow>=8 in /usr/local/lib/python3.11/dist-packages (from matplotlib->catboost) (11.1.0)\n",
            "Requirement already satisfied: pyparsing>=2.3.1 in /usr/local/lib/python3.11/dist-packages (from matplotlib->catboost) (3.2.2)\n",
            "Requirement already satisfied: narwhals>=1.15.1 in /usr/local/lib/python3.11/dist-packages (from plotly->catboost) (1.32.0)\n"
          ]
        }
      ]
    },
    {
      "cell_type": "code",
      "source": [
        "!pip uninstall numpy\n",
        "!pip install numpy\n",
        "!pip install --force-reinstall catboost"
      ],
      "metadata": {
        "colab": {
          "base_uri": "https://localhost:8080/",
          "height": 1000
        },
        "id": "YdnyqEcMrRxU",
        "outputId": "4feadec3-3659-4ed6-bd3f-c5e9056a4587"
      },
      "execution_count": 4,
      "outputs": [
        {
          "output_type": "stream",
          "name": "stdout",
          "text": [
            "Found existing installation: numpy 1.26.4\n",
            "Uninstalling numpy-1.26.4:\n",
            "  Would remove:\n",
            "    /usr/local/bin/f2py\n",
            "    /usr/local/lib/python3.11/dist-packages/numpy-1.26.4.dist-info/*\n",
            "    /usr/local/lib/python3.11/dist-packages/numpy.libs/libgfortran-040039e1.so.5.0.0\n",
            "    /usr/local/lib/python3.11/dist-packages/numpy.libs/libopenblas64_p-r0-0cf96a72.3.23.dev.so\n",
            "    /usr/local/lib/python3.11/dist-packages/numpy.libs/libquadmath-96973f99.so.0.0.0\n",
            "    /usr/local/lib/python3.11/dist-packages/numpy/*\n",
            "Proceed (Y/n)? Y\n",
            "  Successfully uninstalled numpy-1.26.4\n",
            "Collecting numpy\n",
            "  Using cached numpy-2.2.4-cp311-cp311-manylinux_2_17_x86_64.manylinux2014_x86_64.whl.metadata (62 kB)\n",
            "Using cached numpy-2.2.4-cp311-cp311-manylinux_2_17_x86_64.manylinux2014_x86_64.whl (16.4 MB)\n",
            "Installing collected packages: numpy\n",
            "\u001b[31mERROR: pip's dependency resolver does not currently take into account all the packages that are installed. This behaviour is the source of the following dependency conflicts.\n",
            "catboost 1.2.7 requires numpy<2.0,>=1.16.0, but you have numpy 2.2.4 which is incompatible.\n",
            "google-colab 1.0.0 requires pandas==2.2.2, but you have pandas 2.2.3 which is incompatible.\n",
            "numba 0.60.0 requires numpy<2.1,>=1.22, but you have numpy 2.2.4 which is incompatible.\n",
            "tensorflow 2.18.0 requires numpy<2.1.0,>=1.26.0, but you have numpy 2.2.4 which is incompatible.\u001b[0m\u001b[31m\n",
            "\u001b[0mSuccessfully installed numpy-2.2.4\n",
            "Collecting catboost\n",
            "  Using cached catboost-1.2.7-cp311-cp311-manylinux2014_x86_64.whl.metadata (1.2 kB)\n",
            "Collecting graphviz (from catboost)\n",
            "  Using cached graphviz-0.20.3-py3-none-any.whl.metadata (12 kB)\n",
            "Collecting matplotlib (from catboost)\n",
            "  Using cached matplotlib-3.10.1-cp311-cp311-manylinux_2_17_x86_64.manylinux2014_x86_64.whl.metadata (11 kB)\n",
            "Collecting numpy<2.0,>=1.16.0 (from catboost)\n",
            "  Using cached numpy-1.26.4-cp311-cp311-manylinux_2_17_x86_64.manylinux2014_x86_64.whl.metadata (61 kB)\n",
            "Collecting pandas>=0.24 (from catboost)\n",
            "  Using cached pandas-2.2.3-cp311-cp311-manylinux_2_17_x86_64.manylinux2014_x86_64.whl.metadata (89 kB)\n",
            "Collecting scipy (from catboost)\n",
            "  Using cached scipy-1.15.2-cp311-cp311-manylinux_2_17_x86_64.manylinux2014_x86_64.whl.metadata (61 kB)\n",
            "Collecting plotly (from catboost)\n",
            "  Using cached plotly-6.0.1-py3-none-any.whl.metadata (6.7 kB)\n",
            "Collecting six (from catboost)\n",
            "  Using cached six-1.17.0-py2.py3-none-any.whl.metadata (1.7 kB)\n",
            "Collecting python-dateutil>=2.8.2 (from pandas>=0.24->catboost)\n",
            "  Using cached python_dateutil-2.9.0.post0-py2.py3-none-any.whl.metadata (8.4 kB)\n",
            "Collecting pytz>=2020.1 (from pandas>=0.24->catboost)\n",
            "  Using cached pytz-2025.1-py2.py3-none-any.whl.metadata (22 kB)\n",
            "Collecting tzdata>=2022.7 (from pandas>=0.24->catboost)\n",
            "  Using cached tzdata-2025.2-py2.py3-none-any.whl.metadata (1.4 kB)\n",
            "Collecting contourpy>=1.0.1 (from matplotlib->catboost)\n",
            "  Using cached contourpy-1.3.1-cp311-cp311-manylinux_2_17_x86_64.manylinux2014_x86_64.whl.metadata (5.4 kB)\n",
            "Collecting cycler>=0.10 (from matplotlib->catboost)\n",
            "  Using cached cycler-0.12.1-py3-none-any.whl.metadata (3.8 kB)\n",
            "Collecting fonttools>=4.22.0 (from matplotlib->catboost)\n",
            "  Using cached fonttools-4.56.0-cp311-cp311-manylinux_2_17_x86_64.manylinux2014_x86_64.whl.metadata (101 kB)\n",
            "Collecting kiwisolver>=1.3.1 (from matplotlib->catboost)\n",
            "  Using cached kiwisolver-1.4.8-cp311-cp311-manylinux_2_17_x86_64.manylinux2014_x86_64.whl.metadata (6.2 kB)\n",
            "Collecting packaging>=20.0 (from matplotlib->catboost)\n",
            "  Using cached packaging-24.2-py3-none-any.whl.metadata (3.2 kB)\n",
            "Collecting pillow>=8 (from matplotlib->catboost)\n",
            "  Using cached pillow-11.1.0-cp311-cp311-manylinux_2_28_x86_64.whl.metadata (9.1 kB)\n",
            "Collecting pyparsing>=2.3.1 (from matplotlib->catboost)\n",
            "  Using cached pyparsing-3.2.2-py3-none-any.whl.metadata (5.0 kB)\n",
            "Collecting narwhals>=1.15.1 (from plotly->catboost)\n",
            "  Using cached narwhals-1.32.0-py3-none-any.whl.metadata (9.2 kB)\n",
            "Using cached catboost-1.2.7-cp311-cp311-manylinux2014_x86_64.whl (98.7 MB)\n",
            "Using cached numpy-1.26.4-cp311-cp311-manylinux_2_17_x86_64.manylinux2014_x86_64.whl (18.3 MB)\n",
            "Using cached pandas-2.2.3-cp311-cp311-manylinux_2_17_x86_64.manylinux2014_x86_64.whl (13.1 MB)\n",
            "Using cached graphviz-0.20.3-py3-none-any.whl (47 kB)\n",
            "Using cached matplotlib-3.10.1-cp311-cp311-manylinux_2_17_x86_64.manylinux2014_x86_64.whl (8.6 MB)\n",
            "Using cached plotly-6.0.1-py3-none-any.whl (14.8 MB)\n",
            "Using cached scipy-1.15.2-cp311-cp311-manylinux_2_17_x86_64.manylinux2014_x86_64.whl (37.6 MB)\n",
            "Using cached six-1.17.0-py2.py3-none-any.whl (11 kB)\n",
            "Using cached contourpy-1.3.1-cp311-cp311-manylinux_2_17_x86_64.manylinux2014_x86_64.whl (326 kB)\n",
            "Using cached cycler-0.12.1-py3-none-any.whl (8.3 kB)\n",
            "Using cached fonttools-4.56.0-cp311-cp311-manylinux_2_17_x86_64.manylinux2014_x86_64.whl (4.9 MB)\n",
            "Using cached kiwisolver-1.4.8-cp311-cp311-manylinux_2_17_x86_64.manylinux2014_x86_64.whl (1.4 MB)\n",
            "Using cached narwhals-1.32.0-py3-none-any.whl (320 kB)\n",
            "Using cached packaging-24.2-py3-none-any.whl (65 kB)\n",
            "Using cached pillow-11.1.0-cp311-cp311-manylinux_2_28_x86_64.whl (4.5 MB)\n",
            "Using cached pyparsing-3.2.2-py3-none-any.whl (111 kB)\n",
            "Using cached python_dateutil-2.9.0.post0-py2.py3-none-any.whl (229 kB)\n",
            "Using cached pytz-2025.1-py2.py3-none-any.whl (507 kB)\n",
            "Using cached tzdata-2025.2-py2.py3-none-any.whl (347 kB)\n",
            "Installing collected packages: pytz, tzdata, six, pyparsing, pillow, packaging, numpy, narwhals, kiwisolver, graphviz, fonttools, cycler, scipy, python-dateutil, plotly, contourpy, pandas, matplotlib, catboost\n",
            "  Attempting uninstall: pytz\n",
            "    Found existing installation: pytz 2025.1\n",
            "    Uninstalling pytz-2025.1:\n",
            "      Successfully uninstalled pytz-2025.1\n",
            "  Attempting uninstall: tzdata\n",
            "    Found existing installation: tzdata 2025.2\n",
            "    Uninstalling tzdata-2025.2:\n",
            "      Successfully uninstalled tzdata-2025.2\n",
            "  Attempting uninstall: six\n",
            "    Found existing installation: six 1.17.0\n",
            "    Uninstalling six-1.17.0:\n",
            "      Successfully uninstalled six-1.17.0\n",
            "  Attempting uninstall: pyparsing\n",
            "    Found existing installation: pyparsing 3.2.2\n",
            "    Uninstalling pyparsing-3.2.2:\n",
            "      Successfully uninstalled pyparsing-3.2.2\n",
            "  Attempting uninstall: pillow\n",
            "    Found existing installation: pillow 11.1.0\n",
            "    Uninstalling pillow-11.1.0:\n",
            "      Successfully uninstalled pillow-11.1.0\n",
            "  Attempting uninstall: packaging\n",
            "    Found existing installation: packaging 24.2\n",
            "    Uninstalling packaging-24.2:\n",
            "      Successfully uninstalled packaging-24.2\n",
            "  Attempting uninstall: numpy\n",
            "    Found existing installation: numpy 2.2.4\n",
            "    Uninstalling numpy-2.2.4:\n",
            "      Successfully uninstalled numpy-2.2.4\n",
            "  Attempting uninstall: narwhals\n",
            "    Found existing installation: narwhals 1.32.0\n",
            "    Uninstalling narwhals-1.32.0:\n",
            "      Successfully uninstalled narwhals-1.32.0\n",
            "  Attempting uninstall: kiwisolver\n",
            "    Found existing installation: kiwisolver 1.4.8\n",
            "    Uninstalling kiwisolver-1.4.8:\n",
            "      Successfully uninstalled kiwisolver-1.4.8\n",
            "  Attempting uninstall: graphviz\n",
            "    Found existing installation: graphviz 0.20.3\n",
            "    Uninstalling graphviz-0.20.3:\n",
            "      Successfully uninstalled graphviz-0.20.3\n",
            "  Attempting uninstall: fonttools\n",
            "    Found existing installation: fonttools 4.56.0\n",
            "    Uninstalling fonttools-4.56.0:\n",
            "      Successfully uninstalled fonttools-4.56.0\n",
            "  Attempting uninstall: cycler\n",
            "    Found existing installation: cycler 0.12.1\n",
            "    Uninstalling cycler-0.12.1:\n",
            "      Successfully uninstalled cycler-0.12.1\n",
            "  Attempting uninstall: scipy\n",
            "    Found existing installation: scipy 1.15.2\n",
            "    Uninstalling scipy-1.15.2:\n",
            "      Successfully uninstalled scipy-1.15.2\n",
            "  Attempting uninstall: python-dateutil\n",
            "    Found existing installation: python-dateutil 2.9.0.post0\n",
            "    Uninstalling python-dateutil-2.9.0.post0:\n",
            "      Successfully uninstalled python-dateutil-2.9.0.post0\n",
            "  Attempting uninstall: plotly\n",
            "    Found existing installation: plotly 6.0.1\n",
            "    Uninstalling plotly-6.0.1:\n",
            "      Successfully uninstalled plotly-6.0.1\n",
            "  Attempting uninstall: contourpy\n",
            "    Found existing installation: contourpy 1.3.1\n",
            "    Uninstalling contourpy-1.3.1:\n",
            "      Successfully uninstalled contourpy-1.3.1\n",
            "  Attempting uninstall: pandas\n",
            "    Found existing installation: pandas 2.2.3\n",
            "    Uninstalling pandas-2.2.3:\n",
            "      Successfully uninstalled pandas-2.2.3\n",
            "  Attempting uninstall: matplotlib\n",
            "    Found existing installation: matplotlib 3.10.1\n",
            "    Uninstalling matplotlib-3.10.1:\n",
            "      Successfully uninstalled matplotlib-3.10.1\n",
            "  Attempting uninstall: catboost\n",
            "    Found existing installation: catboost 1.2.7\n",
            "    Uninstalling catboost-1.2.7:\n",
            "      Successfully uninstalled catboost-1.2.7\n",
            "\u001b[31mERROR: pip's dependency resolver does not currently take into account all the packages that are installed. This behaviour is the source of the following dependency conflicts.\n",
            "google-colab 1.0.0 requires pandas==2.2.2, but you have pandas 2.2.3 which is incompatible.\u001b[0m\u001b[31m\n",
            "\u001b[0mSuccessfully installed catboost-1.2.7 contourpy-1.3.1 cycler-0.12.1 fonttools-4.56.0 graphviz-0.20.3 kiwisolver-1.4.8 matplotlib-3.10.1 narwhals-1.32.0 numpy-1.26.4 packaging-24.2 pandas-2.2.3 pillow-11.1.0 plotly-6.0.1 pyparsing-3.2.2 python-dateutil-2.9.0.post0 pytz-2025.1 scipy-1.15.2 six-1.17.0 tzdata-2025.2\n"
          ]
        },
        {
          "output_type": "display_data",
          "data": {
            "application/vnd.colab-display-data+json": {
              "pip_warning": {
                "packages": [
                  "PIL",
                  "_catboost",
                  "catboost",
                  "cycler",
                  "dateutil",
                  "kiwisolver",
                  "pytz",
                  "six"
                ]
              },
              "id": "548ea079cc5a4934bd0539b4b3decead"
            }
          },
          "metadata": {}
        }
      ]
    },
    {
      "cell_type": "code",
      "execution_count": 18,
      "metadata": {
        "id": "KsiYG2WKKRRB"
      },
      "outputs": [],
      "source": [
        "import pandas as pd\n",
        "import numpy as np\n",
        "from sklearn.model_selection import train_test_split\n",
        "from sklearn.model_selection import RandomizedSearchCV\n",
        "from mlxtend.evaluate import PredefinedHoldoutSplit\n",
        "from catboost import CatBoostClassifier\n",
        "from sklearn.metrics import classification_report"
      ]
    },
    {
      "cell_type": "code",
      "source": [
        "X_full = pd.read_csv('New_Train_Features_Full.csv')\n",
        "X_test_full = pd.read_csv('New_Test_Features_Full.csv')\n",
        "y = pd.read_csv('Train_Target.csv').iloc[:,1]\n",
        "\n",
        "X_full_no = pd.read_csv('New_Train_Features.csv')\n",
        "X_test_full_no = pd.read_csv('New_Test_Features.csv')\n",
        "\n",
        "X_no_manual = pd.read_csv('New_Train_Features_No_Selected.csv')\n",
        "X_test_no_manual = pd.read_csv('New_Test_Features_No_Selected.csv')\n",
        "\n",
        "X_RFE = pd.read_csv('New_Train_Features_RFE.csv')\n",
        "X_RFE_test = pd.read_csv('New_Test_Features_RFE.csv')\n",
        "\n",
        "X_LASSO = pd.read_csv('New_Train_Features_LASSO.csv')\n",
        "X_LASSO_test = pd.read_csv('New_Test_Features_LASSO.csv')\n",
        "\n",
        "X_manual = pd.read_csv('New_Train_Features_Selected.csv')\n",
        "X_manual_test = pd.read_csv('New_Test_Features_Selected.csv')"
      ],
      "metadata": {
        "id": "5cHqNsYyCCrZ"
      },
      "execution_count": 98,
      "outputs": []
    },
    {
      "cell_type": "markdown",
      "source": [
        "# Full Dataset:"
      ],
      "metadata": {
        "id": "wft6E7csIUK4"
      }
    },
    {
      "cell_type": "code",
      "source": [
        "np.random.seed(2025)\n",
        "X_train, X_temp, y_train, y_temp = train_test_split(X_full, y, test_size = 0.3, random_state = 2025, stratify = y)\n",
        "X_val, X_test, y_val, y_test = train_test_split(X_temp, y_temp, test_size = 0.5, random_state = 2025, stratify = y_temp)"
      ],
      "metadata": {
        "id": "LPlhePgoJCb0"
      },
      "execution_count": 13,
      "outputs": []
    },
    {
      "cell_type": "code",
      "source": [
        "np.random.seed(2025)\n",
        "train_ind, val_ind = train_test_split(np.arange(X_temp.shape[0]), test_size = 0.3, random_state = 2025, stratify = y_temp)\n",
        "split = PredefinedHoldoutSplit(valid_indices = val_ind)"
      ],
      "metadata": {
        "id": "vv_AEM4SISr2"
      },
      "execution_count": 14,
      "outputs": []
    },
    {
      "cell_type": "code",
      "source": [
        "params = {\n",
        "    \"iterations\": [500, 1000, 1500],\n",
        "    \"learning_rate\": [0.01, 0.05, 0.1, 0.2],\n",
        "    \"depth\": [4, 6, 8],\n",
        "    \"l2_leaf_reg\": [1, 3, 5],\n",
        "    \"subsample\": [0.7, 0.8, 0.9, 1.0],\n",
        "    \"colsample_bylevel\": [0.7, 0.8, 1.0],\n",
        "}\n",
        "\n",
        "cat_features = [\"Board_SSC\", \"Board_HSC\", \"Stream_HSC\", \"Course_Degree\", \"Specialization_MBA\", \"Entrance_Test\"]\n",
        "cat = CatBoostClassifier(random_state = 2025, verbose = 0, cat_features = cat_features)"
      ],
      "metadata": {
        "id": "L85pvOpRLfP_"
      },
      "execution_count": 30,
      "outputs": []
    },
    {
      "cell_type": "code",
      "source": [
        "np.random.seed(2025)\n",
        "cat_grid = RandomizedSearchCV(cat, param_distributions = params, n_iter = 350, cv = split, n_jobs = -1, scoring = 'f1_macro')\n",
        "cat_grid.fit(X_temp, y_temp)\n",
        "print('Best Parameters:', cat_grid.best_params_)"
      ],
      "metadata": {
        "colab": {
          "base_uri": "https://localhost:8080/"
        },
        "id": "i4rWlWIBLvwu",
        "outputId": "425f4e10-990a-451c-8db8-f14d29d6fade"
      },
      "execution_count": 32,
      "outputs": [
        {
          "output_type": "stream",
          "name": "stdout",
          "text": [
            "Best Parameters: {'subsample': 1.0, 'learning_rate': 0.01, 'l2_leaf_reg': 1, 'iterations': 1500, 'depth': 4, 'colsample_bylevel': 0.7}\n"
          ]
        }
      ]
    },
    {
      "cell_type": "code",
      "source": [
        "np.random.seed(2025)\n",
        "cat_model = CatBoostClassifier(subsample = 1.0, learning_rate = 0.01, l2_leaf_reg = 1, iterations = 1500, depth = 4, colsample_bylevel = 0.7, cat_features = cat_features, random_state = 2025, verbose = 0)\n",
        "cat_model.fit(X_temp, y_temp,)\n",
        "y_pred = cat_model.predict(X_test)\n",
        "\n",
        "print(classification_report(y_test, y_pred))"
      ],
      "metadata": {
        "colab": {
          "base_uri": "https://localhost:8080/"
        },
        "id": "VU4fJQA9MdhT",
        "outputId": "2bc8f231-509a-4374-adbb-7ef279922534"
      },
      "execution_count": 37,
      "outputs": [
        {
          "output_type": "stream",
          "name": "stdout",
          "text": [
            "              precision    recall  f1-score   support\n",
            "\n",
            "           0       1.00      1.00      1.00        36\n",
            "           1       1.00      1.00      1.00         9\n",
            "\n",
            "    accuracy                           1.00        45\n",
            "   macro avg       1.00      1.00      1.00        45\n",
            "weighted avg       1.00      1.00      1.00        45\n",
            "\n"
          ]
        }
      ]
    },
    {
      "cell_type": "code",
      "source": [
        "np.random.seed(2025)\n",
        "cat_model.fit(X_full, y)\n",
        "y_pred_cat = cat_model.predict(X_test_full)"
      ],
      "metadata": {
        "id": "wP0FxlVFNJu5"
      },
      "execution_count": 38,
      "outputs": []
    },
    {
      "cell_type": "code",
      "source": [
        "from google.colab import files\n",
        "\n",
        "pred_cat = pd.DataFrame({'ID': range(1, 92), 'Placement': y_pred_cat})\n",
        "\n",
        "with open('CAT_Full_Cov.csv', 'w') as file:\n",
        "    pred_cat.to_csv(file, index = False, header = True)\n",
        "\n",
        "files.download('CAT_Full_Cov.csv')"
      ],
      "metadata": {
        "colab": {
          "base_uri": "https://localhost:8080/",
          "height": 17
        },
        "id": "TlXgaI7HZpiL",
        "outputId": "24264325-f36e-45c7-fe8c-81ec2938a8b1"
      },
      "execution_count": 39,
      "outputs": [
        {
          "output_type": "display_data",
          "data": {
            "text/plain": [
              "<IPython.core.display.Javascript object>"
            ],
            "application/javascript": [
              "\n",
              "    async function download(id, filename, size) {\n",
              "      if (!google.colab.kernel.accessAllowed) {\n",
              "        return;\n",
              "      }\n",
              "      const div = document.createElement('div');\n",
              "      const label = document.createElement('label');\n",
              "      label.textContent = `Downloading \"${filename}\": `;\n",
              "      div.appendChild(label);\n",
              "      const progress = document.createElement('progress');\n",
              "      progress.max = size;\n",
              "      div.appendChild(progress);\n",
              "      document.body.appendChild(div);\n",
              "\n",
              "      const buffers = [];\n",
              "      let downloaded = 0;\n",
              "\n",
              "      const channel = await google.colab.kernel.comms.open(id);\n",
              "      // Send a message to notify the kernel that we're ready.\n",
              "      channel.send({})\n",
              "\n",
              "      for await (const message of channel.messages) {\n",
              "        // Send a message to notify the kernel that we're ready.\n",
              "        channel.send({})\n",
              "        if (message.buffers) {\n",
              "          for (const buffer of message.buffers) {\n",
              "            buffers.push(buffer);\n",
              "            downloaded += buffer.byteLength;\n",
              "            progress.value = downloaded;\n",
              "          }\n",
              "        }\n",
              "      }\n",
              "      const blob = new Blob(buffers, {type: 'application/binary'});\n",
              "      const a = document.createElement('a');\n",
              "      a.href = window.URL.createObjectURL(blob);\n",
              "      a.download = filename;\n",
              "      div.appendChild(a);\n",
              "      a.click();\n",
              "      div.remove();\n",
              "    }\n",
              "  "
            ]
          },
          "metadata": {}
        },
        {
          "output_type": "display_data",
          "data": {
            "text/plain": [
              "<IPython.core.display.Javascript object>"
            ],
            "application/javascript": [
              "download(\"download_c4fa9ea6-92d0-40ff-a909-756cb77f5a50\", \"CAT_Full_Cov.csv\", 459)"
            ]
          },
          "metadata": {}
        }
      ]
    },
    {
      "cell_type": "markdown",
      "source": [
        "# RFE Dataset:"
      ],
      "metadata": {
        "id": "TEjVn1aVbK5B"
      }
    },
    {
      "cell_type": "code",
      "source": [
        "np.random.seed(2025)\n",
        "X_train_rfe, X_temp_rfe, y_train_rfe, y_temp_rfe = train_test_split(X_RFE, y, test_size = 0.3, random_state = 2025, stratify = y)\n",
        "X_val_rfe, X_test_rfe, y_val_rfe, y_test_rfe = train_test_split(X_temp_rfe, y_temp_rfe, test_size = 0.5, random_state = 2025, stratify = y_temp_rfe)"
      ],
      "metadata": {
        "id": "XBQKs3QZbSR_"
      },
      "execution_count": 43,
      "outputs": []
    },
    {
      "cell_type": "code",
      "source": [
        "np.random.seed(2025)\n",
        "train_rfe_ind, val_rfe_ind = train_test_split(np.arange(X_temp_rfe.shape[0]), test_size = 0.3, random_state = 2025, stratify = y_temp_rfe)\n",
        "split_rfe = PredefinedHoldoutSplit(valid_indices = val_rfe_ind)"
      ],
      "metadata": {
        "id": "1cE8xzu3bmxf"
      },
      "execution_count": 44,
      "outputs": []
    },
    {
      "cell_type": "code",
      "source": [
        "params = {\n",
        "    \"iterations\": [500, 1000, 1500],\n",
        "    \"learning_rate\": [0.01, 0.05, 0.1, 0.2],\n",
        "    \"depth\": [4, 6, 8],\n",
        "    \"l2_leaf_reg\": [1, 3, 5],\n",
        "    \"subsample\": [0.7, 0.8, 0.9, 1.0],\n",
        "    \"colsample_bylevel\": [0.7, 0.8, 1.0],\n",
        "}\n",
        "\n",
        "cat_features = [\"Board_SSC\", \"Board_HSC\", \"Stream_HSC\", \"Course_Degree\", \"Specialization_MBA\"]\n",
        "cat = CatBoostClassifier(random_state = 2025, verbose = 0, cat_features = cat_features)"
      ],
      "metadata": {
        "id": "cCvcTtORH7r1"
      },
      "execution_count": 46,
      "outputs": []
    },
    {
      "cell_type": "code",
      "source": [
        "np.random.seed(2025)\n",
        "cat_grid_rfe = RandomizedSearchCV(cat, param_distributions = params, n_iter = 350, cv = split_rfe, n_jobs = -1, scoring = 'f1_macro')\n",
        "cat_grid_rfe.fit(X_temp_rfe, y_temp_rfe)\n",
        "print('Best Parameters:', cat_grid_rfe.best_params_)"
      ],
      "metadata": {
        "colab": {
          "base_uri": "https://localhost:8080/"
        },
        "id": "jZ2U-BlkcXX3",
        "outputId": "5ed1bdfc-df79-43a0-8c5f-6405043fb064"
      },
      "execution_count": 47,
      "outputs": [
        {
          "output_type": "stream",
          "name": "stdout",
          "text": [
            "Best Parameters: {'subsample': 1.0, 'learning_rate': 0.05, 'l2_leaf_reg': 3, 'iterations': 1000, 'depth': 4, 'colsample_bylevel': 1.0}\n"
          ]
        }
      ]
    },
    {
      "cell_type": "code",
      "source": [
        "np.random.seed(2025)\n",
        "cat_model_rfe = CatBoostClassifier(subsample = 1.0, learning_rate = 0.05, l2_leaf_reg = 3, iterations = 1000, depth = 4, colsample_bylevel = 1.0, cat_features = cat_features, random_state = 2025, verbose = 0)\n",
        "cat_model_rfe.fit(X_temp_rfe, y_temp_rfe)\n",
        "y_pred_rfe = cat_model_rfe.predict(X_test_rfe)\n",
        "\n",
        "print(classification_report(y_test, y_pred_rfe))"
      ],
      "metadata": {
        "colab": {
          "base_uri": "https://localhost:8080/"
        },
        "id": "m9FDkqgOcigg",
        "outputId": "86017550-33dc-412a-95e8-8817f0fe78cc"
      },
      "execution_count": 51,
      "outputs": [
        {
          "output_type": "stream",
          "name": "stdout",
          "text": [
            "              precision    recall  f1-score   support\n",
            "\n",
            "           0       1.00      1.00      1.00        36\n",
            "           1       1.00      1.00      1.00         9\n",
            "\n",
            "    accuracy                           1.00        45\n",
            "   macro avg       1.00      1.00      1.00        45\n",
            "weighted avg       1.00      1.00      1.00        45\n",
            "\n"
          ]
        }
      ]
    },
    {
      "cell_type": "code",
      "source": [
        "np.random.seed(2025)\n",
        "cat_model_rfe.fit(X_RFE, y)\n",
        "y_pred_rfe_cat = cat_model_rfe.predict(X_RFE_test)"
      ],
      "metadata": {
        "id": "7LPyGoZ5cw2I"
      },
      "execution_count": 63,
      "outputs": []
    },
    {
      "cell_type": "code",
      "source": [
        "from google.colab import files\n",
        "\n",
        "pred_cat = pd.DataFrame({'ID': range(1, 92), 'Placement': y_pred_rfe_cat})\n",
        "\n",
        "with open('CAT_RFE_Cov.csv', 'w') as file:\n",
        "    pred_cat.to_csv(file, index = False, header = True)\n",
        "\n",
        "files.download('CAT_RFE_Cov.csv')"
      ],
      "metadata": {
        "colab": {
          "base_uri": "https://localhost:8080/",
          "height": 17
        },
        "id": "r99bH7N9datB",
        "outputId": "62ab6372-f5d2-46b8-c51b-bd55414cf8a8"
      },
      "execution_count": 64,
      "outputs": [
        {
          "output_type": "display_data",
          "data": {
            "text/plain": [
              "<IPython.core.display.Javascript object>"
            ],
            "application/javascript": [
              "\n",
              "    async function download(id, filename, size) {\n",
              "      if (!google.colab.kernel.accessAllowed) {\n",
              "        return;\n",
              "      }\n",
              "      const div = document.createElement('div');\n",
              "      const label = document.createElement('label');\n",
              "      label.textContent = `Downloading \"${filename}\": `;\n",
              "      div.appendChild(label);\n",
              "      const progress = document.createElement('progress');\n",
              "      progress.max = size;\n",
              "      div.appendChild(progress);\n",
              "      document.body.appendChild(div);\n",
              "\n",
              "      const buffers = [];\n",
              "      let downloaded = 0;\n",
              "\n",
              "      const channel = await google.colab.kernel.comms.open(id);\n",
              "      // Send a message to notify the kernel that we're ready.\n",
              "      channel.send({})\n",
              "\n",
              "      for await (const message of channel.messages) {\n",
              "        // Send a message to notify the kernel that we're ready.\n",
              "        channel.send({})\n",
              "        if (message.buffers) {\n",
              "          for (const buffer of message.buffers) {\n",
              "            buffers.push(buffer);\n",
              "            downloaded += buffer.byteLength;\n",
              "            progress.value = downloaded;\n",
              "          }\n",
              "        }\n",
              "      }\n",
              "      const blob = new Blob(buffers, {type: 'application/binary'});\n",
              "      const a = document.createElement('a');\n",
              "      a.href = window.URL.createObjectURL(blob);\n",
              "      a.download = filename;\n",
              "      div.appendChild(a);\n",
              "      a.click();\n",
              "      div.remove();\n",
              "    }\n",
              "  "
            ]
          },
          "metadata": {}
        },
        {
          "output_type": "display_data",
          "data": {
            "text/plain": [
              "<IPython.core.display.Javascript object>"
            ],
            "application/javascript": [
              "download(\"download_f213d0ae-f44e-4bfb-9376-d84a60018410\", \"CAT_RFE_Cov.csv\", 459)"
            ]
          },
          "metadata": {}
        }
      ]
    },
    {
      "cell_type": "markdown",
      "source": [
        "# LASSO:"
      ],
      "metadata": {
        "id": "uKIORMg6dmwe"
      }
    },
    {
      "cell_type": "code",
      "source": [
        "np.random.seed(2025)\n",
        "X_train_lasso, X_temp_lasso, y_train_lasso, y_temp_lasso = train_test_split(X_LASSO, y, test_size = 0.3, random_state = 2025, stratify = y)\n",
        "X_val_lasso, X_test_lasso, y_val_lasso, y_test_lasso = train_test_split(X_temp_lasso, y_temp_lasso, test_size = 0.5, random_state = 2025, stratify = y_temp_lasso)"
      ],
      "metadata": {
        "id": "t1ZlNAhpe8gB"
      },
      "execution_count": 65,
      "outputs": []
    },
    {
      "cell_type": "code",
      "source": [
        "np.random.seed(2025)\n",
        "train_lasso_ind, val_lasso_ind = train_test_split(np.arange(X_temp_lasso.shape[0]), test_size = 0.3, random_state = 2025, stratify = y_temp_lasso)\n",
        "split_lasso = PredefinedHoldoutSplit(valid_indices = val_lasso_ind)"
      ],
      "metadata": {
        "id": "cbnVPMnTe8gC"
      },
      "execution_count": 66,
      "outputs": []
    },
    {
      "cell_type": "code",
      "source": [
        "params = {\n",
        "    \"iterations\": [500, 1000, 1500],\n",
        "    \"learning_rate\": [0.01, 0.05, 0.1, 0.2],\n",
        "    \"depth\": [4, 6, 8],\n",
        "    \"l2_leaf_reg\": [1, 3, 5],\n",
        "    \"subsample\": [0.7, 0.8, 0.9, 1.0],\n",
        "    \"colsample_bylevel\": [0.7, 0.8, 1.0],\n",
        "}\n",
        "\n",
        "cat_features = [\"Board_SSC\", \"Board_HSC\", \"Stream_HSC\", \"Course_Degree\", \"Specialization_MBA\", \"Entrance_Test\"]\n",
        "cat = CatBoostClassifier(random_state = 2025, verbose = 0, cat_features = cat_features)"
      ],
      "metadata": {
        "id": "SFlH7jCmIKbq"
      },
      "execution_count": 67,
      "outputs": []
    },
    {
      "cell_type": "code",
      "source": [
        "np.random.seed(2025)\n",
        "cat_grid_lasso = RandomizedSearchCV(cat, param_distributions = params, n_iter = 350, cv = split_lasso, n_jobs = -1, scoring = 'f1_macro')\n",
        "cat_grid_lasso.fit(X_temp_lasso, y_temp_lasso)\n",
        "print('Best Parameters:', cat_grid_lasso.best_params_)"
      ],
      "metadata": {
        "colab": {
          "base_uri": "https://localhost:8080/"
        },
        "outputId": "878361f6-8bba-4a1b-f26a-8c328fab8708",
        "id": "FBLjP5sye8gC"
      },
      "execution_count": 68,
      "outputs": [
        {
          "output_type": "stream",
          "name": "stdout",
          "text": [
            "Best Parameters: {'subsample': 0.8, 'learning_rate': 0.01, 'l2_leaf_reg': 3, 'iterations': 500, 'depth': 6, 'colsample_bylevel': 1.0}\n"
          ]
        }
      ]
    },
    {
      "cell_type": "code",
      "source": [
        "np.random.seed(2025)\n",
        "cat_model_lasso = CatBoostClassifier(subsample = 0.8, learning_rate = 0.01, l2_leaf_reg = 3, iterations = 500, depth = 6, colsample_bylevel = 1.0, cat_features = cat_features, random_state = 2025, verbose = 0)\n",
        "cat_model_lasso.fit(X_temp_lasso, y_temp_lasso)\n",
        "y_pred_lasso = cat_model_lasso.predict(X_test_lasso)\n",
        "\n",
        "print(classification_report(y_test, y_pred_lasso,zero_division = 1))"
      ],
      "metadata": {
        "colab": {
          "base_uri": "https://localhost:8080/"
        },
        "outputId": "8a014dfb-941d-40cd-8d27-ce94a7302ae2",
        "id": "l-vH5yw-e8gC"
      },
      "execution_count": 70,
      "outputs": [
        {
          "output_type": "stream",
          "name": "stdout",
          "text": [
            "              precision    recall  f1-score   support\n",
            "\n",
            "           0       0.80      1.00      0.89        36\n",
            "           1       1.00      0.00      0.00         9\n",
            "\n",
            "    accuracy                           0.80        45\n",
            "   macro avg       0.90      0.50      0.44        45\n",
            "weighted avg       0.84      0.80      0.71        45\n",
            "\n"
          ]
        }
      ]
    },
    {
      "cell_type": "code",
      "source": [
        "np.random.seed(2025)\n",
        "cat_model_lasso.fit(X_LASSO, y)\n",
        "y_pred_lasso_cat = cat_model_lasso.predict(X_LASSO_test)"
      ],
      "metadata": {
        "id": "aGn51lAhe8gC"
      },
      "execution_count": 74,
      "outputs": []
    },
    {
      "cell_type": "code",
      "source": [
        "from google.colab import files\n",
        "\n",
        "pred_cat = pd.DataFrame({'ID': range(1, 92), 'Placement': y_pred_lasso_cat})\n",
        "\n",
        "with open('CAT_LASSO_Cov.csv', 'w') as file:\n",
        "    pred_cat.to_csv(file, index = False, header = True)\n",
        "\n",
        "files.download('CAT_LASSO_Cov.csv')"
      ],
      "metadata": {
        "colab": {
          "base_uri": "https://localhost:8080/",
          "height": 17
        },
        "outputId": "b88cc8b8-8f96-476f-afa6-c558beeb400d",
        "id": "ldcUb19Se8gC"
      },
      "execution_count": 75,
      "outputs": [
        {
          "output_type": "display_data",
          "data": {
            "text/plain": [
              "<IPython.core.display.Javascript object>"
            ],
            "application/javascript": [
              "\n",
              "    async function download(id, filename, size) {\n",
              "      if (!google.colab.kernel.accessAllowed) {\n",
              "        return;\n",
              "      }\n",
              "      const div = document.createElement('div');\n",
              "      const label = document.createElement('label');\n",
              "      label.textContent = `Downloading \"${filename}\": `;\n",
              "      div.appendChild(label);\n",
              "      const progress = document.createElement('progress');\n",
              "      progress.max = size;\n",
              "      div.appendChild(progress);\n",
              "      document.body.appendChild(div);\n",
              "\n",
              "      const buffers = [];\n",
              "      let downloaded = 0;\n",
              "\n",
              "      const channel = await google.colab.kernel.comms.open(id);\n",
              "      // Send a message to notify the kernel that we're ready.\n",
              "      channel.send({})\n",
              "\n",
              "      for await (const message of channel.messages) {\n",
              "        // Send a message to notify the kernel that we're ready.\n",
              "        channel.send({})\n",
              "        if (message.buffers) {\n",
              "          for (const buffer of message.buffers) {\n",
              "            buffers.push(buffer);\n",
              "            downloaded += buffer.byteLength;\n",
              "            progress.value = downloaded;\n",
              "          }\n",
              "        }\n",
              "      }\n",
              "      const blob = new Blob(buffers, {type: 'application/binary'});\n",
              "      const a = document.createElement('a');\n",
              "      a.href = window.URL.createObjectURL(blob);\n",
              "      a.download = filename;\n",
              "      div.appendChild(a);\n",
              "      a.click();\n",
              "      div.remove();\n",
              "    }\n",
              "  "
            ]
          },
          "metadata": {}
        },
        {
          "output_type": "display_data",
          "data": {
            "text/plain": [
              "<IPython.core.display.Javascript object>"
            ],
            "application/javascript": [
              "download(\"download_1b941b25-0bfc-43c3-9bd0-1d4b43fc6d6b\", \"CAT_LASSO_Cov.csv\", 459)"
            ]
          },
          "metadata": {}
        }
      ]
    },
    {
      "cell_type": "markdown",
      "source": [
        "# Full - Without Standardization\n",
        "\n",
        "\n"
      ],
      "metadata": {
        "id": "bdWgACdnCLGG"
      }
    },
    {
      "cell_type": "code",
      "source": [
        "np.random.seed(2025)\n",
        "X_train, X_temp, y_train, y_temp = train_test_split(X_full_no, y, test_size = 0.3, random_state = 2025, stratify = y)\n",
        "X_val, X_test, y_val, y_test = train_test_split(X_temp, y_temp, test_size = 0.5, random_state = 2025, stratify = y_temp)"
      ],
      "metadata": {
        "id": "KsbuTnJmCwaL"
      },
      "execution_count": 76,
      "outputs": []
    },
    {
      "cell_type": "code",
      "source": [
        "np.random.seed(2025)\n",
        "train_ind, val_ind = train_test_split(np.arange(X_temp.shape[0]), test_size = 0.3, random_state = 2025, stratify = y_temp)\n",
        "split = PredefinedHoldoutSplit(valid_indices = val_ind)"
      ],
      "metadata": {
        "id": "bfnY-zuFCwaL"
      },
      "execution_count": 77,
      "outputs": []
    },
    {
      "cell_type": "code",
      "source": [
        "params = {\n",
        "    \"iterations\": [500, 1000, 1500],\n",
        "    \"learning_rate\": [0.01, 0.05, 0.1, 0.2],\n",
        "    \"depth\": [4, 6, 8],\n",
        "    \"l2_leaf_reg\": [1, 3, 5],\n",
        "    \"subsample\": [0.7, 0.8, 0.9, 1.0],\n",
        "    \"colsample_bylevel\": [0.7, 0.8, 1.0],\n",
        "}\n",
        "\n",
        "cat_features = [\"Board_SSC\", \"Board_HSC\", \"Stream_HSC\", \"Course_Degree\", \"Specialization_MBA\", \"Entrance_Test\"]\n",
        "cat = CatBoostClassifier(random_state = 2025, verbose = 0, cat_features = cat_features)"
      ],
      "metadata": {
        "id": "Xeh4LCTEIMPi"
      },
      "execution_count": 78,
      "outputs": []
    },
    {
      "cell_type": "code",
      "source": [
        "np.random.seed(2025)\n",
        "cat_grid = RandomizedSearchCV(cat, param_distributions = params, n_iter = 350, cv = split, n_jobs = -1, scoring = 'f1_macro')\n",
        "cat_grid.fit(X_temp, y_temp)\n",
        "print('Best Parameters:', cat_grid.best_params_)"
      ],
      "metadata": {
        "colab": {
          "base_uri": "https://localhost:8080/"
        },
        "outputId": "16cd69cd-831e-44ca-b1ea-f8cb8fe1ea90",
        "id": "Zkv_OGWqCwaL"
      },
      "execution_count": 79,
      "outputs": [
        {
          "output_type": "stream",
          "name": "stdout",
          "text": [
            "Best Parameters: {'subsample': 1.0, 'learning_rate': 0.01, 'l2_leaf_reg': 1, 'iterations': 1500, 'depth': 4, 'colsample_bylevel': 0.7}\n"
          ]
        }
      ]
    },
    {
      "cell_type": "code",
      "source": [
        "np.random.seed(2025)\n",
        "cat_model = CatBoostClassifier(subsample = 1.0, learning_rate = 0.01, l2_leaf_reg = 1, iterations = 1500, depth = 4, colsample_bylevel = 0.7, cat_features = cat_features, random_state = 2025, verbose = 0)\n",
        "cat_model.fit(X_temp, y_temp)\n",
        "y_pred_cat_no = cat_model.predict(X_test)\n",
        "\n",
        "print(classification_report(y_test, y_pred_cat_no))"
      ],
      "metadata": {
        "colab": {
          "base_uri": "https://localhost:8080/"
        },
        "outputId": "c89ff165-319c-440d-c9ee-b64d0c927fe4",
        "id": "fmk6pjejCwaL"
      },
      "execution_count": 80,
      "outputs": [
        {
          "output_type": "stream",
          "name": "stdout",
          "text": [
            "              precision    recall  f1-score   support\n",
            "\n",
            "           0       1.00      1.00      1.00        36\n",
            "           1       1.00      1.00      1.00         9\n",
            "\n",
            "    accuracy                           1.00        45\n",
            "   macro avg       1.00      1.00      1.00        45\n",
            "weighted avg       1.00      1.00      1.00        45\n",
            "\n"
          ]
        }
      ]
    },
    {
      "cell_type": "code",
      "source": [
        "np.random.seed(2025)\n",
        "cat_model.fit(X_full_no, y)\n",
        "y_pred_cat_no = cat_model.predict(X_test_full_no)"
      ],
      "metadata": {
        "id": "CYDDtSFGCwaM"
      },
      "execution_count": 81,
      "outputs": []
    },
    {
      "cell_type": "code",
      "source": [
        "from google.colab import files\n",
        "\n",
        "pred_cat = pd.DataFrame({'ID': range(1, 92), 'Placement': y_pred_cat_no})\n",
        "\n",
        "with open('CAT_Full_No_Cov.csv', 'w') as file:\n",
        "    pred_cat.to_csv(file, index = False, header = True)\n",
        "\n",
        "files.download('CAT_Full_No_Cov.csv')"
      ],
      "metadata": {
        "colab": {
          "base_uri": "https://localhost:8080/",
          "height": 17
        },
        "outputId": "9f4342c0-1aca-4357-de78-03a8964a615b",
        "id": "H89nZtA9CwaM"
      },
      "execution_count": 82,
      "outputs": [
        {
          "output_type": "display_data",
          "data": {
            "text/plain": [
              "<IPython.core.display.Javascript object>"
            ],
            "application/javascript": [
              "\n",
              "    async function download(id, filename, size) {\n",
              "      if (!google.colab.kernel.accessAllowed) {\n",
              "        return;\n",
              "      }\n",
              "      const div = document.createElement('div');\n",
              "      const label = document.createElement('label');\n",
              "      label.textContent = `Downloading \"${filename}\": `;\n",
              "      div.appendChild(label);\n",
              "      const progress = document.createElement('progress');\n",
              "      progress.max = size;\n",
              "      div.appendChild(progress);\n",
              "      document.body.appendChild(div);\n",
              "\n",
              "      const buffers = [];\n",
              "      let downloaded = 0;\n",
              "\n",
              "      const channel = await google.colab.kernel.comms.open(id);\n",
              "      // Send a message to notify the kernel that we're ready.\n",
              "      channel.send({})\n",
              "\n",
              "      for await (const message of channel.messages) {\n",
              "        // Send a message to notify the kernel that we're ready.\n",
              "        channel.send({})\n",
              "        if (message.buffers) {\n",
              "          for (const buffer of message.buffers) {\n",
              "            buffers.push(buffer);\n",
              "            downloaded += buffer.byteLength;\n",
              "            progress.value = downloaded;\n",
              "          }\n",
              "        }\n",
              "      }\n",
              "      const blob = new Blob(buffers, {type: 'application/binary'});\n",
              "      const a = document.createElement('a');\n",
              "      a.href = window.URL.createObjectURL(blob);\n",
              "      a.download = filename;\n",
              "      div.appendChild(a);\n",
              "      a.click();\n",
              "      div.remove();\n",
              "    }\n",
              "  "
            ]
          },
          "metadata": {}
        },
        {
          "output_type": "display_data",
          "data": {
            "text/plain": [
              "<IPython.core.display.Javascript object>"
            ],
            "application/javascript": [
              "download(\"download_ebc71ad8-915f-44fd-92cf-ab305e889c8c\", \"CAT_Full_No_Cov.csv\", 459)"
            ]
          },
          "metadata": {}
        }
      ]
    },
    {
      "cell_type": "markdown",
      "source": [
        "# Full - Without Standardization - Manual\n",
        "\n"
      ],
      "metadata": {
        "id": "i6nhI0eESq-h"
      }
    },
    {
      "cell_type": "code",
      "source": [
        "np.random.seed(2025)\n",
        "X_train, X_temp, y_train, y_temp = train_test_split(X_no_manual, y, test_size = 0.3, random_state = 2025, stratify = y)\n",
        "X_val, X_test, y_val, y_test = train_test_split(X_temp, y_temp, test_size = 0.5, random_state = 2025, stratify = y_temp)"
      ],
      "metadata": {
        "id": "PO-SpXjeDusl"
      },
      "execution_count": 83,
      "outputs": []
    },
    {
      "cell_type": "code",
      "source": [
        "np.random.seed(2025)\n",
        "train_ind, val_ind = train_test_split(np.arange(X_temp.shape[0]), test_size = 0.3, random_state = 2025, stratify = y_temp)\n",
        "split = PredefinedHoldoutSplit(valid_indices = val_ind)"
      ],
      "metadata": {
        "id": "a-lGL53nDusm"
      },
      "execution_count": 84,
      "outputs": []
    },
    {
      "cell_type": "code",
      "source": [
        "params = {\n",
        "    \"iterations\": [500, 1000, 1500],\n",
        "    \"learning_rate\": [0.01, 0.05, 0.1, 0.2],\n",
        "    \"depth\": [4, 6, 8],\n",
        "    \"l2_leaf_reg\": [1, 3, 5],\n",
        "    \"subsample\": [0.7, 0.8, 0.9, 1.0],\n",
        "    \"colsample_bylevel\": [0.7, 0.8, 1.0],\n",
        "}\n",
        "\n",
        "cat_features = [\"Board_SSC\", \"Board_HSC\", \"Stream_HSC\", \"Course_Degree\", \"Specialization_MBA\"]\n",
        "cat = CatBoostClassifier(random_state = 2025, verbose = 0, cat_features = cat_features)"
      ],
      "metadata": {
        "id": "4p_-D8ROICLz"
      },
      "execution_count": 85,
      "outputs": []
    },
    {
      "cell_type": "code",
      "source": [
        "np.random.seed(2025)\n",
        "cat_grid = RandomizedSearchCV(cat, param_distributions = params, n_iter = 350, cv = split, n_jobs = -1, scoring = 'f1_macro')\n",
        "cat_grid.fit(X_temp, y_temp)\n",
        "print('Best Parameters:', cat_grid.best_params_)"
      ],
      "metadata": {
        "colab": {
          "base_uri": "https://localhost:8080/"
        },
        "outputId": "02b1177c-b8ad-4a9c-dbfd-4038c22438b8",
        "id": "ANEgOZbnDusm"
      },
      "execution_count": 86,
      "outputs": [
        {
          "output_type": "stream",
          "name": "stdout",
          "text": [
            "Best Parameters: {'subsample': 1.0, 'learning_rate': 0.1, 'l2_leaf_reg': 3, 'iterations': 1500, 'depth': 4, 'colsample_bylevel': 0.8}\n"
          ]
        }
      ]
    },
    {
      "cell_type": "code",
      "source": [
        "np.random.seed(2025)\n",
        "cat_model = CatBoostClassifier(subsample = 1.0, learning_rate = 0.1, l2_leaf_reg = 3, iterations = 1500, depth = 4, colsample_bylevel = 0.8, cat_features = cat_features, random_state = 2025, verbose = 0)\n",
        "cat_model.fit(X_temp, y_temp)\n",
        "y_pred_manual = cat_model.predict(X_test)\n",
        "\n",
        "print(classification_report(y_test, y_pred_manual))"
      ],
      "metadata": {
        "colab": {
          "base_uri": "https://localhost:8080/"
        },
        "outputId": "b5b5ab42-d50a-4532-95a0-9d2985adb0e6",
        "id": "cqLI3l17Dusm"
      },
      "execution_count": 87,
      "outputs": [
        {
          "output_type": "stream",
          "name": "stdout",
          "text": [
            "              precision    recall  f1-score   support\n",
            "\n",
            "           0       1.00      1.00      1.00        36\n",
            "           1       1.00      1.00      1.00         9\n",
            "\n",
            "    accuracy                           1.00        45\n",
            "   macro avg       1.00      1.00      1.00        45\n",
            "weighted avg       1.00      1.00      1.00        45\n",
            "\n"
          ]
        }
      ]
    },
    {
      "cell_type": "code",
      "source": [
        "np.random.seed(2025)\n",
        "cat_model.fit(X_no_manual, y)\n",
        "y_pred_cat_no_manual = cat_model.predict(X_test_no_manual)"
      ],
      "metadata": {
        "id": "tgpuyVy2Dusm"
      },
      "execution_count": 90,
      "outputs": []
    },
    {
      "cell_type": "code",
      "source": [
        "from google.colab import files\n",
        "\n",
        "pred_cat = pd.DataFrame({'ID': range(1, 92), 'Placement': y_pred_cat_no_manual})\n",
        "\n",
        "with open('CAT_No_Manual_Cov.csv', 'w') as file:\n",
        "    pred_cat.to_csv(file, index = False, header = True)\n",
        "\n",
        "files.download('CAT_No_Manual_Cov.csv')"
      ],
      "metadata": {
        "colab": {
          "base_uri": "https://localhost:8080/",
          "height": 17
        },
        "outputId": "b8b3d44f-aecf-4d1c-b5f8-2dad7578f2af",
        "id": "gj_QlFrgDusm"
      },
      "execution_count": 91,
      "outputs": [
        {
          "output_type": "display_data",
          "data": {
            "text/plain": [
              "<IPython.core.display.Javascript object>"
            ],
            "application/javascript": [
              "\n",
              "    async function download(id, filename, size) {\n",
              "      if (!google.colab.kernel.accessAllowed) {\n",
              "        return;\n",
              "      }\n",
              "      const div = document.createElement('div');\n",
              "      const label = document.createElement('label');\n",
              "      label.textContent = `Downloading \"${filename}\": `;\n",
              "      div.appendChild(label);\n",
              "      const progress = document.createElement('progress');\n",
              "      progress.max = size;\n",
              "      div.appendChild(progress);\n",
              "      document.body.appendChild(div);\n",
              "\n",
              "      const buffers = [];\n",
              "      let downloaded = 0;\n",
              "\n",
              "      const channel = await google.colab.kernel.comms.open(id);\n",
              "      // Send a message to notify the kernel that we're ready.\n",
              "      channel.send({})\n",
              "\n",
              "      for await (const message of channel.messages) {\n",
              "        // Send a message to notify the kernel that we're ready.\n",
              "        channel.send({})\n",
              "        if (message.buffers) {\n",
              "          for (const buffer of message.buffers) {\n",
              "            buffers.push(buffer);\n",
              "            downloaded += buffer.byteLength;\n",
              "            progress.value = downloaded;\n",
              "          }\n",
              "        }\n",
              "      }\n",
              "      const blob = new Blob(buffers, {type: 'application/binary'});\n",
              "      const a = document.createElement('a');\n",
              "      a.href = window.URL.createObjectURL(blob);\n",
              "      a.download = filename;\n",
              "      div.appendChild(a);\n",
              "      a.click();\n",
              "      div.remove();\n",
              "    }\n",
              "  "
            ]
          },
          "metadata": {}
        },
        {
          "output_type": "display_data",
          "data": {
            "text/plain": [
              "<IPython.core.display.Javascript object>"
            ],
            "application/javascript": [
              "download(\"download_b593dc15-509d-4661-9634-caf708bace23\", \"CAT_No_Manual_Cov.csv\", 459)"
            ]
          },
          "metadata": {}
        }
      ]
    },
    {
      "cell_type": "markdown",
      "source": [
        "# Manual Selection:"
      ],
      "metadata": {
        "id": "ii1owwaSDn2D"
      }
    },
    {
      "cell_type": "code",
      "source": [
        "np.random.seed(2025)\n",
        "X_train, X_temp, y_train, y_temp = train_test_split(X_manual, y, test_size = 0.3, random_state = 2025, stratify = y)\n",
        "X_val, X_test, y_val, y_test = train_test_split(X_temp, y_temp, test_size = 0.5, random_state = 2025, stratify = y_temp)"
      ],
      "metadata": {
        "id": "5UhWWJ-PS0FC"
      },
      "execution_count": 92,
      "outputs": []
    },
    {
      "cell_type": "code",
      "source": [
        "np.random.seed(2025)\n",
        "train_ind, val_ind = train_test_split(np.arange(X_temp.shape[0]), test_size = 0.3, random_state = 2025, stratify = y_temp)\n",
        "split = PredefinedHoldoutSplit(valid_indices = val_ind)"
      ],
      "metadata": {
        "id": "nvuCb96ZS0FC"
      },
      "execution_count": 93,
      "outputs": []
    },
    {
      "cell_type": "code",
      "source": [
        "params = {\n",
        "    \"iterations\": [500, 1000, 1500],\n",
        "    \"learning_rate\": [0.01, 0.05, 0.1, 0.2],\n",
        "    \"depth\": [4, 6, 8],\n",
        "    \"l2_leaf_reg\": [1, 3, 5],\n",
        "    \"subsample\": [0.7, 0.8, 0.9, 1.0],\n",
        "    \"colsample_bylevel\": [0.7, 0.8, 1.0],\n",
        "}\n",
        "\n",
        "cat_features = [\"Board_SSC\", \"Board_HSC\", \"Stream_HSC\", \"Course_Degree\", \"Specialization_MBA\"]\n",
        "cat = CatBoostClassifier(random_state = 2025, verbose = 0, cat_features = cat_features)"
      ],
      "metadata": {
        "id": "y1bHb-JyIEAN"
      },
      "execution_count": 94,
      "outputs": []
    },
    {
      "cell_type": "code",
      "source": [
        "np.random.seed(2025)\n",
        "cat_grid = RandomizedSearchCV(cat, param_distributions = params, n_iter = 350, cv = split, n_jobs = -1, scoring = 'f1_macro')\n",
        "cat_grid.fit(X_temp, y_temp)\n",
        "print('Best Parameters:', cat_grid.best_params_)"
      ],
      "metadata": {
        "colab": {
          "base_uri": "https://localhost:8080/"
        },
        "outputId": "5cbf1189-43da-4750-96e5-cfcee69979c6",
        "id": "3Ty77_GYS0FD"
      },
      "execution_count": 95,
      "outputs": [
        {
          "output_type": "stream",
          "name": "stdout",
          "text": [
            "Best Parameters: {'subsample': 0.9, 'learning_rate': 0.2, 'l2_leaf_reg': 3, 'iterations': 1500, 'depth': 4, 'colsample_bylevel': 0.8}\n"
          ]
        }
      ]
    },
    {
      "cell_type": "code",
      "source": [
        "np.random.seed(2025)\n",
        "cat_model = CatBoostClassifier(subsample = 0.9, learning_rate = 0.2, l2_leaf_reg = 3, iterations = 1500, depth = 4, colsample_bylevel = 0.8, cat_features = cat_features, random_state = 2025, verbose = 0)\n",
        "cat_model.fit(X_temp, y_temp)\n",
        "y_pred_manual = cat_model.predict(X_test)\n",
        "\n",
        "print(classification_report(y_test, y_pred_manual))"
      ],
      "metadata": {
        "colab": {
          "base_uri": "https://localhost:8080/"
        },
        "outputId": "2bdf9871-91bb-4b67-a272-bbdda6007639",
        "id": "QdLgcQKVS0FD"
      },
      "execution_count": 96,
      "outputs": [
        {
          "output_type": "stream",
          "name": "stdout",
          "text": [
            "              precision    recall  f1-score   support\n",
            "\n",
            "           0       0.97      1.00      0.99        36\n",
            "           1       1.00      0.89      0.94         9\n",
            "\n",
            "    accuracy                           0.98        45\n",
            "   macro avg       0.99      0.94      0.96        45\n",
            "weighted avg       0.98      0.98      0.98        45\n",
            "\n"
          ]
        }
      ]
    },
    {
      "cell_type": "code",
      "source": [
        "np.random.seed(2025)\n",
        "cat_model.fit(X_manual, y)\n",
        "y_pred_cat_manual = cat_model.predict(X_manual_test)"
      ],
      "metadata": {
        "id": "jB3KD3mgS0FD"
      },
      "execution_count": 99,
      "outputs": []
    },
    {
      "cell_type": "code",
      "source": [
        "from google.colab import files\n",
        "\n",
        "pred_cat = pd.DataFrame({'ID': range(1, 92), 'Placement': y_pred_cat_manual})\n",
        "\n",
        "with open('CAT_Manual_Cov.csv', 'w') as file:\n",
        "    pred_cat.to_csv(file, index = False, header = True)\n",
        "\n",
        "files.download('CAT_Manual_Cov.csv')"
      ],
      "metadata": {
        "colab": {
          "base_uri": "https://localhost:8080/",
          "height": 17
        },
        "outputId": "30198c88-d8b9-4f84-a1e3-781c54ce7dae",
        "id": "ri2wHb4jS0FD"
      },
      "execution_count": 100,
      "outputs": [
        {
          "output_type": "display_data",
          "data": {
            "text/plain": [
              "<IPython.core.display.Javascript object>"
            ],
            "application/javascript": [
              "\n",
              "    async function download(id, filename, size) {\n",
              "      if (!google.colab.kernel.accessAllowed) {\n",
              "        return;\n",
              "      }\n",
              "      const div = document.createElement('div');\n",
              "      const label = document.createElement('label');\n",
              "      label.textContent = `Downloading \"${filename}\": `;\n",
              "      div.appendChild(label);\n",
              "      const progress = document.createElement('progress');\n",
              "      progress.max = size;\n",
              "      div.appendChild(progress);\n",
              "      document.body.appendChild(div);\n",
              "\n",
              "      const buffers = [];\n",
              "      let downloaded = 0;\n",
              "\n",
              "      const channel = await google.colab.kernel.comms.open(id);\n",
              "      // Send a message to notify the kernel that we're ready.\n",
              "      channel.send({})\n",
              "\n",
              "      for await (const message of channel.messages) {\n",
              "        // Send a message to notify the kernel that we're ready.\n",
              "        channel.send({})\n",
              "        if (message.buffers) {\n",
              "          for (const buffer of message.buffers) {\n",
              "            buffers.push(buffer);\n",
              "            downloaded += buffer.byteLength;\n",
              "            progress.value = downloaded;\n",
              "          }\n",
              "        }\n",
              "      }\n",
              "      const blob = new Blob(buffers, {type: 'application/binary'});\n",
              "      const a = document.createElement('a');\n",
              "      a.href = window.URL.createObjectURL(blob);\n",
              "      a.download = filename;\n",
              "      div.appendChild(a);\n",
              "      a.click();\n",
              "      div.remove();\n",
              "    }\n",
              "  "
            ]
          },
          "metadata": {}
        },
        {
          "output_type": "display_data",
          "data": {
            "text/plain": [
              "<IPython.core.display.Javascript object>"
            ],
            "application/javascript": [
              "download(\"download_f499cb61-b0af-42cf-a36b-7acb55454dec\", \"CAT_Manual_Cov.csv\", 459)"
            ]
          },
          "metadata": {}
        }
      ]
    }
  ]
}