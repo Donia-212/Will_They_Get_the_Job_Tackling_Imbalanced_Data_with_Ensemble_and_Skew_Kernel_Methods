{
  "cells": [
    {
      "cell_type": "code",
      "execution_count": null,
      "metadata": {
        "colab": {
          "base_uri": "https://localhost:8080/"
        },
        "collapsed": true,
        "id": "6EpuVy0Eh7bi",
        "outputId": "5b9baeed-e672-48f8-a59a-819f194039c8"
      },
      "outputs": [
        {
          "name": "stdout",
          "output_type": "stream",
          "text": [
            "\u001b[31mERROR: Operation cancelled by user\u001b[0m\u001b[31m\n",
            "\u001b[0m"
          ]
        }
      ],
      "source": [
        "!pip install catboost"
      ]
    },
    {
      "cell_type": "code",
      "execution_count": null,
      "metadata": {
        "colab": {
          "base_uri": "https://localhost:8080/",
          "height": 1000
        },
        "collapsed": true,
        "id": "xlBj4HIbYvZ1",
        "outputId": "5a57323e-d8c1-4a1e-bd85-d6ffdf420a0d"
      },
      "outputs": [
        {
          "name": "stdout",
          "output_type": "stream",
          "text": [
            "Found existing installation: numpy 1.26.4\n",
            "Uninstalling numpy-1.26.4:\n",
            "  Would remove:\n",
            "    /usr/local/bin/f2py\n",
            "    /usr/local/lib/python3.11/dist-packages/numpy-1.26.4.dist-info/*\n",
            "    /usr/local/lib/python3.11/dist-packages/numpy.libs/libgfortran-040039e1.so.5.0.0\n",
            "    /usr/local/lib/python3.11/dist-packages/numpy.libs/libopenblas64_p-r0-0cf96a72.3.23.dev.so\n",
            "    /usr/local/lib/python3.11/dist-packages/numpy.libs/libquadmath-96973f99.so.0.0.0\n",
            "    /usr/local/lib/python3.11/dist-packages/numpy/*\n",
            "Proceed (Y/n)? y\n",
            "  Successfully uninstalled numpy-1.26.4\n",
            "Collecting numpy\n",
            "  Downloading numpy-2.2.4-cp311-cp311-manylinux_2_17_x86_64.manylinux2014_x86_64.whl.metadata (62 kB)\n",
            "\u001b[2K     \u001b[90m━━━━━━━━━━━━━━━━━━━━━━━━━━━━━━━━━━━━━━━━\u001b[0m \u001b[32m62.0/62.0 kB\u001b[0m \u001b[31m2.8 MB/s\u001b[0m eta \u001b[36m0:00:00\u001b[0m\n",
            "\u001b[?25hDownloading numpy-2.2.4-cp311-cp311-manylinux_2_17_x86_64.manylinux2014_x86_64.whl (16.4 MB)\n",
            "\u001b[2K   \u001b[90m━━━━━━━━━━━━━━━━━━━━━━━━━━━━━━━━━━━━━━━━\u001b[0m \u001b[32m16.4/16.4 MB\u001b[0m \u001b[31m88.3 MB/s\u001b[0m eta \u001b[36m0:00:00\u001b[0m\n",
            "\u001b[?25hInstalling collected packages: numpy\n",
            "\u001b[31mERROR: pip's dependency resolver does not currently take into account all the packages that are installed. This behaviour is the source of the following dependency conflicts.\n",
            "catboost 1.2.7 requires numpy<2.0,>=1.16.0, but you have numpy 2.2.4 which is incompatible.\n",
            "numba 0.60.0 requires numpy<2.1,>=1.22, but you have numpy 2.2.4 which is incompatible.\n",
            "tensorflow 2.18.0 requires numpy<2.1.0,>=1.26.0, but you have numpy 2.2.4 which is incompatible.\u001b[0m\u001b[31m\n",
            "\u001b[0mSuccessfully installed numpy-2.2.4\n",
            "Collecting catboost\n",
            "  Using cached catboost-1.2.7-cp311-cp311-manylinux2014_x86_64.whl.metadata (1.2 kB)\n",
            "Collecting graphviz (from catboost)\n",
            "  Downloading graphviz-0.20.3-py3-none-any.whl.metadata (12 kB)\n",
            "Collecting matplotlib (from catboost)\n",
            "  Downloading matplotlib-3.10.1-cp311-cp311-manylinux_2_17_x86_64.manylinux2014_x86_64.whl.metadata (11 kB)\n",
            "Collecting numpy<2.0,>=1.16.0 (from catboost)\n",
            "  Using cached numpy-1.26.4-cp311-cp311-manylinux_2_17_x86_64.manylinux2014_x86_64.whl.metadata (61 kB)\n",
            "Collecting pandas>=0.24 (from catboost)\n",
            "  Downloading pandas-2.2.3-cp311-cp311-manylinux_2_17_x86_64.manylinux2014_x86_64.whl.metadata (89 kB)\n",
            "\u001b[2K     \u001b[90m━━━━━━━━━━━━━━━━━━━━━━━━━━━━━━━━━━━━━━━━\u001b[0m \u001b[32m89.9/89.9 kB\u001b[0m \u001b[31m3.6 MB/s\u001b[0m eta \u001b[36m0:00:00\u001b[0m\n",
            "\u001b[?25hCollecting scipy (from catboost)\n",
            "  Downloading scipy-1.15.2-cp311-cp311-manylinux_2_17_x86_64.manylinux2014_x86_64.whl.metadata (61 kB)\n",
            "\u001b[2K     \u001b[90m━━━━━━━━━━━━━━━━━━━━━━━━━━━━━━━━━━━━━━━━\u001b[0m \u001b[32m62.0/62.0 kB\u001b[0m \u001b[31m5.7 MB/s\u001b[0m eta \u001b[36m0:00:00\u001b[0m\n",
            "\u001b[?25hCollecting plotly (from catboost)\n",
            "  Downloading plotly-6.0.1-py3-none-any.whl.metadata (6.7 kB)\n",
            "Collecting six (from catboost)\n",
            "  Downloading six-1.17.0-py2.py3-none-any.whl.metadata (1.7 kB)\n",
            "Collecting python-dateutil>=2.8.2 (from pandas>=0.24->catboost)\n",
            "  Downloading python_dateutil-2.9.0.post0-py2.py3-none-any.whl.metadata (8.4 kB)\n",
            "Collecting pytz>=2020.1 (from pandas>=0.24->catboost)\n",
            "  Downloading pytz-2025.2-py2.py3-none-any.whl.metadata (22 kB)\n",
            "Collecting tzdata>=2022.7 (from pandas>=0.24->catboost)\n",
            "  Downloading tzdata-2025.2-py2.py3-none-any.whl.metadata (1.4 kB)\n",
            "Collecting contourpy>=1.0.1 (from matplotlib->catboost)\n",
            "  Downloading contourpy-1.3.1-cp311-cp311-manylinux_2_17_x86_64.manylinux2014_x86_64.whl.metadata (5.4 kB)\n",
            "Collecting cycler>=0.10 (from matplotlib->catboost)\n",
            "  Downloading cycler-0.12.1-py3-none-any.whl.metadata (3.8 kB)\n",
            "Collecting fonttools>=4.22.0 (from matplotlib->catboost)\n",
            "  Downloading fonttools-4.57.0-cp311-cp311-manylinux_2_17_x86_64.manylinux2014_x86_64.whl.metadata (102 kB)\n",
            "\u001b[2K     \u001b[90m━━━━━━━━━━━━━━━━━━━━━━━━━━━━━━━━━━━━━━━━\u001b[0m \u001b[32m102.5/102.5 kB\u001b[0m \u001b[31m10.6 MB/s\u001b[0m eta \u001b[36m0:00:00\u001b[0m\n",
            "\u001b[?25hCollecting kiwisolver>=1.3.1 (from matplotlib->catboost)\n",
            "  Downloading kiwisolver-1.4.8-cp311-cp311-manylinux_2_17_x86_64.manylinux2014_x86_64.whl.metadata (6.2 kB)\n",
            "Collecting packaging>=20.0 (from matplotlib->catboost)\n",
            "  Downloading packaging-24.2-py3-none-any.whl.metadata (3.2 kB)\n",
            "Collecting pillow>=8 (from matplotlib->catboost)\n",
            "  Downloading pillow-11.1.0-cp311-cp311-manylinux_2_28_x86_64.whl.metadata (9.1 kB)\n",
            "Collecting pyparsing>=2.3.1 (from matplotlib->catboost)\n",
            "  Downloading pyparsing-3.2.3-py3-none-any.whl.metadata (5.0 kB)\n",
            "Collecting narwhals>=1.15.1 (from plotly->catboost)\n",
            "  Downloading narwhals-1.34.1-py3-none-any.whl.metadata (9.2 kB)\n",
            "Using cached catboost-1.2.7-cp311-cp311-manylinux2014_x86_64.whl (98.7 MB)\n",
            "Using cached numpy-1.26.4-cp311-cp311-manylinux_2_17_x86_64.manylinux2014_x86_64.whl (18.3 MB)\n",
            "Downloading pandas-2.2.3-cp311-cp311-manylinux_2_17_x86_64.manylinux2014_x86_64.whl (13.1 MB)\n",
            "\u001b[2K   \u001b[90m━━━━━━━━━━━━━━━━━━━━━━━━━━━━━━━━━━━━━━━━\u001b[0m \u001b[32m13.1/13.1 MB\u001b[0m \u001b[31m29.9 MB/s\u001b[0m eta \u001b[36m0:00:00\u001b[0m\n",
            "\u001b[?25hDownloading graphviz-0.20.3-py3-none-any.whl (47 kB)\n",
            "\u001b[2K   \u001b[90m━━━━━━━━━━━━━━━━━━━━━━━━━━━━━━━━━━━━━━━━\u001b[0m \u001b[32m47.1/47.1 kB\u001b[0m \u001b[31m4.0 MB/s\u001b[0m eta \u001b[36m0:00:00\u001b[0m\n",
            "\u001b[?25hDownloading matplotlib-3.10.1-cp311-cp311-manylinux_2_17_x86_64.manylinux2014_x86_64.whl (8.6 MB)\n",
            "\u001b[2K   \u001b[90m━━━━━━━━━━━━━━━━━━━━━━━━━━━━━━━━━━━━━━━━\u001b[0m \u001b[32m8.6/8.6 MB\u001b[0m \u001b[31m82.5 MB/s\u001b[0m eta \u001b[36m0:00:00\u001b[0m\n",
            "\u001b[?25hDownloading plotly-6.0.1-py3-none-any.whl (14.8 MB)\n",
            "\u001b[2K   \u001b[90m━━━━━━━━━━━━━━━━━━━━━━━━━━━━━━━━━━━━━━━━\u001b[0m \u001b[32m14.8/14.8 MB\u001b[0m \u001b[31m67.8 MB/s\u001b[0m eta \u001b[36m0:00:00\u001b[0m\n",
            "\u001b[?25hDownloading scipy-1.15.2-cp311-cp311-manylinux_2_17_x86_64.manylinux2014_x86_64.whl (37.6 MB)\n",
            "\u001b[2K   \u001b[90m━━━━━━━━━━━━━━━━━━━━━━━━━━━━━━━━━━━━━━━━\u001b[0m \u001b[32m37.6/37.6 MB\u001b[0m \u001b[31m11.6 MB/s\u001b[0m eta \u001b[36m0:00:00\u001b[0m\n",
            "\u001b[?25hDownloading six-1.17.0-py2.py3-none-any.whl (11 kB)\n",
            "Downloading contourpy-1.3.1-cp311-cp311-manylinux_2_17_x86_64.manylinux2014_x86_64.whl (326 kB)\n",
            "\u001b[2K   \u001b[90m━━━━━━━━━━━━━━━━━━━━━━━━━━━━━━━━━━━━━━━━\u001b[0m \u001b[32m326.2/326.2 kB\u001b[0m \u001b[31m27.0 MB/s\u001b[0m eta \u001b[36m0:00:00\u001b[0m\n",
            "\u001b[?25hDownloading cycler-0.12.1-py3-none-any.whl (8.3 kB)\n",
            "Downloading fonttools-4.57.0-cp311-cp311-manylinux_2_17_x86_64.manylinux2014_x86_64.whl (4.9 MB)\n",
            "\u001b[2K   \u001b[90m━━━━━━━━━━━━━━━━━━━━━━━━━━━━━━━━━━━━━━━━\u001b[0m \u001b[32m4.9/4.9 MB\u001b[0m \u001b[31m99.2 MB/s\u001b[0m eta \u001b[36m0:00:00\u001b[0m\n",
            "\u001b[?25hDownloading kiwisolver-1.4.8-cp311-cp311-manylinux_2_17_x86_64.manylinux2014_x86_64.whl (1.4 MB)\n",
            "\u001b[2K   \u001b[90m━━━━━━━━━━━━━━━━━━━━━━━━━━━━━━━━━━━━━━━━\u001b[0m \u001b[32m1.4/1.4 MB\u001b[0m \u001b[31m66.6 MB/s\u001b[0m eta \u001b[36m0:00:00\u001b[0m\n",
            "\u001b[?25hDownloading narwhals-1.34.1-py3-none-any.whl (325 kB)\n",
            "\u001b[2K   \u001b[90m━━━━━━━━━━━━━━━━━━━━━━━━━━━━━━━━━━━━━━━━\u001b[0m \u001b[32m325.5/325.5 kB\u001b[0m \u001b[31m27.8 MB/s\u001b[0m eta \u001b[36m0:00:00\u001b[0m\n",
            "\u001b[?25hDownloading packaging-24.2-py3-none-any.whl (65 kB)\n",
            "\u001b[2K   \u001b[90m━━━━━━━━━━━━━━━━━━━━━━━━━━━━━━━━━━━━━━━━\u001b[0m \u001b[32m65.5/65.5 kB\u001b[0m \u001b[31m6.5 MB/s\u001b[0m eta \u001b[36m0:00:00\u001b[0m\n",
            "\u001b[?25hDownloading pillow-11.1.0-cp311-cp311-manylinux_2_28_x86_64.whl (4.5 MB)\n",
            "\u001b[2K   \u001b[90m━━━━━━━━━━━━━━━━━━━━━━━━━━━━━━━━━━━━━━━━\u001b[0m \u001b[32m4.5/4.5 MB\u001b[0m \u001b[31m101.2 MB/s\u001b[0m eta \u001b[36m0:00:00\u001b[0m\n",
            "\u001b[?25hDownloading pyparsing-3.2.3-py3-none-any.whl (111 kB)\n",
            "\u001b[2K   \u001b[90m━━━━━━━━━━━━━━━━━━━━━━━━━━━━━━━━━━━━━━━━\u001b[0m \u001b[32m111.1/111.1 kB\u001b[0m \u001b[31m10.7 MB/s\u001b[0m eta \u001b[36m0:00:00\u001b[0m\n",
            "\u001b[?25hDownloading python_dateutil-2.9.0.post0-py2.py3-none-any.whl (229 kB)\n",
            "\u001b[2K   \u001b[90m━━━━━━━━━━━━━━━━━━━━━━━━━━━━━━━━━━━━━━━━\u001b[0m \u001b[32m229.9/229.9 kB\u001b[0m \u001b[31m20.2 MB/s\u001b[0m eta \u001b[36m0:00:00\u001b[0m\n",
            "\u001b[?25hDownloading pytz-2025.2-py2.py3-none-any.whl (509 kB)\n",
            "\u001b[2K   \u001b[90m━━━━━━━━━━━━━━━━━━━━━━━━━━━━━━━━━━━━━━━━\u001b[0m \u001b[32m509.2/509.2 kB\u001b[0m \u001b[31m37.2 MB/s\u001b[0m eta \u001b[36m0:00:00\u001b[0m\n",
            "\u001b[?25hDownloading tzdata-2025.2-py2.py3-none-any.whl (347 kB)\n",
            "\u001b[2K   \u001b[90m━━━━━━━━━━━━━━━━━━━━━━━━━━━━━━━━━━━━━━━━\u001b[0m \u001b[32m347.8/347.8 kB\u001b[0m \u001b[31m29.5 MB/s\u001b[0m eta \u001b[36m0:00:00\u001b[0m\n",
            "\u001b[?25hInstalling collected packages: pytz, tzdata, six, pyparsing, pillow, packaging, numpy, narwhals, kiwisolver, graphviz, fonttools, cycler, scipy, python-dateutil, plotly, contourpy, pandas, matplotlib, catboost\n",
            "  Attempting uninstall: pytz\n",
            "    Found existing installation: pytz 2025.2\n",
            "    Uninstalling pytz-2025.2:\n",
            "      Successfully uninstalled pytz-2025.2\n",
            "  Attempting uninstall: tzdata\n",
            "    Found existing installation: tzdata 2025.2\n",
            "    Uninstalling tzdata-2025.2:\n",
            "      Successfully uninstalled tzdata-2025.2\n",
            "  Attempting uninstall: six\n",
            "    Found existing installation: six 1.17.0\n",
            "    Uninstalling six-1.17.0:\n",
            "      Successfully uninstalled six-1.17.0\n",
            "  Attempting uninstall: pyparsing\n",
            "    Found existing installation: pyparsing 3.2.3\n",
            "    Uninstalling pyparsing-3.2.3:\n",
            "      Successfully uninstalled pyparsing-3.2.3\n",
            "  Attempting uninstall: pillow\n",
            "    Found existing installation: pillow 11.1.0\n",
            "    Uninstalling pillow-11.1.0:\n",
            "      Successfully uninstalled pillow-11.1.0\n",
            "  Attempting uninstall: packaging\n",
            "    Found existing installation: packaging 24.2\n",
            "    Uninstalling packaging-24.2:\n",
            "      Successfully uninstalled packaging-24.2\n",
            "  Attempting uninstall: numpy\n",
            "    Found existing installation: numpy 2.2.4\n",
            "    Uninstalling numpy-2.2.4:\n",
            "      Successfully uninstalled numpy-2.2.4\n",
            "  Attempting uninstall: narwhals\n",
            "    Found existing installation: narwhals 1.33.0\n",
            "    Uninstalling narwhals-1.33.0:\n",
            "      Successfully uninstalled narwhals-1.33.0\n",
            "  Attempting uninstall: kiwisolver\n",
            "    Found existing installation: kiwisolver 1.4.8\n",
            "    Uninstalling kiwisolver-1.4.8:\n",
            "      Successfully uninstalled kiwisolver-1.4.8\n",
            "  Attempting uninstall: graphviz\n",
            "    Found existing installation: graphviz 0.20.3\n",
            "    Uninstalling graphviz-0.20.3:\n",
            "      Successfully uninstalled graphviz-0.20.3\n",
            "  Attempting uninstall: fonttools\n",
            "    Found existing installation: fonttools 4.57.0\n",
            "    Uninstalling fonttools-4.57.0:\n",
            "      Successfully uninstalled fonttools-4.57.0\n",
            "  Attempting uninstall: cycler\n",
            "    Found existing installation: cycler 0.12.1\n",
            "    Uninstalling cycler-0.12.1:\n",
            "      Successfully uninstalled cycler-0.12.1\n",
            "  Attempting uninstall: scipy\n",
            "    Found existing installation: scipy 1.14.1\n",
            "    Uninstalling scipy-1.14.1:\n",
            "      Successfully uninstalled scipy-1.14.1\n",
            "  Attempting uninstall: python-dateutil\n",
            "    Found existing installation: python-dateutil 2.8.2\n",
            "    Uninstalling python-dateutil-2.8.2:\n",
            "      Successfully uninstalled python-dateutil-2.8.2\n",
            "  Attempting uninstall: plotly\n",
            "    Found existing installation: plotly 5.24.1\n",
            "    Uninstalling plotly-5.24.1:\n",
            "      Successfully uninstalled plotly-5.24.1\n",
            "  Attempting uninstall: contourpy\n",
            "    Found existing installation: contourpy 1.3.1\n",
            "    Uninstalling contourpy-1.3.1:\n",
            "      Successfully uninstalled contourpy-1.3.1\n",
            "  Attempting uninstall: pandas\n",
            "    Found existing installation: pandas 2.2.2\n",
            "    Uninstalling pandas-2.2.2:\n",
            "      Successfully uninstalled pandas-2.2.2\n",
            "  Attempting uninstall: matplotlib\n",
            "    Found existing installation: matplotlib 3.10.0\n",
            "    Uninstalling matplotlib-3.10.0:\n",
            "      Successfully uninstalled matplotlib-3.10.0\n",
            "  Attempting uninstall: catboost\n",
            "    Found existing installation: catboost 1.2.7\n",
            "    Uninstalling catboost-1.2.7:\n",
            "      Successfully uninstalled catboost-1.2.7\n",
            "\u001b[31mERROR: pip's dependency resolver does not currently take into account all the packages that are installed. This behaviour is the source of the following dependency conflicts.\n",
            "google-colab 1.0.0 requires pandas==2.2.2, but you have pandas 2.2.3 which is incompatible.\u001b[0m\u001b[31m\n",
            "\u001b[0mSuccessfully installed catboost-1.2.7 contourpy-1.3.1 cycler-0.12.1 fonttools-4.57.0 graphviz-0.20.3 kiwisolver-1.4.8 matplotlib-3.10.1 narwhals-1.34.1 numpy-1.26.4 packaging-24.2 pandas-2.2.3 pillow-11.1.0 plotly-6.0.1 pyparsing-3.2.3 python-dateutil-2.9.0.post0 pytz-2025.2 scipy-1.15.2 six-1.17.0 tzdata-2025.2\n"
          ]
        },
        {
          "data": {
            "application/vnd.colab-display-data+json": {
              "id": "ad776932458a48e99a0e5c0828218cf6",
              "pip_warning": {
                "packages": [
                  "PIL",
                  "cycler",
                  "dateutil",
                  "kiwisolver",
                  "six"
                ]
              }
            }
          },
          "metadata": {},
          "output_type": "display_data"
        }
      ],
      "source": [
        "!pip uninstall numpy\n",
        "!pip install numpy\n",
        "!pip install --force-reinstall catboost"
      ]
    },
    {
      "cell_type": "code",
      "execution_count": null,
      "metadata": {
        "colab": {
          "base_uri": "https://localhost:8080/"
        },
        "collapsed": true,
        "id": "lphae_yBybN0",
        "outputId": "b3f4fb10-e9fd-4f84-d4e9-0db9d8f65543"
      },
      "outputs": [
        {
          "name": "stdout",
          "output_type": "stream",
          "text": [
            "Collecting scikit-optimize\n",
            "  Downloading scikit_optimize-0.10.2-py2.py3-none-any.whl.metadata (9.7 kB)\n",
            "Requirement already satisfied: joblib>=0.11 in /usr/local/lib/python3.11/dist-packages (from scikit-optimize) (1.4.2)\n",
            "Collecting pyaml>=16.9 (from scikit-optimize)\n",
            "  Downloading pyaml-25.1.0-py3-none-any.whl.metadata (12 kB)\n",
            "Requirement already satisfied: numpy>=1.20.3 in /usr/local/lib/python3.11/dist-packages (from scikit-optimize) (2.0.2)\n",
            "Requirement already satisfied: scipy>=1.1.0 in /usr/local/lib/python3.11/dist-packages (from scikit-optimize) (1.14.1)\n",
            "Requirement already satisfied: scikit-learn>=1.0.0 in /usr/local/lib/python3.11/dist-packages (from scikit-optimize) (1.6.1)\n",
            "Requirement already satisfied: packaging>=21.3 in /usr/local/lib/python3.11/dist-packages (from scikit-optimize) (24.2)\n",
            "Requirement already satisfied: PyYAML in /usr/local/lib/python3.11/dist-packages (from pyaml>=16.9->scikit-optimize) (6.0.2)\n",
            "Requirement already satisfied: threadpoolctl>=3.1.0 in /usr/local/lib/python3.11/dist-packages (from scikit-learn>=1.0.0->scikit-optimize) (3.6.0)\n",
            "Downloading scikit_optimize-0.10.2-py2.py3-none-any.whl (107 kB)\n",
            "\u001b[2K   \u001b[90m━━━━━━━━━━━━━━━━━━━━━━━━━━━━━━━━━━━━━━━━\u001b[0m \u001b[32m107.8/107.8 kB\u001b[0m \u001b[31m4.5 MB/s\u001b[0m eta \u001b[36m0:00:00\u001b[0m\n",
            "\u001b[?25hDownloading pyaml-25.1.0-py3-none-any.whl (26 kB)\n",
            "Installing collected packages: pyaml, scikit-optimize\n",
            "Successfully installed pyaml-25.1.0 scikit-optimize-0.10.2\n"
          ]
        }
      ],
      "source": [
        "!pip install scikit-optimize"
      ]
    },
    {
      "cell_type": "code",
      "execution_count": null,
      "metadata": {
        "id": "GdrWNOiBiIA1"
      },
      "outputs": [],
      "source": [
        "import pandas as pd\n",
        "import numpy as np\n",
        "from sklearn.model_selection import train_test_split\n",
        "from sklearn.model_selection import GridSearchCV\n",
        "from mlxtend.evaluate import PredefinedHoldoutSplit\n",
        "from sklearn.neural_network import MLPClassifier\n",
        "from sklearn.ensemble import RandomForestClassifier\n",
        "from sklearn.neighbors import KNeighborsClassifier\n",
        "from sklearn.svm import SVC\n",
        "from sklearn.naive_bayes import CategoricalNB\n",
        "from sklearn.naive_bayes import GaussianNB\n",
        "from sklearn.tree import DecisionTreeClassifier\n",
        "from xgboost import XGBClassifier\n",
        "from catboost import CatBoostClassifier\n",
        "from skopt.space import Real, Integer, Categorical\n",
        "from skopt import BayesSearchCV\n",
        "from sklearn.discriminant_analysis import QuadraticDiscriminantAnalysis\n",
        "from imblearn.ensemble import BalancedRandomForestClassifier\n",
        "from imblearn.ensemble import BalancedBaggingClassifier\n",
        "from sklearn.metrics import classification_report"
      ]
    },
    {
      "cell_type": "markdown",
      "metadata": {
        "id": "CDGdlT2WZ9Gx"
      },
      "source": [
        "#### From our experiments, we found that most models achieve better performance when using LASSO-selected features with standardization, while excluding the \"Entrance Test\" feature. Therefore, we will proceed with the remaining experiments exclusively on the \"New_Train_Features_Selected\" dataset."
      ]
    },
    {
      "cell_type": "code",
      "execution_count": null,
      "metadata": {
        "colab": {
          "base_uri": "https://localhost:8080/"
        },
        "id": "jxA7NAMMqOBV",
        "outputId": "a21db604-34b7-45b0-87fe-6bb86e3cf495"
      },
      "outputs": [
        {
          "name": "stdout",
          "output_type": "stream",
          "text": [
            "/content\n"
          ]
        }
      ],
      "source": [
        "%cd /content"
      ]
    },
    {
      "cell_type": "code",
      "execution_count": null,
      "metadata": {
        "id": "aXsUv9XBZ5F8"
      },
      "outputs": [],
      "source": [
        "X_numerical = pd.read_csv('New_Train_Features_Selected_Numerical.csv')\n",
        "X_numerical_test = pd.read_csv('New_Test_Features_Selected_Numerical.csv')\n",
        "X_categorical = pd.read_csv('New_Train_Features_Selected_Categorical.csv')\n",
        "X_categorical_test = pd.read_csv('New_Test_Features_Selected_Categorical.csv')\n",
        "X_full = pd.read_csv('New_Train_Features_Selected.csv')\n",
        "X_full_test = pd.read_csv('New_Test_Features_Selected.csv')\n",
        "X_numerical_full = pd.read_csv('New_Train_Features_Selected_Numerical_All.csv')\n",
        "X_numerical_full_test = pd.read_csv('New_Test_Features_Selected_Numerical_All.csv')\n",
        "y = pd.read_csv('Train_Target.csv').iloc[:,1]"
      ]
    },
    {
      "cell_type": "code",
      "execution_count": null,
      "metadata": {
        "id": "O_nBjtmhiq12"
      },
      "outputs": [],
      "source": [
        "np.random.seed(2025)\n",
        "X_train, X_temp, y_train, y_temp = train_test_split(X_full, y, test_size = 0.3, random_state = 2025, stratify = y)\n",
        "X_val, X_test, y_val, y_test = train_test_split(X_temp, y_temp, test_size = 0.5, random_state = 2025, stratify = y_temp)"
      ]
    },
    {
      "cell_type": "code",
      "execution_count": null,
      "metadata": {
        "id": "SdzcmvPOjkQ4"
      },
      "outputs": [],
      "source": [
        "np.random.seed(2025)\n",
        "train_ind, val_ind = train_test_split(np.arange(X_temp.shape[0]), test_size = 0.3, random_state = 2025, stratify = y_temp)\n",
        "split = PredefinedHoldoutSplit(valid_indices = val_ind)"
      ]
    },
    {
      "cell_type": "code",
      "execution_count": null,
      "metadata": {
        "id": "4yJXorm9sRXM"
      },
      "outputs": [],
      "source": [
        "X_train_num, X_temp_num, y_train_num, y_temp_num = train_test_split(X_numerical, y, test_size = 0.3, random_state = 2025, stratify = y)\n",
        "X_val_num, X_test_num, y_val_num, y_test_num = train_test_split(X_temp_num, y_temp_num, test_size = 0.5, random_state = 2025, stratify = y_temp_num)"
      ]
    },
    {
      "cell_type": "code",
      "execution_count": null,
      "metadata": {
        "id": "h79l0ePFsfty"
      },
      "outputs": [],
      "source": [
        "np.random.seed(2025)\n",
        "train_ind_num, val_ind_num = train_test_split(np.arange(X_temp_num.shape[0]), test_size = 0.3, random_state = 2025, stratify = y_temp_num)\n",
        "split_num = PredefinedHoldoutSplit(valid_indices = val_ind_num)"
      ]
    },
    {
      "cell_type": "code",
      "execution_count": null,
      "metadata": {
        "id": "-9ib3BA2OVj9"
      },
      "outputs": [],
      "source": [
        "X_train_num_all, X_temp_num_all, y_train_num_all, y_temp_num_all = train_test_split(X_numerical_full, y, test_size = 0.3, random_state = 2025, stratify = y)\n",
        "X_val_num_all, X_test_num_all, y_val_num_all, y_test_num_all = train_test_split(X_temp_num_all, y_temp_num_all, test_size = 0.5, random_state = 2025, stratify = y_temp_num_all)"
      ]
    },
    {
      "cell_type": "code",
      "execution_count": null,
      "metadata": {
        "id": "qgbfFYRIOVj9"
      },
      "outputs": [],
      "source": [
        "np.random.seed(2025)\n",
        "train_ind_num_all, val_ind_num_all = train_test_split(np.arange(X_temp_num_all.shape[0]), test_size = 0.3, random_state = 2025, stratify = y_temp_num_all)\n",
        "split_num_all = PredefinedHoldoutSplit(valid_indices = val_ind_num_all)"
      ]
    },
    {
      "cell_type": "code",
      "execution_count": null,
      "metadata": {
        "id": "eBYiMLhLsqfV"
      },
      "outputs": [],
      "source": [
        "X_train_cag, X_temp_cag, y_train_cag, y_temp_cag = train_test_split(X_categorical, y, test_size = 0.3, random_state = 2025, stratify = y)\n",
        "X_val_cag, X_test_cag, y_val_cag, y_test_cag = train_test_split(X_temp_cag, y_temp_cag, test_size = 0.5, random_state = 2025, stratify = y_temp_cag)"
      ]
    },
    {
      "cell_type": "code",
      "execution_count": null,
      "metadata": {
        "id": "K6LQGLIrs-E-"
      },
      "outputs": [],
      "source": [
        "np.random.seed(2025)\n",
        "train_ind_cag, val_ind_cag = train_test_split(np.arange(X_temp_cag.shape[0]), test_size = 0.3, random_state = 2025, stratify = y_temp_cag)\n",
        "split_cag = PredefinedHoldoutSplit(valid_indices = val_ind_cag)"
      ]
    },
    {
      "cell_type": "markdown",
      "metadata": {
        "id": "tW1I1rqlwpiC"
      },
      "source": [
        "# Plotting:"
      ]
    },
    {
      "cell_type": "code",
      "execution_count": null,
      "metadata": {
        "colab": {
          "base_uri": "https://localhost:8080/",
          "height": 563
        },
        "id": "982UPXipucEK",
        "outputId": "f0e38fc9-245a-44cd-949f-1143f8337577"
      },
      "outputs": [
        {
          "data": {
            "image/png": "[encoded data removed]",
            "text/plain": [
              "<Figure size 800x600 with 1 Axes>"
            ]
          },
          "metadata": {},
          "output_type": "display_data"
        }
      ],
      "source": [
        "import matplotlib.pyplot as plt\n",
        "import seaborn as sns\n",
        "import numpy as np\n",
        "\n",
        "np.random.seed(42)\n",
        "X1 = X_numerical_full.iloc[:,2]\n",
        "X2 = X_numerical_full.iloc[:,3]\n",
        "\n",
        "plt.figure(figsize = (8, 6))\n",
        "sns.scatterplot(x = X1, y = X2, hue = y, palette={0: 'green', 1: 'red'}, alpha = 0.7, edgecolor = 'w', s = 80)\n",
        "\n",
        "plt.title(\"Nonlinearly Separable Data\", pad = 5)\n",
        "plt.xlabel(\"Percent_HSC\"), plt.ylabel(\"Percent_Degree\")\n",
        "plt.legend(title = 'Class', labels=['Placed (0)', 'Not Placed (1)'])\n",
        "plt.grid(alpha = 0.2)\n",
        "plt.show()"
      ]
    },
    {
      "cell_type": "code",
      "execution_count": null,
      "metadata": {
        "colab": {
          "base_uri": "https://localhost:8080/",
          "height": 753
        },
        "id": "KQXS4XUlwvY9",
        "outputId": "d3cc9a83-18fc-4e5b-cabf-a2b4ef7ad998"
      },
      "outputs": [
        {
          "data": {
            "image/png": "[encoded data removed]",
            "text/plain": [
              "<Figure size 800x800 with 1 Axes>"
            ]
          },
          "metadata": {},
          "output_type": "display_data"
        }
      ],
      "source": [
        "import matplotlib.pyplot as plt\n",
        "import numpy as np\n",
        "from mpl_toolkits.mplot3d import Axes3D\n",
        "\n",
        "X1 = X_numerical_full.iloc[:,2]\n",
        "X2 = X_numerical_full.iloc[:,3]\n",
        "X3 = X_numerical_full.iloc[:,4]\n",
        "\n",
        "fig = plt.figure(figsize = (8, 8))\n",
        "ax = fig.add_subplot(111, projection = '3d')\n",
        "ax.scatter(X1[y == 0], X2[y == 0], X3[y == 0], c = 'green', label = 'Placed (0)', alpha = 0.6, s = 40)\n",
        "ax.scatter(X1[y == 1], X2[y == 1], X3[y == 1], c = 'red', label = 'Not Placed (1)', alpha = 0.6, s = 40)\n",
        "ax.set_title(\"Nonlinearly Separable Data\")\n",
        "ax.set_xlabel(\"Percent_HSC\")\n",
        "ax.set_ylabel(\"Percent_Degree\")\n",
        "ax.set_zlabel(\"Experience_Yrs\", labelpad = -4)\n",
        "ax.legend(title = 'Class')\n",
        "plt.tight_layout(pad=3)\n",
        "plt.show()"
      ]
    },
    {
      "cell_type": "markdown",
      "metadata": {
        "id": "h1vLitQXcCfC"
      },
      "source": [
        "# 1- Quadratic Discriminant Analysis"
      ]
    },
    {
      "cell_type": "code",
      "execution_count": null,
      "metadata": {
        "id": "_tdDTIERpa8N"
      },
      "outputs": [],
      "source": [
        "from statsmodels.stats.outliers_influence import variance_inflation_factor"
      ]
    },
    {
      "cell_type": "code",
      "execution_count": null,
      "metadata": {
        "colab": {
          "base_uri": "https://localhost:8080/"
        },
        "id": "fkS2uGDrpcX7",
        "outputId": "190c01b2-cc33-4217-88e8-abbf7d30272f"
      },
      "outputs": [
        {
          "name": "stdout",
          "output_type": "stream",
          "text": [
            "                                   Feature       VIF\n",
            "7   Specialization_MBA_Marketing & Finance  8.543492\n",
            "17                Course_Degree_Management  7.167435\n",
            "14                  Course_Degree_Commerce  6.649763\n",
            "10                     Stream_HSC_Commerce  5.702891\n",
            "8        Specialization_MBA_Marketing & HR  5.135527\n",
            "0                                   Gender  3.355432\n",
            "11                          Board_SSC_CBSE  3.210647\n",
            "5                           Board_HSC_CBSE  2.748486\n",
            "12                          Board_SSC_ICSE  2.114427\n",
            "15     Course_Degree_Computer Applications  2.033095\n",
            "2                              Percent_HSC  1.762001\n",
            "16               Course_Degree_Engineering  1.716999\n",
            "6                            Board_HSC_ISC  1.716664\n",
            "13                      Course_Degree_Arts  1.713414\n",
            "1                              Percent_SSC  1.697926\n",
            "9                          Stream_HSC_Arts  1.691675\n",
            "3                           Percent_Degree  1.476640\n",
            "18                    Course_Degree_Others  1.193757\n",
            "4                           Experience_Yrs  1.083980\n"
          ]
        }
      ],
      "source": [
        "vif_data = pd.DataFrame()\n",
        "vif_data[\"Feature\"] = X_full.columns\n",
        "vif_data[\"VIF\"] = [variance_inflation_factor(X_full.values, i) for i in range(X_full.shape[1])]\n",
        "print(vif_data.sort_values(by=\"VIF\", ascending=False))"
      ]
    },
    {
      "cell_type": "code",
      "execution_count": null,
      "metadata": {
        "id": "5AZNsFbKjAVi"
      },
      "outputs": [],
      "source": [
        "params = {\n",
        "    'priors': [\n",
        "        [0.60, 0.40], [0.80, 0.20], [0.65, 0.35], [0.90, 0.10], [0.55, 0.45], [0.75, 0.25],\n",
        "        [0.30, 0.70], [0.85, 0.15], [0.95, 0.05], [0.35, 0.65], [0.45, 0.55], [0.20, 0.80],\n",
        "        [0.10, 0.90], [0.05, 0.95], [0.98, 0.02], [0.92, 0.08], [0.88, 0.12], [0.78, 0.22],\n",
        "        [0.68, 0.32], [0.58, 0.42], [0.48, 0.52], [0.82, 0.18], [0.72, 0.28], [0.62, 0.38], None],\n",
        "    'reg_param': [\n",
        "        0.0001, 0.0005, 0.001, 0.002, 0.005, 0.0075, 0.01, 0.015, 0.02, 0.025, 0.03, 0.04, 0.05, 0.075, 0.2]\n",
        "}\n",
        "\n",
        "\n",
        "qda_model = QuadraticDiscriminantAnalysis()"
      ]
    },
    {
      "cell_type": "code",
      "execution_count": null,
      "metadata": {
        "id": "CurHiwzbja1g"
      },
      "outputs": [],
      "source": [
        "np.random.seed(2025)\n",
        "qda_grid = GridSearchCV(qda_model, param_grid = params, cv = split, n_jobs = -1, scoring = 'f1_macro')\n",
        "qda_grid.fit(X_temp, y_temp)\n",
        "print('Best Parameters:', qda_grid.best_params_)"
      ]
    },
    {
      "cell_type": "code",
      "execution_count": null,
      "metadata": {
        "id": "2ue8kLgllXcR"
      },
      "outputs": [],
      "source": [
        "np.random.seed(2025)\n",
        "qda_model = QuadraticDiscriminantAnalysis(priors = [0.6, 0.4], reg_param = 0.2)\n",
        "qda_model.fit(X_temp, y_temp)\n",
        "y_qda_pred = qda_model.predict(X_test)\n",
        "\n",
        "print(classification_report(y_test, y_qda_pred, zero_division = 1))"
      ]
    },
    {
      "cell_type": "code",
      "execution_count": null,
      "metadata": {
        "id": "RKX3lapIl7dg"
      },
      "outputs": [],
      "source": [
        "np.random.seed(2025)\n",
        "qda_model.fit(X_full, y)\n",
        "y_qda = qda_model.predict(X_full_test)"
      ]
    },
    {
      "cell_type": "code",
      "execution_count": null,
      "metadata": {
        "colab": {
          "base_uri": "https://localhost:8080/",
          "height": 17
        },
        "id": "kR_Y9AE3t34I",
        "outputId": "b8445b10-2ab1-4b7d-ad1e-bee6c7430621"
      },
      "outputs": [
        {
          "data": {
            "application/javascript": "\n    async function download(id, filename, size) {\n      if (!google.colab.kernel.accessAllowed) {\n        return;\n      }\n      const div = document.createElement('div');\n      const label = document.createElement('label');\n      label.textContent = `Downloading \"${filename}\": `;\n      div.appendChild(label);\n      const progress = document.createElement('progress');\n      progress.max = size;\n      div.appendChild(progress);\n      document.body.appendChild(div);\n\n      const buffers = [];\n      let downloaded = 0;\n\n      const channel = await google.colab.kernel.comms.open(id);\n      // Send a message to notify the kernel that we're ready.\n      channel.send({})\n\n      for await (const message of channel.messages) {\n        // Send a message to notify the kernel that we're ready.\n        channel.send({})\n        if (message.buffers) {\n          for (const buffer of message.buffers) {\n            buffers.push(buffer);\n            downloaded += buffer.byteLength;\n            progress.value = downloaded;\n          }\n        }\n      }\n      const blob = new Blob(buffers, {type: 'application/binary'});\n      const a = document.createElement('a');\n      a.href = window.URL.createObjectURL(blob);\n      a.download = filename;\n      div.appendChild(a);\n      a.click();\n      div.remove();\n    }\n  ",
            "text/plain": [
              "<IPython.core.display.Javascript object>"
            ]
          },
          "metadata": {},
          "output_type": "display_data"
        },
        {
          "data": {
            "application/javascript": "download(\"download_5f846328-3289-4a86-b4e7-2318ace4c8cb\", \"QDA_Optimized_Cov.csv\", 459)",
            "text/plain": [
              "<IPython.core.display.Javascript object>"
            ]
          },
          "metadata": {},
          "output_type": "display_data"
        }
      ],
      "source": [
        "from google.colab import files\n",
        "\n",
        "pred_qda = pd.DataFrame({'ID': range(1, 92), 'Placement': y_qda})\n",
        "\n",
        "with open('QDA_Optimized_Cov.csv', 'w') as file:\n",
        "    pred_qda.to_csv(file, index = False, header = True)\n",
        "\n",
        "files.download('QDA_Optimized_Cov.csv')"
      ]
    },
    {
      "cell_type": "markdown",
      "metadata": {
        "id": "g4GrGpZA8DPB"
      },
      "source": [
        "# 2- Guassian Naive Bayes - Not Good"
      ]
    },
    {
      "cell_type": "code",
      "execution_count": null,
      "metadata": {
        "id": "TSzyrsIC8DPB"
      },
      "outputs": [],
      "source": [
        "params = {\n",
        "    \"var_smoothing\": np.logspace(-10, -5, 20)\n",
        "}\n",
        "\n",
        "gnb_model = GaussianNB()"
      ]
    },
    {
      "cell_type": "code",
      "execution_count": null,
      "metadata": {
        "id": "laEA0Msr8DPB"
      },
      "outputs": [],
      "source": [
        "np.random.seed(2025)\n",
        "gnb_grid = GridSearchCV(gnb_model, param_grid = params, cv = split_num, n_jobs = -1, scoring = 'f1_macro')\n",
        "gnb_grid.fit(X_temp_num, y_temp_num)\n",
        "print('Best Parameters:', gnb_grid.best_params_)"
      ]
    },
    {
      "cell_type": "code",
      "execution_count": null,
      "metadata": {
        "id": "M7I0aP8z8DPB"
      },
      "outputs": [],
      "source": [
        "np.random.seed(2025)\n",
        "gnb_model = GaussianNB(var_smoothing = 1e-10)\n",
        "gnb_model.fit(X_temp_num, y_temp_num)\n",
        "y_gnb_pred = gnb_model.predict(X_test_num)\n",
        "\n",
        "print(classification_report(y_test, y_gnb_pred, zero_division = 1))"
      ]
    },
    {
      "cell_type": "code",
      "execution_count": null,
      "metadata": {
        "id": "YxrEOXqs8DPB"
      },
      "outputs": [],
      "source": [
        "np.random.seed(2025)\n",
        "gnb_model.fit(X_numerical, y)\n",
        "y_gnb = gnb_model.predict(X_numerical_test)"
      ]
    },
    {
      "cell_type": "code",
      "execution_count": null,
      "metadata": {
        "colab": {
          "base_uri": "https://localhost:8080/",
          "height": 17
        },
        "id": "ASWIAYOw8DPB",
        "outputId": "010b7cfb-db4d-4c1e-ed9d-063befe24f5d"
      },
      "outputs": [
        {
          "data": {
            "application/javascript": "\n    async function download(id, filename, size) {\n      if (!google.colab.kernel.accessAllowed) {\n        return;\n      }\n      const div = document.createElement('div');\n      const label = document.createElement('label');\n      label.textContent = `Downloading \"${filename}\": `;\n      div.appendChild(label);\n      const progress = document.createElement('progress');\n      progress.max = size;\n      div.appendChild(progress);\n      document.body.appendChild(div);\n\n      const buffers = [];\n      let downloaded = 0;\n\n      const channel = await google.colab.kernel.comms.open(id);\n      // Send a message to notify the kernel that we're ready.\n      channel.send({})\n\n      for await (const message of channel.messages) {\n        // Send a message to notify the kernel that we're ready.\n        channel.send({})\n        if (message.buffers) {\n          for (const buffer of message.buffers) {\n            buffers.push(buffer);\n            downloaded += buffer.byteLength;\n            progress.value = downloaded;\n          }\n        }\n      }\n      const blob = new Blob(buffers, {type: 'application/binary'});\n      const a = document.createElement('a');\n      a.href = window.URL.createObjectURL(blob);\n      a.download = filename;\n      div.appendChild(a);\n      a.click();\n      div.remove();\n    }\n  ",
            "text/plain": [
              "<IPython.core.display.Javascript object>"
            ]
          },
          "metadata": {},
          "output_type": "display_data"
        },
        {
          "data": {
            "application/javascript": "download(\"download_2ca313f4-a905-4564-a180-599a7579ec6f\", \"GNB_Full_Cov.csv\", 459)",
            "text/plain": [
              "<IPython.core.display.Javascript object>"
            ]
          },
          "metadata": {},
          "output_type": "display_data"
        }
      ],
      "source": [
        "from google.colab import files\n",
        "\n",
        "pred_gnb = pd.DataFrame({'ID': range(1, 92), 'Placement': y_gnb})\n",
        "\n",
        "with open('GNB_Full_Cov.csv', 'w') as file:\n",
        "    pred_gnb.to_csv(file, index = False, header = True)\n",
        "\n",
        "files.download('GNB_Full_Cov.csv')"
      ]
    },
    {
      "cell_type": "markdown",
      "metadata": {
        "id": "D4WMU-fD4rbQ"
      },
      "source": [
        "# 3- Random Forest"
      ]
    },
    {
      "cell_type": "code",
      "execution_count": null,
      "metadata": {
        "id": "fdvJW2qu4rbQ"
      },
      "outputs": [],
      "source": [
        "params = {\n",
        "    \"n_estimators\": Integer(50, 500),\n",
        "    \"max_depth\": Integer(3, 50),\n",
        "    \"min_samples_split\": Integer(2, 20),\n",
        "    \"min_samples_leaf\": Integer(1, 20),\n",
        "    \"max_features\": Real(0.1, 1.0, prior = \"uniform\"),\n",
        "    \"bootstrap\": [True, False]\n",
        "}\n",
        "\n",
        "rf_model = RandomForestClassifier(random_state = 2025, n_jobs = -1)"
      ]
    },
    {
      "cell_type": "code",
      "execution_count": null,
      "metadata": {
        "id": "5ySk7RBP4rbQ"
      },
      "outputs": [],
      "source": [
        "np.random.seed(2025)\n",
        "rf_grid = BayesSearchCV(rf_model, search_spaces = params, cv = split,  n_iter = 50, n_jobs = -1, scoring = 'f1_macro')\n",
        "rf_grid.fit(X_temp, y_temp)\n",
        "print('Best Parameters:', rf_grid.best_params_)"
      ]
    },
    {
      "cell_type": "code",
      "execution_count": null,
      "metadata": {
        "id": "0szGmbIU4rbQ"
      },
      "outputs": [],
      "source": [
        "np.random.seed(2025)\n",
        "rf_model = RandomForestClassifier(bootstrap = False, max_depth = 50, max_features = 0.9617024082222135, min_samples_leaf = 9, min_samples_split = 19, n_estimators = 410, random_state = 2025)\n",
        "rf_model.fit(X_temp, y_temp)\n",
        "y_rf_pred = rf_model.predict(X_test)\n",
        "\n",
        "print(classification_report(y_test, y_rf_pred, zero_division = 1))"
      ]
    },
    {
      "cell_type": "code",
      "execution_count": null,
      "metadata": {
        "id": "Rm4GW46_4rbQ"
      },
      "outputs": [],
      "source": [
        "np.random.seed(2025)\n",
        "rf_model.fit(X_full, y)\n",
        "y_rf = rf_model.predict(X_full_test)"
      ]
    },
    {
      "cell_type": "code",
      "execution_count": null,
      "metadata": {
        "colab": {
          "base_uri": "https://localhost:8080/",
          "height": 17
        },
        "id": "sXKABygJ4rbQ",
        "outputId": "1dca0047-bd97-46a9-9518-5d7d40f6d1fb"
      },
      "outputs": [
        {
          "data": {
            "application/javascript": "\n    async function download(id, filename, size) {\n      if (!google.colab.kernel.accessAllowed) {\n        return;\n      }\n      const div = document.createElement('div');\n      const label = document.createElement('label');\n      label.textContent = `Downloading \"${filename}\": `;\n      div.appendChild(label);\n      const progress = document.createElement('progress');\n      progress.max = size;\n      div.appendChild(progress);\n      document.body.appendChild(div);\n\n      const buffers = [];\n      let downloaded = 0;\n\n      const channel = await google.colab.kernel.comms.open(id);\n      // Send a message to notify the kernel that we're ready.\n      channel.send({})\n\n      for await (const message of channel.messages) {\n        // Send a message to notify the kernel that we're ready.\n        channel.send({})\n        if (message.buffers) {\n          for (const buffer of message.buffers) {\n            buffers.push(buffer);\n            downloaded += buffer.byteLength;\n            progress.value = downloaded;\n          }\n        }\n      }\n      const blob = new Blob(buffers, {type: 'application/binary'});\n      const a = document.createElement('a');\n      a.href = window.URL.createObjectURL(blob);\n      a.download = filename;\n      div.appendChild(a);\n      a.click();\n      div.remove();\n    }\n  ",
            "text/plain": [
              "<IPython.core.display.Javascript object>"
            ]
          },
          "metadata": {},
          "output_type": "display_data"
        },
        {
          "data": {
            "application/javascript": "download(\"download_5d6d3ec8-e16a-4281-80c3-44fb01382730\", \"RF_Optimized_Cov.csv\", 459)",
            "text/plain": [
              "<IPython.core.display.Javascript object>"
            ]
          },
          "metadata": {},
          "output_type": "display_data"
        }
      ],
      "source": [
        "from google.colab import files\n",
        "\n",
        "pred_rf = pd.DataFrame({'ID': range(1, 92), 'Placement': y_rf})\n",
        "\n",
        "with open('RF_Optimized_Cov.csv', 'w') as file:\n",
        "    pred_rf.to_csv(file, index = False, header = True)\n",
        "\n",
        "files.download('RF_Optimized_Cov.csv')"
      ]
    },
    {
      "cell_type": "markdown",
      "metadata": {
        "id": "eEN1iksXU--o"
      },
      "source": [
        "# 4- XGBoost - Optimized"
      ]
    },
    {
      "cell_type": "code",
      "execution_count": null,
      "metadata": {
        "id": "uZ9RrCxIU--p"
      },
      "outputs": [],
      "source": [
        "params = {\n",
        "    \"n_estimators\": Integer(50, 500),\n",
        "    \"eta\": Real(0.01, 0.6, prior = \"log-uniform\"),\n",
        "    \"gamma\": Real(0, 10, prior = \"uniform\"),\n",
        "    \"max_depth\": Integer(3, 12),\n",
        "    \"min_child_weight\": Integer(1, 10),\n",
        "    \"subsample\": Real(0.5, 1.0, prior = \"uniform\"),\n",
        "    \"colsample_bytree\": Real(0.5, 1.0, prior = \"uniform\"),\n",
        "    \"colsample_bylevel\": Real(0.5, 1.0, prior = \"uniform\"),\n",
        "    \"colsample_bynode\": Real(0.5, 1.0, prior = \"uniform\"),\n",
        "    \"reg_lambda\": Real(1e-3, 10, prior = \"log-uniform\"),\n",
        "    \"alpha\": Real(1e-3, 10, prior = \"log-uniform\"),\n",
        "    \"scale_pos_weight\": Real(1, 10, prior = \"uniform\"),\n",
        "    \"max_delta_step\": Integer(0, 10),\n",
        "    \"booster\": Categorical([\"gbtree\", \"gblinear\", \"dart\"]),\n",
        "    \"grow_policy\": Categorical([\"depthwise\", \"lossguide\"]),\n",
        "}\n",
        "\n",
        "xgb_model = XGBClassifier(random_state = 2025, n_jobs = -1)"
      ]
    },
    {
      "cell_type": "code",
      "execution_count": null,
      "metadata": {
        "id": "n54rvO-AU--p"
      },
      "outputs": [],
      "source": [
        "np.random.seed(2025)\n",
        "xgb_grid = BayesSearchCV(xgb_model, search_spaces = params, cv = split_num,  n_iter = 50, n_jobs = -1, scoring = 'f1_macro')\n",
        "xgb_grid.fit(X_temp_num, y_temp_num)\n",
        "print('Best Parameters:', xgb_grid.best_params_)"
      ]
    },
    {
      "cell_type": "code",
      "execution_count": null,
      "metadata": {
        "colab": {
          "base_uri": "https://localhost:8080/"
        },
        "id": "86q00DpGU--p",
        "outputId": "b3ed62bf-afee-4d81-e600-e2f1435781f2"
      },
      "outputs": [
        {
          "name": "stdout",
          "output_type": "stream",
          "text": [
            "              precision    recall  f1-score   support\n",
            "\n",
            "           0       0.97      0.86      0.91        36\n",
            "           1       0.62      0.89      0.73         9\n",
            "\n",
            "    accuracy                           0.87        45\n",
            "   macro avg       0.79      0.88      0.82        45\n",
            "weighted avg       0.90      0.87      0.87        45\n",
            "\n"
          ]
        }
      ],
      "source": [
        "np.random.seed(2025)\n",
        "\n",
        "xgb_model = XGBClassifier(\n",
        "    alpha = 0.06391827237372939,\n",
        "    booster = 'gbtree',\n",
        "    colsample_bylevel = 0.7267205762746404,\n",
        "    colsample_bynode = 0.5,\n",
        "    colsample_bytree = 0.7551547480106018,\n",
        "    eta = 0.03785163981456838,\n",
        "    gamma = 2.7349715637723726,\n",
        "    grow_policy = 'lossguide',\n",
        "    max_delta_step = 3,\n",
        "    max_depth = 5,\n",
        "    min_child_weight = 1,\n",
        "    n_estimators = 217,\n",
        "    reg_lambda = 0.7526357859247697,\n",
        "    scale_pos_weight = 3.2996657908559284,\n",
        "    subsample = 1.0,\n",
        "    random_state = 2025\n",
        ")\n",
        "\n",
        "xgb_model.fit(X_temp_num, y_temp_num)\n",
        "y_xgb_pred = xgb_model.predict(X_test_num)\n",
        "\n",
        "print(classification_report(y_test, y_xgb_pred, zero_division = 1))"
      ]
    },
    {
      "cell_type": "code",
      "execution_count": null,
      "metadata": {
        "id": "z_dgTJD3U--p"
      },
      "outputs": [],
      "source": [
        "np.random.seed(2025)\n",
        "xgb_model.fit(X_numerical, y)\n",
        "y_xgb = xgb_model.predict(X_numerical_test)"
      ]
    },
    {
      "cell_type": "code",
      "execution_count": null,
      "metadata": {
        "colab": {
          "base_uri": "https://localhost:8080/",
          "height": 17
        },
        "id": "oHOA7SopU--p",
        "outputId": "a93dce64-c584-4194-dfb2-0130ac67cf2b"
      },
      "outputs": [
        {
          "data": {
            "application/javascript": "\n    async function download(id, filename, size) {\n      if (!google.colab.kernel.accessAllowed) {\n        return;\n      }\n      const div = document.createElement('div');\n      const label = document.createElement('label');\n      label.textContent = `Downloading \"${filename}\": `;\n      div.appendChild(label);\n      const progress = document.createElement('progress');\n      progress.max = size;\n      div.appendChild(progress);\n      document.body.appendChild(div);\n\n      const buffers = [];\n      let downloaded = 0;\n\n      const channel = await google.colab.kernel.comms.open(id);\n      // Send a message to notify the kernel that we're ready.\n      channel.send({})\n\n      for await (const message of channel.messages) {\n        // Send a message to notify the kernel that we're ready.\n        channel.send({})\n        if (message.buffers) {\n          for (const buffer of message.buffers) {\n            buffers.push(buffer);\n            downloaded += buffer.byteLength;\n            progress.value = downloaded;\n          }\n        }\n      }\n      const blob = new Blob(buffers, {type: 'application/binary'});\n      const a = document.createElement('a');\n      a.href = window.URL.createObjectURL(blob);\n      a.download = filename;\n      div.appendChild(a);\n      a.click();\n      div.remove();\n    }\n  ",
            "text/plain": [
              "<IPython.core.display.Javascript object>"
            ]
          },
          "metadata": {},
          "output_type": "display_data"
        },
        {
          "data": {
            "application/javascript": "download(\"download_1b8a0c5b-3c3b-4c3c-a77f-bc6c7996ebaf\", \"XGB_Optimized_Cov.csv\", 459)",
            "text/plain": [
              "<IPython.core.display.Javascript object>"
            ]
          },
          "metadata": {},
          "output_type": "display_data"
        }
      ],
      "source": [
        "from google.colab import files\n",
        "\n",
        "pred_xgb = pd.DataFrame({'ID': range(1, 92), 'Placement': y_xgb})\n",
        "\n",
        "with open('XGB_Optimized_Cov.csv', 'w') as file:\n",
        "    pred_xgb.to_csv(file, index = False, header = True)\n",
        "\n",
        "files.download('XGB_Optimized_Cov.csv')"
      ]
    },
    {
      "cell_type": "markdown",
      "metadata": {
        "id": "_bY31kXyV846"
      },
      "source": [
        "# 4- XGBoost - Grid Search"
      ]
    },
    {
      "cell_type": "code",
      "execution_count": null,
      "metadata": {
        "id": "ZXNCGFjyV846"
      },
      "outputs": [],
      "source": [
        "params = {\n",
        "    \"n_estimators\": [50, 100, 200, 300],\n",
        "    \"eta\": [0.54, 0.55, 0.56, 0.57],\n",
        "    \"gamma\": [0.57, 0.58, 0.59, 0.60],\n",
        "    \"max_depth\": [3, 5, 7],\n",
        "    \"scale_pos_weight\": [1, 3, 5]\n",
        "}\n",
        "\n",
        "xgb_model = XGBClassifier(random_state = 2025)"
      ]
    },
    {
      "cell_type": "code",
      "execution_count": null,
      "metadata": {
        "id": "1OaQkdNHV846"
      },
      "outputs": [],
      "source": [
        "np.random.seed(2025)\n",
        "xgb_grid = GridSearchCV(xgb_model, param_grid = params, cv = split_num, n_jobs = -1, scoring = 'f1_macro')\n",
        "xgb_grid.fit(X_temp_num, y_temp_num)\n",
        "print('Best Parameters:', xgb_grid.best_params_)"
      ]
    },
    {
      "cell_type": "code",
      "execution_count": null,
      "metadata": {
        "colab": {
          "base_uri": "https://localhost:8080/"
        },
        "id": "D6-bdQhDV847",
        "outputId": "b0a777f5-a65f-4a3e-b90a-3983fe80efb9"
      },
      "outputs": [
        {
          "name": "stdout",
          "output_type": "stream",
          "text": [
            "              precision    recall  f1-score   support\n",
            "\n",
            "           0       1.00      0.97      0.99        36\n",
            "           1       0.90      1.00      0.95         9\n",
            "\n",
            "    accuracy                           0.98        45\n",
            "   macro avg       0.95      0.99      0.97        45\n",
            "weighted avg       0.98      0.98      0.98        45\n",
            "\n"
          ]
        }
      ],
      "source": [
        "np.random.seed(2025)\n",
        "xgb_model = XGBClassifier(n_estimators = 50, eta = 0.54, gamma = 0.57, max_depth = 3, scale_pos_weight = 3, booster = 'gbtree', random_state = 2025)\n",
        "xgb_model.fit(X_temp_num, y_temp_num)\n",
        "y_xgb_pred = xgb_model.predict(X_test_num)\n",
        "\n",
        "print(classification_report(y_test, y_xgb_pred, zero_division = 1))"
      ]
    },
    {
      "cell_type": "code",
      "execution_count": null,
      "metadata": {
        "id": "J5HGt4I6V847"
      },
      "outputs": [],
      "source": [
        "np.random.seed(2025)\n",
        "xgb_model.fit(X_numerical, y)\n",
        "y_xgb = xgb_model.predict(X_numerical_test)"
      ]
    },
    {
      "cell_type": "code",
      "execution_count": null,
      "metadata": {
        "colab": {
          "base_uri": "https://localhost:8080/",
          "height": 17
        },
        "id": "U-oT4fSBV847",
        "outputId": "2a737d1d-b744-493f-ff48-3040b496f49d"
      },
      "outputs": [
        {
          "data": {
            "application/javascript": "\n    async function download(id, filename, size) {\n      if (!google.colab.kernel.accessAllowed) {\n        return;\n      }\n      const div = document.createElement('div');\n      const label = document.createElement('label');\n      label.textContent = `Downloading \"${filename}\": `;\n      div.appendChild(label);\n      const progress = document.createElement('progress');\n      progress.max = size;\n      div.appendChild(progress);\n      document.body.appendChild(div);\n\n      const buffers = [];\n      let downloaded = 0;\n\n      const channel = await google.colab.kernel.comms.open(id);\n      // Send a message to notify the kernel that we're ready.\n      channel.send({})\n\n      for await (const message of channel.messages) {\n        // Send a message to notify the kernel that we're ready.\n        channel.send({})\n        if (message.buffers) {\n          for (const buffer of message.buffers) {\n            buffers.push(buffer);\n            downloaded += buffer.byteLength;\n            progress.value = downloaded;\n          }\n        }\n      }\n      const blob = new Blob(buffers, {type: 'application/binary'});\n      const a = document.createElement('a');\n      a.href = window.URL.createObjectURL(blob);\n      a.download = filename;\n      div.appendChild(a);\n      a.click();\n      div.remove();\n    }\n  ",
            "text/plain": [
              "<IPython.core.display.Javascript object>"
            ]
          },
          "metadata": {},
          "output_type": "display_data"
        },
        {
          "data": {
            "application/javascript": "download(\"download_4533f5de-d62d-4e90-abbf-a0218442b235\", \"XGB_Full_Cov.csv\", 459)",
            "text/plain": [
              "<IPython.core.display.Javascript object>"
            ]
          },
          "metadata": {},
          "output_type": "display_data"
        }
      ],
      "source": [
        "from google.colab import files\n",
        "\n",
        "pred_xgb = pd.DataFrame({'ID': range(1, 92), 'Placement': y_xgb})\n",
        "\n",
        "with open('XGB_Full_Cov.csv', 'w') as file:\n",
        "    pred_xgb.to_csv(file, index = False, header = True)\n",
        "\n",
        "files.download('XGB_Full_Cov.csv')"
      ]
    },
    {
      "cell_type": "markdown",
      "metadata": {
        "id": "3y3D9s50yDGA"
      },
      "source": [
        "# 5- Categorical Naive Bayes"
      ]
    },
    {
      "cell_type": "code",
      "execution_count": null,
      "metadata": {
        "id": "ehXnFJtWzSD3"
      },
      "outputs": [],
      "source": [
        "from sklearn.preprocessing import OrdinalEncoder\n",
        "\n",
        "encoder = OrdinalEncoder()\n",
        "X_ordinal = encoder.fit_transform(X_categorical)\n",
        "X_ordinal_test = encoder.fit_transform(X_categorical_test)"
      ]
    },
    {
      "cell_type": "code",
      "execution_count": null,
      "metadata": {
        "id": "nwI-cfv3zpJF"
      },
      "outputs": [],
      "source": [
        "X_train_ord, X_temp_ord, y_train_ord, y_temp_ord = train_test_split(X_ordinal, y, test_size = 0.3, random_state = 2025, stratify = y)\n",
        "X_val_ord, X_test_ord, y_val_ord, y_test_ord = train_test_split(X_temp_ord, y_temp_ord, test_size = 0.5, random_state = 2025, stratify = y_temp_ord)"
      ]
    },
    {
      "cell_type": "code",
      "execution_count": null,
      "metadata": {
        "id": "mTNLdVm3zpJF"
      },
      "outputs": [],
      "source": [
        "np.random.seed(2025)\n",
        "train_ind_ord, val_ind_ord = train_test_split(np.arange(X_temp_ord.shape[0]), test_size = 0.3, random_state = 2025, stratify = y_temp_ord)\n",
        "split_ord = PredefinedHoldoutSplit(valid_indices = val_ind_ord)"
      ]
    },
    {
      "cell_type": "code",
      "execution_count": null,
      "metadata": {
        "id": "7Vww8YZxyDGA"
      },
      "outputs": [],
      "source": [
        "params = {\n",
        "    'alpha': [1.0, 15.0, 20.0],\n",
        "    'class_prior': [None, [0.8, 0.2], [0.7, 0.3]]\n",
        "}\n",
        "\n",
        "cnb_model = CategoricalNB()"
      ]
    },
    {
      "cell_type": "code",
      "execution_count": null,
      "metadata": {
        "id": "sjKoIIQbyDGA"
      },
      "outputs": [],
      "source": [
        "np.random.seed(2025)\n",
        "cnb_grid = GridSearchCV(cnb_model, param_grid = params, cv = split_ord, n_jobs = -1, scoring = 'f1_macro')\n",
        "cnb_grid.fit(X_temp_ord, y_temp_ord)\n",
        "print('Best Parameters:', cnb_grid.best_params_)"
      ]
    },
    {
      "cell_type": "code",
      "execution_count": null,
      "metadata": {
        "id": "LF3v0F8QyDGA"
      },
      "outputs": [],
      "source": [
        "np.random.seed(2025)\n",
        "cnb_model = CategoricalNB(alpha = 15, class_prior = None, fit_prior = False)\n",
        "cnb_model.fit(X_temp_ord, y_temp_ord)\n",
        "y_cnb_pred = cnb_model.predict(X_test_ord)\n",
        "\n",
        "print(classification_report(y_test, y_cnb_pred, zero_division = 1))"
      ]
    },
    {
      "cell_type": "code",
      "execution_count": null,
      "metadata": {
        "id": "d92QY5LeyDGA"
      },
      "outputs": [],
      "source": [
        "np.random.seed(2025)\n",
        "cnb_model.fit(X_ordinal, y)\n",
        "y_cnb = cnb_model.predict(X_ordinal_test)"
      ]
    },
    {
      "cell_type": "code",
      "execution_count": null,
      "metadata": {
        "colab": {
          "base_uri": "https://localhost:8080/",
          "height": 17
        },
        "id": "5ahc05tIyDGA",
        "outputId": "995e35f7-4adb-4f3b-894a-00bb7bbb032e"
      },
      "outputs": [
        {
          "data": {
            "application/javascript": "\n    async function download(id, filename, size) {\n      if (!google.colab.kernel.accessAllowed) {\n        return;\n      }\n      const div = document.createElement('div');\n      const label = document.createElement('label');\n      label.textContent = `Downloading \"${filename}\": `;\n      div.appendChild(label);\n      const progress = document.createElement('progress');\n      progress.max = size;\n      div.appendChild(progress);\n      document.body.appendChild(div);\n\n      const buffers = [];\n      let downloaded = 0;\n\n      const channel = await google.colab.kernel.comms.open(id);\n      // Send a message to notify the kernel that we're ready.\n      channel.send({})\n\n      for await (const message of channel.messages) {\n        // Send a message to notify the kernel that we're ready.\n        channel.send({})\n        if (message.buffers) {\n          for (const buffer of message.buffers) {\n            buffers.push(buffer);\n            downloaded += buffer.byteLength;\n            progress.value = downloaded;\n          }\n        }\n      }\n      const blob = new Blob(buffers, {type: 'application/binary'});\n      const a = document.createElement('a');\n      a.href = window.URL.createObjectURL(blob);\n      a.download = filename;\n      div.appendChild(a);\n      a.click();\n      div.remove();\n    }\n  ",
            "text/plain": [
              "<IPython.core.display.Javascript object>"
            ]
          },
          "metadata": {},
          "output_type": "display_data"
        },
        {
          "data": {
            "application/javascript": "download(\"download_03dae9ed-21cc-4f39-b662-5ed3ecd41a92\", \"CNB_Full_Cov.csv\", 459)",
            "text/plain": [
              "<IPython.core.display.Javascript object>"
            ]
          },
          "metadata": {},
          "output_type": "display_data"
        }
      ],
      "source": [
        "from google.colab import files\n",
        "\n",
        "pred_cnb = pd.DataFrame({'ID': range(1, 92), 'Placement': y_cnb})\n",
        "\n",
        "with open('CNB_Full_Cov.csv', 'w') as file:\n",
        "    pred_cnb.to_csv(file, index = False, header = True)\n",
        "\n",
        "files.download('CNB_Full_Cov.csv')"
      ]
    },
    {
      "cell_type": "markdown",
      "metadata": {
        "id": "d96lo6VDw4dF"
      },
      "source": [
        "# 6- CATBoost"
      ]
    },
    {
      "cell_type": "code",
      "execution_count": null,
      "metadata": {
        "id": "PjBK3GyKmxYI"
      },
      "outputs": [],
      "source": [
        "params = {\n",
        "    'learning_rate': Real(0.01, 0.3, prior = 'log-uniform'),\n",
        "    'depth': Integer(3, 10),\n",
        "    'l2_leaf_reg': Real(0.001, 10, prior = 'log-uniform'),\n",
        "    'scale_pos_weight': Real(0.5, 10.0, prior = 'uniform')\n",
        "}\n",
        "\n",
        "cat_features = [\"Board_SSC\", \"Board_HSC\", \"Stream_HSC\", \"Course_Degree\", \"Specialization_MBA\"]\n",
        "cat_model = CatBoostClassifier(verbose = 0, cat_features = cat_features, random_seed = 2025)"
      ]
    },
    {
      "cell_type": "code",
      "execution_count": null,
      "metadata": {
        "id": "SEp6w89uC0xd"
      },
      "outputs": [],
      "source": [
        "X_temp_new = pd.concat([X_temp_num.iloc[:, :4],X_temp_cag.iloc[:, 1:]], axis = 1)\n",
        "\n",
        "np.random.seed(2025)\n",
        "cat_grid = BayesSearchCV(cat_model, params, n_iter = 50, cv = 5, n_jobs = -1, scoring = 'f1_macro')\n",
        "cat_grid.fit(X_temp_new, y_temp)\n",
        "print('Best Parameters:', cat_grid.best_params_)"
      ]
    },
    {
      "cell_type": "code",
      "execution_count": null,
      "metadata": {
        "id": "-kzB_V_NCx4U"
      },
      "outputs": [],
      "source": [
        "X_temp_new = pd.concat([X_temp.iloc[:, :4],X_temp_cag.iloc[:, 1:]], axis = 1)\n",
        "X_test_new = pd.concat([X_test_num.iloc[:, :4],X_test_cag.iloc[:, 1:]], axis = 1)\n",
        "\n",
        "np.random.seed(2025)\n",
        "cat_model = CatBoostClassifier(depth = 6, l2_leaf_reg = 7, learning_rate = 0.032877387162780214, scale_pos_weight = 3.46209647406391, verbose = 0, cat_features = cat_features, random_seed = 2025)\n",
        "cat_model.fit(X_temp_new, y_temp)\n",
        "y_cat_pred = cat_model.predict(X_test_new)\n",
        "\n",
        "print(classification_report(y_test, y_cat_pred, zero_division = 1))"
      ]
    },
    {
      "cell_type": "code",
      "execution_count": null,
      "metadata": {
        "id": "h5iK2itf0EzX"
      },
      "outputs": [],
      "source": [
        "X_Temp_new = pd.concat([X_full.iloc[:, :4],X_categorical.iloc[:, 1:]], axis = 1)\n",
        "X_Test_new = pd.concat([X_full_test.iloc[:, :4],X_categorical_test.iloc[:, 1:]], axis = 1)\n",
        "\n",
        "np.random.seed(2025)\n",
        "cat_model.fit(X_Temp_new, y)\n",
        "y_cat = cat_model.predict(X_Test_new)"
      ]
    },
    {
      "cell_type": "code",
      "execution_count": null,
      "metadata": {
        "colab": {
          "base_uri": "https://localhost:8080/",
          "height": 17
        },
        "id": "nCnY2eU_GAPN",
        "outputId": "538d2e34-4e9a-465b-c23c-c79e4be4a33d"
      },
      "outputs": [
        {
          "data": {
            "application/javascript": "\n    async function download(id, filename, size) {\n      if (!google.colab.kernel.accessAllowed) {\n        return;\n      }\n      const div = document.createElement('div');\n      const label = document.createElement('label');\n      label.textContent = `Downloading \"${filename}\": `;\n      div.appendChild(label);\n      const progress = document.createElement('progress');\n      progress.max = size;\n      div.appendChild(progress);\n      document.body.appendChild(div);\n\n      const buffers = [];\n      let downloaded = 0;\n\n      const channel = await google.colab.kernel.comms.open(id);\n      // Send a message to notify the kernel that we're ready.\n      channel.send({})\n\n      for await (const message of channel.messages) {\n        // Send a message to notify the kernel that we're ready.\n        channel.send({})\n        if (message.buffers) {\n          for (const buffer of message.buffers) {\n            buffers.push(buffer);\n            downloaded += buffer.byteLength;\n            progress.value = downloaded;\n          }\n        }\n      }\n      const blob = new Blob(buffers, {type: 'application/binary'});\n      const a = document.createElement('a');\n      a.href = window.URL.createObjectURL(blob);\n      a.download = filename;\n      div.appendChild(a);\n      a.click();\n      div.remove();\n    }\n  ",
            "text/plain": [
              "<IPython.core.display.Javascript object>"
            ]
          },
          "metadata": {},
          "output_type": "display_data"
        },
        {
          "data": {
            "application/javascript": "download(\"download_e9704ccd-df04-41aa-917d-746782482c31\", \"CAT_Full_Cov.csv\", 459)",
            "text/plain": [
              "<IPython.core.display.Javascript object>"
            ]
          },
          "metadata": {},
          "output_type": "display_data"
        }
      ],
      "source": [
        "from google.colab import files\n",
        "\n",
        "pred_cat = pd.DataFrame({'ID': range(1, 92), 'Placement': y_cat})\n",
        "\n",
        "with open('CAT_Full_Cov.csv', 'w') as file:\n",
        "    pred_cat.to_csv(file, index = False, header = True)\n",
        "\n",
        "files.download('CAT_Full_Cov.csv')"
      ]
    },
    {
      "cell_type": "markdown",
      "metadata": {
        "id": "8GwrfdRKvPiG"
      },
      "source": [
        "# 7 - KNN"
      ]
    },
    {
      "cell_type": "code",
      "execution_count": null,
      "metadata": {
        "id": "1-VFlHCvvVfV"
      },
      "outputs": [],
      "source": [
        "params = {\n",
        "    'n_neighbors': Integer(1, 50),\n",
        "    'weights': ['uniform', 'distance'],\n",
        "    'metric': ['euclidean', 'manhattan', 'minkowski'],\n",
        "    'p': Integer(1, 5),\n",
        "    'leaf_size': Integer(10, 50)\n",
        "}\n",
        "\n",
        "\n",
        "knn_model = KNeighborsClassifier(n_jobs = -1)"
      ]
    },
    {
      "cell_type": "code",
      "execution_count": null,
      "metadata": {
        "id": "OPvcSudqvVfV"
      },
      "outputs": [],
      "source": [
        "np.random.seed(2025)\n",
        "knn_grid = BayesSearchCV(knn_model, search_spaces = params, cv = split_num,  n_iter = 50, n_jobs = -1, scoring = 'f1_macro')\n",
        "knn_grid.fit(X_temp_num, y_temp_num)\n",
        "print('Best Parameters:', knn_grid.best_params_)"
      ]
    },
    {
      "cell_type": "code",
      "execution_count": null,
      "metadata": {
        "colab": {
          "base_uri": "https://localhost:8080/"
        },
        "id": "9r_BGqIbvVfW",
        "outputId": "33f65b2a-49fe-4351-ec4f-f5a225cf76a7"
      },
      "outputs": [
        {
          "name": "stdout",
          "output_type": "stream",
          "text": [
            "              precision    recall  f1-score   support\n",
            "\n",
            "           0       0.83      0.94      0.88        36\n",
            "           1       0.50      0.22      0.31         9\n",
            "\n",
            "    accuracy                           0.80        45\n",
            "   macro avg       0.66      0.58      0.60        45\n",
            "weighted avg       0.76      0.80      0.77        45\n",
            "\n"
          ]
        }
      ],
      "source": [
        "np.random.seed(2025)\n",
        "\n",
        "knn_model = KNeighborsClassifier(leaf_size = 47, metric = \"euclidean\", n_neighbors = 3, p = 5, weights = \"uniform\", n_jobs = -1)\n",
        "knn_model.fit(X_temp, y_temp)\n",
        "y_knn_pred = knn_model.predict(X_test)\n",
        "\n",
        "print(classification_report(y_test, y_knn_pred, zero_division = 1))"
      ]
    },
    {
      "cell_type": "code",
      "execution_count": null,
      "metadata": {
        "id": "tcMfGMrfvVfW"
      },
      "outputs": [],
      "source": [
        "np.random.seed(2025)\n",
        "knn_model.fit(X_full, y)\n",
        "y_knn = knn_model.predict(X_full_test)"
      ]
    },
    {
      "cell_type": "code",
      "execution_count": null,
      "metadata": {
        "colab": {
          "base_uri": "https://localhost:8080/",
          "height": 17
        },
        "id": "TpVTNLX0vVfW",
        "outputId": "31b03510-6793-46a5-9901-c1fabf47d923"
      },
      "outputs": [
        {
          "data": {
            "application/javascript": "\n    async function download(id, filename, size) {\n      if (!google.colab.kernel.accessAllowed) {\n        return;\n      }\n      const div = document.createElement('div');\n      const label = document.createElement('label');\n      label.textContent = `Downloading \"${filename}\": `;\n      div.appendChild(label);\n      const progress = document.createElement('progress');\n      progress.max = size;\n      div.appendChild(progress);\n      document.body.appendChild(div);\n\n      const buffers = [];\n      let downloaded = 0;\n\n      const channel = await google.colab.kernel.comms.open(id);\n      // Send a message to notify the kernel that we're ready.\n      channel.send({})\n\n      for await (const message of channel.messages) {\n        // Send a message to notify the kernel that we're ready.\n        channel.send({})\n        if (message.buffers) {\n          for (const buffer of message.buffers) {\n            buffers.push(buffer);\n            downloaded += buffer.byteLength;\n            progress.value = downloaded;\n          }\n        }\n      }\n      const blob = new Blob(buffers, {type: 'application/binary'});\n      const a = document.createElement('a');\n      a.href = window.URL.createObjectURL(blob);\n      a.download = filename;\n      div.appendChild(a);\n      a.click();\n      div.remove();\n    }\n  ",
            "text/plain": [
              "<IPython.core.display.Javascript object>"
            ]
          },
          "metadata": {},
          "output_type": "display_data"
        },
        {
          "data": {
            "application/javascript": "download(\"download_752d3c99-0e3c-4faf-beca-b378094c2c37\", \"KNN_Optimized_Cov.csv\", 459)",
            "text/plain": [
              "<IPython.core.display.Javascript object>"
            ]
          },
          "metadata": {},
          "output_type": "display_data"
        }
      ],
      "source": [
        "from google.colab import files\n",
        "\n",
        "pred_knn = pd.DataFrame({'ID': range(1, 92), 'Placement': y_knn})\n",
        "\n",
        "with open('KNN_Optimized_Cov.csv', 'w') as file:\n",
        "    pred_knn.to_csv(file, index = False, header = True)\n",
        "\n",
        "files.download('KNN_Optimized_Cov.csv')"
      ]
    },
    {
      "cell_type": "markdown",
      "metadata": {
        "id": "NazKi4Lr07cs"
      },
      "source": [
        "# 7 - KNN - SMOTE"
      ]
    },
    {
      "cell_type": "code",
      "execution_count": null,
      "metadata": {
        "id": "Of1uZGMQ1cf_"
      },
      "outputs": [],
      "source": [
        "from imblearn.combine import SMOTETomek\n",
        "from imblearn.under_sampling import TomekLinks\n",
        "from imblearn.pipeline import Pipeline, make_pipeline\n",
        "\n",
        "SMOTETomek_pipeline = make_pipeline(SMOTETomek(tomek = TomekLinks(sampling_strategy = 'majority')),\n",
        "                               KNeighborsClassifier(leaf_size = 47, metric = \"euclidean\", n_neighbors = 3, p = 5, weights = \"uniform\", n_jobs = -1))"
      ]
    },
    {
      "cell_type": "code",
      "execution_count": null,
      "metadata": {
        "id": "eNvhRUPF1pYQ"
      },
      "outputs": [],
      "source": [
        "SMOTETomek_knn = SMOTETomek_pipeline\n",
        "SMOTETomek_knn.fit(X_temp, y_temp)\n",
        "y_pred_SMOTETomek_knn = SMOTETomek_knn.predict(X_test)\n",
        "print(classification_report(y_test, y_pred_SMOTETomek_knn, zero_division = 1))"
      ]
    },
    {
      "cell_type": "code",
      "execution_count": null,
      "metadata": {
        "id": "7voTG4Lr2Jt2"
      },
      "outputs": [],
      "source": [
        "np.random.seed(2025)\n",
        "SMOTETomek_knn.fit(X_full, y)\n",
        "y_SMOTETomek_knn = SMOTETomek_knn.predict(X_full_test)"
      ]
    },
    {
      "cell_type": "code",
      "execution_count": null,
      "metadata": {
        "colab": {
          "base_uri": "https://localhost:8080/",
          "height": 17
        },
        "id": "ZxwLPiw02Jt3",
        "outputId": "88083ea4-bfce-4eba-8bd6-b5a27a97c5aa"
      },
      "outputs": [
        {
          "data": {
            "application/javascript": "\n    async function download(id, filename, size) {\n      if (!google.colab.kernel.accessAllowed) {\n        return;\n      }\n      const div = document.createElement('div');\n      const label = document.createElement('label');\n      label.textContent = `Downloading \"${filename}\": `;\n      div.appendChild(label);\n      const progress = document.createElement('progress');\n      progress.max = size;\n      div.appendChild(progress);\n      document.body.appendChild(div);\n\n      const buffers = [];\n      let downloaded = 0;\n\n      const channel = await google.colab.kernel.comms.open(id);\n      // Send a message to notify the kernel that we're ready.\n      channel.send({})\n\n      for await (const message of channel.messages) {\n        // Send a message to notify the kernel that we're ready.\n        channel.send({})\n        if (message.buffers) {\n          for (const buffer of message.buffers) {\n            buffers.push(buffer);\n            downloaded += buffer.byteLength;\n            progress.value = downloaded;\n          }\n        }\n      }\n      const blob = new Blob(buffers, {type: 'application/binary'});\n      const a = document.createElement('a');\n      a.href = window.URL.createObjectURL(blob);\n      a.download = filename;\n      div.appendChild(a);\n      a.click();\n      div.remove();\n    }\n  ",
            "text/plain": [
              "<IPython.core.display.Javascript object>"
            ]
          },
          "metadata": {},
          "output_type": "display_data"
        },
        {
          "data": {
            "application/javascript": "download(\"download_c0486238-6301-49fa-952a-3c3bd035fb28\", \"SMOTETomek_KNN_Optimized_Cov.csv\", 459)",
            "text/plain": [
              "<IPython.core.display.Javascript object>"
            ]
          },
          "metadata": {},
          "output_type": "display_data"
        }
      ],
      "source": [
        "from google.colab import files\n",
        "\n",
        "pred_SMOTETomek_knn = pd.DataFrame({'ID': range(1, 92), 'Placement': y_SMOTETomek_knn})\n",
        "\n",
        "with open('SMOTETomek_KNN_Optimized_Cov.csv', 'w') as file:\n",
        "    pred_SMOTETomek_knn.to_csv(file, index = False, header = True)\n",
        "\n",
        "files.download('SMOTETomek_KNN_Optimized_Cov.csv')"
      ]
    },
    {
      "cell_type": "markdown",
      "metadata": {
        "id": "i-fmEnSZAg1u"
      },
      "source": [
        "# 8- SVC - Optimized"
      ]
    },
    {
      "cell_type": "code",
      "execution_count": null,
      "metadata": {
        "id": "JmOhvGyIAjbZ"
      },
      "outputs": [],
      "source": [
        "params = {\n",
        "    'C': Real(1e-2, 1e+3, prior = 'log-uniform'),\n",
        "    'kernel': Categorical(['linear', 'rbf', 'poly', 'sigmoid']),\n",
        "    'gamma': Real(1e-3, 1, prior = 'log-uniform'),\n",
        "    'degree': Integer(3, 5),\n",
        "    'shrinking': Categorical([True, False]),\n",
        "}\n",
        "\n",
        "svc_model = SVC(random_state = 2025)"
      ]
    },
    {
      "cell_type": "code",
      "execution_count": null,
      "metadata": {
        "id": "yMVzMn-sAjba"
      },
      "outputs": [],
      "source": [
        "np.random.seed(2025)\n",
        "svc_grid = BayesSearchCV(svc_model, search_spaces = params, cv = split_num, n_iter = 50, n_jobs = -1, scoring = 'f1_macro')\n",
        "svc_grid.fit(X_temp_num, y_temp_num)\n",
        "print('Best Parameters:', svc_grid.best_params_)"
      ]
    },
    {
      "cell_type": "code",
      "execution_count": null,
      "metadata": {
        "colab": {
          "base_uri": "https://localhost:8080/"
        },
        "id": "GfD2vhGtAjba",
        "outputId": "91cd6dac-0cf6-4e2b-a025-643e57b8293a"
      },
      "outputs": [
        {
          "name": "stdout",
          "output_type": "stream",
          "text": [
            "              precision    recall  f1-score   support\n",
            "\n",
            "           0       1.00      1.00      1.00        36\n",
            "           1       1.00      1.00      1.00         9\n",
            "\n",
            "    accuracy                           1.00        45\n",
            "   macro avg       1.00      1.00      1.00        45\n",
            "weighted avg       1.00      1.00      1.00        45\n",
            "\n"
          ]
        }
      ],
      "source": [
        "np.random.seed(2025)\n",
        "svc_model = SVC(C = 545.8658477670018, degree = 5, gamma = 1, kernel = \"rbf\", shrinking = True, random_state = 2025)\n",
        "svc_model.fit(X_temp_num, y_temp_num)\n",
        "y_svc_pred = svc_model.predict(X_test_num)\n",
        "\n",
        "print(classification_report(y_test, y_svc_pred, zero_division = 1))"
      ]
    },
    {
      "cell_type": "code",
      "execution_count": null,
      "metadata": {
        "id": "Lxvu2Mr0Ajba"
      },
      "outputs": [],
      "source": [
        "np.random.seed(2025)\n",
        "svc_model.fit(X_numerical, y)\n",
        "y_svc = svc_model.predict(X_numerical_test)"
      ]
    },
    {
      "cell_type": "code",
      "execution_count": null,
      "metadata": {
        "colab": {
          "base_uri": "https://localhost:8080/",
          "height": 17
        },
        "id": "p0yMMP-oAjba",
        "outputId": "eb36969d-6aaf-4fce-c8a2-b4d223cab182"
      },
      "outputs": [
        {
          "data": {
            "application/javascript": "\n    async function download(id, filename, size) {\n      if (!google.colab.kernel.accessAllowed) {\n        return;\n      }\n      const div = document.createElement('div');\n      const label = document.createElement('label');\n      label.textContent = `Downloading \"${filename}\": `;\n      div.appendChild(label);\n      const progress = document.createElement('progress');\n      progress.max = size;\n      div.appendChild(progress);\n      document.body.appendChild(div);\n\n      const buffers = [];\n      let downloaded = 0;\n\n      const channel = await google.colab.kernel.comms.open(id);\n      // Send a message to notify the kernel that we're ready.\n      channel.send({})\n\n      for await (const message of channel.messages) {\n        // Send a message to notify the kernel that we're ready.\n        channel.send({})\n        if (message.buffers) {\n          for (const buffer of message.buffers) {\n            buffers.push(buffer);\n            downloaded += buffer.byteLength;\n            progress.value = downloaded;\n          }\n        }\n      }\n      const blob = new Blob(buffers, {type: 'application/binary'});\n      const a = document.createElement('a');\n      a.href = window.URL.createObjectURL(blob);\n      a.download = filename;\n      div.appendChild(a);\n      a.click();\n      div.remove();\n    }\n  ",
            "text/plain": [
              "<IPython.core.display.Javascript object>"
            ]
          },
          "metadata": {},
          "output_type": "display_data"
        },
        {
          "data": {
            "application/javascript": "download(\"download_171168d7-8e9d-42e4-bcc1-67c1c67b07d4\", \"SVC_Optimized_Cov.csv\", 459)",
            "text/plain": [
              "<IPython.core.display.Javascript object>"
            ]
          },
          "metadata": {},
          "output_type": "display_data"
        }
      ],
      "source": [
        "from google.colab import files\n",
        "\n",
        "pred_svc = pd.DataFrame({'ID': range(1, 92), 'Placement': y_svc})\n",
        "\n",
        "with open('SVC_Optimized_Cov.csv', 'w') as file:\n",
        "    pred_svc.to_csv(file, index = False, header = True)\n",
        "\n",
        "files.download('SVC_Optimized_Cov.csv')"
      ]
    },
    {
      "cell_type": "markdown",
      "metadata": {
        "id": "S71PG9p_eNfE"
      },
      "source": [
        "# 9- MLP - Optimized"
      ]
    },
    {
      "cell_type": "code",
      "execution_count": null,
      "metadata": {
        "id": "e3ijS2nGeNfE"
      },
      "outputs": [],
      "source": [
        "params = {\n",
        "    'activation': Categorical(['relu', 'tanh', 'logistic']),\n",
        "    'solver': Categorical(['adam', 'lbfgs']),\n",
        "    'alpha': Real(1e-4, 1e-2, prior = 'log-uniform'),\n",
        "    'learning_rate': Categorical(['constant', 'adaptive']),\n",
        "    'learning_rate_init': Real(1e-4, 1e-2, prior = 'log-uniform'),\n",
        "    'max_iter': Integer(100, 1000),\n",
        "    'batch_size': Integer(8, 32),\n",
        "    'early_stopping': Categorical([True, False]),\n",
        "}\n",
        "\n",
        "mlp_model = MLPClassifier(random_state = 2025)"
      ]
    },
    {
      "cell_type": "code",
      "execution_count": null,
      "metadata": {
        "id": "6PJCvz0NeNfE"
      },
      "outputs": [],
      "source": [
        "np.random.seed(2025)\n",
        "mlp_grid = BayesSearchCV(mlp_model, search_spaces = params, cv = split_num, n_iter = 50, n_jobs = -1, scoring = 'f1_macro')\n",
        "mlp_grid.fit(X_temp_num, y_temp_num)\n",
        "print('Best Parameters:', mlp_grid.best_params_)"
      ]
    },
    {
      "cell_type": "code",
      "execution_count": null,
      "metadata": {
        "colab": {
          "base_uri": "https://localhost:8080/"
        },
        "id": "GHyoUipBeNfE",
        "outputId": "ffdc6686-e7dd-4cb5-9402-7308a13b495d"
      },
      "outputs": [
        {
          "name": "stdout",
          "output_type": "stream",
          "text": [
            "              precision    recall  f1-score   support\n",
            "\n",
            "           0       1.00      1.00      1.00        36\n",
            "           1       1.00      1.00      1.00         9\n",
            "\n",
            "    accuracy                           1.00        45\n",
            "   macro avg       1.00      1.00      1.00        45\n",
            "weighted avg       1.00      1.00      1.00        45\n",
            "\n"
          ]
        }
      ],
      "source": [
        "np.random.seed(2025)\n",
        "mlp_model = MLPClassifier(activation = 'tanh', alpha = 0.00725888843762956, learning_rate = 'adaptive', learning_rate_init = 0.01, max_iter = 1000, batch_size = 15, early_stopping = True, solver = 'lbfgs', random_state = 2025)\n",
        "mlp_model.fit(X_temp_num, y_temp_num)\n",
        "y_mlp_pred = mlp_model.predict(X_test_num)\n",
        "\n",
        "print(classification_report(y_test, y_mlp_pred, zero_division = 1))"
      ]
    },
    {
      "cell_type": "code",
      "execution_count": null,
      "metadata": {
        "id": "ctJtrwBCeNfF"
      },
      "outputs": [],
      "source": [
        "np.random.seed(2025)\n",
        "mlp_model.fit(X_numerical, y)\n",
        "y_mlp = mlp_model.predict(X_numerical_test)"
      ]
    },
    {
      "cell_type": "code",
      "execution_count": null,
      "metadata": {
        "colab": {
          "base_uri": "https://localhost:8080/",
          "height": 17
        },
        "id": "3Sm8pULleNfF",
        "outputId": "bcbfcb5a-375d-4b65-c061-e9d52ddda05f"
      },
      "outputs": [
        {
          "data": {
            "application/javascript": "\n    async function download(id, filename, size) {\n      if (!google.colab.kernel.accessAllowed) {\n        return;\n      }\n      const div = document.createElement('div');\n      const label = document.createElement('label');\n      label.textContent = `Downloading \"${filename}\": `;\n      div.appendChild(label);\n      const progress = document.createElement('progress');\n      progress.max = size;\n      div.appendChild(progress);\n      document.body.appendChild(div);\n\n      const buffers = [];\n      let downloaded = 0;\n\n      const channel = await google.colab.kernel.comms.open(id);\n      // Send a message to notify the kernel that we're ready.\n      channel.send({})\n\n      for await (const message of channel.messages) {\n        // Send a message to notify the kernel that we're ready.\n        channel.send({})\n        if (message.buffers) {\n          for (const buffer of message.buffers) {\n            buffers.push(buffer);\n            downloaded += buffer.byteLength;\n            progress.value = downloaded;\n          }\n        }\n      }\n      const blob = new Blob(buffers, {type: 'application/binary'});\n      const a = document.createElement('a');\n      a.href = window.URL.createObjectURL(blob);\n      a.download = filename;\n      div.appendChild(a);\n      a.click();\n      div.remove();\n    }\n  ",
            "text/plain": [
              "<IPython.core.display.Javascript object>"
            ]
          },
          "metadata": {},
          "output_type": "display_data"
        },
        {
          "data": {
            "application/javascript": "download(\"download_c3368f95-0e19-41d3-b511-477dbff655a0\", \"MLP_Optimized_Cov.csv\", 459)",
            "text/plain": [
              "<IPython.core.display.Javascript object>"
            ]
          },
          "metadata": {},
          "output_type": "display_data"
        }
      ],
      "source": [
        "from google.colab import files\n",
        "\n",
        "pred_mlp = pd.DataFrame({'ID': range(1, 92), 'Placement': y_mlp})\n",
        "\n",
        "with open('MLP_Optimized_Cov.csv', 'w') as file:\n",
        "    pred_mlp.to_csv(file, index = False, header = True)\n",
        "\n",
        "files.download('MLP_Optimized_Cov.csv')"
      ]
    },
    {
      "cell_type": "markdown",
      "metadata": {
        "id": "XeSsnK6HCQsy"
      },
      "source": [
        "# 10 - Ensemble 1"
      ]
    },
    {
      "cell_type": "code",
      "execution_count": null,
      "metadata": {
        "id": "cUY-2BpnGtjs"
      },
      "outputs": [],
      "source": [
        "y_rf_fit = rf_model.predict(X_full)\n",
        "y_xgb_fit = xgb_model.predict(X_numerical)\n",
        "y_cat_fit = cat_model.predict(X_Temp_new)\n",
        "y_knn_fit = knn_model.predict(X_full)\n",
        "y_svc_fit = svc_model.predict(X_numerical)\n",
        "X_numerical_new = np.column_stack((X_numerical, y_rf_fit, y_xgb_fit, y_cat_fit, y_knn_fit, y_svc_fit))\n",
        "\n",
        "y_rf_pred = rf_model.predict(X_full_test)\n",
        "y_xgb_pred = xgb_model.predict(X_numerical_test)\n",
        "y_cat_pred = cat_model.predict(X_Test_new)\n",
        "y_knn_pred = knn_model.predict(X_full_test)\n",
        "y_svc_pred = svc_model.predict(X_numerical_test)\n",
        "X_numerical_test_new = np.column_stack((X_numerical_test, y_rf_pred, y_xgb_pred, y_cat_pred, y_knn_pred, y_svc_pred))"
      ]
    },
    {
      "cell_type": "code",
      "execution_count": null,
      "metadata": {
        "id": "STVK5GYMGtjt"
      },
      "outputs": [],
      "source": [
        "np.random.seed(2025)\n",
        "ensm_model_1 = MLPClassifier(activation = 'logistic', alpha = 0.0001, batch_size = 32, early_stopping = False, learning_rate = 'adaptive', learning_rate_init = 0.01, max_iter = 1000, solver = 'lbfgs', random_state = 2025)\n",
        "ensm_model_1.fit(X_numerical_new, y)\n",
        "y_ensm_pred_1 = ensm_model_1.predict(X_numerical_test_new)"
      ]
    },
    {
      "cell_type": "code",
      "execution_count": null,
      "metadata": {
        "colab": {
          "base_uri": "https://localhost:8080/",
          "height": 17
        },
        "id": "GmUxFlLTG4Dz",
        "outputId": "141e7f62-1dd4-4056-9276-7a9c14a3bfd3"
      },
      "outputs": [
        {
          "data": {
            "application/javascript": "\n    async function download(id, filename, size) {\n      if (!google.colab.kernel.accessAllowed) {\n        return;\n      }\n      const div = document.createElement('div');\n      const label = document.createElement('label');\n      label.textContent = `Downloading \"${filename}\": `;\n      div.appendChild(label);\n      const progress = document.createElement('progress');\n      progress.max = size;\n      div.appendChild(progress);\n      document.body.appendChild(div);\n\n      const buffers = [];\n      let downloaded = 0;\n\n      const channel = await google.colab.kernel.comms.open(id);\n      // Send a message to notify the kernel that we're ready.\n      channel.send({})\n\n      for await (const message of channel.messages) {\n        // Send a message to notify the kernel that we're ready.\n        channel.send({})\n        if (message.buffers) {\n          for (const buffer of message.buffers) {\n            buffers.push(buffer);\n            downloaded += buffer.byteLength;\n            progress.value = downloaded;\n          }\n        }\n      }\n      const blob = new Blob(buffers, {type: 'application/binary'});\n      const a = document.createElement('a');\n      a.href = window.URL.createObjectURL(blob);\n      a.download = filename;\n      div.appendChild(a);\n      a.click();\n      div.remove();\n    }\n  ",
            "text/plain": [
              "<IPython.core.display.Javascript object>"
            ]
          },
          "metadata": {},
          "output_type": "display_data"
        },
        {
          "data": {
            "application/javascript": "download(\"download_27a48ff7-d238-498b-8ff0-69214db95cde\", \"ENSM_Optimized_Cov_1.csv\", 459)",
            "text/plain": [
              "<IPython.core.display.Javascript object>"
            ]
          },
          "metadata": {},
          "output_type": "display_data"
        }
      ],
      "source": [
        "from google.colab import files\n",
        "\n",
        "pred_ensm_1 = pd.DataFrame({'ID': range(1, 92), 'Placement': y_ensm_pred_1})\n",
        "\n",
        "with open('ENSM_Optimized_Cov_1.csv', 'w') as file:\n",
        "    pred_ensm_1.to_csv(file, index = False, header = True)\n",
        "\n",
        "files.download('ENSM_Optimized_Cov_1.csv')"
      ]
    },
    {
      "cell_type": "markdown",
      "metadata": {
        "id": "ItcW6zFVMylp"
      },
      "source": [
        "# 11 - Ensemble 2"
      ]
    },
    {
      "cell_type": "code",
      "execution_count": null,
      "metadata": {
        "id": "_LAOC1dFMylq"
      },
      "outputs": [],
      "source": [
        "y_xgb_fit = xgb_model.predict(X_numerical)\n",
        "y_cat_fit = cat_model.predict(X_Temp_new)\n",
        "y_knn_fit = knn_model.predict(X_full)\n",
        "y_svc_fit = svc_model.predict(X_numerical)\n",
        "X_numerical_new = np.column_stack((X_numerical, y_xgb_fit, y_cat_fit, y_knn_fit, y_svc_fit))\n",
        "\n",
        "y_xgb_pred = xgb_model.predict(X_numerical_test)\n",
        "y_cat_pred = cat_model.predict(X_Test_new)\n",
        "y_knn_pred = knn_model.predict(X_full_test)\n",
        "y_svc_pred = svc_model.predict(X_numerical_test)\n",
        "X_numerical_test_new = np.column_stack((X_numerical_test, y_xgb_pred, y_cat_pred, y_knn_pred, y_svc_pred))"
      ]
    },
    {
      "cell_type": "code",
      "execution_count": null,
      "metadata": {
        "id": "JS1FfuTHMylq"
      },
      "outputs": [],
      "source": [
        "np.random.seed(2025)\n",
        "ensm_model_2 = MLPClassifier(activation = 'tanh', alpha = 0.0018203340067206705, batch_size = 23, early_stopping = True, learning_rate = 'adaptive', learning_rate_init = 0.0034626836021445246, max_iter = 903, solver = 'lbfgs', random_state = 2025)\n",
        "ensm_model_2.fit(X_numerical_new, y)\n",
        "y_ensm_pred_2 = ensm_model_2.predict(X_numerical_test_new)"
      ]
    },
    {
      "cell_type": "code",
      "execution_count": null,
      "metadata": {
        "colab": {
          "base_uri": "https://localhost:8080/",
          "height": 17
        },
        "id": "Ku-9C-RDMylq",
        "outputId": "422a5551-4c97-472d-9b70-5c9fa3579f37"
      },
      "outputs": [
        {
          "data": {
            "application/javascript": "\n    async function download(id, filename, size) {\n      if (!google.colab.kernel.accessAllowed) {\n        return;\n      }\n      const div = document.createElement('div');\n      const label = document.createElement('label');\n      label.textContent = `Downloading \"${filename}\": `;\n      div.appendChild(label);\n      const progress = document.createElement('progress');\n      progress.max = size;\n      div.appendChild(progress);\n      document.body.appendChild(div);\n\n      const buffers = [];\n      let downloaded = 0;\n\n      const channel = await google.colab.kernel.comms.open(id);\n      // Send a message to notify the kernel that we're ready.\n      channel.send({})\n\n      for await (const message of channel.messages) {\n        // Send a message to notify the kernel that we're ready.\n        channel.send({})\n        if (message.buffers) {\n          for (const buffer of message.buffers) {\n            buffers.push(buffer);\n            downloaded += buffer.byteLength;\n            progress.value = downloaded;\n          }\n        }\n      }\n      const blob = new Blob(buffers, {type: 'application/binary'});\n      const a = document.createElement('a');\n      a.href = window.URL.createObjectURL(blob);\n      a.download = filename;\n      div.appendChild(a);\n      a.click();\n      div.remove();\n    }\n  ",
            "text/plain": [
              "<IPython.core.display.Javascript object>"
            ]
          },
          "metadata": {},
          "output_type": "display_data"
        },
        {
          "data": {
            "application/javascript": "download(\"download_e70b1d16-b3f7-4bf1-9589-92aff6b4bb52\", \"ENSM_Optimized_Cov_2.csv\", 459)",
            "text/plain": [
              "<IPython.core.display.Javascript object>"
            ]
          },
          "metadata": {},
          "output_type": "display_data"
        }
      ],
      "source": [
        "from google.colab import files\n",
        "\n",
        "pred_ensm_2 = pd.DataFrame({'ID': range(1, 92), 'Placement': y_ensm_pred_2})\n",
        "\n",
        "with open('ENSM_Optimized_Cov_2.csv', 'w') as file:\n",
        "    pred_ensm_2.to_csv(file, index = False, header = True)\n",
        "\n",
        "files.download('ENSM_Optimized_Cov_2.csv')"
      ]
    },
    {
      "cell_type": "markdown",
      "metadata": {
        "id": "fEr7qRkaPBG3"
      },
      "source": [
        "# 12 - Ensemble 3"
      ]
    },
    {
      "cell_type": "code",
      "execution_count": null,
      "metadata": {
        "id": "QFejgr2WPBG3"
      },
      "outputs": [],
      "source": [
        "y_xgb_fit = xgb_model.predict(X_numerical)\n",
        "y_knn_fit = knn_model.predict(X_full)\n",
        "y_svc_fit = svc_model.predict(X_numerical)\n",
        "X_numerical_new = np.column_stack((X_numerical, y_xgb_fit, y_knn_fit, y_svc_fit))\n",
        "\n",
        "y_xgb_pred = xgb_model.predict(X_numerical_test)\n",
        "y_knn_pred = knn_model.predict(X_full_test)\n",
        "y_svc_pred = svc_model.predict(X_numerical_test)\n",
        "X_numerical_test_new = np.column_stack((X_numerical_test, y_xgb_pred, y_knn_pred, y_svc_pred))"
      ]
    },
    {
      "cell_type": "code",
      "execution_count": null,
      "metadata": {
        "id": "k7VeSuz0PBG3"
      },
      "outputs": [],
      "source": [
        "np.random.seed(2025)\n",
        "ensm_model_3 = MLPClassifier(activation = 'tanh', alpha = 0.0018108131782875515, batch_size = 17, early_stopping = True, learning_rate = 'adaptive', learning_rate_init = 0.0005502670909651138, max_iter = 100, solver = 'lbfgs', random_state = 2025)\n",
        "ensm_model_3.fit(X_numerical_new, y)\n",
        "y_ensm_pred_3 = ensm_model_3.predict(X_numerical_test_new)"
      ]
    },
    {
      "cell_type": "code",
      "execution_count": null,
      "metadata": {
        "colab": {
          "base_uri": "https://localhost:8080/",
          "height": 17
        },
        "id": "DglhQz-WPBG3",
        "outputId": "89237aa9-fe84-4092-c3fa-a059bd5d6a15"
      },
      "outputs": [
        {
          "data": {
            "application/javascript": "\n    async function download(id, filename, size) {\n      if (!google.colab.kernel.accessAllowed) {\n        return;\n      }\n      const div = document.createElement('div');\n      const label = document.createElement('label');\n      label.textContent = `Downloading \"${filename}\": `;\n      div.appendChild(label);\n      const progress = document.createElement('progress');\n      progress.max = size;\n      div.appendChild(progress);\n      document.body.appendChild(div);\n\n      const buffers = [];\n      let downloaded = 0;\n\n      const channel = await google.colab.kernel.comms.open(id);\n      // Send a message to notify the kernel that we're ready.\n      channel.send({})\n\n      for await (const message of channel.messages) {\n        // Send a message to notify the kernel that we're ready.\n        channel.send({})\n        if (message.buffers) {\n          for (const buffer of message.buffers) {\n            buffers.push(buffer);\n            downloaded += buffer.byteLength;\n            progress.value = downloaded;\n          }\n        }\n      }\n      const blob = new Blob(buffers, {type: 'application/binary'});\n      const a = document.createElement('a');\n      a.href = window.URL.createObjectURL(blob);\n      a.download = filename;\n      div.appendChild(a);\n      a.click();\n      div.remove();\n    }\n  ",
            "text/plain": [
              "<IPython.core.display.Javascript object>"
            ]
          },
          "metadata": {},
          "output_type": "display_data"
        },
        {
          "data": {
            "application/javascript": "download(\"download_caf2b307-ce4d-4ed1-9959-348bf65490eb\", \"ENSM_Optimized_Cov_3.csv\", 459)",
            "text/plain": [
              "<IPython.core.display.Javascript object>"
            ]
          },
          "metadata": {},
          "output_type": "display_data"
        }
      ],
      "source": [
        "from google.colab import files\n",
        "\n",
        "pred_ensm_3 = pd.DataFrame({'ID': range(1, 92), 'Placement': y_ensm_pred_3})\n",
        "\n",
        "with open('ENSM_Optimized_Cov_3.csv', 'w') as file:\n",
        "    pred_ensm_3.to_csv(file, index = False, header = True)\n",
        "\n",
        "files.download('ENSM_Optimized_Cov_3.csv')"
      ]
    },
    {
      "cell_type": "markdown",
      "metadata": {
        "id": "CqkX4vjtRp-x"
      },
      "source": [
        "# 13 - Ensemble 4"
      ]
    },
    {
      "cell_type": "code",
      "execution_count": null,
      "metadata": {
        "id": "7SfldA97Rp-x"
      },
      "outputs": [],
      "source": [
        "y_xgb_fit = xgb_model.predict(X_numerical)\n",
        "y_knn_fit = knn_model.predict(X_full)\n",
        "y_svc_fit = svc_model.predict(X_numerical)\n",
        "X_full_new = np.column_stack((X_full, y_xgb_fit, y_knn_fit, y_svc_fit))\n",
        "\n",
        "y_xgb_pred = xgb_model.predict(X_numerical_test)\n",
        "y_knn_pred = knn_model.predict(X_full_test)\n",
        "y_svc_pred = svc_model.predict(X_numerical_test)\n",
        "X_full_test_new = np.column_stack((X_full_test, y_xgb_pred, y_knn_pred, y_svc_pred))"
      ]
    },
    {
      "cell_type": "code",
      "execution_count": null,
      "metadata": {
        "id": "SbojoEZQRp-x"
      },
      "outputs": [],
      "source": [
        "np.random.seed(2025)\n",
        "ensm_model_4 = MLPClassifier(activation = 'logistic', alpha = 0.006466342067384797, batch_size = 16, early_stopping = True, learning_rate = 'constant', learning_rate_init = 0.0016700453073675982, max_iter = 235, solver = 'adam', random_state = 2025)\n",
        "ensm_model_4.fit(X_full_new, y)\n",
        "y_ensm_pred_4 = ensm_model_4.predict(X_full_test_new)"
      ]
    },
    {
      "cell_type": "code",
      "execution_count": null,
      "metadata": {
        "colab": {
          "base_uri": "https://localhost:8080/",
          "height": 17
        },
        "id": "eKxaTMriRp-x",
        "outputId": "0f870b7b-cd9d-43ea-b944-1390079796c6"
      },
      "outputs": [
        {
          "data": {
            "application/javascript": "\n    async function download(id, filename, size) {\n      if (!google.colab.kernel.accessAllowed) {\n        return;\n      }\n      const div = document.createElement('div');\n      const label = document.createElement('label');\n      label.textContent = `Downloading \"${filename}\": `;\n      div.appendChild(label);\n      const progress = document.createElement('progress');\n      progress.max = size;\n      div.appendChild(progress);\n      document.body.appendChild(div);\n\n      const buffers = [];\n      let downloaded = 0;\n\n      const channel = await google.colab.kernel.comms.open(id);\n      // Send a message to notify the kernel that we're ready.\n      channel.send({})\n\n      for await (const message of channel.messages) {\n        // Send a message to notify the kernel that we're ready.\n        channel.send({})\n        if (message.buffers) {\n          for (const buffer of message.buffers) {\n            buffers.push(buffer);\n            downloaded += buffer.byteLength;\n            progress.value = downloaded;\n          }\n        }\n      }\n      const blob = new Blob(buffers, {type: 'application/binary'});\n      const a = document.createElement('a');\n      a.href = window.URL.createObjectURL(blob);\n      a.download = filename;\n      div.appendChild(a);\n      a.click();\n      div.remove();\n    }\n  ",
            "text/plain": [
              "<IPython.core.display.Javascript object>"
            ]
          },
          "metadata": {},
          "output_type": "display_data"
        },
        {
          "data": {
            "application/javascript": "download(\"download_545b58d9-3f3b-4aa8-97f7-7144789b00a9\", \"ENSM_Optimized_Cov_4.csv\", 459)",
            "text/plain": [
              "<IPython.core.display.Javascript object>"
            ]
          },
          "metadata": {},
          "output_type": "display_data"
        }
      ],
      "source": [
        "from google.colab import files\n",
        "\n",
        "pred_ensm_4 = pd.DataFrame({'ID': range(1, 92), 'Placement': y_ensm_pred_4})\n",
        "\n",
        "with open('ENSM_Optimized_Cov_4.csv', 'w') as file:\n",
        "    pred_ensm_4.to_csv(file, index = False, header = True)\n",
        "\n",
        "files.download('ENSM_Optimized_Cov_4.csv')"
      ]
    },
    {
      "cell_type": "markdown",
      "metadata": {
        "id": "M5pxUmdJS1bz"
      },
      "source": [
        "# 14 - Ensemble 5"
      ]
    },
    {
      "cell_type": "code",
      "execution_count": null,
      "metadata": {
        "id": "78FYf2gfS1b0"
      },
      "outputs": [],
      "source": [
        "y_xgb_fit = xgb_model.predict(X_numerical)\n",
        "X_numerical_new = np.column_stack((X_numerical, y_xgb_fit))\n",
        "\n",
        "y_xgb_pred = xgb_model.predict(X_numerical_test)\n",
        "X_numerical_test_new = np.column_stack((X_numerical_test, y_xgb_pred))"
      ]
    },
    {
      "cell_type": "code",
      "execution_count": null,
      "metadata": {
        "id": "c5iJ-SaDS1b0"
      },
      "outputs": [],
      "source": [
        "np.random.seed(2025)\n",
        "ensm_model_5 = MLPClassifier(activation = 'tanh', alpha = 0.0027962083893340725, batch_size = 20, early_stopping = True, learning_rate = 'adaptive', learning_rate_init = 0.0005164853374694837, max_iter = 438, solver = 'lbfgs', random_state = 2025)\n",
        "ensm_model_5.fit(X_numerical_new, y)\n",
        "y_ensm_pred_5 = ensm_model_5.predict(X_numerical_test_new)"
      ]
    },
    {
      "cell_type": "code",
      "execution_count": null,
      "metadata": {
        "colab": {
          "base_uri": "https://localhost:8080/",
          "height": 17
        },
        "id": "jA7oFCX-S1b0",
        "outputId": "b49f3963-720c-4062-abf9-fd0fc3e5e72e"
      },
      "outputs": [
        {
          "data": {
            "application/javascript": "\n    async function download(id, filename, size) {\n      if (!google.colab.kernel.accessAllowed) {\n        return;\n      }\n      const div = document.createElement('div');\n      const label = document.createElement('label');\n      label.textContent = `Downloading \"${filename}\": `;\n      div.appendChild(label);\n      const progress = document.createElement('progress');\n      progress.max = size;\n      div.appendChild(progress);\n      document.body.appendChild(div);\n\n      const buffers = [];\n      let downloaded = 0;\n\n      const channel = await google.colab.kernel.comms.open(id);\n      // Send a message to notify the kernel that we're ready.\n      channel.send({})\n\n      for await (const message of channel.messages) {\n        // Send a message to notify the kernel that we're ready.\n        channel.send({})\n        if (message.buffers) {\n          for (const buffer of message.buffers) {\n            buffers.push(buffer);\n            downloaded += buffer.byteLength;\n            progress.value = downloaded;\n          }\n        }\n      }\n      const blob = new Blob(buffers, {type: 'application/binary'});\n      const a = document.createElement('a');\n      a.href = window.URL.createObjectURL(blob);\n      a.download = filename;\n      div.appendChild(a);\n      a.click();\n      div.remove();\n    }\n  ",
            "text/plain": [
              "<IPython.core.display.Javascript object>"
            ]
          },
          "metadata": {},
          "output_type": "display_data"
        },
        {
          "data": {
            "application/javascript": "download(\"download_de2bd4f9-5e11-45cd-b386-a6ca1086170a\", \"ENSM_Optimized_Cov_5.csv\", 459)",
            "text/plain": [
              "<IPython.core.display.Javascript object>"
            ]
          },
          "metadata": {},
          "output_type": "display_data"
        }
      ],
      "source": [
        "from google.colab import files\n",
        "\n",
        "pred_ensm_5 = pd.DataFrame({'ID': range(1, 92), 'Placement': y_ensm_pred_5})\n",
        "\n",
        "with open('ENSM_Optimized_Cov_5.csv', 'w') as file:\n",
        "    pred_ensm_5.to_csv(file, index = False, header = True)\n",
        "\n",
        "files.download('ENSM_Optimized_Cov_5.csv')"
      ]
    },
    {
      "cell_type": "markdown",
      "metadata": {
        "id": "vp69H-RTTvrp"
      },
      "source": [
        "# 15 - Ensemble 6"
      ]
    },
    {
      "cell_type": "code",
      "execution_count": null,
      "metadata": {
        "id": "8ISBbfZETvrq"
      },
      "outputs": [],
      "source": [
        "y_xgb_fit = xgb_model.predict(X_numerical)\n",
        "y_svc_fit = svc_model.predict(X_numerical)\n",
        "X_numerical_new = np.column_stack((X_numerical, y_xgb_fit, y_svc_fit))\n",
        "\n",
        "y_xgb_pred = xgb_model.predict(X_numerical_test)\n",
        "y_svc_pred = svc_model.predict(X_numerical_test)\n",
        "X_numerical_test_new = np.column_stack((X_numerical_test, y_xgb_pred, y_svc_pred))"
      ]
    },
    {
      "cell_type": "code",
      "execution_count": null,
      "metadata": {
        "id": "VlhZ8vB6Tvrq"
      },
      "outputs": [],
      "source": [
        "np.random.seed(2025)\n",
        "ensm_model_6 = MLPClassifier(activation = 'tanh', alpha = 0.0018203340067206705, batch_size = 23, early_stopping = True, learning_rate = 'adaptive', learning_rate_init = 0.0034626836021445246, max_iter = 1349, solver = 'lbfgs', random_state = 2025)\n",
        "ensm_model_6.fit(X_numerical_new, y)\n",
        "y_ensm_pred_6 = ensm_model_6.predict(X_numerical_test_new)"
      ]
    },
    {
      "cell_type": "code",
      "execution_count": null,
      "metadata": {
        "colab": {
          "base_uri": "https://localhost:8080/",
          "height": 17
        },
        "id": "eA1mD3buTvrq",
        "outputId": "1d2adae7-e1ee-4901-b958-eff14626179d"
      },
      "outputs": [
        {
          "data": {
            "application/javascript": "\n    async function download(id, filename, size) {\n      if (!google.colab.kernel.accessAllowed) {\n        return;\n      }\n      const div = document.createElement('div');\n      const label = document.createElement('label');\n      label.textContent = `Downloading \"${filename}\": `;\n      div.appendChild(label);\n      const progress = document.createElement('progress');\n      progress.max = size;\n      div.appendChild(progress);\n      document.body.appendChild(div);\n\n      const buffers = [];\n      let downloaded = 0;\n\n      const channel = await google.colab.kernel.comms.open(id);\n      // Send a message to notify the kernel that we're ready.\n      channel.send({})\n\n      for await (const message of channel.messages) {\n        // Send a message to notify the kernel that we're ready.\n        channel.send({})\n        if (message.buffers) {\n          for (const buffer of message.buffers) {\n            buffers.push(buffer);\n            downloaded += buffer.byteLength;\n            progress.value = downloaded;\n          }\n        }\n      }\n      const blob = new Blob(buffers, {type: 'application/binary'});\n      const a = document.createElement('a');\n      a.href = window.URL.createObjectURL(blob);\n      a.download = filename;\n      div.appendChild(a);\n      a.click();\n      div.remove();\n    }\n  ",
            "text/plain": [
              "<IPython.core.display.Javascript object>"
            ]
          },
          "metadata": {},
          "output_type": "display_data"
        },
        {
          "data": {
            "application/javascript": "download(\"download_908c58fe-d3ac-42b1-8332-15cb2da4b67f\", \"ENSM_Optimized_Cov_6.csv\", 459)",
            "text/plain": [
              "<IPython.core.display.Javascript object>"
            ]
          },
          "metadata": {},
          "output_type": "display_data"
        }
      ],
      "source": [
        "from google.colab import files\n",
        "\n",
        "pred_ensm_6 = pd.DataFrame({'ID': range(1, 92), 'Placement': y_ensm_pred_6})\n",
        "\n",
        "with open('ENSM_Optimized_Cov_6.csv', 'w') as file:\n",
        "    pred_ensm_6.to_csv(file, index = False, header = True)\n",
        "\n",
        "files.download('ENSM_Optimized_Cov_6.csv')"
      ]
    },
    {
      "cell_type": "markdown",
      "metadata": {
        "id": "fyEsb5QdYUSZ"
      },
      "source": [
        "# 16 - Ensemble 7"
      ]
    },
    {
      "cell_type": "code",
      "execution_count": null,
      "metadata": {
        "id": "OSiLITYLYUSZ"
      },
      "outputs": [],
      "source": [
        "y_xgb_fit = xgb_model.predict(X_numerical)\n",
        "y_knn_fit = knn_model.predict(X_full)\n",
        "X_numerical_new = np.column_stack((X_numerical, y_xgb_fit, y_knn_fit))\n",
        "\n",
        "y_xgb_pred = xgb_model.predict(X_numerical_test)\n",
        "y_knn_pred = knn_model.predict(X_full_test)\n",
        "X_numerical_test_new = np.column_stack((X_numerical_test, y_xgb_pred, y_knn_pred))"
      ]
    },
    {
      "cell_type": "code",
      "execution_count": null,
      "metadata": {
        "id": "eCIpaQLfYUSZ"
      },
      "outputs": [],
      "source": [
        "np.random.seed(2025)\n",
        "ensm_model_7 = MLPClassifier(activation = 'tanh', alpha = 0.0007108233855892977, batch_size = 8, early_stopping = False, learning_rate = 'adaptive', learning_rate_init = 0.0001, max_iter = 1500, solver = 'lbfgs', random_state = 2025)\n",
        "ensm_model_7.fit(X_numerical_new, y)\n",
        "y_ensm_pred_7 = ensm_model_7.predict(X_numerical_test_new)"
      ]
    },
    {
      "cell_type": "code",
      "execution_count": null,
      "metadata": {
        "colab": {
          "base_uri": "https://localhost:8080/",
          "height": 17
        },
        "id": "EYDVipSEYUSa",
        "outputId": "b4a08116-5221-40a9-e2ba-598a58c7e65b"
      },
      "outputs": [
        {
          "data": {
            "application/javascript": "\n    async function download(id, filename, size) {\n      if (!google.colab.kernel.accessAllowed) {\n        return;\n      }\n      const div = document.createElement('div');\n      const label = document.createElement('label');\n      label.textContent = `Downloading \"${filename}\": `;\n      div.appendChild(label);\n      const progress = document.createElement('progress');\n      progress.max = size;\n      div.appendChild(progress);\n      document.body.appendChild(div);\n\n      const buffers = [];\n      let downloaded = 0;\n\n      const channel = await google.colab.kernel.comms.open(id);\n      // Send a message to notify the kernel that we're ready.\n      channel.send({})\n\n      for await (const message of channel.messages) {\n        // Send a message to notify the kernel that we're ready.\n        channel.send({})\n        if (message.buffers) {\n          for (const buffer of message.buffers) {\n            buffers.push(buffer);\n            downloaded += buffer.byteLength;\n            progress.value = downloaded;\n          }\n        }\n      }\n      const blob = new Blob(buffers, {type: 'application/binary'});\n      const a = document.createElement('a');\n      a.href = window.URL.createObjectURL(blob);\n      a.download = filename;\n      div.appendChild(a);\n      a.click();\n      div.remove();\n    }\n  ",
            "text/plain": [
              "<IPython.core.display.Javascript object>"
            ]
          },
          "metadata": {},
          "output_type": "display_data"
        },
        {
          "data": {
            "application/javascript": "download(\"download_c3673723-bc08-4a9a-827f-c28a4776145c\", \"ENSM_Optimized_Cov_7.csv\", 459)",
            "text/plain": [
              "<IPython.core.display.Javascript object>"
            ]
          },
          "metadata": {},
          "output_type": "display_data"
        }
      ],
      "source": [
        "from google.colab import files\n",
        "\n",
        "pred_ensm_7 = pd.DataFrame({'ID': range(1, 92), 'Placement': y_ensm_pred_7})\n",
        "\n",
        "with open('ENSM_Optimized_Cov_7.csv', 'w') as file:\n",
        "    pred_ensm_7.to_csv(file, index = False, header = True)\n",
        "\n",
        "files.download('ENSM_Optimized_Cov_7.csv')"
      ]
    },
    {
      "cell_type": "markdown",
      "metadata": {
        "id": "zIbtU1f2AgCg"
      },
      "source": [
        "# 16 - Ensemble 7 SMOTE"
      ]
    },
    {
      "cell_type": "code",
      "execution_count": null,
      "metadata": {
        "id": "52AVkNyMAlRu"
      },
      "outputs": [],
      "source": [
        "from imblearn.over_sampling import SMOTE\n",
        "smote = SMOTE(random_state = 2025)"
      ]
    },
    {
      "cell_type": "code",
      "execution_count": null,
      "metadata": {
        "id": "Hfi6D1jDAi6A"
      },
      "outputs": [],
      "source": [
        "y_xgb_fit = xgb_model.predict(X_numerical)\n",
        "y_knn_fit = knn_model.predict(X_full)\n",
        "X_numerical_new = np.column_stack((X_numerical, y_xgb_fit, y_knn_fit))\n",
        "X_numerical_new_new, y_new = smote.fit_resample(X_numerical_new, y)\n",
        "\n",
        "y_xgb_pred = xgb_model.predict(X_numerical_test)\n",
        "y_knn_pred = knn_model.predict(X_full_test)"
      ]
    },
    {
      "cell_type": "code",
      "execution_count": null,
      "metadata": {
        "id": "OloFvxUbAi6B"
      },
      "outputs": [],
      "source": [
        "np.random.seed(2025)\n",
        "ensm_model_7 = MLPClassifier(activation = 'tanh', alpha = 0.0002, batch_size = 8, early_stopping = True, learning_rate = 'constant', learning_rate_init = 0.01, max_iter = 1500, solver = 'lbfgs', random_state = 2025)\n",
        "ensm_model_7.fit(X_numerical_new_new, y_new)\n",
        "y_ensm_pred_7 = ensm_model_7.predict(X_numerical_test_new)"
      ]
    },
    {
      "cell_type": "code",
      "execution_count": null,
      "metadata": {
        "colab": {
          "base_uri": "https://localhost:8080/",
          "height": 17
        },
        "id": "NB_D8mK7Ai6B",
        "outputId": "1b29475e-ac11-4631-a191-50949c96d5ac"
      },
      "outputs": [
        {
          "data": {
            "application/javascript": "\n    async function download(id, filename, size) {\n      if (!google.colab.kernel.accessAllowed) {\n        return;\n      }\n      const div = document.createElement('div');\n      const label = document.createElement('label');\n      label.textContent = `Downloading \"${filename}\": `;\n      div.appendChild(label);\n      const progress = document.createElement('progress');\n      progress.max = size;\n      div.appendChild(progress);\n      document.body.appendChild(div);\n\n      const buffers = [];\n      let downloaded = 0;\n\n      const channel = await google.colab.kernel.comms.open(id);\n      // Send a message to notify the kernel that we're ready.\n      channel.send({})\n\n      for await (const message of channel.messages) {\n        // Send a message to notify the kernel that we're ready.\n        channel.send({})\n        if (message.buffers) {\n          for (const buffer of message.buffers) {\n            buffers.push(buffer);\n            downloaded += buffer.byteLength;\n            progress.value = downloaded;\n          }\n        }\n      }\n      const blob = new Blob(buffers, {type: 'application/binary'});\n      const a = document.createElement('a');\n      a.href = window.URL.createObjectURL(blob);\n      a.download = filename;\n      div.appendChild(a);\n      a.click();\n      div.remove();\n    }\n  ",
            "text/plain": [
              "<IPython.core.display.Javascript object>"
            ]
          },
          "metadata": {},
          "output_type": "display_data"
        },
        {
          "data": {
            "application/javascript": "download(\"download_65f2c0e2-77f2-42b1-b02b-59f0aa57affc\", \"ENSM_Optimized_Cov_7_SMOTE.csv\", 459)",
            "text/plain": [
              "<IPython.core.display.Javascript object>"
            ]
          },
          "metadata": {},
          "output_type": "display_data"
        }
      ],
      "source": [
        "from google.colab import files\n",
        "\n",
        "pred_ensm_7 = pd.DataFrame({'ID': range(1, 92), 'Placement': y_ensm_pred_7})\n",
        "\n",
        "with open('ENSM_Optimized_Cov_7_SMOTE.csv', 'w') as file:\n",
        "    pred_ensm_7.to_csv(file, index = False, header = True)\n",
        "\n",
        "files.download('ENSM_Optimized_Cov_7_SMOTE.csv')"
      ]
    },
    {
      "cell_type": "markdown",
      "metadata": {
        "id": "rcEQgQCIedlb"
      },
      "source": [
        "# 17 - DT"
      ]
    },
    {
      "cell_type": "code",
      "execution_count": null,
      "metadata": {
        "id": "RUadRlUy210Q"
      },
      "outputs": [],
      "source": [
        "y_mlp_fit = ensm_model_7.predict(X_numerical_new)\n",
        "y_svc_fit = svc_model.predict(X_numerical)\n",
        "\n",
        "y_mlp_pred = ensm_model_7.predict(X_numerical_test_new)\n",
        "y_svc_pred = svc_model.predict(X_numerical_test)\n",
        "\n",
        "X_full_dt = np.column_stack((X_numerical, y_mlp_fit, y_svc_fit))\n",
        "X_full_test_dt = np.column_stack((X_numerical_test, y_mlp_pred, y_svc_pred))"
      ]
    },
    {
      "cell_type": "code",
      "execution_count": null,
      "metadata": {
        "id": "CqNmWKuRBOhr"
      },
      "outputs": [],
      "source": [
        "np.random.seed(2025)\n",
        "dt_model = DecisionTreeClassifier(criterion = 'entropy', max_depth = 18, min_samples_leaf = 47, min_samples_split = 22, splitter = 'random', random_state = 2025)\n",
        "dt_model.fit(X_full_dt, y)\n",
        "y_dt_ensm_pred = dt_model.predict(X_full_test_dt)"
      ]
    },
    {
      "cell_type": "code",
      "execution_count": null,
      "metadata": {
        "colab": {
          "base_uri": "https://localhost:8080/",
          "height": 17
        },
        "id": "CIXz4u_S3ZZu",
        "outputId": "fc74b659-aa99-46f7-ce6f-6476334df8a5"
      },
      "outputs": [
        {
          "data": {
            "application/javascript": "\n    async function download(id, filename, size) {\n      if (!google.colab.kernel.accessAllowed) {\n        return;\n      }\n      const div = document.createElement('div');\n      const label = document.createElement('label');\n      label.textContent = `Downloading \"${filename}\": `;\n      div.appendChild(label);\n      const progress = document.createElement('progress');\n      progress.max = size;\n      div.appendChild(progress);\n      document.body.appendChild(div);\n\n      const buffers = [];\n      let downloaded = 0;\n\n      const channel = await google.colab.kernel.comms.open(id);\n      // Send a message to notify the kernel that we're ready.\n      channel.send({})\n\n      for await (const message of channel.messages) {\n        // Send a message to notify the kernel that we're ready.\n        channel.send({})\n        if (message.buffers) {\n          for (const buffer of message.buffers) {\n            buffers.push(buffer);\n            downloaded += buffer.byteLength;\n            progress.value = downloaded;\n          }\n        }\n      }\n      const blob = new Blob(buffers, {type: 'application/binary'});\n      const a = document.createElement('a');\n      a.href = window.URL.createObjectURL(blob);\n      a.download = filename;\n      div.appendChild(a);\n      a.click();\n      div.remove();\n    }\n  ",
            "text/plain": [
              "<IPython.core.display.Javascript object>"
            ]
          },
          "metadata": {},
          "output_type": "display_data"
        },
        {
          "data": {
            "application/javascript": "download(\"download_5a762987-0b01-49c5-aa58-334d65b68d19\", \"DT_ENSM_Cov.csv\", 459)",
            "text/plain": [
              "<IPython.core.display.Javascript object>"
            ]
          },
          "metadata": {},
          "output_type": "display_data"
        }
      ],
      "source": [
        "from google.colab import files\n",
        "\n",
        "pred_dt_ensm = pd.DataFrame({'ID': range(1, 92), 'Placement': y_dt_ensm_pred})\n",
        "\n",
        "with open('DT_ENSM_Cov.csv', 'w') as file:\n",
        "    pred_dt_ensm.to_csv(file, index = False, header = True)\n",
        "\n",
        "files.download('DT_ENSM_Cov.csv')"
      ]
    },
    {
      "cell_type": "markdown",
      "metadata": {
        "id": "Zkgsx-lYpmSI"
      },
      "source": [
        "# 18- Skew PNN"
      ]
    },
    {
      "cell_type": "code",
      "execution_count": null,
      "metadata": {
        "id": "49AFQmYyplmc"
      },
      "outputs": [],
      "source": [
        "import numpy as np\n",
        "from scipy.stats import norm\n",
        "from sklearn.base import BaseEstimator, ClassifierMixin\n",
        "from sklearn.utils.validation import check_X_y, check_array, check_is_fitted\n",
        "from sklearn.preprocessing import LabelEncoder\n",
        "from sklearn.metrics import accuracy_score\n",
        "import matplotlib.pyplot as plt\n",
        "from sklearn.metrics import classification_report, confusion_matrix"
      ]
    },
    {
      "cell_type": "code",
      "execution_count": null,
      "metadata": {
        "id": "uIAzV6-PpSOX"
      },
      "outputs": [],
      "source": [
        "import numpy as np\n",
        "from scipy.stats import norm\n",
        "from sklearn.base import BaseEstimator, ClassifierMixin\n",
        "from sklearn.utils.validation import check_X_y, check_array, check_is_fitted\n",
        "from sklearn.preprocessing import LabelEncoder\n",
        "from sklearn.metrics import accuracy_score\n",
        "import matplotlib.pyplot as plt\n",
        "from sklearn.metrics import classification_report, confusion_matrix\n",
        "\n",
        "class SkewPNN(BaseEstimator, ClassifierMixin):\n",
        "    def __init__(self, sigma=1.0, alpha=0.0):\n",
        "        self.sigma = sigma\n",
        "        self.alpha = alpha\n",
        "\n",
        "    def _skew_normal_kernel(self, x, xi):\n",
        "        d = np.linalg.norm(x - xi)\n",
        "        gaussian_part = np.exp(-(d**2) / (2 * self.sigma**2))\n",
        "        skew_part = norm.cdf(self.alpha * (d / self.sigma))\n",
        "        return 2 * gaussian_part * skew_part\n",
        "\n",
        "    def fit(self, X, y):\n",
        "        X, y = check_X_y(X, y)\n",
        "        self.classes_ = np.unique(y)\n",
        "        self.X_ = X\n",
        "        self.y_ = y\n",
        "        self.label_encoder_ = LabelEncoder()\n",
        "        self.y_encoded_ = self.label_encoder_.fit_transform(y)\n",
        "        return self\n",
        "\n",
        "    def predict_proba(self, X):\n",
        "        check_is_fitted(self)\n",
        "        X = check_array(X)\n",
        "\n",
        "        n_samples = X.shape[0]\n",
        "        n_classes = len(self.classes_)\n",
        "        probabilities = np.zeros((n_samples, n_classes))\n",
        "\n",
        "        for i in range(n_samples):\n",
        "            class_sums = np.zeros(n_classes)\n",
        "\n",
        "            for j in range(len(self.X_)):\n",
        "                kernel_val = self._skew_normal_kernel(X[i], self.X_[j])\n",
        "                class_idx = self.y_encoded_[j]\n",
        "                class_sums[class_idx] += kernel_val\n",
        "\n",
        "            class_counts = np.bincount(self.y_encoded_, minlength=n_classes)\n",
        "            class_probs = class_sums / (class_counts + 1e-10)\n",
        "\n",
        "            class_probs = class_probs / (class_probs.sum() + 1e-10)\n",
        "            probabilities[i] = class_probs\n",
        "\n",
        "        return probabilities\n",
        "\n",
        "    def predict(self, X):\n",
        "        proba = self.predict_proba(X)\n",
        "        return self.classes_[np.argmax(proba, axis=1)]\n",
        "\n",
        "    def score(self, X, y):\n",
        "        return accuracy_score(y, self.predict(X))"
      ]
    },
    {
      "cell_type": "code",
      "execution_count": null,
      "metadata": {
        "id": "09ajv2ULqrgr"
      },
      "outputs": [],
      "source": [
        "params = {\n",
        "    'sigma': Real(1e-2, 10.0, prior = 'log-uniform'),\n",
        "    'alpha': Real(-10.0, 10.0, prior = 'uniform'),\n",
        "}\n",
        "\n",
        "np.random.seed(2025)\n",
        "pnn_model = SkewPNN()"
      ]
    },
    {
      "cell_type": "code",
      "execution_count": null,
      "metadata": {
        "id": "fH4qBmWOqrgr"
      },
      "outputs": [],
      "source": [
        "np.random.seed(2025)\n",
        "pnn_grid = BayesSearchCV(pnn_model, search_spaces = params, cv = split_num, n_iter = 50, n_jobs = -1, scoring = 'f1_macro')\n",
        "np.random.seed(2025)\n",
        "pnn_grid.fit(X_temp_num, y_temp_num)\n",
        "print('Best Parameters:', pnn_grid.best_params_)"
      ]
    },
    {
      "cell_type": "code",
      "execution_count": null,
      "metadata": {
        "id": "Te-0W79Mqrgr"
      },
      "outputs": [],
      "source": [
        "np.random.seed(2025)\n",
        "pnn_model = SkewPNN(alpha = -10.0, sigma = 2.0660987593776685)\n",
        "np.random.seed(2025)\n",
        "pnn_model.fit(X_temp_num, y_temp_num)\n",
        "y_pnn_pred = pnn_model.predict(X_test_num)\n",
        "\n",
        "print(classification_report(y_test, y_pnn_pred, zero_division = 1))"
      ]
    },
    {
      "cell_type": "code",
      "execution_count": null,
      "metadata": {
        "id": "m6La3jpRqrgr"
      },
      "outputs": [],
      "source": [
        "np.random.seed(2025)\n",
        "pnn_model.fit(X_numerical, y)\n",
        "y_pnn = pnn_model.predict(X_numerical_test)"
      ]
    },
    {
      "cell_type": "code",
      "execution_count": null,
      "metadata": {
        "colab": {
          "base_uri": "https://localhost:8080/",
          "height": 17
        },
        "id": "m4p2EwEIqrgs",
        "outputId": "a636014e-54b1-4666-aa40-4722c4800e5e"
      },
      "outputs": [
        {
          "data": {
            "application/javascript": "\n    async function download(id, filename, size) {\n      if (!google.colab.kernel.accessAllowed) {\n        return;\n      }\n      const div = document.createElement('div');\n      const label = document.createElement('label');\n      label.textContent = `Downloading \"${filename}\": `;\n      div.appendChild(label);\n      const progress = document.createElement('progress');\n      progress.max = size;\n      div.appendChild(progress);\n      document.body.appendChild(div);\n\n      const buffers = [];\n      let downloaded = 0;\n\n      const channel = await google.colab.kernel.comms.open(id);\n      // Send a message to notify the kernel that we're ready.\n      channel.send({})\n\n      for await (const message of channel.messages) {\n        // Send a message to notify the kernel that we're ready.\n        channel.send({})\n        if (message.buffers) {\n          for (const buffer of message.buffers) {\n            buffers.push(buffer);\n            downloaded += buffer.byteLength;\n            progress.value = downloaded;\n          }\n        }\n      }\n      const blob = new Blob(buffers, {type: 'application/binary'});\n      const a = document.createElement('a');\n      a.href = window.URL.createObjectURL(blob);\n      a.download = filename;\n      div.appendChild(a);\n      a.click();\n      div.remove();\n    }\n  ",
            "text/plain": [
              "<IPython.core.display.Javascript object>"
            ]
          },
          "metadata": {},
          "output_type": "display_data"
        },
        {
          "data": {
            "application/javascript": "download(\"download_7a986483-417a-484c-8e59-ada957802e35\", \"PNN_Optimized_Cov.csv\", 459)",
            "text/plain": [
              "<IPython.core.display.Javascript object>"
            ]
          },
          "metadata": {},
          "output_type": "display_data"
        }
      ],
      "source": [
        "from google.colab import files\n",
        "\n",
        "pred_pnn = pd.DataFrame({'ID': range(1, 92), 'Placement': y_pnn})\n",
        "\n",
        "with open('PNN_Optimized_Cov.csv', 'w') as file:\n",
        "    pred_pnn.to_csv(file, index = False, header = True)\n",
        "\n",
        "files.download('PNN_Optimized_Cov.csv')"
      ]
    },
    {
      "cell_type": "markdown",
      "metadata": {
        "id": "AOOTJE0izFSU"
      },
      "source": [
        "# 19- Skew PNN - RBF, Sigmoid, Guassian"
      ]
    },
    {
      "cell_type": "code",
      "execution_count": null,
      "metadata": {
        "id": "l4PQBr6SzLX3"
      },
      "outputs": [],
      "source": [
        "from sklearn.base import BaseEstimator, ClassifierMixin\n",
        "from sklearn.preprocessing import LabelEncoder\n",
        "from sklearn.utils.validation import check_X_y, check_array, check_is_fitted\n",
        "from sklearn.metrics import accuracy_score\n",
        "from scipy.stats import norm\n",
        "import numpy as np\n",
        "\n",
        "class SkewPNN(BaseEstimator, ClassifierMixin):\n",
        "    def __init__(self, sigma=1.0, alpha=0.0, kernel='skew'):\n",
        "        self.sigma = sigma\n",
        "        self.alpha = alpha\n",
        "        self.kernel = kernel\n",
        "\n",
        "    def _kernel_func(self, x, xi):\n",
        "        d = np.linalg.norm(x - xi)\n",
        "\n",
        "        if self.kernel == 'skew':\n",
        "            gaussian = np.exp(-(d**2) / (2 * self.sigma**2))\n",
        "            skew = norm.cdf(self.alpha * (d / self.sigma))\n",
        "            return 2 * gaussian * skew\n",
        "\n",
        "        elif self.kernel == 'gaussian' or self.kernel == 'rbf':\n",
        "            return np.exp(-(d**2) / (2 * self.sigma**2))\n",
        "\n",
        "        elif self.kernel == 'sigmoid':\n",
        "            gamma = 1.0 / (2 * self.sigma**2)\n",
        "            coef0 = 0\n",
        "            return np.tanh(gamma * np.dot(x, xi) + coef0)\n",
        "\n",
        "        else:\n",
        "            raise ValueError(f\"Unsupported kernel type: {self.kernel}\")\n",
        "\n",
        "    def fit(self, X, y):\n",
        "        X, y = check_X_y(X, y)\n",
        "        self.classes_ = np.unique(y)\n",
        "        self.X_ = X\n",
        "        self.y_ = y\n",
        "        self.label_encoder_ = LabelEncoder()\n",
        "        self.y_encoded_ = self.label_encoder_.fit_transform(y)\n",
        "        return self\n",
        "\n",
        "    def predict_proba(self, X):\n",
        "        check_is_fitted(self)\n",
        "        X = check_array(X)\n",
        "        n_samples, n_classes = X.shape[0], len(self.classes_)\n",
        "        probabilities = np.zeros((n_samples, n_classes))\n",
        "\n",
        "        for i in range(n_samples):\n",
        "            class_sums = np.zeros(n_classes)\n",
        "            for j in range(len(self.X_)):\n",
        "                k_val = self._kernel_func(X[i], self.X_[j])\n",
        "                class_idx = self.y_encoded_[j]\n",
        "                class_sums[class_idx] += k_val\n",
        "\n",
        "            class_counts = np.bincount(self.y_encoded_, minlength=n_classes)\n",
        "            class_probs = class_sums / (class_counts + 1e-10)\n",
        "            class_probs /= (class_probs.sum() + 1e-10)\n",
        "            probabilities[i] = class_probs\n",
        "\n",
        "        return probabilities\n",
        "\n",
        "    def predict(self, X):\n",
        "        return self.classes_[np.argmax(self.predict_proba(X), axis=1)]\n",
        "\n",
        "    def score(self, X, y):\n",
        "        return accuracy_score(y, self.predict(X))"
      ]
    },
    {
      "cell_type": "code",
      "execution_count": null,
      "metadata": {
        "id": "whs3NFuBzP1c"
      },
      "outputs": [],
      "source": [
        "params = {\n",
        "    'sigma': Real(1e-2, 10.0, prior = 'log-uniform'),\n",
        "    'alpha': Real(-10.0, 10.0, prior = 'uniform'),\n",
        "    'kernel': Categorical(['gaussian', 'skew', 'rbf', 'sigmoid'])\n",
        "\n",
        "}\n",
        "\n",
        "np.random.seed(2025)\n",
        "pnn_model = SkewPNN()"
      ]
    },
    {
      "cell_type": "code",
      "execution_count": null,
      "metadata": {
        "id": "I_NDLY7ezP1d"
      },
      "outputs": [],
      "source": [
        "np.random.seed(2025)\n",
        "pnn_grid = BayesSearchCV(pnn_model, search_spaces = params, cv = split_num, n_iter = 50, n_jobs = -1, scoring = 'f1_macro')\n",
        "np.random.seed(2025)\n",
        "pnn_grid.fit(X_temp_num, y_temp_num)\n",
        "print('Best Parameters:', pnn_grid.best_params_)"
      ]
    },
    {
      "cell_type": "code",
      "execution_count": null,
      "metadata": {
        "id": "1_hRPv_CzP1d"
      },
      "outputs": [],
      "source": [
        "np.random.seed(2025)\n",
        "pnn_model = SkewPNN(alpha = 6.441581136969965, sigma = 0.13031791379887442, kernel = 'skew')\n",
        "np.random.seed(2025)\n",
        "pnn_model.fit(X_temp_num, y_temp_num)\n",
        "y_pnn_pred = pnn_model.predict(X_test_num)\n",
        "\n",
        "print(classification_report(y_test, y_pnn_pred, zero_division = 1))"
      ]
    },
    {
      "cell_type": "code",
      "execution_count": null,
      "metadata": {
        "id": "sa_6BRhHzP1d"
      },
      "outputs": [],
      "source": [
        "np.random.seed(2025)\n",
        "pnn_model.fit(X_numerical, y)\n",
        "y_pnn = pnn_model.predict(X_numerical_test)"
      ]
    },
    {
      "cell_type": "code",
      "execution_count": null,
      "metadata": {
        "colab": {
          "base_uri": "https://localhost:8080/",
          "height": 17
        },
        "id": "veVpP4VBzP1d",
        "outputId": "8738c8b3-d2c0-4608-9472-ef85bae0d9ca"
      },
      "outputs": [
        {
          "data": {
            "application/javascript": "\n    async function download(id, filename, size) {\n      if (!google.colab.kernel.accessAllowed) {\n        return;\n      }\n      const div = document.createElement('div');\n      const label = document.createElement('label');\n      label.textContent = `Downloading \"${filename}\": `;\n      div.appendChild(label);\n      const progress = document.createElement('progress');\n      progress.max = size;\n      div.appendChild(progress);\n      document.body.appendChild(div);\n\n      const buffers = [];\n      let downloaded = 0;\n\n      const channel = await google.colab.kernel.comms.open(id);\n      // Send a message to notify the kernel that we're ready.\n      channel.send({})\n\n      for await (const message of channel.messages) {\n        // Send a message to notify the kernel that we're ready.\n        channel.send({})\n        if (message.buffers) {\n          for (const buffer of message.buffers) {\n            buffers.push(buffer);\n            downloaded += buffer.byteLength;\n            progress.value = downloaded;\n          }\n        }\n      }\n      const blob = new Blob(buffers, {type: 'application/binary'});\n      const a = document.createElement('a');\n      a.href = window.URL.createObjectURL(blob);\n      a.download = filename;\n      div.appendChild(a);\n      a.click();\n      div.remove();\n    }\n  ",
            "text/plain": [
              "<IPython.core.display.Javascript object>"
            ]
          },
          "metadata": {},
          "output_type": "display_data"
        },
        {
          "data": {
            "application/javascript": "download(\"download_492c9d3d-db4e-4f37-b9a7-76022556b5ee\", \"Skew_PNN_Optimized_Cov.csv\", 459)",
            "text/plain": [
              "<IPython.core.display.Javascript object>"
            ]
          },
          "metadata": {},
          "output_type": "display_data"
        }
      ],
      "source": [
        "from google.colab import files\n",
        "\n",
        "pred_pnn = pd.DataFrame({'ID': range(1, 92), 'Placement': y_pnn})\n",
        "\n",
        "with open('Skew_PNN_Optimized_Cov.csv', 'w') as file:\n",
        "    pred_pnn.to_csv(file, index = False, header = True)\n",
        "\n",
        "files.download('Skew_PNN_Optimized_Cov.csv')"
      ]
    },
    {
      "cell_type": "markdown",
      "metadata": {
        "id": "-dfn-ZlDFED_"
      },
      "source": [
        "# Skew SVM"
      ]
    },
    {
      "cell_type": "code",
      "execution_count": null,
      "metadata": {
        "id": "O-Fu3irAFJtq"
      },
      "outputs": [],
      "source": [
        "import numpy as np\n",
        "from scipy.stats import norm\n",
        "from sklearn.base import BaseEstimator, ClassifierMixin\n",
        "from sklearn.svm import SVC\n",
        "from sklearn.utils.validation import check_X_y, check_array, check_is_fitted\n",
        "from sklearn.preprocessing import LabelEncoder"
      ]
    },
    {
      "cell_type": "code",
      "execution_count": null,
      "metadata": {
        "id": "aBIrTZIkFREa"
      },
      "outputs": [],
      "source": [
        "class SkewNormalKernel:\n",
        "    def __init__(self, sigma = 1.0, alpha = 0.0):\n",
        "        self.sigma = sigma\n",
        "        self.alpha = alpha\n",
        "\n",
        "    def __call__(self, X, Y=None):\n",
        "        if Y is None:\n",
        "            Y = X\n",
        "\n",
        "        X_sq = np.sum(X**2, axis=1)[:, np.newaxis]\n",
        "        Y_sq = np.sum(Y**2, axis=1)[np.newaxis, :]\n",
        "        distances_sq = X_sq + Y_sq - 2 * np.dot(X, Y.T)\n",
        "        distances = np.sqrt(np.maximum(distances_sq, 0))\n",
        "\n",
        "        gaussian_part = np.exp(-distances_sq / (2 * self.sigma**2))\n",
        "        skew_part = norm.cdf(self.alpha * distances / self.sigma)\n",
        "        return 2 * gaussian_part * skew_part\n",
        "\n",
        "class SkewSVM(BaseEstimator, ClassifierMixin):\n",
        "    def __init__(self, C = 1.0, sigma = 1.0, alpha = 0.0, kernel = 'skew_normal', max_iter = -1, random_state = None):\n",
        "\n",
        "        self.C = C\n",
        "        self.sigma = sigma\n",
        "        self.alpha = alpha\n",
        "        self.kernel = kernel\n",
        "        self.max_iter = max_iter\n",
        "        self.random_state = random_state\n",
        "\n",
        "    def fit(self, X, y):\n",
        "        X, y = check_X_y(X, y)\n",
        "        self.classes_ = np.unique(y)\n",
        "        self.X_ = X\n",
        "        self.y_ = y\n",
        "\n",
        "        self.label_encoder_ = LabelEncoder()\n",
        "        y_encoded = self.label_encoder_.fit_transform(y)\n",
        "\n",
        "        if self.kernel == 'skew_normal':\n",
        "            kernel_func = SkewNormalKernel(sigma = self.sigma, alpha = self.alpha)\n",
        "            K = kernel_func(X)\n",
        "        else:\n",
        "            raise ValueError(\"Only 'skew_normal' kernel is currently supported\")\n",
        "\n",
        "        self.svm_ = SVC(\n",
        "            C = self.C,\n",
        "            kernel = 'precomputed',\n",
        "            max_iter = self.max_iter,\n",
        "            random_state = self.random_state\n",
        "        )\n",
        "        self.svm_.fit(K, y_encoded)\n",
        "\n",
        "        return self\n",
        "\n",
        "    def predict(self, X):\n",
        "        check_is_fitted(self)\n",
        "        X = check_array(X)\n",
        "\n",
        "        kernel_func = SkewNormalKernel(sigma=self.sigma, alpha=self.alpha)\n",
        "        K_test = kernel_func(X, self.X_)\n",
        "\n",
        "        y_pred_encoded = self.svm_.predict(K_test)\n",
        "        return self.label_encoder_.inverse_transform(y_pred_encoded)\n",
        "\n",
        "    def decision_function(self, X):\n",
        "        check_is_fitted(self)\n",
        "        X = check_array(X)\n",
        "\n",
        "        kernel_func = SkewNormalKernel(sigma=self.sigma, alpha=self.alpha)\n",
        "        K_test = kernel_func(X, self.X_)\n",
        "        return self.svm_.decision_function(K_test)"
      ]
    },
    {
      "cell_type": "code",
      "execution_count": null,
      "metadata": {
        "id": "8nh6fd5aQG8g"
      },
      "outputs": [],
      "source": [
        "params = {\n",
        "    'C': Real(1e-2, 1e+3, prior = 'log-uniform'),\n",
        "    'sigma': Real(0.1, 5.0, prior = 'uniform'),\n",
        "    'alpha': Real(0.1, 5.0, prior = 'uniform')\n",
        "}\n",
        "\n",
        "np.random.seed(2025)\n",
        "svm_model = SkewSVM(random_state = 2025)"
      ]
    },
    {
      "cell_type": "code",
      "execution_count": null,
      "metadata": {
        "id": "yTnEdVI6QG8h"
      },
      "outputs": [],
      "source": [
        "np.random.seed(2025)\n",
        "svm_grid = BayesSearchCV(svm_model, search_spaces = params, cv = split_num, n_iter = 50, n_jobs = -1, scoring = 'f1_macro')\n",
        "np.random.seed(2025)\n",
        "svm_grid.fit(X_temp_num, y_temp_num)\n",
        "print('Best Parameters:', svm_grid.best_params_)"
      ]
    },
    {
      "cell_type": "code",
      "execution_count": null,
      "metadata": {
        "colab": {
          "base_uri": "https://localhost:8080/"
        },
        "id": "t2z2lIqeQG8h",
        "outputId": "d5d5c62b-5e11-4f94-982c-98c7b9b98e44"
      },
      "outputs": [
        {
          "name": "stdout",
          "output_type": "stream",
          "text": [
            "              precision    recall  f1-score   support\n",
            "\n",
            "           0       1.00      0.97      0.99        36\n",
            "           1       0.90      1.00      0.95         9\n",
            "\n",
            "    accuracy                           0.98        45\n",
            "   macro avg       0.95      0.99      0.97        45\n",
            "weighted avg       0.98      0.98      0.98        45\n",
            "\n"
          ]
        }
      ],
      "source": [
        "np.random.seed(2025)\n",
        "svm_model = SkewSVM(C = 52.236208912456775, alpha = 1.0, sigma = 0.3592066419141987, random_state = 2025)\n",
        "np.random.seed(2025)\n",
        "svm_model.fit(X_temp_num, y_temp_num)\n",
        "y_svm_pred = svm_model.predict(X_test_num)\n",
        "\n",
        "print(classification_report(y_test, y_svm_pred, zero_division = 1))"
      ]
    },
    {
      "cell_type": "code",
      "execution_count": null,
      "metadata": {
        "id": "4iZQKGAJQG8h"
      },
      "outputs": [],
      "source": [
        "np.random.seed(2025)\n",
        "svm_model.fit(X_numerical, y)\n",
        "y_svm = svm_model.predict(X_numerical_test)"
      ]
    },
    {
      "cell_type": "code",
      "execution_count": null,
      "metadata": {
        "colab": {
          "base_uri": "https://localhost:8080/",
          "height": 17
        },
        "id": "A65mlR0xQG8i",
        "outputId": "84d3ac4d-f88b-425a-a3d7-d2247d41943c"
      },
      "outputs": [
        {
          "data": {
            "application/javascript": "\n    async function download(id, filename, size) {\n      if (!google.colab.kernel.accessAllowed) {\n        return;\n      }\n      const div = document.createElement('div');\n      const label = document.createElement('label');\n      label.textContent = `Downloading \"${filename}\": `;\n      div.appendChild(label);\n      const progress = document.createElement('progress');\n      progress.max = size;\n      div.appendChild(progress);\n      document.body.appendChild(div);\n\n      const buffers = [];\n      let downloaded = 0;\n\n      const channel = await google.colab.kernel.comms.open(id);\n      // Send a message to notify the kernel that we're ready.\n      channel.send({})\n\n      for await (const message of channel.messages) {\n        // Send a message to notify the kernel that we're ready.\n        channel.send({})\n        if (message.buffers) {\n          for (const buffer of message.buffers) {\n            buffers.push(buffer);\n            downloaded += buffer.byteLength;\n            progress.value = downloaded;\n          }\n        }\n      }\n      const blob = new Blob(buffers, {type: 'application/binary'});\n      const a = document.createElement('a');\n      a.href = window.URL.createObjectURL(blob);\n      a.download = filename;\n      div.appendChild(a);\n      a.click();\n      div.remove();\n    }\n  ",
            "text/plain": [
              "<IPython.core.display.Javascript object>"
            ]
          },
          "metadata": {},
          "output_type": "display_data"
        },
        {
          "data": {
            "application/javascript": "download(\"download_9e7e38df-2f1c-47e9-b031-4c480d568a72\", \"Skew_SVM_Optimized_Cov.csv\", 459)",
            "text/plain": [
              "<IPython.core.display.Javascript object>"
            ]
          },
          "metadata": {},
          "output_type": "display_data"
        }
      ],
      "source": [
        "from google.colab import files\n",
        "\n",
        "pred_svm = pd.DataFrame({'ID': range(1, 92), 'Placement': y_svm})\n",
        "\n",
        "with open('Skew_SVM_Optimized_Cov.csv', 'w') as file:\n",
        "    pred_svm.to_csv(file, index = False, header = True)\n",
        "\n",
        "files.download('Skew_SVM_Optimized_Cov.csv')"
      ]
    },
    {
      "cell_type": "markdown",
      "metadata": {
        "id": "ouRTNdFOaedI"
      },
      "source": [
        "# 20- Balanced RF\n"
      ]
    },
    {
      "cell_type": "code",
      "execution_count": null,
      "metadata": {
        "id": "FvST6YlrbAwi"
      },
      "outputs": [],
      "source": [
        "params = {\n",
        "    'n_estimators': Integer(50, 300),\n",
        "    'max_depth': Integer(3, 30),\n",
        "    'min_samples_split': Integer(2, 20),\n",
        "    'min_samples_leaf': Integer(1, 10),\n",
        "    'max_features': Categorical(['sqrt', 'log2', None]),\n",
        "    'bootstrap': Categorical([True, False]),\n",
        "    'replacement': Categorical([True, False]),\n",
        "    'sampling_strategy': Categorical(['auto', 'all', 'majority', 'not minority', 'not majority']),\n",
        "    'class_weight': Categorical([None, 'balanced', 'balanced_subsample']),\n",
        "    'ccp_alpha': Real(0.0, 0.1),\n",
        "}\n",
        "\n",
        "rf_balanced_model = BalancedRandomForestClassifier(random_state = 2025)\n",
        "\n",
        "y_knn = knn_model.predict(X_temp)\n",
        "y_xgb = xgb_model.predict(X_temp_num)\n",
        "X_temp_new = np.column_stack([X_temp, y_knn, y_xgb])"
      ]
    },
    {
      "cell_type": "code",
      "execution_count": null,
      "metadata": {
        "id": "ua-ue4dObAwj"
      },
      "outputs": [],
      "source": [
        "np.random.seed(2025)\n",
        "rf_balanced_grid = BayesSearchCV(rf_balanced_model, search_spaces = params, cv = split, n_iter = 50, n_jobs = -1, scoring = 'f1_macro')\n",
        "rf_balanced_grid.fit(X_temp_new, y_temp)\n",
        "print('Best Parameters:', rf_balanced_grid.best_params_)"
      ]
    },
    {
      "cell_type": "code",
      "execution_count": null,
      "metadata": {
        "id": "5BoM4v74aqhh"
      },
      "outputs": [],
      "source": [
        "y_xgb_fit = xgb_model.predict(X_numerical)\n",
        "y_knn_fit = knn_model.predict(X_full)\n",
        "X_full_new = np.column_stack((X_full, y_xgb_fit, y_knn_fit))\n",
        "\n",
        "y_xgb_pred = xgb_model.predict(X_numerical_test)\n",
        "y_knn_pred = knn_model.predict(X_full_test)\n",
        "X_full_test_new = np.column_stack((X_full_test, y_xgb_pred, y_knn_pred))"
      ]
    },
    {
      "cell_type": "code",
      "execution_count": null,
      "metadata": {
        "id": "ZaBWWgMTaqhh"
      },
      "outputs": [],
      "source": [
        "np.random.seed(2025)\n",
        "rf_balanced_model = BalancedRandomForestClassifier(bootstrap = False,\n",
        "                                                   ccp_alpha = 0.0,\n",
        "                                                   class_weight = 'balanced_subsample',\n",
        "                                                   max_depth = 3,\n",
        "                                                   max_features = None,\n",
        "                                                   min_samples_leaf = 1,\n",
        "                                                   min_samples_split = 2,\n",
        "                                                   n_estimators = 300,\n",
        "                                                   replacement = False,\n",
        "                                                   sampling_strategy = 'all',\n",
        "                                                   random_state = 2025)\n",
        "rf_balanced_model.fit(X_full_new, y)\n",
        "y_rf_balanced_pred = rf_balanced_model.predict(X_full_test_new)"
      ]
    },
    {
      "cell_type": "code",
      "execution_count": null,
      "metadata": {
        "colab": {
          "base_uri": "https://localhost:8080/",
          "height": 17
        },
        "id": "wSlZU-Ncaqhh",
        "outputId": "44d60c1f-7bb7-4bca-f5ac-8725fdbf85d9"
      },
      "outputs": [
        {
          "data": {
            "application/javascript": "\n    async function download(id, filename, size) {\n      if (!google.colab.kernel.accessAllowed) {\n        return;\n      }\n      const div = document.createElement('div');\n      const label = document.createElement('label');\n      label.textContent = `Downloading \"${filename}\": `;\n      div.appendChild(label);\n      const progress = document.createElement('progress');\n      progress.max = size;\n      div.appendChild(progress);\n      document.body.appendChild(div);\n\n      const buffers = [];\n      let downloaded = 0;\n\n      const channel = await google.colab.kernel.comms.open(id);\n      // Send a message to notify the kernel that we're ready.\n      channel.send({})\n\n      for await (const message of channel.messages) {\n        // Send a message to notify the kernel that we're ready.\n        channel.send({})\n        if (message.buffers) {\n          for (const buffer of message.buffers) {\n            buffers.push(buffer);\n            downloaded += buffer.byteLength;\n            progress.value = downloaded;\n          }\n        }\n      }\n      const blob = new Blob(buffers, {type: 'application/binary'});\n      const a = document.createElement('a');\n      a.href = window.URL.createObjectURL(blob);\n      a.download = filename;\n      div.appendChild(a);\n      a.click();\n      div.remove();\n    }\n  ",
            "text/plain": [
              "<IPython.core.display.Javascript object>"
            ]
          },
          "metadata": {},
          "output_type": "display_data"
        },
        {
          "data": {
            "application/javascript": "download(\"download_f67a3a29-5b17-42d8-b351-ea4a53bdb93b\", \"RF_ENSM_Optimized_Cov.csv\", 459)",
            "text/plain": [
              "<IPython.core.display.Javascript object>"
            ]
          },
          "metadata": {},
          "output_type": "display_data"
        }
      ],
      "source": [
        "from google.colab import files\n",
        "\n",
        "pred_rf_balanced = pd.DataFrame({'ID': range(1, 92), 'Placement': y_rf_balanced_pred})\n",
        "\n",
        "with open('RF_ENSM_Optimized_Cov.csv', 'w') as file:\n",
        "    pred_rf_balanced.to_csv(file, index = False, header = True)\n",
        "\n",
        "files.download('RF_ENSM_Optimized_Cov.csv')"
      ]
    },
    {
      "cell_type": "markdown",
      "metadata": {
        "id": "3v8J_NOohO6U"
      },
      "source": [
        "# 20- Balanced RF - GHOST"
      ]
    },
    {
      "cell_type": "code",
      "execution_count": null,
      "metadata": {
        "colab": {
          "base_uri": "https://localhost:8080/"
        },
        "id": "fqIFJC9XljyX",
        "outputId": "38dad7bd-7f59-424b-d869-8214c10bbf9d"
      },
      "outputs": [
        {
          "name": "stdout",
          "output_type": "stream",
          "text": [
            "Collecting ghostml\n",
            "  Downloading ghostml-0.3.0-py3-none-any.whl.metadata (4.1 kB)\n",
            "Requirement already satisfied: numpy in /usr/local/lib/python3.11/dist-packages (from ghostml) (2.0.2)\n",
            "Requirement already satisfied: pandas in /usr/local/lib/python3.11/dist-packages (from ghostml) (2.2.2)\n",
            "Requirement already satisfied: scikit-learn>=0.22 in /usr/local/lib/python3.11/dist-packages (from ghostml) (1.6.1)\n",
            "Requirement already satisfied: scipy>=1.6.0 in /usr/local/lib/python3.11/dist-packages (from scikit-learn>=0.22->ghostml) (1.14.1)\n",
            "Requirement already satisfied: joblib>=1.2.0 in /usr/local/lib/python3.11/dist-packages (from scikit-learn>=0.22->ghostml) (1.4.2)\n",
            "Requirement already satisfied: threadpoolctl>=3.1.0 in /usr/local/lib/python3.11/dist-packages (from scikit-learn>=0.22->ghostml) (3.6.0)\n",
            "Requirement already satisfied: python-dateutil>=2.8.2 in /usr/local/lib/python3.11/dist-packages (from pandas->ghostml) (2.8.2)\n",
            "Requirement already satisfied: pytz>=2020.1 in /usr/local/lib/python3.11/dist-packages (from pandas->ghostml) (2025.2)\n",
            "Requirement already satisfied: tzdata>=2022.7 in /usr/local/lib/python3.11/dist-packages (from pandas->ghostml) (2025.2)\n",
            "Requirement already satisfied: six>=1.5 in /usr/local/lib/python3.11/dist-packages (from python-dateutil>=2.8.2->pandas->ghostml) (1.17.0)\n",
            "Downloading ghostml-0.3.0-py3-none-any.whl (6.5 kB)\n",
            "Installing collected packages: ghostml\n",
            "Successfully installed ghostml-0.3.0\n"
          ]
        }
      ],
      "source": [
        "!pip install ghostml"
      ]
    },
    {
      "cell_type": "code",
      "execution_count": null,
      "metadata": {
        "id": "c6IhwNj7lltt"
      },
      "outputs": [],
      "source": [
        "import ghostml\n",
        "from sklearn import metrics\n",
        "\n",
        "def calc_metrics(labels_test, test_probs, threshold = 0.5):\n",
        "  scores = [1 if x>=threshold else 0 for x in test_probs]\n",
        "  auc = metrics.roc_auc_score(labels_test, test_probs)\n",
        "  kappa = metrics.cohen_kappa_score(labels_test, scores)\n",
        "  confusion = metrics.confusion_matrix(labels_test, scores, labels = list(set(labels_test)))\n",
        "\n",
        "  print('Threshold: %.2f, kappa: %.3f, AUC test set: %.3f'%(threshold, kappa, auc))\n",
        "  print(confusion)\n",
        "  print(metrics.classification_report(labels_test, scores))\n",
        "\n",
        "  return\n",
        "\n",
        "thresholds = np.round(np.arange(0.01, 0.75,0.01),2)"
      ]
    },
    {
      "cell_type": "code",
      "execution_count": null,
      "metadata": {
        "colab": {
          "base_uri": "https://localhost:8080/"
        },
        "id": "aSLnv8t_l6Qy",
        "outputId": "1b9d1ae4-99e1-471d-ee47-f5aae5311261"
      },
      "outputs": [
        {
          "name": "stdout",
          "output_type": "stream",
          "text": [
            "Threshold: 0.50, kappa: 0.476, AUC test set: 0.975\n",
            "[[25 11]\n",
            " [ 0  9]]\n",
            "              precision    recall  f1-score   support\n",
            "\n",
            "           0       1.00      0.69      0.82        36\n",
            "           1       0.45      1.00      0.62         9\n",
            "\n",
            "    accuracy                           0.76        45\n",
            "   macro avg       0.72      0.85      0.72        45\n",
            "weighted avg       0.89      0.76      0.78        45\n",
            "\n"
          ]
        }
      ],
      "source": [
        "np.random.seed(2025)\n",
        "X_train, X_temp, y_train, y_temp = train_test_split(X_full, y, test_size = 0.3, random_state = 2025, stratify = y)\n",
        "X_val, X_test, y_val, y_test = train_test_split(X_temp, y_temp, test_size = 0.5, random_state = 2025, stratify = y_temp)\n",
        "\n",
        "\n",
        "rf_ghost = BalancedRandomForestClassifier(bootstrap = True,\n",
        "                                          ccp_alpha = 0.0,\n",
        "                                          class_weight = 'balanced_subsample',\n",
        "                                          max_depth = 3,\n",
        "                                          max_features = None,\n",
        "                                          min_samples_leaf = 1,\n",
        "                                          min_samples_split = 2,\n",
        "                                          n_estimators = 300,\n",
        "                                          replacement = False,\n",
        "                                          sampling_strategy = 'all',\n",
        "                                          oob_score = True,\n",
        "                                          random_state = 2025)\n",
        "\n",
        "rf_ghost.fit(X_temp, y_temp)\n",
        "rf_test_probs = rf_ghost.predict_proba(X_test)[:,1]\n",
        "calc_metrics(y_test, rf_test_probs, threshold = 0.5)"
      ]
    },
    {
      "cell_type": "code",
      "execution_count": null,
      "metadata": {
        "colab": {
          "base_uri": "https://localhost:8080/"
        },
        "id": "N_BdHPs0mOBQ",
        "outputId": "91ee617b-9539-41aa-e653-f09cf79ae2e8"
      },
      "outputs": [
        {
          "name": "stdout",
          "output_type": "stream",
          "text": [
            "Threshold: 0.59, kappa: 0.815, AUC test set: 0.975\n",
            "[[33  3]\n",
            " [ 0  9]]\n",
            "              precision    recall  f1-score   support\n",
            "\n",
            "           0       1.00      0.92      0.96        36\n",
            "           1       0.75      1.00      0.86         9\n",
            "\n",
            "    accuracy                           0.93        45\n",
            "   macro avg       0.88      0.96      0.91        45\n",
            "weighted avg       0.95      0.93      0.94        45\n",
            "\n"
          ]
        }
      ],
      "source": [
        "np.random.seed(2025)\n",
        "rf_temp_probs = rf_ghost.predict_proba(X_temp)[:,1]\n",
        "rf_threshold = ghostml.optimize_threshold_from_predictions(y_test,\n",
        "                                                           rf_test_probs,\n",
        "                                                           thresholds,\n",
        "                                                           ThOpt_metrics = 'Kappa')\n",
        "\n",
        "np.random.seed(2025)\n",
        "calc_metrics(y_test, rf_test_probs, threshold = rf_threshold)\n",
        "rf_GHOST_test = [1 if x >= rf_threshold else 0 for x in rf_test_probs]"
      ]
    },
    {
      "cell_type": "code",
      "execution_count": null,
      "metadata": {
        "id": "ZYpcby63wwE-"
      },
      "outputs": [],
      "source": [
        "np.random.seed(2025)\n",
        "rf_ghost.fit(X_full, y)\n",
        "rf_probs = rf_ghost.predict_proba(X_full_test)[:,1]\n",
        "rf_pred_ghost = [1 if x >= rf_threshold else 0 for x in rf_probs]"
      ]
    },
    {
      "cell_type": "code",
      "execution_count": null,
      "metadata": {
        "colab": {
          "base_uri": "https://localhost:8080/",
          "height": 17
        },
        "id": "e5Zrd6POxio3",
        "outputId": "97deaf27-fedc-4085-f7f7-7a898cc6f2e0"
      },
      "outputs": [
        {
          "data": {
            "application/javascript": "\n    async function download(id, filename, size) {\n      if (!google.colab.kernel.accessAllowed) {\n        return;\n      }\n      const div = document.createElement('div');\n      const label = document.createElement('label');\n      label.textContent = `Downloading \"${filename}\": `;\n      div.appendChild(label);\n      const progress = document.createElement('progress');\n      progress.max = size;\n      div.appendChild(progress);\n      document.body.appendChild(div);\n\n      const buffers = [];\n      let downloaded = 0;\n\n      const channel = await google.colab.kernel.comms.open(id);\n      // Send a message to notify the kernel that we're ready.\n      channel.send({})\n\n      for await (const message of channel.messages) {\n        // Send a message to notify the kernel that we're ready.\n        channel.send({})\n        if (message.buffers) {\n          for (const buffer of message.buffers) {\n            buffers.push(buffer);\n            downloaded += buffer.byteLength;\n            progress.value = downloaded;\n          }\n        }\n      }\n      const blob = new Blob(buffers, {type: 'application/binary'});\n      const a = document.createElement('a');\n      a.href = window.URL.createObjectURL(blob);\n      a.download = filename;\n      div.appendChild(a);\n      a.click();\n      div.remove();\n    }\n  ",
            "text/plain": [
              "<IPython.core.display.Javascript object>"
            ]
          },
          "metadata": {},
          "output_type": "display_data"
        },
        {
          "data": {
            "application/javascript": "download(\"download_678611da-beed-47fc-91cb-a3ef254fe716\", \"BRF_GHOST_Cov.csv\", 459)",
            "text/plain": [
              "<IPython.core.display.Javascript object>"
            ]
          },
          "metadata": {},
          "output_type": "display_data"
        }
      ],
      "source": [
        "from google.colab import files\n",
        "\n",
        "pred_rf = pd.DataFrame({'ID': range(1, 92), 'Placement': rf_pred_ghost})\n",
        "\n",
        "with open('BRF_GHOST_Cov.csv', 'w') as file:\n",
        "    pred_rf.to_csv(file, index = False, header = True)\n",
        "\n",
        "files.download('BRF_GHOST_Cov.csv')"
      ]
    }
  ],
  "metadata": {
    "colab": {
      "provenance": []
    },
    "kernelspec": {
      "display_name": "Python 3",
      "name": "python3"
    },
    "language_info": {
      "name": "python"
    }
  },
  "nbformat": 4,
  "nbformat_minor": 0
}
