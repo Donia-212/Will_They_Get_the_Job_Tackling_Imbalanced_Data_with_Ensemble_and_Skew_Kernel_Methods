{
  "nbformat": 4,
  "nbformat_minor": 0,
  "metadata": {
    "colab": {
      "provenance": []
    },
    "kernelspec": {
      "name": "python3",
      "display_name": "Python 3"
    },
    "language_info": {
      "name": "python"
    }
  },
  "cells": [
    {
      "cell_type": "code",
      "execution_count": 22,
      "metadata": {
        "id": "KsiYG2WKKRRB"
      },
      "outputs": [],
      "source": [
        "import pandas as pd\n",
        "import numpy as np\n",
        "from sklearn.model_selection import train_test_split\n",
        "from sklearn.model_selection import GridSearchCV\n",
        "from mlxtend.evaluate import PredefinedHoldoutSplit\n",
        "from sklearn.svm import SVC\n",
        "from sklearn.metrics import classification_report"
      ]
    },
    {
      "cell_type": "code",
      "source": [
        "X_full = pd.read_csv('New_Train_Features_Full.csv')\n",
        "X_test_full = pd.read_csv('New_Test_Features_Full.csv')\n",
        "y = pd.read_csv('Train_Target.csv').iloc[:,1]\n",
        "\n",
        "X_full_no = pd.read_csv('New_Train_Features.csv')\n",
        "X_test_full_no = pd.read_csv('New_Test_Features.csv')\n",
        "\n",
        "X_no_manual = pd.read_csv('New_Train_Features_No_Selected.csv')\n",
        "X_test_no_manual = pd.read_csv('New_Test_Features_No_Selected.csv')\n",
        "\n",
        "X_RFE = pd.read_csv('New_Train_Features_RFE.csv')\n",
        "X_RFE_test = pd.read_csv('New_Test_Features_RFE.csv')\n",
        "\n",
        "X_LASSO = pd.read_csv('New_Train_Features_LASSO.csv')\n",
        "X_LASSO_test = pd.read_csv('New_Test_Features_LASSO.csv')\n",
        "\n",
        "X_manual = pd.read_csv('New_Train_Features_Selected.csv')\n",
        "X_manual_test = pd.read_csv('New_Test_Features_Selected.csv')"
      ],
      "metadata": {
        "id": "5cHqNsYyCCrZ"
      },
      "execution_count": 4,
      "outputs": []
    },
    {
      "cell_type": "markdown",
      "source": [
        "# Full Dataset:"
      ],
      "metadata": {
        "id": "wft6E7csIUK4"
      }
    },
    {
      "cell_type": "code",
      "source": [
        "np.random.seed(2025)\n",
        "X_train, X_temp, y_train, y_temp = train_test_split(X_full, y, test_size = 0.3, random_state = 2025, stratify = y)\n",
        "X_val, X_test, y_val, y_test = train_test_split(X_temp, y_temp, test_size = 0.5, random_state = 2025, stratify = y_temp)"
      ],
      "metadata": {
        "id": "LPlhePgoJCb0"
      },
      "execution_count": 5,
      "outputs": []
    },
    {
      "cell_type": "code",
      "source": [
        "np.random.seed(2025)\n",
        "train_ind, val_ind = train_test_split(np.arange(X_temp.shape[0]), test_size = 0.3, random_state = 2025, stratify = y_temp)\n",
        "split = PredefinedHoldoutSplit(valid_indices = val_ind)"
      ],
      "metadata": {
        "id": "vv_AEM4SISr2"
      },
      "execution_count": 6,
      "outputs": []
    },
    {
      "cell_type": "code",
      "source": [
        "params = {\n",
        "    'C': [0.1, 1, 10, 100],\n",
        "    'kernel': ['rbf', 'poly', 'sigmoid'],\n",
        "    'gamma': ['scale', 'auto', 0.01, 0.1, 1],\n",
        "    'degree': [2, 3, 4],\n",
        "    'class_weight': [None, 'balanced']\n",
        "}\n",
        "\n",
        "svc = SVC(random_state = 2025)"
      ],
      "metadata": {
        "id": "vf1pbPbq-F-T"
      },
      "execution_count": 25,
      "outputs": []
    },
    {
      "cell_type": "code",
      "source": [
        "np.random.seed(2025)\n",
        "svc_grid = GridSearchCV(svc, param_grid = params, cv = split, n_jobs = -1, scoring = 'f1_macro')\n",
        "svc_grid.fit(X_temp, y_temp)\n",
        "print('Best Parameters:', svc_grid.best_params_)"
      ],
      "metadata": {
        "colab": {
          "base_uri": "https://localhost:8080/"
        },
        "id": "0n2dT6Gn-i_B",
        "outputId": "e4a5ffcb-5ecb-4958-805b-9aba3e5a5c85"
      },
      "execution_count": 26,
      "outputs": [
        {
          "output_type": "stream",
          "name": "stdout",
          "text": [
            "Best Parameters: {'C': 10, 'class_weight': None, 'degree': 2, 'gamma': 'auto', 'kernel': 'rbf'}\n"
          ]
        }
      ]
    },
    {
      "cell_type": "code",
      "source": [
        "np.random.seed(2025)\n",
        "svc_model = SVC(C = 10, class_weight = None, degree = 2, gamma = 'auto', kernel = 'rbf', random_state = 2025)\n",
        "svc_model.fit(X_temp, y_temp,)\n",
        "y_pred = svc_model.predict(X_test)\n",
        "\n",
        "print(classification_report(y_test, y_pred))"
      ],
      "metadata": {
        "colab": {
          "base_uri": "https://localhost:8080/"
        },
        "id": "8m859OML-T5F",
        "outputId": "3d264421-88a1-4b7e-e7ff-6c5f9526593b"
      },
      "execution_count": 29,
      "outputs": [
        {
          "output_type": "stream",
          "name": "stdout",
          "text": [
            "              precision    recall  f1-score   support\n",
            "\n",
            "           0       0.95      1.00      0.97        36\n",
            "           1       1.00      0.78      0.88         9\n",
            "\n",
            "    accuracy                           0.96        45\n",
            "   macro avg       0.97      0.89      0.92        45\n",
            "weighted avg       0.96      0.96      0.95        45\n",
            "\n"
          ]
        }
      ]
    },
    {
      "cell_type": "code",
      "source": [
        "np.random.seed(2025)\n",
        "svc_model.fit(X_full, y)\n",
        "y_pred_svc = svc_model.predict(X_test_full)"
      ],
      "metadata": {
        "id": "6ijrE4tJ-6Nt"
      },
      "execution_count": 31,
      "outputs": []
    },
    {
      "cell_type": "code",
      "source": [
        "from google.colab import files\n",
        "\n",
        "pred_svc = pd.DataFrame({'ID': range(1, 92), 'Placement': y_pred_svc})\n",
        "\n",
        "with open('SVC_Full_Cov.csv', 'w') as file:\n",
        "    pred_svc.to_csv(file, index = False, header = True)\n",
        "\n",
        "files.download('SVC_Full_Cov.csv')"
      ],
      "metadata": {
        "colab": {
          "base_uri": "https://localhost:8080/",
          "height": 17
        },
        "id": "HommMuwk_CI7",
        "outputId": "5b8c87a1-a7d2-4641-b2ae-4ce5118de1f0"
      },
      "execution_count": 32,
      "outputs": [
        {
          "output_type": "display_data",
          "data": {
            "text/plain": [
              "<IPython.core.display.Javascript object>"
            ],
            "application/javascript": [
              "\n",
              "    async function download(id, filename, size) {\n",
              "      if (!google.colab.kernel.accessAllowed) {\n",
              "        return;\n",
              "      }\n",
              "      const div = document.createElement('div');\n",
              "      const label = document.createElement('label');\n",
              "      label.textContent = `Downloading \"${filename}\": `;\n",
              "      div.appendChild(label);\n",
              "      const progress = document.createElement('progress');\n",
              "      progress.max = size;\n",
              "      div.appendChild(progress);\n",
              "      document.body.appendChild(div);\n",
              "\n",
              "      const buffers = [];\n",
              "      let downloaded = 0;\n",
              "\n",
              "      const channel = await google.colab.kernel.comms.open(id);\n",
              "      // Send a message to notify the kernel that we're ready.\n",
              "      channel.send({})\n",
              "\n",
              "      for await (const message of channel.messages) {\n",
              "        // Send a message to notify the kernel that we're ready.\n",
              "        channel.send({})\n",
              "        if (message.buffers) {\n",
              "          for (const buffer of message.buffers) {\n",
              "            buffers.push(buffer);\n",
              "            downloaded += buffer.byteLength;\n",
              "            progress.value = downloaded;\n",
              "          }\n",
              "        }\n",
              "      }\n",
              "      const blob = new Blob(buffers, {type: 'application/binary'});\n",
              "      const a = document.createElement('a');\n",
              "      a.href = window.URL.createObjectURL(blob);\n",
              "      a.download = filename;\n",
              "      div.appendChild(a);\n",
              "      a.click();\n",
              "      div.remove();\n",
              "    }\n",
              "  "
            ]
          },
          "metadata": {}
        },
        {
          "output_type": "display_data",
          "data": {
            "text/plain": [
              "<IPython.core.display.Javascript object>"
            ],
            "application/javascript": [
              "download(\"download_9488f750-a18c-4089-ae17-05dbbe53cd4c\", \"SVC_Full_Cov.csv\", 459)"
            ]
          },
          "metadata": {}
        }
      ]
    },
    {
      "cell_type": "markdown",
      "source": [
        "# RFE Dataset:"
      ],
      "metadata": {
        "id": "TEjVn1aVbK5B"
      }
    },
    {
      "cell_type": "code",
      "source": [
        "np.random.seed(2025)\n",
        "X_train_rfe, X_temp_rfe, y_train_rfe, y_temp_rfe = train_test_split(X_RFE, y, test_size = 0.3, random_state = 2025, stratify = y)\n",
        "X_val_rfe, X_test_rfe, y_val_rfe, y_test_rfe = train_test_split(X_temp_rfe, y_temp_rfe, test_size = 0.5, random_state = 2025, stratify = y_temp_rfe)"
      ],
      "metadata": {
        "id": "XBQKs3QZbSR_"
      },
      "execution_count": 36,
      "outputs": []
    },
    {
      "cell_type": "code",
      "source": [
        "np.random.seed(2025)\n",
        "train_rfe_ind, val_rfe_ind = train_test_split(np.arange(X_temp_rfe.shape[0]), test_size = 0.3, random_state = 2025, stratify = y_temp_rfe)\n",
        "split_rfe = PredefinedHoldoutSplit(valid_indices = val_rfe_ind)"
      ],
      "metadata": {
        "id": "1cE8xzu3bmxf"
      },
      "execution_count": 37,
      "outputs": []
    },
    {
      "cell_type": "code",
      "source": [
        "np.random.seed(2025)\n",
        "svc_grid_rfe = GridSearchCV(svc, param_grid = params, cv = split_rfe, n_jobs = -1, scoring = 'f1_macro')\n",
        "svc_grid_rfe.fit(X_temp_rfe, y_temp_rfe)\n",
        "print('Best Parameters:', svc_grid_rfe.best_params_)"
      ],
      "metadata": {
        "colab": {
          "base_uri": "https://localhost:8080/"
        },
        "id": "jZ2U-BlkcXX3",
        "outputId": "0f5cabe5-af17-4b20-8a7a-b24696170ec7"
      },
      "execution_count": 43,
      "outputs": [
        {
          "output_type": "stream",
          "name": "stdout",
          "text": [
            "Best Parameters: {'C': 10, 'class_weight': None, 'degree': 2, 'gamma': 'auto', 'kernel': 'sigmoid'}\n"
          ]
        }
      ]
    },
    {
      "cell_type": "code",
      "source": [
        "np.random.seed(2025)\n",
        "svc_model_rfe = SVC(C = 10, class_weight = None, degree = 2, gamma = 'auto', kernel = 'sigmoid', random_state = 2025)\n",
        "svc_model_rfe.fit(X_temp_rfe, y_temp_rfe)\n",
        "y_pred_rfe = svc_model_rfe.predict(X_test_rfe)\n",
        "\n",
        "print(classification_report(y_test, y_pred_rfe, zero_division = 1))"
      ],
      "metadata": {
        "colab": {
          "base_uri": "https://localhost:8080/"
        },
        "id": "m9FDkqgOcigg",
        "outputId": "d92cc6e2-ccae-47cb-a8bc-5ef6c0be6461"
      },
      "execution_count": 44,
      "outputs": [
        {
          "output_type": "stream",
          "name": "stdout",
          "text": [
            "              precision    recall  f1-score   support\n",
            "\n",
            "           0       0.80      1.00      0.89        36\n",
            "           1       1.00      0.00      0.00         9\n",
            "\n",
            "    accuracy                           0.80        45\n",
            "   macro avg       0.90      0.50      0.44        45\n",
            "weighted avg       0.84      0.80      0.71        45\n",
            "\n"
          ]
        }
      ]
    },
    {
      "cell_type": "code",
      "source": [
        "np.random.seed(2025)\n",
        "svc_model_rfe.fit(X_RFE, y)\n",
        "y_pred_rfe_svc = svc_model_rfe.predict(X_RFE_test)"
      ],
      "metadata": {
        "id": "7LPyGoZ5cw2I"
      },
      "execution_count": 45,
      "outputs": []
    },
    {
      "cell_type": "code",
      "source": [
        "from google.colab import files\n",
        "\n",
        "pred_svc = pd.DataFrame({'ID': range(1, 92), 'Placement': y_pred_rfe_svc})\n",
        "\n",
        "with open('SVC_RFE_Cov.csv', 'w') as file:\n",
        "    pred_svc.to_csv(file, index = False, header = True)\n",
        "\n",
        "files.download('SVC_RFE_Cov.csv')"
      ],
      "metadata": {
        "colab": {
          "base_uri": "https://localhost:8080/",
          "height": 17
        },
        "id": "r99bH7N9datB",
        "outputId": "e29223b8-3aac-4e22-df25-73025a38c7c8"
      },
      "execution_count": 46,
      "outputs": [
        {
          "output_type": "display_data",
          "data": {
            "text/plain": [
              "<IPython.core.display.Javascript object>"
            ],
            "application/javascript": [
              "\n",
              "    async function download(id, filename, size) {\n",
              "      if (!google.colab.kernel.accessAllowed) {\n",
              "        return;\n",
              "      }\n",
              "      const div = document.createElement('div');\n",
              "      const label = document.createElement('label');\n",
              "      label.textContent = `Downloading \"${filename}\": `;\n",
              "      div.appendChild(label);\n",
              "      const progress = document.createElement('progress');\n",
              "      progress.max = size;\n",
              "      div.appendChild(progress);\n",
              "      document.body.appendChild(div);\n",
              "\n",
              "      const buffers = [];\n",
              "      let downloaded = 0;\n",
              "\n",
              "      const channel = await google.colab.kernel.comms.open(id);\n",
              "      // Send a message to notify the kernel that we're ready.\n",
              "      channel.send({})\n",
              "\n",
              "      for await (const message of channel.messages) {\n",
              "        // Send a message to notify the kernel that we're ready.\n",
              "        channel.send({})\n",
              "        if (message.buffers) {\n",
              "          for (const buffer of message.buffers) {\n",
              "            buffers.push(buffer);\n",
              "            downloaded += buffer.byteLength;\n",
              "            progress.value = downloaded;\n",
              "          }\n",
              "        }\n",
              "      }\n",
              "      const blob = new Blob(buffers, {type: 'application/binary'});\n",
              "      const a = document.createElement('a');\n",
              "      a.href = window.URL.createObjectURL(blob);\n",
              "      a.download = filename;\n",
              "      div.appendChild(a);\n",
              "      a.click();\n",
              "      div.remove();\n",
              "    }\n",
              "  "
            ]
          },
          "metadata": {}
        },
        {
          "output_type": "display_data",
          "data": {
            "text/plain": [
              "<IPython.core.display.Javascript object>"
            ],
            "application/javascript": [
              "download(\"download_6c10a7f2-e6b7-4d83-8e75-e2d0ff004cba\", \"SVC_RFE_Cov.csv\", 459)"
            ]
          },
          "metadata": {}
        }
      ]
    },
    {
      "cell_type": "markdown",
      "source": [
        "# LASSO:"
      ],
      "metadata": {
        "id": "uKIORMg6dmwe"
      }
    },
    {
      "cell_type": "code",
      "source": [
        "np.random.seed(2025)\n",
        "X_train_lasso, X_temp_lasso, y_train_lasso, y_temp_lasso = train_test_split(X_LASSO, y, test_size = 0.3, random_state = 2025, stratify = y)\n",
        "X_val_lasso, X_test_lasso, y_val_lasso, y_test_lasso = train_test_split(X_temp_lasso, y_temp_lasso, test_size = 0.5, random_state = 2025, stratify = y_temp_lasso)"
      ],
      "metadata": {
        "id": "t1ZlNAhpe8gB"
      },
      "execution_count": 47,
      "outputs": []
    },
    {
      "cell_type": "code",
      "source": [
        "np.random.seed(2025)\n",
        "train_lasso_ind, val_lasso_ind = train_test_split(np.arange(X_temp_lasso.shape[0]), test_size = 0.3, random_state = 2025, stratify = y_temp_lasso)\n",
        "split_lasso = PredefinedHoldoutSplit(valid_indices = val_lasso_ind)"
      ],
      "metadata": {
        "id": "cbnVPMnTe8gC"
      },
      "execution_count": 48,
      "outputs": []
    },
    {
      "cell_type": "code",
      "source": [
        "np.random.seed(2025)\n",
        "svc_grid_lasso = GridSearchCV(svc, param_grid = params, cv = split_lasso, n_jobs = -1, scoring = 'f1_macro')\n",
        "svc_grid_lasso.fit(X_temp_lasso, y_temp_lasso)\n",
        "print('Best Parameters:', svc_grid_lasso.best_params_)"
      ],
      "metadata": {
        "colab": {
          "base_uri": "https://localhost:8080/"
        },
        "outputId": "793a327f-4c45-4282-99bf-2acff891a2cb",
        "id": "FBLjP5sye8gC"
      },
      "execution_count": 49,
      "outputs": [
        {
          "output_type": "stream",
          "name": "stdout",
          "text": [
            "Best Parameters: {'C': 10, 'class_weight': 'balanced', 'degree': 2, 'gamma': 'scale', 'kernel': 'sigmoid'}\n"
          ]
        }
      ]
    },
    {
      "cell_type": "code",
      "source": [
        "np.random.seed(2025)\n",
        "svc_model_lasso = SVC(C = 10, class_weight = 'balanced', degree = 2, gamma = 'scale', kernel = 'sigmoid', random_state = 2025)\n",
        "svc_model_lasso.fit(X_temp_lasso, y_temp_lasso)\n",
        "y_pred_lasso = svc_model_lasso.predict(X_test_lasso)\n",
        "\n",
        "print(classification_report(y_test, y_pred_lasso,zero_division = 1))"
      ],
      "metadata": {
        "colab": {
          "base_uri": "https://localhost:8080/"
        },
        "outputId": "4a4d7c49-2b5c-4802-c763-f374f95e92f0",
        "id": "l-vH5yw-e8gC"
      },
      "execution_count": 50,
      "outputs": [
        {
          "output_type": "stream",
          "name": "stdout",
          "text": [
            "              precision    recall  f1-score   support\n",
            "\n",
            "           0       0.88      0.64      0.74        36\n",
            "           1       0.32      0.67      0.43         9\n",
            "\n",
            "    accuracy                           0.64        45\n",
            "   macro avg       0.60      0.65      0.59        45\n",
            "weighted avg       0.77      0.64      0.68        45\n",
            "\n"
          ]
        }
      ]
    },
    {
      "cell_type": "code",
      "source": [
        "np.random.seed(2025)\n",
        "svc_model_lasso.fit(X_LASSO, y)\n",
        "y_pred_lasso_svc = svc_model_lasso.predict(X_LASSO_test)"
      ],
      "metadata": {
        "id": "aGn51lAhe8gC"
      },
      "execution_count": 51,
      "outputs": []
    },
    {
      "cell_type": "code",
      "source": [
        "from google.colab import files\n",
        "\n",
        "pred_svc = pd.DataFrame({'ID': range(1, 92), 'Placement': y_pred_lasso_svc})\n",
        "\n",
        "with open('SVC_LASSO_Cov.csv', 'w') as file:\n",
        "    pred_svc.to_csv(file, index = False, header = True)\n",
        "\n",
        "files.download('SVC_LASSO_Cov.csv')"
      ],
      "metadata": {
        "colab": {
          "base_uri": "https://localhost:8080/",
          "height": 17
        },
        "outputId": "c46ba22e-1252-4eea-d8c9-1fdf6424df39",
        "id": "ldcUb19Se8gC"
      },
      "execution_count": 52,
      "outputs": [
        {
          "output_type": "display_data",
          "data": {
            "text/plain": [
              "<IPython.core.display.Javascript object>"
            ],
            "application/javascript": [
              "\n",
              "    async function download(id, filename, size) {\n",
              "      if (!google.colab.kernel.accessAllowed) {\n",
              "        return;\n",
              "      }\n",
              "      const div = document.createElement('div');\n",
              "      const label = document.createElement('label');\n",
              "      label.textContent = `Downloading \"${filename}\": `;\n",
              "      div.appendChild(label);\n",
              "      const progress = document.createElement('progress');\n",
              "      progress.max = size;\n",
              "      div.appendChild(progress);\n",
              "      document.body.appendChild(div);\n",
              "\n",
              "      const buffers = [];\n",
              "      let downloaded = 0;\n",
              "\n",
              "      const channel = await google.colab.kernel.comms.open(id);\n",
              "      // Send a message to notify the kernel that we're ready.\n",
              "      channel.send({})\n",
              "\n",
              "      for await (const message of channel.messages) {\n",
              "        // Send a message to notify the kernel that we're ready.\n",
              "        channel.send({})\n",
              "        if (message.buffers) {\n",
              "          for (const buffer of message.buffers) {\n",
              "            buffers.push(buffer);\n",
              "            downloaded += buffer.byteLength;\n",
              "            progress.value = downloaded;\n",
              "          }\n",
              "        }\n",
              "      }\n",
              "      const blob = new Blob(buffers, {type: 'application/binary'});\n",
              "      const a = document.createElement('a');\n",
              "      a.href = window.URL.createObjectURL(blob);\n",
              "      a.download = filename;\n",
              "      div.appendChild(a);\n",
              "      a.click();\n",
              "      div.remove();\n",
              "    }\n",
              "  "
            ]
          },
          "metadata": {}
        },
        {
          "output_type": "display_data",
          "data": {
            "text/plain": [
              "<IPython.core.display.Javascript object>"
            ],
            "application/javascript": [
              "download(\"download_27e69409-5431-4cee-a64c-bda8b4f2a64d\", \"SVC_LASSO_Cov.csv\", 459)"
            ]
          },
          "metadata": {}
        }
      ]
    },
    {
      "cell_type": "markdown",
      "source": [
        "# Full - Without Standardization\n",
        "\n",
        "\n"
      ],
      "metadata": {
        "id": "bdWgACdnCLGG"
      }
    },
    {
      "cell_type": "code",
      "source": [
        "np.random.seed(2025)\n",
        "X_train, X_temp, y_train, y_temp = train_test_split(X_full_no, y, test_size = 0.3, random_state = 2025, stratify = y)\n",
        "X_val, X_test, y_val, y_test = train_test_split(X_temp, y_temp, test_size = 0.5, random_state = 2025, stratify = y_temp)"
      ],
      "metadata": {
        "id": "KsbuTnJmCwaL"
      },
      "execution_count": 53,
      "outputs": []
    },
    {
      "cell_type": "code",
      "source": [
        "np.random.seed(2025)\n",
        "train_ind, val_ind = train_test_split(np.arange(X_temp.shape[0]), test_size = 0.3, random_state = 2025, stratify = y_temp)\n",
        "split = PredefinedHoldoutSplit(valid_indices = val_ind)"
      ],
      "metadata": {
        "id": "bfnY-zuFCwaL"
      },
      "execution_count": 54,
      "outputs": []
    },
    {
      "cell_type": "code",
      "source": [
        "np.random.seed(2025)\n",
        "svc_grid = GridSearchCV(svc, param_grid = params, cv = split, n_jobs = -1, scoring = 'f1_macro')\n",
        "svc_grid.fit(X_temp, y_temp)\n",
        "print('Best Parameters:', svc_grid.best_params_)"
      ],
      "metadata": {
        "colab": {
          "base_uri": "https://localhost:8080/"
        },
        "outputId": "1864a6ef-7734-4cef-cc81-353ed4868d4a",
        "id": "Zkv_OGWqCwaL"
      },
      "execution_count": 55,
      "outputs": [
        {
          "output_type": "stream",
          "name": "stdout",
          "text": [
            "Best Parameters: {'C': 100, 'class_weight': None, 'degree': 2, 'gamma': 'scale', 'kernel': 'sigmoid'}\n"
          ]
        }
      ]
    },
    {
      "cell_type": "code",
      "source": [
        "np.random.seed(2025)\n",
        "svc_model = SVC(C = 100, class_weight = None, degree = 2, gamma = 'scale', kernel = 'sigmoid', random_state = 2025)\n",
        "svc_model.fit(X_temp, y_temp)\n",
        "y_pred_svc_no = svc_model.predict(X_test)\n",
        "\n",
        "print(classification_report(y_test, y_pred_svc_no))"
      ],
      "metadata": {
        "colab": {
          "base_uri": "https://localhost:8080/"
        },
        "outputId": "b6515d6e-7318-4cd4-913c-490046681bf9",
        "id": "fmk6pjejCwaL"
      },
      "execution_count": 56,
      "outputs": [
        {
          "output_type": "stream",
          "name": "stdout",
          "text": [
            "              precision    recall  f1-score   support\n",
            "\n",
            "           0       0.82      0.86      0.84        36\n",
            "           1       0.29      0.22      0.25         9\n",
            "\n",
            "    accuracy                           0.73        45\n",
            "   macro avg       0.55      0.54      0.54        45\n",
            "weighted avg       0.71      0.73      0.72        45\n",
            "\n"
          ]
        }
      ]
    },
    {
      "cell_type": "code",
      "source": [
        "np.random.seed(2025)\n",
        "svc_model.fit(X_full_no, y)\n",
        "y_pred_svc_no = svc_model.predict(X_test_full_no)"
      ],
      "metadata": {
        "id": "CYDDtSFGCwaM"
      },
      "execution_count": 57,
      "outputs": []
    },
    {
      "cell_type": "code",
      "source": [
        "from google.colab import files\n",
        "\n",
        "pred_svc = pd.DataFrame({'ID': range(1, 92), 'Placement': y_pred_svc_no})\n",
        "\n",
        "with open('SVC_Full_No_Cov.csv', 'w') as file:\n",
        "    pred_svc.to_csv(file, index = False, header = True)\n",
        "\n",
        "files.download('SVC_Full_No_Cov.csv')"
      ],
      "metadata": {
        "colab": {
          "base_uri": "https://localhost:8080/",
          "height": 17
        },
        "outputId": "dda12dca-52ec-45b0-c122-ecff6d54c674",
        "id": "H89nZtA9CwaM"
      },
      "execution_count": 58,
      "outputs": [
        {
          "output_type": "display_data",
          "data": {
            "text/plain": [
              "<IPython.core.display.Javascript object>"
            ],
            "application/javascript": [
              "\n",
              "    async function download(id, filename, size) {\n",
              "      if (!google.colab.kernel.accessAllowed) {\n",
              "        return;\n",
              "      }\n",
              "      const div = document.createElement('div');\n",
              "      const label = document.createElement('label');\n",
              "      label.textContent = `Downloading \"${filename}\": `;\n",
              "      div.appendChild(label);\n",
              "      const progress = document.createElement('progress');\n",
              "      progress.max = size;\n",
              "      div.appendChild(progress);\n",
              "      document.body.appendChild(div);\n",
              "\n",
              "      const buffers = [];\n",
              "      let downloaded = 0;\n",
              "\n",
              "      const channel = await google.colab.kernel.comms.open(id);\n",
              "      // Send a message to notify the kernel that we're ready.\n",
              "      channel.send({})\n",
              "\n",
              "      for await (const message of channel.messages) {\n",
              "        // Send a message to notify the kernel that we're ready.\n",
              "        channel.send({})\n",
              "        if (message.buffers) {\n",
              "          for (const buffer of message.buffers) {\n",
              "            buffers.push(buffer);\n",
              "            downloaded += buffer.byteLength;\n",
              "            progress.value = downloaded;\n",
              "          }\n",
              "        }\n",
              "      }\n",
              "      const blob = new Blob(buffers, {type: 'application/binary'});\n",
              "      const a = document.createElement('a');\n",
              "      a.href = window.URL.createObjectURL(blob);\n",
              "      a.download = filename;\n",
              "      div.appendChild(a);\n",
              "      a.click();\n",
              "      div.remove();\n",
              "    }\n",
              "  "
            ]
          },
          "metadata": {}
        },
        {
          "output_type": "display_data",
          "data": {
            "text/plain": [
              "<IPython.core.display.Javascript object>"
            ],
            "application/javascript": [
              "download(\"download_36c6b3a6-b136-43a7-80ea-081491b6b4c5\", \"SVC_Full_No_Cov.csv\", 459)"
            ]
          },
          "metadata": {}
        }
      ]
    },
    {
      "cell_type": "markdown",
      "source": [
        "# Full - Without Standardization - Manual\n",
        "\n"
      ],
      "metadata": {
        "id": "i6nhI0eESq-h"
      }
    },
    {
      "cell_type": "code",
      "source": [
        "np.random.seed(2025)\n",
        "X_train, X_temp, y_train, y_temp = train_test_split(X_no_manual, y, test_size = 0.3, random_state = 2025, stratify = y)\n",
        "X_val, X_test, y_val, y_test = train_test_split(X_temp, y_temp, test_size = 0.5, random_state = 2025, stratify = y_temp)"
      ],
      "metadata": {
        "id": "PO-SpXjeDusl"
      },
      "execution_count": 59,
      "outputs": []
    },
    {
      "cell_type": "code",
      "source": [
        "np.random.seed(2025)\n",
        "train_ind, val_ind = train_test_split(np.arange(X_temp.shape[0]), test_size = 0.3, random_state = 2025, stratify = y_temp)\n",
        "split = PredefinedHoldoutSplit(valid_indices = val_ind)"
      ],
      "metadata": {
        "id": "a-lGL53nDusm"
      },
      "execution_count": 60,
      "outputs": []
    },
    {
      "cell_type": "code",
      "source": [
        "np.random.seed(2025)\n",
        "svc_grid = GridSearchCV(svc, param_grid = params, cv = split, n_jobs = -1, scoring = 'f1_macro')\n",
        "svc_grid.fit(X_temp, y_temp)\n",
        "print('Best Parameters:', svc_grid.best_params_)"
      ],
      "metadata": {
        "colab": {
          "base_uri": "https://localhost:8080/"
        },
        "outputId": "ea961973-8ae4-4779-c23a-c53fd37c10be",
        "id": "ANEgOZbnDusm"
      },
      "execution_count": 61,
      "outputs": [
        {
          "output_type": "stream",
          "name": "stdout",
          "text": [
            "Best Parameters: {'C': 100, 'class_weight': 'balanced', 'degree': 2, 'gamma': 'scale', 'kernel': 'sigmoid'}\n"
          ]
        }
      ]
    },
    {
      "cell_type": "code",
      "source": [
        "np.random.seed(2025)\n",
        "svc_model = SVC(C = 100, class_weight = 'balanced', degree = 2, gamma = 'scale', kernel = 'sigmoid', random_state = 2025)\n",
        "svc_model.fit(X_temp, y_temp)\n",
        "y_pred_manual = svc_model.predict(X_test)\n",
        "\n",
        "print(classification_report(y_test, y_pred_manual))"
      ],
      "metadata": {
        "colab": {
          "base_uri": "https://localhost:8080/"
        },
        "outputId": "2c0fe3c5-e612-4eca-c91a-bcf605db68b5",
        "id": "cqLI3l17Dusm"
      },
      "execution_count": 62,
      "outputs": [
        {
          "output_type": "stream",
          "name": "stdout",
          "text": [
            "              precision    recall  f1-score   support\n",
            "\n",
            "           0       0.88      0.61      0.72        36\n",
            "           1       0.30      0.67      0.41         9\n",
            "\n",
            "    accuracy                           0.62        45\n",
            "   macro avg       0.59      0.64      0.57        45\n",
            "weighted avg       0.76      0.62      0.66        45\n",
            "\n"
          ]
        }
      ]
    },
    {
      "cell_type": "code",
      "source": [
        "np.random.seed(2025)\n",
        "svc_model.fit(X_no_manual, y)\n",
        "y_pred_svc_no_manual = svc_model.predict(X_test_no_manual)"
      ],
      "metadata": {
        "id": "tgpuyVy2Dusm"
      },
      "execution_count": 63,
      "outputs": []
    },
    {
      "cell_type": "code",
      "source": [
        "from google.colab import files\n",
        "\n",
        "pred_svc = pd.DataFrame({'ID': range(1, 92), 'Placement': y_pred_svc_no_manual})\n",
        "\n",
        "with open('SVC_No_Manual_Cov.csv', 'w') as file:\n",
        "    pred_svc.to_csv(file, index = False, header = True)\n",
        "\n",
        "files.download('SVC_No_Manual_Cov.csv')"
      ],
      "metadata": {
        "colab": {
          "base_uri": "https://localhost:8080/",
          "height": 17
        },
        "outputId": "3f323aaf-b288-4ebb-948a-10b314344df9",
        "id": "gj_QlFrgDusm"
      },
      "execution_count": 64,
      "outputs": [
        {
          "output_type": "display_data",
          "data": {
            "text/plain": [
              "<IPython.core.display.Javascript object>"
            ],
            "application/javascript": [
              "\n",
              "    async function download(id, filename, size) {\n",
              "      if (!google.colab.kernel.accessAllowed) {\n",
              "        return;\n",
              "      }\n",
              "      const div = document.createElement('div');\n",
              "      const label = document.createElement('label');\n",
              "      label.textContent = `Downloading \"${filename}\": `;\n",
              "      div.appendChild(label);\n",
              "      const progress = document.createElement('progress');\n",
              "      progress.max = size;\n",
              "      div.appendChild(progress);\n",
              "      document.body.appendChild(div);\n",
              "\n",
              "      const buffers = [];\n",
              "      let downloaded = 0;\n",
              "\n",
              "      const channel = await google.colab.kernel.comms.open(id);\n",
              "      // Send a message to notify the kernel that we're ready.\n",
              "      channel.send({})\n",
              "\n",
              "      for await (const message of channel.messages) {\n",
              "        // Send a message to notify the kernel that we're ready.\n",
              "        channel.send({})\n",
              "        if (message.buffers) {\n",
              "          for (const buffer of message.buffers) {\n",
              "            buffers.push(buffer);\n",
              "            downloaded += buffer.byteLength;\n",
              "            progress.value = downloaded;\n",
              "          }\n",
              "        }\n",
              "      }\n",
              "      const blob = new Blob(buffers, {type: 'application/binary'});\n",
              "      const a = document.createElement('a');\n",
              "      a.href = window.URL.createObjectURL(blob);\n",
              "      a.download = filename;\n",
              "      div.appendChild(a);\n",
              "      a.click();\n",
              "      div.remove();\n",
              "    }\n",
              "  "
            ]
          },
          "metadata": {}
        },
        {
          "output_type": "display_data",
          "data": {
            "text/plain": [
              "<IPython.core.display.Javascript object>"
            ],
            "application/javascript": [
              "download(\"download_f223faa7-55a3-4321-80f1-7a232473de29\", \"SVC_No_Manual_Cov.csv\", 459)"
            ]
          },
          "metadata": {}
        }
      ]
    },
    {
      "cell_type": "markdown",
      "source": [
        "# Manual Selection:"
      ],
      "metadata": {
        "id": "ii1owwaSDn2D"
      }
    },
    {
      "cell_type": "code",
      "source": [
        "np.random.seed(2025)\n",
        "X_train, X_temp, y_train, y_temp = train_test_split(X_manual, y, test_size = 0.3, random_state = 2025, stratify = y)\n",
        "X_val, X_test, y_val, y_test = train_test_split(X_temp, y_temp, test_size = 0.5, random_state = 2025, stratify = y_temp)"
      ],
      "metadata": {
        "id": "5UhWWJ-PS0FC"
      },
      "execution_count": 65,
      "outputs": []
    },
    {
      "cell_type": "code",
      "source": [
        "np.random.seed(2025)\n",
        "train_ind, val_ind = train_test_split(np.arange(X_temp.shape[0]), test_size = 0.3, random_state = 2025, stratify = y_temp)\n",
        "split = PredefinedHoldoutSplit(valid_indices = val_ind)"
      ],
      "metadata": {
        "id": "nvuCb96ZS0FC"
      },
      "execution_count": 66,
      "outputs": []
    },
    {
      "cell_type": "code",
      "source": [
        "np.random.seed(2025)\n",
        "svc_grid = GridSearchCV(svc, param_grid = params, cv = split, n_jobs = -1, scoring = 'f1_macro')\n",
        "svc_grid.fit(X_temp, y_temp)\n",
        "print('Best Parameters:', svc_grid.best_params_)"
      ],
      "metadata": {
        "colab": {
          "base_uri": "https://localhost:8080/"
        },
        "outputId": "a57e7521-9f4f-4595-bb65-a993b028c304",
        "id": "3Ty77_GYS0FD"
      },
      "execution_count": 67,
      "outputs": [
        {
          "output_type": "stream",
          "name": "stdout",
          "text": [
            "Best Parameters: {'C': 0.1, 'class_weight': 'balanced', 'degree': 2, 'gamma': 'scale', 'kernel': 'poly'}\n"
          ]
        }
      ]
    },
    {
      "cell_type": "code",
      "source": [
        "np.random.seed(2025)\n",
        "svc_model = SVC(C = 0.1, class_weight = 'balanced', degree = 2, gamma = 'scale', kernel = 'poly', random_state = 2025)\n",
        "svc_model.fit(X_temp, y_temp)\n",
        "y_pred_manual = svc_model.predict(X_test)\n",
        "\n",
        "print(classification_report(y_test, y_pred_manual))"
      ],
      "metadata": {
        "colab": {
          "base_uri": "https://localhost:8080/"
        },
        "outputId": "0c00367a-491c-41b6-9af3-1861432550be",
        "id": "QdLgcQKVS0FD"
      },
      "execution_count": 68,
      "outputs": [
        {
          "output_type": "stream",
          "name": "stdout",
          "text": [
            "              precision    recall  f1-score   support\n",
            "\n",
            "           0       0.86      0.83      0.85        36\n",
            "           1       0.40      0.44      0.42         9\n",
            "\n",
            "    accuracy                           0.76        45\n",
            "   macro avg       0.63      0.64      0.63        45\n",
            "weighted avg       0.77      0.76      0.76        45\n",
            "\n"
          ]
        }
      ]
    },
    {
      "cell_type": "code",
      "source": [
        "np.random.seed(2025)\n",
        "svc_model.fit(X_manual, y)\n",
        "y_pred_svc_manual = svc_model.predict(X_manual_test)"
      ],
      "metadata": {
        "id": "jB3KD3mgS0FD"
      },
      "execution_count": 69,
      "outputs": []
    },
    {
      "cell_type": "code",
      "source": [
        "from google.colab import files\n",
        "\n",
        "pred_svc = pd.DataFrame({'ID': range(1, 92), 'Placement': y_pred_svc_manual})\n",
        "\n",
        "with open('SVC_Manual_Cov.csv', 'w') as file:\n",
        "    pred_svc.to_csv(file, index = False, header = True)\n",
        "\n",
        "files.download('SVC_Manual_Cov.csv')"
      ],
      "metadata": {
        "colab": {
          "base_uri": "https://localhost:8080/",
          "height": 17
        },
        "outputId": "d2c09cce-3a64-462e-d329-4e2e560822ae",
        "id": "ri2wHb4jS0FD"
      },
      "execution_count": 70,
      "outputs": [
        {
          "output_type": "display_data",
          "data": {
            "text/plain": [
              "<IPython.core.display.Javascript object>"
            ],
            "application/javascript": [
              "\n",
              "    async function download(id, filename, size) {\n",
              "      if (!google.colab.kernel.accessAllowed) {\n",
              "        return;\n",
              "      }\n",
              "      const div = document.createElement('div');\n",
              "      const label = document.createElement('label');\n",
              "      label.textContent = `Downloading \"${filename}\": `;\n",
              "      div.appendChild(label);\n",
              "      const progress = document.createElement('progress');\n",
              "      progress.max = size;\n",
              "      div.appendChild(progress);\n",
              "      document.body.appendChild(div);\n",
              "\n",
              "      const buffers = [];\n",
              "      let downloaded = 0;\n",
              "\n",
              "      const channel = await google.colab.kernel.comms.open(id);\n",
              "      // Send a message to notify the kernel that we're ready.\n",
              "      channel.send({})\n",
              "\n",
              "      for await (const message of channel.messages) {\n",
              "        // Send a message to notify the kernel that we're ready.\n",
              "        channel.send({})\n",
              "        if (message.buffers) {\n",
              "          for (const buffer of message.buffers) {\n",
              "            buffers.push(buffer);\n",
              "            downloaded += buffer.byteLength;\n",
              "            progress.value = downloaded;\n",
              "          }\n",
              "        }\n",
              "      }\n",
              "      const blob = new Blob(buffers, {type: 'application/binary'});\n",
              "      const a = document.createElement('a');\n",
              "      a.href = window.URL.createObjectURL(blob);\n",
              "      a.download = filename;\n",
              "      div.appendChild(a);\n",
              "      a.click();\n",
              "      div.remove();\n",
              "    }\n",
              "  "
            ]
          },
          "metadata": {}
        },
        {
          "output_type": "display_data",
          "data": {
            "text/plain": [
              "<IPython.core.display.Javascript object>"
            ],
            "application/javascript": [
              "download(\"download_f2e8e265-2780-4b77-9f66-d8f7054948bd\", \"SVC_Manual_Cov.csv\", 459)"
            ]
          },
          "metadata": {}
        }
      ]
    },
    {
      "cell_type": "markdown",
      "metadata": {
        "id": "ECwEwxSukmBV"
      },
      "source": [
        "# GHOST:\n"
      ]
    },
    {
      "cell_type": "code",
      "execution_count": 71,
      "metadata": {
        "colab": {
          "base_uri": "https://localhost:8080/"
        },
        "id": "fqIFJC9XljyX",
        "outputId": "44da0740-c71e-41c2-8cbe-eea7952bff9c"
      },
      "outputs": [
        {
          "output_type": "stream",
          "name": "stdout",
          "text": [
            "Collecting ghostml\n",
            "  Downloading ghostml-0.3.0-py3-none-any.whl.metadata (4.1 kB)\n",
            "Requirement already satisfied: numpy in /usr/local/lib/python3.11/dist-packages (from ghostml) (2.0.2)\n",
            "Requirement already satisfied: pandas in /usr/local/lib/python3.11/dist-packages (from ghostml) (2.2.2)\n",
            "Requirement already satisfied: scikit-learn>=0.22 in /usr/local/lib/python3.11/dist-packages (from ghostml) (1.6.1)\n",
            "Requirement already satisfied: scipy>=1.6.0 in /usr/local/lib/python3.11/dist-packages (from scikit-learn>=0.22->ghostml) (1.14.1)\n",
            "Requirement already satisfied: joblib>=1.2.0 in /usr/local/lib/python3.11/dist-packages (from scikit-learn>=0.22->ghostml) (1.4.2)\n",
            "Requirement already satisfied: threadpoolctl>=3.1.0 in /usr/local/lib/python3.11/dist-packages (from scikit-learn>=0.22->ghostml) (3.6.0)\n",
            "Requirement already satisfied: python-dateutil>=2.8.2 in /usr/local/lib/python3.11/dist-packages (from pandas->ghostml) (2.8.2)\n",
            "Requirement already satisfied: pytz>=2020.1 in /usr/local/lib/python3.11/dist-packages (from pandas->ghostml) (2025.1)\n",
            "Requirement already satisfied: tzdata>=2022.7 in /usr/local/lib/python3.11/dist-packages (from pandas->ghostml) (2025.1)\n",
            "Requirement already satisfied: six>=1.5 in /usr/local/lib/python3.11/dist-packages (from python-dateutil>=2.8.2->pandas->ghostml) (1.17.0)\n",
            "Downloading ghostml-0.3.0-py3-none-any.whl (6.5 kB)\n",
            "Installing collected packages: ghostml\n",
            "Successfully installed ghostml-0.3.0\n"
          ]
        }
      ],
      "source": [
        "!pip install ghostml"
      ]
    },
    {
      "cell_type": "code",
      "execution_count": 72,
      "metadata": {
        "id": "c6IhwNj7lltt"
      },
      "outputs": [],
      "source": [
        "import ghostml\n",
        "from sklearn import metrics\n",
        "\n",
        "def calc_metrics(labels_test, test_probs, threshold = 0.5):\n",
        "  scores = [1 if x>=threshold else 0 for x in test_probs]\n",
        "  auc = metrics.roc_auc_score(labels_test, test_probs)\n",
        "  kappa = metrics.cohen_kappa_score(labels_test, scores)\n",
        "  confusion = metrics.confusion_matrix(labels_test, scores, labels = list(set(labels_test)))\n",
        "\n",
        "  print('Threshold: %.2f, kappa: %.3f, AUC test set: %.3f'%(threshold, kappa, auc))\n",
        "  print(confusion)\n",
        "  print(metrics.classification_report(labels_test, scores))\n",
        "\n",
        "  return\n",
        "\n",
        "thresholds = np.round(np.arange(0.01, 0.75,0.01),2)"
      ]
    },
    {
      "cell_type": "code",
      "execution_count": 110,
      "metadata": {
        "colab": {
          "base_uri": "https://localhost:8080/"
        },
        "id": "aSLnv8t_l6Qy",
        "outputId": "4425d314-254b-4ab5-fa39-3d8088418971"
      },
      "outputs": [
        {
          "output_type": "stream",
          "name": "stdout",
          "text": [
            "Threshold: 0.50, kappa: 0.000, AUC test set: 0.586\n",
            "[[36  0]\n",
            " [ 9  0]]\n",
            "              precision    recall  f1-score   support\n",
            "\n",
            "           0       0.80      1.00      0.89        36\n",
            "           1       0.00      0.00      0.00         9\n",
            "\n",
            "    accuracy                           0.80        45\n",
            "   macro avg       0.40      0.50      0.44        45\n",
            "weighted avg       0.64      0.80      0.71        45\n",
            "\n"
          ]
        },
        {
          "output_type": "stream",
          "name": "stderr",
          "text": [
            "/usr/local/lib/python3.11/dist-packages/sklearn/metrics/_classification.py:1565: UndefinedMetricWarning: Precision is ill-defined and being set to 0.0 in labels with no predicted samples. Use `zero_division` parameter to control this behavior.\n",
            "  _warn_prf(average, modifier, f\"{metric.capitalize()} is\", len(result))\n",
            "/usr/local/lib/python3.11/dist-packages/sklearn/metrics/_classification.py:1565: UndefinedMetricWarning: Precision is ill-defined and being set to 0.0 in labels with no predicted samples. Use `zero_division` parameter to control this behavior.\n",
            "  _warn_prf(average, modifier, f\"{metric.capitalize()} is\", len(result))\n",
            "/usr/local/lib/python3.11/dist-packages/sklearn/metrics/_classification.py:1565: UndefinedMetricWarning: Precision is ill-defined and being set to 0.0 in labels with no predicted samples. Use `zero_division` parameter to control this behavior.\n",
            "  _warn_prf(average, modifier, f\"{metric.capitalize()} is\", len(result))\n"
          ]
        }
      ],
      "source": [
        "np.random.seed(2025)\n",
        "X_train, X_temp, y_train, y_temp = train_test_split(X_manual, y, test_size = 0.3, random_state = 2025, stratify = y)\n",
        "X_val, X_test, y_val, y_test = train_test_split(X_temp, y_temp, test_size = 0.5, random_state = 2025, stratify = y_temp)\n",
        "\n",
        "svc_ghost = SVC(C = 100, class_weight = 'balanced', degree = 2, gamma = 'scale', kernel = 'sigmoid', probability = True, random_state = 2025)\n",
        "svc_ghost.fit(X_temp, y_temp)\n",
        "svc_test_probs = svc_ghost.predict_proba(X_test)[:,1]\n",
        "calc_metrics(y_test, svc_test_probs, threshold = 0.5)"
      ]
    },
    {
      "cell_type": "code",
      "execution_count": 111,
      "metadata": {
        "colab": {
          "base_uri": "https://localhost:8080/"
        },
        "id": "N_BdHPs0mOBQ",
        "outputId": "385037d8-5060-4ca9-ed30-dd3b7ac6afd2"
      },
      "outputs": [
        {
          "output_type": "stream",
          "name": "stdout",
          "text": [
            "Threshold: 0.21, kappa: 0.190, AUC test set: 0.586\n",
            "[[22 14]\n",
            " [ 3  6]]\n",
            "              precision    recall  f1-score   support\n",
            "\n",
            "           0       0.88      0.61      0.72        36\n",
            "           1       0.30      0.67      0.41         9\n",
            "\n",
            "    accuracy                           0.62        45\n",
            "   macro avg       0.59      0.64      0.57        45\n",
            "weighted avg       0.76      0.62      0.66        45\n",
            "\n"
          ]
        }
      ],
      "source": [
        "np.random.seed(2025)\n",
        "svc_temp_probs = svc_ghost.predict_proba(X_temp)[:,1]\n",
        "svc_threshold = ghostml.optimize_threshold_from_predictions(y_temp, svc_temp_probs, thresholds, ThOpt_metrics = 'Kappa')\n",
        "\n",
        "np.random.seed(2025)\n",
        "calc_metrics(y_test, svc_test_probs, threshold = svc_threshold)\n",
        "svc_GHOST_test = [1 if x >= svc_threshold else 0 for x in svc_test_probs]"
      ]
    },
    {
      "cell_type": "code",
      "execution_count": 112,
      "metadata": {
        "id": "ZYpcby63wwE-"
      },
      "outputs": [],
      "source": [
        "np.random.seed(2025)\n",
        "svc_ghost.fit(X_full, y)\n",
        "svc_probs = svc_ghost.predict_proba(X_test_full)[:,1]\n",
        "svc_pred_ghost = [1 if x >= svc_threshold else 0 for x in svc_probs]"
      ]
    },
    {
      "cell_type": "code",
      "execution_count": 113,
      "metadata": {
        "colab": {
          "base_uri": "https://localhost:8080/",
          "height": 17
        },
        "id": "e5Zrd6POxio3",
        "outputId": "d242ee36-b7d3-4b26-ebfd-bb687c2155c6"
      },
      "outputs": [
        {
          "output_type": "display_data",
          "data": {
            "text/plain": [
              "<IPython.core.display.Javascript object>"
            ],
            "application/javascript": [
              "\n",
              "    async function download(id, filename, size) {\n",
              "      if (!google.colab.kernel.accessAllowed) {\n",
              "        return;\n",
              "      }\n",
              "      const div = document.createElement('div');\n",
              "      const label = document.createElement('label');\n",
              "      label.textContent = `Downloading \"${filename}\": `;\n",
              "      div.appendChild(label);\n",
              "      const progress = document.createElement('progress');\n",
              "      progress.max = size;\n",
              "      div.appendChild(progress);\n",
              "      document.body.appendChild(div);\n",
              "\n",
              "      const buffers = [];\n",
              "      let downloaded = 0;\n",
              "\n",
              "      const channel = await google.colab.kernel.comms.open(id);\n",
              "      // Send a message to notify the kernel that we're ready.\n",
              "      channel.send({})\n",
              "\n",
              "      for await (const message of channel.messages) {\n",
              "        // Send a message to notify the kernel that we're ready.\n",
              "        channel.send({})\n",
              "        if (message.buffers) {\n",
              "          for (const buffer of message.buffers) {\n",
              "            buffers.push(buffer);\n",
              "            downloaded += buffer.byteLength;\n",
              "            progress.value = downloaded;\n",
              "          }\n",
              "        }\n",
              "      }\n",
              "      const blob = new Blob(buffers, {type: 'application/binary'});\n",
              "      const a = document.createElement('a');\n",
              "      a.href = window.URL.createObjectURL(blob);\n",
              "      a.download = filename;\n",
              "      div.appendChild(a);\n",
              "      a.click();\n",
              "      div.remove();\n",
              "    }\n",
              "  "
            ]
          },
          "metadata": {}
        },
        {
          "output_type": "display_data",
          "data": {
            "text/plain": [
              "<IPython.core.display.Javascript object>"
            ],
            "application/javascript": [
              "download(\"download_b840d65f-3d74-47c2-8c3f-bade262bd742\", \"SVC_GHOST_Cov.csv\", 459)"
            ]
          },
          "metadata": {}
        }
      ],
      "source": [
        "from google.colab import files\n",
        "\n",
        "pred_rf = pd.DataFrame({'ID': range(1, 92), 'Placement': svc_pred_ghost})\n",
        "\n",
        "with open('SVC_GHOST_Cov.csv', 'w') as file:\n",
        "    pred_rf.to_csv(file, index = False, header = True)\n",
        "\n",
        "files.download('SVC_GHOST_Cov.csv')"
      ]
    }
  ]
}