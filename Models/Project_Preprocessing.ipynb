{
  "nbformat": 4,
  "nbformat_minor": 0,
  "metadata": {
    "colab": {
      "provenance": []
    },
    "kernelspec": {
      "name": "python3",
      "display_name": "Python 3"
    },
    "language_info": {
      "name": "python"
    }
  },
  "cells": [
    {
      "cell_type": "code",
      "execution_count": 1,
      "metadata": {
        "id": "DhdUaCSLemBK"
      },
      "outputs": [],
      "source": [
        "import pandas as pd\n",
        "import numpy as np"
      ]
    },
    {
      "cell_type": "code",
      "source": [
        "X = pd.read_csv('Train_Features.csv').iloc[:,1:]\n",
        "y = pd.read_csv('Train_Target.csv').iloc[:,1]\n",
        "X_test = pd.read_csv('Test_Features.csv').iloc[:,1:]"
      ],
      "metadata": {
        "id": "Pmzc0VbHfJxY"
      },
      "execution_count": 3,
      "outputs": []
    },
    {
      "cell_type": "code",
      "source": [
        "X.head()"
      ],
      "metadata": {
        "colab": {
          "base_uri": "https://localhost:8080/",
          "height": 261
        },
        "id": "ZwvYxbc-ffUc",
        "outputId": "732388ac-83cc-493a-f6cd-32a34b252e5a"
      },
      "execution_count": null,
      "outputs": [
        {
          "output_type": "execute_result",
          "data": {
            "text/plain": [
              "  Gender  Percent_SSC Board_SSC  Percent_HSC Board_HSC Stream_HSC  \\\n",
              "0      M         56.0      ICSE         58.0       ISC   Commerce   \n",
              "1      M         41.0    Others         51.0    Others    Science   \n",
              "2      F         53.0    Others         40.0    Others       Arts   \n",
              "3      M         59.0    Others         58.0    Others   Commerce   \n",
              "4      F         61.5    Others         65.4      CBSE       Arts   \n",
              "\n",
              "   Percent_Degree          Course_Degree  Experience_Yrs Entrance_Test  \\\n",
              "0           67.00             Management               0           NaN   \n",
              "1           61.00  Computer Applications               1           MAT   \n",
              "2           54.00                   Arts               1           MAT   \n",
              "3           59.00             Management               0         G-MAT   \n",
              "4           67.93             Management               0           MAT   \n",
              "\n",
              "   S-TEST  Percentile_ET  S-TEST*SCORE  Percent_MBA   Specialization_MBA  \\\n",
              "0       0            0.0           0.0        65.28  Marketing & Finance   \n",
              "1       1           86.0          86.0        62.48  Marketing & Finance   \n",
              "2       1           65.0          65.0        56.11       Marketing & HR   \n",
              "3       1            0.0           0.0        59.81       Marketing & HR   \n",
              "4       1           61.0          61.0        64.27  Marketing & Finance   \n",
              "\n",
              "   Marks_Communication  Marks_Projectwork  Marks_BOCA  \n",
              "0                   62                 77          77  \n",
              "1                   59                 72          75  \n",
              "2                   54                 66          75  \n",
              "3                   53                 66          78  \n",
              "4                   69                 69          61  "
            ],
            "text/html": [
              "\n",
              "  <div id=\"df-b002f78b-941b-4533-9ece-808382adce04\" class=\"colab-df-container\">\n",
              "    <div>\n",
              "<style scoped>\n",
              "    .dataframe tbody tr th:only-of-type {\n",
              "        vertical-align: middle;\n",
              "    }\n",
              "\n",
              "    .dataframe tbody tr th {\n",
              "        vertical-align: top;\n",
              "    }\n",
              "\n",
              "    .dataframe thead th {\n",
              "        text-align: right;\n",
              "    }\n",
              "</style>\n",
              "<table border=\"1\" class=\"dataframe\">\n",
              "  <thead>\n",
              "    <tr style=\"text-align: right;\">\n",
              "      <th></th>\n",
              "      <th>Gender</th>\n",
              "      <th>Percent_SSC</th>\n",
              "      <th>Board_SSC</th>\n",
              "      <th>Percent_HSC</th>\n",
              "      <th>Board_HSC</th>\n",
              "      <th>Stream_HSC</th>\n",
              "      <th>Percent_Degree</th>\n",
              "      <th>Course_Degree</th>\n",
              "      <th>Experience_Yrs</th>\n",
              "      <th>Entrance_Test</th>\n",
              "      <th>S-TEST</th>\n",
              "      <th>Percentile_ET</th>\n",
              "      <th>S-TEST*SCORE</th>\n",
              "      <th>Percent_MBA</th>\n",
              "      <th>Specialization_MBA</th>\n",
              "      <th>Marks_Communication</th>\n",
              "      <th>Marks_Projectwork</th>\n",
              "      <th>Marks_BOCA</th>\n",
              "    </tr>\n",
              "  </thead>\n",
              "  <tbody>\n",
              "    <tr>\n",
              "      <th>0</th>\n",
              "      <td>M</td>\n",
              "      <td>56.0</td>\n",
              "      <td>ICSE</td>\n",
              "      <td>58.0</td>\n",
              "      <td>ISC</td>\n",
              "      <td>Commerce</td>\n",
              "      <td>67.00</td>\n",
              "      <td>Management</td>\n",
              "      <td>0</td>\n",
              "      <td>NaN</td>\n",
              "      <td>0</td>\n",
              "      <td>0.0</td>\n",
              "      <td>0.0</td>\n",
              "      <td>65.28</td>\n",
              "      <td>Marketing &amp; Finance</td>\n",
              "      <td>62</td>\n",
              "      <td>77</td>\n",
              "      <td>77</td>\n",
              "    </tr>\n",
              "    <tr>\n",
              "      <th>1</th>\n",
              "      <td>M</td>\n",
              "      <td>41.0</td>\n",
              "      <td>Others</td>\n",
              "      <td>51.0</td>\n",
              "      <td>Others</td>\n",
              "      <td>Science</td>\n",
              "      <td>61.00</td>\n",
              "      <td>Computer Applications</td>\n",
              "      <td>1</td>\n",
              "      <td>MAT</td>\n",
              "      <td>1</td>\n",
              "      <td>86.0</td>\n",
              "      <td>86.0</td>\n",
              "      <td>62.48</td>\n",
              "      <td>Marketing &amp; Finance</td>\n",
              "      <td>59</td>\n",
              "      <td>72</td>\n",
              "      <td>75</td>\n",
              "    </tr>\n",
              "    <tr>\n",
              "      <th>2</th>\n",
              "      <td>F</td>\n",
              "      <td>53.0</td>\n",
              "      <td>Others</td>\n",
              "      <td>40.0</td>\n",
              "      <td>Others</td>\n",
              "      <td>Arts</td>\n",
              "      <td>54.00</td>\n",
              "      <td>Arts</td>\n",
              "      <td>1</td>\n",
              "      <td>MAT</td>\n",
              "      <td>1</td>\n",
              "      <td>65.0</td>\n",
              "      <td>65.0</td>\n",
              "      <td>56.11</td>\n",
              "      <td>Marketing &amp; HR</td>\n",
              "      <td>54</td>\n",
              "      <td>66</td>\n",
              "      <td>75</td>\n",
              "    </tr>\n",
              "    <tr>\n",
              "      <th>3</th>\n",
              "      <td>M</td>\n",
              "      <td>59.0</td>\n",
              "      <td>Others</td>\n",
              "      <td>58.0</td>\n",
              "      <td>Others</td>\n",
              "      <td>Commerce</td>\n",
              "      <td>59.00</td>\n",
              "      <td>Management</td>\n",
              "      <td>0</td>\n",
              "      <td>G-MAT</td>\n",
              "      <td>1</td>\n",
              "      <td>0.0</td>\n",
              "      <td>0.0</td>\n",
              "      <td>59.81</td>\n",
              "      <td>Marketing &amp; HR</td>\n",
              "      <td>53</td>\n",
              "      <td>66</td>\n",
              "      <td>78</td>\n",
              "    </tr>\n",
              "    <tr>\n",
              "      <th>4</th>\n",
              "      <td>F</td>\n",
              "      <td>61.5</td>\n",
              "      <td>Others</td>\n",
              "      <td>65.4</td>\n",
              "      <td>CBSE</td>\n",
              "      <td>Arts</td>\n",
              "      <td>67.93</td>\n",
              "      <td>Management</td>\n",
              "      <td>0</td>\n",
              "      <td>MAT</td>\n",
              "      <td>1</td>\n",
              "      <td>61.0</td>\n",
              "      <td>61.0</td>\n",
              "      <td>64.27</td>\n",
              "      <td>Marketing &amp; Finance</td>\n",
              "      <td>69</td>\n",
              "      <td>69</td>\n",
              "      <td>61</td>\n",
              "    </tr>\n",
              "  </tbody>\n",
              "</table>\n",
              "</div>\n",
              "    <div class=\"colab-df-buttons\">\n",
              "\n",
              "  <div class=\"colab-df-container\">\n",
              "    <button class=\"colab-df-convert\" onclick=\"convertToInteractive('df-b002f78b-941b-4533-9ece-808382adce04')\"\n",
              "            title=\"Convert this dataframe to an interactive table.\"\n",
              "            style=\"display:none;\">\n",
              "\n",
              "  <svg xmlns=\"http://www.w3.org/2000/svg\" height=\"24px\" viewBox=\"0 -960 960 960\">\n",
              "    <path d=\"M120-120v-720h720v720H120Zm60-500h600v-160H180v160Zm220 220h160v-160H400v160Zm0 220h160v-160H400v160ZM180-400h160v-160H180v160Zm440 0h160v-160H620v160ZM180-180h160v-160H180v160Zm440 0h160v-160H620v160Z\"/>\n",
              "  </svg>\n",
              "    </button>\n",
              "\n",
              "  <style>\n",
              "    .colab-df-container {\n",
              "      display:flex;\n",
              "      gap: 12px;\n",
              "    }\n",
              "\n",
              "    .colab-df-convert {\n",
              "      background-color: #E8F0FE;\n",
              "      border: none;\n",
              "      border-radius: 50%;\n",
              "      cursor: pointer;\n",
              "      display: none;\n",
              "      fill: #1967D2;\n",
              "      height: 32px;\n",
              "      padding: 0 0 0 0;\n",
              "      width: 32px;\n",
              "    }\n",
              "\n",
              "    .colab-df-convert:hover {\n",
              "      background-color: #E2EBFA;\n",
              "      box-shadow: 0px 1px 2px rgba(60, 64, 67, 0.3), 0px 1px 3px 1px rgba(60, 64, 67, 0.15);\n",
              "      fill: #174EA6;\n",
              "    }\n",
              "\n",
              "    .colab-df-buttons div {\n",
              "      margin-bottom: 4px;\n",
              "    }\n",
              "\n",
              "    [theme=dark] .colab-df-convert {\n",
              "      background-color: #3B4455;\n",
              "      fill: #D2E3FC;\n",
              "    }\n",
              "\n",
              "    [theme=dark] .colab-df-convert:hover {\n",
              "      background-color: #434B5C;\n",
              "      box-shadow: 0px 1px 3px 1px rgba(0, 0, 0, 0.15);\n",
              "      filter: drop-shadow(0px 1px 2px rgba(0, 0, 0, 0.3));\n",
              "      fill: #FFFFFF;\n",
              "    }\n",
              "  </style>\n",
              "\n",
              "    <script>\n",
              "      const buttonEl =\n",
              "        document.querySelector('#df-b002f78b-941b-4533-9ece-808382adce04 button.colab-df-convert');\n",
              "      buttonEl.style.display =\n",
              "        google.colab.kernel.accessAllowed ? 'block' : 'none';\n",
              "\n",
              "      async function convertToInteractive(key) {\n",
              "        const element = document.querySelector('#df-b002f78b-941b-4533-9ece-808382adce04');\n",
              "        const dataTable =\n",
              "          await google.colab.kernel.invokeFunction('convertToInteractive',\n",
              "                                                    [key], {});\n",
              "        if (!dataTable) return;\n",
              "\n",
              "        const docLinkHtml = 'Like what you see? Visit the ' +\n",
              "          '<a target=\"_blank\" href=https://colab.research.google.com/notebooks/data_table.ipynb>data table notebook</a>'\n",
              "          + ' to learn more about interactive tables.';\n",
              "        element.innerHTML = '';\n",
              "        dataTable['output_type'] = 'display_data';\n",
              "        await google.colab.output.renderOutput(dataTable, element);\n",
              "        const docLink = document.createElement('div');\n",
              "        docLink.innerHTML = docLinkHtml;\n",
              "        element.appendChild(docLink);\n",
              "      }\n",
              "    </script>\n",
              "  </div>\n",
              "\n",
              "\n",
              "<div id=\"df-d53ab14f-d902-4ac1-bc09-dac4e0057028\">\n",
              "  <button class=\"colab-df-quickchart\" onclick=\"quickchart('df-d53ab14f-d902-4ac1-bc09-dac4e0057028')\"\n",
              "            title=\"Suggest charts\"\n",
              "            style=\"display:none;\">\n",
              "\n",
              "<svg xmlns=\"http://www.w3.org/2000/svg\" height=\"24px\"viewBox=\"0 0 24 24\"\n",
              "     width=\"24px\">\n",
              "    <g>\n",
              "        <path d=\"M19 3H5c-1.1 0-2 .9-2 2v14c0 1.1.9 2 2 2h14c1.1 0 2-.9 2-2V5c0-1.1-.9-2-2-2zM9 17H7v-7h2v7zm4 0h-2V7h2v10zm4 0h-2v-4h2v4z\"/>\n",
              "    </g>\n",
              "</svg>\n",
              "  </button>\n",
              "\n",
              "<style>\n",
              "  .colab-df-quickchart {\n",
              "      --bg-color: #E8F0FE;\n",
              "      --fill-color: #1967D2;\n",
              "      --hover-bg-color: #E2EBFA;\n",
              "      --hover-fill-color: #174EA6;\n",
              "      --disabled-fill-color: #AAA;\n",
              "      --disabled-bg-color: #DDD;\n",
              "  }\n",
              "\n",
              "  [theme=dark] .colab-df-quickchart {\n",
              "      --bg-color: #3B4455;\n",
              "      --fill-color: #D2E3FC;\n",
              "      --hover-bg-color: #434B5C;\n",
              "      --hover-fill-color: #FFFFFF;\n",
              "      --disabled-bg-color: #3B4455;\n",
              "      --disabled-fill-color: #666;\n",
              "  }\n",
              "\n",
              "  .colab-df-quickchart {\n",
              "    background-color: var(--bg-color);\n",
              "    border: none;\n",
              "    border-radius: 50%;\n",
              "    cursor: pointer;\n",
              "    display: none;\n",
              "    fill: var(--fill-color);\n",
              "    height: 32px;\n",
              "    padding: 0;\n",
              "    width: 32px;\n",
              "  }\n",
              "\n",
              "  .colab-df-quickchart:hover {\n",
              "    background-color: var(--hover-bg-color);\n",
              "    box-shadow: 0 1px 2px rgba(60, 64, 67, 0.3), 0 1px 3px 1px rgba(60, 64, 67, 0.15);\n",
              "    fill: var(--button-hover-fill-color);\n",
              "  }\n",
              "\n",
              "  .colab-df-quickchart-complete:disabled,\n",
              "  .colab-df-quickchart-complete:disabled:hover {\n",
              "    background-color: var(--disabled-bg-color);\n",
              "    fill: var(--disabled-fill-color);\n",
              "    box-shadow: none;\n",
              "  }\n",
              "\n",
              "  .colab-df-spinner {\n",
              "    border: 2px solid var(--fill-color);\n",
              "    border-color: transparent;\n",
              "    border-bottom-color: var(--fill-color);\n",
              "    animation:\n",
              "      spin 1s steps(1) infinite;\n",
              "  }\n",
              "\n",
              "  @keyframes spin {\n",
              "    0% {\n",
              "      border-color: transparent;\n",
              "      border-bottom-color: var(--fill-color);\n",
              "      border-left-color: var(--fill-color);\n",
              "    }\n",
              "    20% {\n",
              "      border-color: transparent;\n",
              "      border-left-color: var(--fill-color);\n",
              "      border-top-color: var(--fill-color);\n",
              "    }\n",
              "    30% {\n",
              "      border-color: transparent;\n",
              "      border-left-color: var(--fill-color);\n",
              "      border-top-color: var(--fill-color);\n",
              "      border-right-color: var(--fill-color);\n",
              "    }\n",
              "    40% {\n",
              "      border-color: transparent;\n",
              "      border-right-color: var(--fill-color);\n",
              "      border-top-color: var(--fill-color);\n",
              "    }\n",
              "    60% {\n",
              "      border-color: transparent;\n",
              "      border-right-color: var(--fill-color);\n",
              "    }\n",
              "    80% {\n",
              "      border-color: transparent;\n",
              "      border-right-color: var(--fill-color);\n",
              "      border-bottom-color: var(--fill-color);\n",
              "    }\n",
              "    90% {\n",
              "      border-color: transparent;\n",
              "      border-bottom-color: var(--fill-color);\n",
              "    }\n",
              "  }\n",
              "</style>\n",
              "\n",
              "  <script>\n",
              "    async function quickchart(key) {\n",
              "      const quickchartButtonEl =\n",
              "        document.querySelector('#' + key + ' button');\n",
              "      quickchartButtonEl.disabled = true;  // To prevent multiple clicks.\n",
              "      quickchartButtonEl.classList.add('colab-df-spinner');\n",
              "      try {\n",
              "        const charts = await google.colab.kernel.invokeFunction(\n",
              "            'suggestCharts', [key], {});\n",
              "      } catch (error) {\n",
              "        console.error('Error during call to suggestCharts:', error);\n",
              "      }\n",
              "      quickchartButtonEl.classList.remove('colab-df-spinner');\n",
              "      quickchartButtonEl.classList.add('colab-df-quickchart-complete');\n",
              "    }\n",
              "    (() => {\n",
              "      let quickchartButtonEl =\n",
              "        document.querySelector('#df-d53ab14f-d902-4ac1-bc09-dac4e0057028 button');\n",
              "      quickchartButtonEl.style.display =\n",
              "        google.colab.kernel.accessAllowed ? 'block' : 'none';\n",
              "    })();\n",
              "  </script>\n",
              "</div>\n",
              "\n",
              "    </div>\n",
              "  </div>\n"
            ],
            "application/vnd.google.colaboratory.intrinsic+json": {
              "type": "dataframe",
              "variable_name": "X",
              "summary": "{\n  \"name\": \"X\",\n  \"rows\": 300,\n  \"fields\": [\n    {\n      \"column\": \"Gender\",\n      \"properties\": {\n        \"dtype\": \"category\",\n        \"num_unique_values\": 2,\n        \"samples\": [\n          \"F\",\n          \"M\"\n        ],\n        \"semantic_type\": \"\",\n        \"description\": \"\"\n      }\n    },\n    {\n      \"column\": \"Percent_SSC\",\n      \"properties\": {\n        \"dtype\": \"number\",\n        \"std\": 11.183568695102764,\n        \"min\": 37.0,\n        \"max\": 87.2,\n        \"num_unique_values\": 129,\n        \"samples\": [\n          60.4,\n          59.4\n        ],\n        \"semantic_type\": \"\",\n        \"description\": \"\"\n      }\n    },\n    {\n      \"column\": \"Board_SSC\",\n      \"properties\": {\n        \"dtype\": \"category\",\n        \"num_unique_values\": 3,\n        \"samples\": [\n          \"ICSE\",\n          \"Others\"\n        ],\n        \"semantic_type\": \"\",\n        \"description\": \"\"\n      }\n    },\n    {\n      \"column\": \"Percent_HSC\",\n      \"properties\": {\n        \"dtype\": \"number\",\n        \"std\": 11.526602002961283,\n        \"min\": 40.0,\n        \"max\": 94.7,\n        \"num_unique_values\": 123,\n        \"samples\": [\n          87.0,\n          74.0\n        ],\n        \"semantic_type\": \"\",\n        \"description\": \"\"\n      }\n    },\n    {\n      \"column\": \"Board_HSC\",\n      \"properties\": {\n        \"dtype\": \"category\",\n        \"num_unique_values\": 3,\n        \"samples\": [\n          \"ISC\",\n          \"Others\"\n        ],\n        \"semantic_type\": \"\",\n        \"description\": \"\"\n      }\n    },\n    {\n      \"column\": \"Stream_HSC\",\n      \"properties\": {\n        \"dtype\": \"category\",\n        \"num_unique_values\": 3,\n        \"samples\": [\n          \"Commerce\",\n          \"Science\"\n        ],\n        \"semantic_type\": \"\",\n        \"description\": \"\"\n      }\n    },\n    {\n      \"column\": \"Percent_Degree\",\n      \"properties\": {\n        \"dtype\": \"number\",\n        \"std\": 9.172405206366982,\n        \"min\": 35.0,\n        \"max\": 88.8,\n        \"num_unique_values\": 119,\n        \"samples\": [\n          67.75,\n          56.38\n        ],\n        \"semantic_type\": \"\",\n        \"description\": \"\"\n      }\n    },\n    {\n      \"column\": \"Course_Degree\",\n      \"properties\": {\n        \"dtype\": \"category\",\n        \"num_unique_values\": 7,\n        \"samples\": [\n          \"Management\",\n          \"Computer Applications\"\n        ],\n        \"semantic_type\": \"\",\n        \"description\": \"\"\n      }\n    },\n    {\n      \"column\": \"Experience_Yrs\",\n      \"properties\": {\n        \"dtype\": \"number\",\n        \"std\": 0,\n        \"min\": 0,\n        \"max\": 3,\n        \"num_unique_values\": 4,\n        \"samples\": [\n          1,\n          3\n        ],\n        \"semantic_type\": \"\",\n        \"description\": \"\"\n      }\n    },\n    {\n      \"column\": \"Entrance_Test\",\n      \"properties\": {\n        \"dtype\": \"category\",\n        \"num_unique_values\": 7,\n        \"samples\": [\n          \"MAT\",\n          \"G-MAT\"\n        ],\n        \"semantic_type\": \"\",\n        \"description\": \"\"\n      }\n    },\n    {\n      \"column\": \"S-TEST\",\n      \"properties\": {\n        \"dtype\": \"number\",\n        \"std\": 0,\n        \"min\": 0,\n        \"max\": 1,\n        \"num_unique_values\": 2,\n        \"samples\": [\n          1,\n          0\n        ],\n        \"semantic_type\": \"\",\n        \"description\": \"\"\n      }\n    },\n    {\n      \"column\": \"Percentile_ET\",\n      \"properties\": {\n        \"dtype\": \"number\",\n        \"std\": 31.12089234868749,\n        \"min\": 0.0,\n        \"max\": 98.69,\n        \"num_unique_values\": 117,\n        \"samples\": [\n          61.28,\n          57.63\n        ],\n        \"semantic_type\": \"\",\n        \"description\": \"\"\n      }\n    },\n    {\n      \"column\": \"S-TEST*SCORE\",\n      \"properties\": {\n        \"dtype\": \"number\",\n        \"std\": 31.12089234868749,\n        \"min\": 0.0,\n        \"max\": 98.69,\n        \"num_unique_values\": 117,\n        \"samples\": [\n          61.28,\n          57.63\n        ],\n        \"semantic_type\": \"\",\n        \"description\": \"\"\n      }\n    },\n    {\n      \"column\": \"Percent_MBA\",\n      \"properties\": {\n        \"dtype\": \"number\",\n        \"std\": 5.840536563827013,\n        \"min\": 50.83,\n        \"max\": 77.89,\n        \"num_unique_values\": 281,\n        \"samples\": [\n          58.87,\n          62.98\n        ],\n        \"semantic_type\": \"\",\n        \"description\": \"\"\n      }\n    },\n    {\n      \"column\": \"Specialization_MBA\",\n      \"properties\": {\n        \"dtype\": \"category\",\n        \"num_unique_values\": 3,\n        \"samples\": [\n          \"Marketing & Finance\",\n          \"Marketing & HR\"\n        ],\n        \"semantic_type\": \"\",\n        \"description\": \"\"\n      }\n    },\n    {\n      \"column\": \"Marks_Communication\",\n      \"properties\": {\n        \"dtype\": \"number\",\n        \"std\": 8,\n        \"min\": 50,\n        \"max\": 88,\n        \"num_unique_values\": 36,\n        \"samples\": [\n          88,\n          57\n        ],\n        \"semantic_type\": \"\",\n        \"description\": \"\"\n      }\n    },\n    {\n      \"column\": \"Marks_Projectwork\",\n      \"properties\": {\n        \"dtype\": \"number\",\n        \"std\": 7,\n        \"min\": 50,\n        \"max\": 87,\n        \"num_unique_values\": 35,\n        \"samples\": [\n          76,\n          71\n        ],\n        \"semantic_type\": \"\",\n        \"description\": \"\"\n      }\n    },\n    {\n      \"column\": \"Marks_BOCA\",\n      \"properties\": {\n        \"dtype\": \"number\",\n        \"std\": 9,\n        \"min\": 50,\n        \"max\": 96,\n        \"num_unique_values\": 36,\n        \"samples\": [\n          96,\n          55\n        ],\n        \"semantic_type\": \"\",\n        \"description\": \"\"\n      }\n    }\n  ]\n}"
            }
          },
          "metadata": {},
          "execution_count": 97
        }
      ]
    },
    {
      "cell_type": "code",
      "source": [
        "X.dtypes"
      ],
      "metadata": {
        "colab": {
          "base_uri": "https://localhost:8080/",
          "height": 648
        },
        "id": "7GjSBGG4f2hq",
        "outputId": "afbe1255-d555-4160-db9b-207d2b70dc9b"
      },
      "execution_count": null,
      "outputs": [
        {
          "output_type": "execute_result",
          "data": {
            "text/plain": [
              "Gender                  object\n",
              "Percent_SSC            float64\n",
              "Board_SSC               object\n",
              "Percent_HSC            float64\n",
              "Board_HSC               object\n",
              "Stream_HSC              object\n",
              "Percent_Degree         float64\n",
              "Course_Degree           object\n",
              "Experience_Yrs           int64\n",
              "Entrance_Test           object\n",
              "S-TEST                   int64\n",
              "Percentile_ET          float64\n",
              "S-TEST*SCORE           float64\n",
              "Percent_MBA            float64\n",
              "Specialization_MBA      object\n",
              "Marks_Communication      int64\n",
              "Marks_Projectwork        int64\n",
              "Marks_BOCA               int64\n",
              "dtype: object"
            ],
            "text/html": [
              "<div>\n",
              "<style scoped>\n",
              "    .dataframe tbody tr th:only-of-type {\n",
              "        vertical-align: middle;\n",
              "    }\n",
              "\n",
              "    .dataframe tbody tr th {\n",
              "        vertical-align: top;\n",
              "    }\n",
              "\n",
              "    .dataframe thead th {\n",
              "        text-align: right;\n",
              "    }\n",
              "</style>\n",
              "<table border=\"1\" class=\"dataframe\">\n",
              "  <thead>\n",
              "    <tr style=\"text-align: right;\">\n",
              "      <th></th>\n",
              "      <th>0</th>\n",
              "    </tr>\n",
              "  </thead>\n",
              "  <tbody>\n",
              "    <tr>\n",
              "      <th>Gender</th>\n",
              "      <td>object</td>\n",
              "    </tr>\n",
              "    <tr>\n",
              "      <th>Percent_SSC</th>\n",
              "      <td>float64</td>\n",
              "    </tr>\n",
              "    <tr>\n",
              "      <th>Board_SSC</th>\n",
              "      <td>object</td>\n",
              "    </tr>\n",
              "    <tr>\n",
              "      <th>Percent_HSC</th>\n",
              "      <td>float64</td>\n",
              "    </tr>\n",
              "    <tr>\n",
              "      <th>Board_HSC</th>\n",
              "      <td>object</td>\n",
              "    </tr>\n",
              "    <tr>\n",
              "      <th>Stream_HSC</th>\n",
              "      <td>object</td>\n",
              "    </tr>\n",
              "    <tr>\n",
              "      <th>Percent_Degree</th>\n",
              "      <td>float64</td>\n",
              "    </tr>\n",
              "    <tr>\n",
              "      <th>Course_Degree</th>\n",
              "      <td>object</td>\n",
              "    </tr>\n",
              "    <tr>\n",
              "      <th>Experience_Yrs</th>\n",
              "      <td>int64</td>\n",
              "    </tr>\n",
              "    <tr>\n",
              "      <th>Entrance_Test</th>\n",
              "      <td>object</td>\n",
              "    </tr>\n",
              "    <tr>\n",
              "      <th>S-TEST</th>\n",
              "      <td>int64</td>\n",
              "    </tr>\n",
              "    <tr>\n",
              "      <th>Percentile_ET</th>\n",
              "      <td>float64</td>\n",
              "    </tr>\n",
              "    <tr>\n",
              "      <th>S-TEST*SCORE</th>\n",
              "      <td>float64</td>\n",
              "    </tr>\n",
              "    <tr>\n",
              "      <th>Percent_MBA</th>\n",
              "      <td>float64</td>\n",
              "    </tr>\n",
              "    <tr>\n",
              "      <th>Specialization_MBA</th>\n",
              "      <td>object</td>\n",
              "    </tr>\n",
              "    <tr>\n",
              "      <th>Marks_Communication</th>\n",
              "      <td>int64</td>\n",
              "    </tr>\n",
              "    <tr>\n",
              "      <th>Marks_Projectwork</th>\n",
              "      <td>int64</td>\n",
              "    </tr>\n",
              "    <tr>\n",
              "      <th>Marks_BOCA</th>\n",
              "      <td>int64</td>\n",
              "    </tr>\n",
              "  </tbody>\n",
              "</table>\n",
              "</div><br><label><b>dtype:</b> object</label>"
            ]
          },
          "metadata": {},
          "execution_count": 98
        }
      ]
    },
    {
      "cell_type": "code",
      "source": [
        "print('Gender Distribution:')\n",
        "print(X['Gender'].value_counts())\n",
        "print(X_test['Gender'].value_counts())\n",
        "print('########################################################')\n",
        "print('Board SSC Distribution:')\n",
        "print(X['Board_SSC'].value_counts())\n",
        "print(X_test['Board_SSC'].value_counts())\n",
        "print('########################################################')\n",
        "print('Board HSC Distribution:')\n",
        "print(X['Board_HSC'].value_counts())\n",
        "print(X_test['Board_HSC'].value_counts())\n",
        "print('########################################################')\n",
        "print('Stream HSC Distribution:')\n",
        "print(X['Stream_HSC'].value_counts())\n",
        "print(X_test['Stream_HSC'].value_counts())\n",
        "print('########################################################')\n",
        "print('Course Degree Distribution:')\n",
        "print(X['Course_Degree'].value_counts())\n",
        "print(X_test['Course_Degree'].value_counts())\n",
        "print('########################################################')\n",
        "print('Entrance Test Distribution:')\n",
        "print(X['Entrance_Test'].value_counts())\n",
        "print(X_test['Entrance_Test'].value_counts())\n",
        "print('########################################################')\n",
        "print('Specialization_MBA Distribution:')\n",
        "print(X['Specialization_MBA'].value_counts())\n",
        "print(X_test['Specialization_MBA'].value_counts())"
      ],
      "metadata": {
        "colab": {
          "base_uri": "https://localhost:8080/"
        },
        "id": "FuFpAujJgP3c",
        "outputId": "d8720b19-e281-4ee4-8ec0-4a47382e1416"
      },
      "execution_count": null,
      "outputs": [
        {
          "output_type": "stream",
          "name": "stdout",
          "text": [
            "Gender Distribution:\n",
            "Gender\n",
            "M    204\n",
            "F     96\n",
            "Name: count, dtype: int64\n",
            "Gender\n",
            "M    60\n",
            "F    31\n",
            "Name: count, dtype: int64\n",
            "########################################################\n",
            "Board SSC Distribution:\n",
            "Board_SSC\n",
            "Others    154\n",
            "CBSE       93\n",
            "ICSE       53\n",
            "Name: count, dtype: int64\n",
            "Board_SSC\n",
            "Others    47\n",
            "ICSE      24\n",
            "CBSE      20\n",
            "Name: count, dtype: int64\n",
            "########################################################\n",
            "Board HSC Distribution:\n",
            "Board_HSC\n",
            "Others    191\n",
            "CBSE       74\n",
            "ISC        35\n",
            "Name: count, dtype: int64\n",
            "Board_HSC\n",
            "Others    56\n",
            "CBSE      22\n",
            "ISC       13\n",
            "Name: count, dtype: int64\n",
            "########################################################\n",
            "Stream HSC Distribution:\n",
            "Stream_HSC\n",
            "Commerce    168\n",
            "Science     118\n",
            "Arts         14\n",
            "Name: count, dtype: int64\n",
            "Stream_HSC\n",
            "Commerce    54\n",
            "Science     33\n",
            "Arts         4\n",
            "Name: count, dtype: int64\n",
            "########################################################\n",
            "Course Degree Distribution:\n",
            "Course_Degree\n",
            "Management               126\n",
            "Commerce                  91\n",
            "Computer Applications     25\n",
            "Engineering               25\n",
            "Science                   21\n",
            "Arts                       9\n",
            "Others                     3\n",
            "Name: count, dtype: int64\n",
            "Course_Degree\n",
            "Management               37\n",
            "Commerce                 26\n",
            "Engineering              12\n",
            "Computer Applications     7\n",
            "Arts                      4\n",
            "Science                   3\n",
            "Others                    2\n",
            "Name: count, dtype: int64\n",
            "########################################################\n",
            "Entrance Test Distribution:\n",
            "Entrance_Test\n",
            "MAT      199\n",
            "K-MAT     20\n",
            "CAT       18\n",
            "PGCET      6\n",
            "GCET       2\n",
            "G-MAT      1\n",
            "G-SAT      1\n",
            "Name: count, dtype: int64\n",
            "Entrance_Test\n",
            "MAT      66\n",
            "CAT       4\n",
            "K-MAT     4\n",
            "PGCET     2\n",
            "XAT       1\n",
            "Name: count, dtype: int64\n",
            "########################################################\n",
            "Specialization_MBA Distribution:\n",
            "Specialization_MBA\n",
            "Marketing & Finance    178\n",
            "Marketing & HR         113\n",
            "Marketing & IB           9\n",
            "Name: count, dtype: int64\n",
            "Specialization_MBA\n",
            "Marketing & Finance    44\n",
            "Marketing & HR         43\n",
            "Marketing & IB          4\n",
            "Name: count, dtype: int64\n"
          ]
        }
      ]
    },
    {
      "cell_type": "markdown",
      "source": [
        "# Imbalance Ratio:"
      ],
      "metadata": {
        "id": "zxmWZ5nzkFrg"
      }
    },
    {
      "cell_type": "code",
      "source": [
        "print(\"The number of observations from the minority class (Rejected): %.0f\" %y[y == 1].count())\n",
        "print(\"The number of observations from the majority class (Accepted): %.0f\" %y[y == 0].count())\n",
        "print('The imbalance ratio is: %.3f' %(y[y == 1].count()/y[y == 0].count()))  # For every rejection, there are four acceptances."
      ],
      "metadata": {
        "colab": {
          "base_uri": "https://localhost:8080/"
        },
        "id": "STzQ7OQikKpG",
        "outputId": "9cf93cac-e6d3-49fd-9078-ed71da280967"
      },
      "execution_count": null,
      "outputs": [
        {
          "output_type": "stream",
          "name": "stdout",
          "text": [
            "The number of observations from the minority class (Rejected): 61\n",
            "The number of observations from the majority class (Accepted): 239\n",
            "The imbalance ratio is: 0.255\n"
          ]
        }
      ]
    },
    {
      "cell_type": "markdown",
      "source": [
        "# Handling Missing Values:"
      ],
      "metadata": {
        "id": "jLqamCuKjHOp"
      }
    },
    {
      "cell_type": "code",
      "source": [
        "X[X.isna().any(axis = 1)].head()"
      ],
      "metadata": {
        "colab": {
          "base_uri": "https://localhost:8080/",
          "height": 261
        },
        "id": "TKPjSyG2gec9",
        "outputId": "6a64a266-2699-422c-c9f7-7a6f540660c5"
      },
      "execution_count": null,
      "outputs": [
        {
          "output_type": "execute_result",
          "data": {
            "text/plain": [
              "   Gender  Percent_SSC Board_SSC  Percent_HSC Board_HSC Stream_HSC  \\\n",
              "0       M         56.0      ICSE         58.0       ISC   Commerce   \n",
              "17      M         52.5    Others         53.4    Others   Commerce   \n",
              "26      M         56.0    Others         42.0       ISC    Science   \n",
              "35      M         58.0    Others         54.5    Others   Commerce   \n",
              "37      M         58.0      ICSE         59.0       ISC   Commerce   \n",
              "\n",
              "    Percent_Degree          Course_Degree  Experience_Yrs Entrance_Test  \\\n",
              "0            67.00             Management               0           NaN   \n",
              "17           55.21             Management               1           NaN   \n",
              "26           59.00  Computer Applications               2           NaN   \n",
              "35           49.85               Commerce               0           NaN   \n",
              "37           56.00             Management               0           NaN   \n",
              "\n",
              "    S-TEST  Percentile_ET  S-TEST*SCORE  Percent_MBA   Specialization_MBA  \\\n",
              "0        0            0.0           0.0        65.28  Marketing & Finance   \n",
              "17       0            0.0           0.0        72.00  Marketing & Finance   \n",
              "26       0            0.0           0.0        51.48  Marketing & Finance   \n",
              "35       0            0.0           0.0        62.89  Marketing & Finance   \n",
              "37       0            0.0           0.0        55.10  Marketing & Finance   \n",
              "\n",
              "    Marks_Communication  Marks_Projectwork  Marks_BOCA  \n",
              "0                    62                 77          77  \n",
              "17                   73                 79          55  \n",
              "26                   50                 53          55  \n",
              "35                   55                 67          73  \n",
              "37                   50                 57          50  "
            ],
            "text/html": [
              "\n",
              "  <div id=\"df-ba85e311-48bb-479e-b2b4-9f5a8fb27c41\" class=\"colab-df-container\">\n",
              "    <div>\n",
              "<style scoped>\n",
              "    .dataframe tbody tr th:only-of-type {\n",
              "        vertical-align: middle;\n",
              "    }\n",
              "\n",
              "    .dataframe tbody tr th {\n",
              "        vertical-align: top;\n",
              "    }\n",
              "\n",
              "    .dataframe thead th {\n",
              "        text-align: right;\n",
              "    }\n",
              "</style>\n",
              "<table border=\"1\" class=\"dataframe\">\n",
              "  <thead>\n",
              "    <tr style=\"text-align: right;\">\n",
              "      <th></th>\n",
              "      <th>Gender</th>\n",
              "      <th>Percent_SSC</th>\n",
              "      <th>Board_SSC</th>\n",
              "      <th>Percent_HSC</th>\n",
              "      <th>Board_HSC</th>\n",
              "      <th>Stream_HSC</th>\n",
              "      <th>Percent_Degree</th>\n",
              "      <th>Course_Degree</th>\n",
              "      <th>Experience_Yrs</th>\n",
              "      <th>Entrance_Test</th>\n",
              "      <th>S-TEST</th>\n",
              "      <th>Percentile_ET</th>\n",
              "      <th>S-TEST*SCORE</th>\n",
              "      <th>Percent_MBA</th>\n",
              "      <th>Specialization_MBA</th>\n",
              "      <th>Marks_Communication</th>\n",
              "      <th>Marks_Projectwork</th>\n",
              "      <th>Marks_BOCA</th>\n",
              "    </tr>\n",
              "  </thead>\n",
              "  <tbody>\n",
              "    <tr>\n",
              "      <th>0</th>\n",
              "      <td>M</td>\n",
              "      <td>56.0</td>\n",
              "      <td>ICSE</td>\n",
              "      <td>58.0</td>\n",
              "      <td>ISC</td>\n",
              "      <td>Commerce</td>\n",
              "      <td>67.00</td>\n",
              "      <td>Management</td>\n",
              "      <td>0</td>\n",
              "      <td>NaN</td>\n",
              "      <td>0</td>\n",
              "      <td>0.0</td>\n",
              "      <td>0.0</td>\n",
              "      <td>65.28</td>\n",
              "      <td>Marketing &amp; Finance</td>\n",
              "      <td>62</td>\n",
              "      <td>77</td>\n",
              "      <td>77</td>\n",
              "    </tr>\n",
              "    <tr>\n",
              "      <th>17</th>\n",
              "      <td>M</td>\n",
              "      <td>52.5</td>\n",
              "      <td>Others</td>\n",
              "      <td>53.4</td>\n",
              "      <td>Others</td>\n",
              "      <td>Commerce</td>\n",
              "      <td>55.21</td>\n",
              "      <td>Management</td>\n",
              "      <td>1</td>\n",
              "      <td>NaN</td>\n",
              "      <td>0</td>\n",
              "      <td>0.0</td>\n",
              "      <td>0.0</td>\n",
              "      <td>72.00</td>\n",
              "      <td>Marketing &amp; Finance</td>\n",
              "      <td>73</td>\n",
              "      <td>79</td>\n",
              "      <td>55</td>\n",
              "    </tr>\n",
              "    <tr>\n",
              "      <th>26</th>\n",
              "      <td>M</td>\n",
              "      <td>56.0</td>\n",
              "      <td>Others</td>\n",
              "      <td>42.0</td>\n",
              "      <td>ISC</td>\n",
              "      <td>Science</td>\n",
              "      <td>59.00</td>\n",
              "      <td>Computer Applications</td>\n",
              "      <td>2</td>\n",
              "      <td>NaN</td>\n",
              "      <td>0</td>\n",
              "      <td>0.0</td>\n",
              "      <td>0.0</td>\n",
              "      <td>51.48</td>\n",
              "      <td>Marketing &amp; Finance</td>\n",
              "      <td>50</td>\n",
              "      <td>53</td>\n",
              "      <td>55</td>\n",
              "    </tr>\n",
              "    <tr>\n",
              "      <th>35</th>\n",
              "      <td>M</td>\n",
              "      <td>58.0</td>\n",
              "      <td>Others</td>\n",
              "      <td>54.5</td>\n",
              "      <td>Others</td>\n",
              "      <td>Commerce</td>\n",
              "      <td>49.85</td>\n",
              "      <td>Commerce</td>\n",
              "      <td>0</td>\n",
              "      <td>NaN</td>\n",
              "      <td>0</td>\n",
              "      <td>0.0</td>\n",
              "      <td>0.0</td>\n",
              "      <td>62.89</td>\n",
              "      <td>Marketing &amp; Finance</td>\n",
              "      <td>55</td>\n",
              "      <td>67</td>\n",
              "      <td>73</td>\n",
              "    </tr>\n",
              "    <tr>\n",
              "      <th>37</th>\n",
              "      <td>M</td>\n",
              "      <td>58.0</td>\n",
              "      <td>ICSE</td>\n",
              "      <td>59.0</td>\n",
              "      <td>ISC</td>\n",
              "      <td>Commerce</td>\n",
              "      <td>56.00</td>\n",
              "      <td>Management</td>\n",
              "      <td>0</td>\n",
              "      <td>NaN</td>\n",
              "      <td>0</td>\n",
              "      <td>0.0</td>\n",
              "      <td>0.0</td>\n",
              "      <td>55.10</td>\n",
              "      <td>Marketing &amp; Finance</td>\n",
              "      <td>50</td>\n",
              "      <td>57</td>\n",
              "      <td>50</td>\n",
              "    </tr>\n",
              "  </tbody>\n",
              "</table>\n",
              "</div>\n",
              "    <div class=\"colab-df-buttons\">\n",
              "\n",
              "  <div class=\"colab-df-container\">\n",
              "    <button class=\"colab-df-convert\" onclick=\"convertToInteractive('df-ba85e311-48bb-479e-b2b4-9f5a8fb27c41')\"\n",
              "            title=\"Convert this dataframe to an interactive table.\"\n",
              "            style=\"display:none;\">\n",
              "\n",
              "  <svg xmlns=\"http://www.w3.org/2000/svg\" height=\"24px\" viewBox=\"0 -960 960 960\">\n",
              "    <path d=\"M120-120v-720h720v720H120Zm60-500h600v-160H180v160Zm220 220h160v-160H400v160Zm0 220h160v-160H400v160ZM180-400h160v-160H180v160Zm440 0h160v-160H620v160ZM180-180h160v-160H180v160Zm440 0h160v-160H620v160Z\"/>\n",
              "  </svg>\n",
              "    </button>\n",
              "\n",
              "  <style>\n",
              "    .colab-df-container {\n",
              "      display:flex;\n",
              "      gap: 12px;\n",
              "    }\n",
              "\n",
              "    .colab-df-convert {\n",
              "      background-color: #E8F0FE;\n",
              "      border: none;\n",
              "      border-radius: 50%;\n",
              "      cursor: pointer;\n",
              "      display: none;\n",
              "      fill: #1967D2;\n",
              "      height: 32px;\n",
              "      padding: 0 0 0 0;\n",
              "      width: 32px;\n",
              "    }\n",
              "\n",
              "    .colab-df-convert:hover {\n",
              "      background-color: #E2EBFA;\n",
              "      box-shadow: 0px 1px 2px rgba(60, 64, 67, 0.3), 0px 1px 3px 1px rgba(60, 64, 67, 0.15);\n",
              "      fill: #174EA6;\n",
              "    }\n",
              "\n",
              "    .colab-df-buttons div {\n",
              "      margin-bottom: 4px;\n",
              "    }\n",
              "\n",
              "    [theme=dark] .colab-df-convert {\n",
              "      background-color: #3B4455;\n",
              "      fill: #D2E3FC;\n",
              "    }\n",
              "\n",
              "    [theme=dark] .colab-df-convert:hover {\n",
              "      background-color: #434B5C;\n",
              "      box-shadow: 0px 1px 3px 1px rgba(0, 0, 0, 0.15);\n",
              "      filter: drop-shadow(0px 1px 2px rgba(0, 0, 0, 0.3));\n",
              "      fill: #FFFFFF;\n",
              "    }\n",
              "  </style>\n",
              "\n",
              "    <script>\n",
              "      const buttonEl =\n",
              "        document.querySelector('#df-ba85e311-48bb-479e-b2b4-9f5a8fb27c41 button.colab-df-convert');\n",
              "      buttonEl.style.display =\n",
              "        google.colab.kernel.accessAllowed ? 'block' : 'none';\n",
              "\n",
              "      async function convertToInteractive(key) {\n",
              "        const element = document.querySelector('#df-ba85e311-48bb-479e-b2b4-9f5a8fb27c41');\n",
              "        const dataTable =\n",
              "          await google.colab.kernel.invokeFunction('convertToInteractive',\n",
              "                                                    [key], {});\n",
              "        if (!dataTable) return;\n",
              "\n",
              "        const docLinkHtml = 'Like what you see? Visit the ' +\n",
              "          '<a target=\"_blank\" href=https://colab.research.google.com/notebooks/data_table.ipynb>data table notebook</a>'\n",
              "          + ' to learn more about interactive tables.';\n",
              "        element.innerHTML = '';\n",
              "        dataTable['output_type'] = 'display_data';\n",
              "        await google.colab.output.renderOutput(dataTable, element);\n",
              "        const docLink = document.createElement('div');\n",
              "        docLink.innerHTML = docLinkHtml;\n",
              "        element.appendChild(docLink);\n",
              "      }\n",
              "    </script>\n",
              "  </div>\n",
              "\n",
              "\n",
              "<div id=\"df-2af078e3-3640-441d-af12-9bf17ebf73cb\">\n",
              "  <button class=\"colab-df-quickchart\" onclick=\"quickchart('df-2af078e3-3640-441d-af12-9bf17ebf73cb')\"\n",
              "            title=\"Suggest charts\"\n",
              "            style=\"display:none;\">\n",
              "\n",
              "<svg xmlns=\"http://www.w3.org/2000/svg\" height=\"24px\"viewBox=\"0 0 24 24\"\n",
              "     width=\"24px\">\n",
              "    <g>\n",
              "        <path d=\"M19 3H5c-1.1 0-2 .9-2 2v14c0 1.1.9 2 2 2h14c1.1 0 2-.9 2-2V5c0-1.1-.9-2-2-2zM9 17H7v-7h2v7zm4 0h-2V7h2v10zm4 0h-2v-4h2v4z\"/>\n",
              "    </g>\n",
              "</svg>\n",
              "  </button>\n",
              "\n",
              "<style>\n",
              "  .colab-df-quickchart {\n",
              "      --bg-color: #E8F0FE;\n",
              "      --fill-color: #1967D2;\n",
              "      --hover-bg-color: #E2EBFA;\n",
              "      --hover-fill-color: #174EA6;\n",
              "      --disabled-fill-color: #AAA;\n",
              "      --disabled-bg-color: #DDD;\n",
              "  }\n",
              "\n",
              "  [theme=dark] .colab-df-quickchart {\n",
              "      --bg-color: #3B4455;\n",
              "      --fill-color: #D2E3FC;\n",
              "      --hover-bg-color: #434B5C;\n",
              "      --hover-fill-color: #FFFFFF;\n",
              "      --disabled-bg-color: #3B4455;\n",
              "      --disabled-fill-color: #666;\n",
              "  }\n",
              "\n",
              "  .colab-df-quickchart {\n",
              "    background-color: var(--bg-color);\n",
              "    border: none;\n",
              "    border-radius: 50%;\n",
              "    cursor: pointer;\n",
              "    display: none;\n",
              "    fill: var(--fill-color);\n",
              "    height: 32px;\n",
              "    padding: 0;\n",
              "    width: 32px;\n",
              "  }\n",
              "\n",
              "  .colab-df-quickchart:hover {\n",
              "    background-color: var(--hover-bg-color);\n",
              "    box-shadow: 0 1px 2px rgba(60, 64, 67, 0.3), 0 1px 3px 1px rgba(60, 64, 67, 0.15);\n",
              "    fill: var(--button-hover-fill-color);\n",
              "  }\n",
              "\n",
              "  .colab-df-quickchart-complete:disabled,\n",
              "  .colab-df-quickchart-complete:disabled:hover {\n",
              "    background-color: var(--disabled-bg-color);\n",
              "    fill: var(--disabled-fill-color);\n",
              "    box-shadow: none;\n",
              "  }\n",
              "\n",
              "  .colab-df-spinner {\n",
              "    border: 2px solid var(--fill-color);\n",
              "    border-color: transparent;\n",
              "    border-bottom-color: var(--fill-color);\n",
              "    animation:\n",
              "      spin 1s steps(1) infinite;\n",
              "  }\n",
              "\n",
              "  @keyframes spin {\n",
              "    0% {\n",
              "      border-color: transparent;\n",
              "      border-bottom-color: var(--fill-color);\n",
              "      border-left-color: var(--fill-color);\n",
              "    }\n",
              "    20% {\n",
              "      border-color: transparent;\n",
              "      border-left-color: var(--fill-color);\n",
              "      border-top-color: var(--fill-color);\n",
              "    }\n",
              "    30% {\n",
              "      border-color: transparent;\n",
              "      border-left-color: var(--fill-color);\n",
              "      border-top-color: var(--fill-color);\n",
              "      border-right-color: var(--fill-color);\n",
              "    }\n",
              "    40% {\n",
              "      border-color: transparent;\n",
              "      border-right-color: var(--fill-color);\n",
              "      border-top-color: var(--fill-color);\n",
              "    }\n",
              "    60% {\n",
              "      border-color: transparent;\n",
              "      border-right-color: var(--fill-color);\n",
              "    }\n",
              "    80% {\n",
              "      border-color: transparent;\n",
              "      border-right-color: var(--fill-color);\n",
              "      border-bottom-color: var(--fill-color);\n",
              "    }\n",
              "    90% {\n",
              "      border-color: transparent;\n",
              "      border-bottom-color: var(--fill-color);\n",
              "    }\n",
              "  }\n",
              "</style>\n",
              "\n",
              "  <script>\n",
              "    async function quickchart(key) {\n",
              "      const quickchartButtonEl =\n",
              "        document.querySelector('#' + key + ' button');\n",
              "      quickchartButtonEl.disabled = true;  // To prevent multiple clicks.\n",
              "      quickchartButtonEl.classList.add('colab-df-spinner');\n",
              "      try {\n",
              "        const charts = await google.colab.kernel.invokeFunction(\n",
              "            'suggestCharts', [key], {});\n",
              "      } catch (error) {\n",
              "        console.error('Error during call to suggestCharts:', error);\n",
              "      }\n",
              "      quickchartButtonEl.classList.remove('colab-df-spinner');\n",
              "      quickchartButtonEl.classList.add('colab-df-quickchart-complete');\n",
              "    }\n",
              "    (() => {\n",
              "      let quickchartButtonEl =\n",
              "        document.querySelector('#df-2af078e3-3640-441d-af12-9bf17ebf73cb button');\n",
              "      quickchartButtonEl.style.display =\n",
              "        google.colab.kernel.accessAllowed ? 'block' : 'none';\n",
              "    })();\n",
              "  </script>\n",
              "</div>\n",
              "\n",
              "    </div>\n",
              "  </div>\n"
            ],
            "application/vnd.google.colaboratory.intrinsic+json": {
              "type": "dataframe",
              "repr_error": "Out of range float values are not JSON compliant: nan"
            }
          },
          "metadata": {},
          "execution_count": 99
        }
      ]
    },
    {
      "cell_type": "code",
      "source": [
        "mode_test = X['Entrance_Test'].mode()[0]\n",
        "X.fillna({'Entrance_Test':mode_test}, inplace = True)\n",
        "\n",
        "mode_X_test = X_test['Entrance_Test'].mode()[0]\n",
        "X_test.fillna({'Entrance_Test':mode_X_test}, inplace = True)"
      ],
      "metadata": {
        "id": "EP61Gz8wglL7"
      },
      "execution_count": 4,
      "outputs": []
    },
    {
      "cell_type": "code",
      "source": [
        "print(X[X.isna().any(axis = 1)])\n",
        "print(X_test[X_test.isna().any(axis = 1)])"
      ],
      "metadata": {
        "colab": {
          "base_uri": "https://localhost:8080/"
        },
        "id": "95BcMK4pj0Yu",
        "outputId": "2f75a518-ea2f-4f79-efd1-3d3573cad5a4"
      },
      "execution_count": 5,
      "outputs": [
        {
          "output_type": "stream",
          "name": "stdout",
          "text": [
            "Empty DataFrame\n",
            "Columns: [Gender, Percent_SSC, Board_SSC, Percent_HSC, Board_HSC, Stream_HSC, Percent_Degree, Course_Degree, Experience_Yrs, Entrance_Test, S-TEST, Percentile_ET, S-TEST*SCORE, Percent_MBA, Specialization_MBA, Marks_Communication, Marks_Projectwork, Marks_BOCA]\n",
            "Index: []\n",
            "Empty DataFrame\n",
            "Columns: [Gender, Percent_SSC, Board_SSC, Percent_HSC, Board_HSC, Stream_HSC, Percent_Degree, Course_Degree, Experience_Yrs, Entrance_Test, S-TEST, Percentile_ET, S-TEST*SCORE, Percent_MBA, Specialization_MBA, Marks_Communication, Marks_Projectwork, Marks_BOCA]\n",
            "Index: []\n"
          ]
        }
      ]
    },
    {
      "cell_type": "markdown",
      "source": [
        "# Encoding Categorical Variables"
      ],
      "metadata": {
        "id": "5A8hWI5Bn6gT"
      }
    },
    {
      "cell_type": "code",
      "source": [
        "X['Gender'] = X['Gender'].map({'M':1, 'F': 0})\n",
        "X_test['Gender'] = X_test['Gender'].map({'M':1, 'F': 0})\n",
        "\n",
        "X_encoded = X\n",
        "X_test_encoded = X_test\n",
        "\n",
        "for col in {'Board_SSC', 'Board_HSC', 'Stream_HSC', 'Course_Degree', 'Entrance_Test', 'Specialization_MBA'}:\n",
        "    X_encoded = pd.get_dummies(X_encoded, columns = [col])\n",
        "\n",
        "for col in X_encoded.columns:\n",
        "    if X_encoded[col].dtype == bool:\n",
        "        X_encoded[col] = X_encoded[col].map({True: 1, False: 0})\n",
        "\n",
        "for col in {'Board_SSC', 'Board_HSC', 'Stream_HSC', 'Course_Degree', 'Entrance_Test', 'Specialization_MBA'}:\n",
        "    X_test_encoded = pd.get_dummies(X_test_encoded, columns = [col])\n",
        "\n",
        "for col in X_test_encoded.columns:\n",
        "    if X_test_encoded[col].dtype == bool:\n",
        "        X_test_encoded[col] = X_test_encoded[col].map({True: 1, False: 0})"
      ],
      "metadata": {
        "id": "1wCWjQfQoxPY"
      },
      "execution_count": 6,
      "outputs": []
    },
    {
      "cell_type": "code",
      "source": [
        "X_encoded.to_csv('New_Train_Features.csv', index = False)\n",
        "X_test_encoded.to_csv('New_Test_Features.csv', index = False)"
      ],
      "metadata": {
        "id": "wtuzZw7YAKae"
      },
      "execution_count": 7,
      "outputs": []
    },
    {
      "cell_type": "code",
      "source": [
        "from google.colab import files\n",
        "\n",
        "files.download('New_Train_Features.csv')\n",
        "files.download('New_Test_Features.csv')"
      ],
      "metadata": {
        "colab": {
          "base_uri": "https://localhost:8080/",
          "height": 17
        },
        "id": "acv3FisQAIPg",
        "outputId": "c5219d77-294d-4780-de5a-96ee005c4594"
      },
      "execution_count": 8,
      "outputs": [
        {
          "output_type": "display_data",
          "data": {
            "text/plain": [
              "<IPython.core.display.Javascript object>"
            ],
            "application/javascript": [
              "\n",
              "    async function download(id, filename, size) {\n",
              "      if (!google.colab.kernel.accessAllowed) {\n",
              "        return;\n",
              "      }\n",
              "      const div = document.createElement('div');\n",
              "      const label = document.createElement('label');\n",
              "      label.textContent = `Downloading \"${filename}\": `;\n",
              "      div.appendChild(label);\n",
              "      const progress = document.createElement('progress');\n",
              "      progress.max = size;\n",
              "      div.appendChild(progress);\n",
              "      document.body.appendChild(div);\n",
              "\n",
              "      const buffers = [];\n",
              "      let downloaded = 0;\n",
              "\n",
              "      const channel = await google.colab.kernel.comms.open(id);\n",
              "      // Send a message to notify the kernel that we're ready.\n",
              "      channel.send({})\n",
              "\n",
              "      for await (const message of channel.messages) {\n",
              "        // Send a message to notify the kernel that we're ready.\n",
              "        channel.send({})\n",
              "        if (message.buffers) {\n",
              "          for (const buffer of message.buffers) {\n",
              "            buffers.push(buffer);\n",
              "            downloaded += buffer.byteLength;\n",
              "            progress.value = downloaded;\n",
              "          }\n",
              "        }\n",
              "      }\n",
              "      const blob = new Blob(buffers, {type: 'application/binary'});\n",
              "      const a = document.createElement('a');\n",
              "      a.href = window.URL.createObjectURL(blob);\n",
              "      a.download = filename;\n",
              "      div.appendChild(a);\n",
              "      a.click();\n",
              "      div.remove();\n",
              "    }\n",
              "  "
            ]
          },
          "metadata": {}
        },
        {
          "output_type": "display_data",
          "data": {
            "text/plain": [
              "<IPython.core.display.Javascript object>"
            ],
            "application/javascript": [
              "download(\"download_3e13a46e-aa30-4b39-b0be-f8b2d4389669\", \"New_Train_Features.csv\", 30139)"
            ]
          },
          "metadata": {}
        },
        {
          "output_type": "display_data",
          "data": {
            "text/plain": [
              "<IPython.core.display.Javascript object>"
            ],
            "application/javascript": [
              "\n",
              "    async function download(id, filename, size) {\n",
              "      if (!google.colab.kernel.accessAllowed) {\n",
              "        return;\n",
              "      }\n",
              "      const div = document.createElement('div');\n",
              "      const label = document.createElement('label');\n",
              "      label.textContent = `Downloading \"${filename}\": `;\n",
              "      div.appendChild(label);\n",
              "      const progress = document.createElement('progress');\n",
              "      progress.max = size;\n",
              "      div.appendChild(progress);\n",
              "      document.body.appendChild(div);\n",
              "\n",
              "      const buffers = [];\n",
              "      let downloaded = 0;\n",
              "\n",
              "      const channel = await google.colab.kernel.comms.open(id);\n",
              "      // Send a message to notify the kernel that we're ready.\n",
              "      channel.send({})\n",
              "\n",
              "      for await (const message of channel.messages) {\n",
              "        // Send a message to notify the kernel that we're ready.\n",
              "        channel.send({})\n",
              "        if (message.buffers) {\n",
              "          for (const buffer of message.buffers) {\n",
              "            buffers.push(buffer);\n",
              "            downloaded += buffer.byteLength;\n",
              "            progress.value = downloaded;\n",
              "          }\n",
              "        }\n",
              "      }\n",
              "      const blob = new Blob(buffers, {type: 'application/binary'});\n",
              "      const a = document.createElement('a');\n",
              "      a.href = window.URL.createObjectURL(blob);\n",
              "      a.download = filename;\n",
              "      div.appendChild(a);\n",
              "      a.click();\n",
              "      div.remove();\n",
              "    }\n",
              "  "
            ]
          },
          "metadata": {}
        },
        {
          "output_type": "display_data",
          "data": {
            "text/plain": [
              "<IPython.core.display.Javascript object>"
            ],
            "application/javascript": [
              "download(\"download_e2af85fd-14e8-41c4-bab7-4e53fb6ea4dc\", \"New_Test_Features.csv\", 9255)"
            ]
          },
          "metadata": {}
        }
      ]
    },
    {
      "cell_type": "markdown",
      "source": [
        "# Standarization"
      ],
      "metadata": {
        "id": "qg3KpfBn_1QM"
      }
    },
    {
      "cell_type": "code",
      "source": [
        "from sklearn.preprocessing import StandardScaler\n",
        "\n",
        "X_standardized = X_encoded.copy()\n",
        "X_test_standardized = X_test_encoded.copy()\n",
        "\n",
        "scaler = StandardScaler()\n",
        "numerical_columns = ['Gender', 'Percent_SSC', 'Percent_HSC', 'Percent_Degree', 'Experience_Yrs','S-TEST', 'Percentile_ET', 'S-TEST*SCORE','Percent_MBA', 'Marks_Communication', 'Marks_Projectwork', 'Marks_BOCA']\n",
        "X_standardized[numerical_columns] = scaler.fit_transform(X_encoded[numerical_columns])\n",
        "X_test_standardized[numerical_columns] = scaler.fit_transform(X_test_encoded[numerical_columns])"
      ],
      "metadata": {
        "id": "UOSkcpxZ_6E3"
      },
      "execution_count": null,
      "outputs": []
    },
    {
      "cell_type": "code",
      "source": [
        "X_standardized.to_csv('New_Train_Features_Full.csv', index = False)\n",
        "X_test_standardized.to_csv('New_Test_Features_Full.csv', index = False)"
      ],
      "metadata": {
        "id": "F3IOPjMdCki-"
      },
      "execution_count": null,
      "outputs": []
    },
    {
      "cell_type": "code",
      "source": [
        "from google.colab import files\n",
        "\n",
        "files.download('New_Train_Features_Full.csv')\n",
        "files.download('New_Test_Features_Full.csv')"
      ],
      "metadata": {
        "colab": {
          "base_uri": "https://localhost:8080/",
          "height": 17
        },
        "id": "EB_9vGkSDDRZ",
        "outputId": "194dd3cd-06a6-4591-9048-494cb2740cd5"
      },
      "execution_count": null,
      "outputs": [
        {
          "output_type": "display_data",
          "data": {
            "text/plain": [
              "<IPython.core.display.Javascript object>"
            ],
            "application/javascript": [
              "\n",
              "    async function download(id, filename, size) {\n",
              "      if (!google.colab.kernel.accessAllowed) {\n",
              "        return;\n",
              "      }\n",
              "      const div = document.createElement('div');\n",
              "      const label = document.createElement('label');\n",
              "      label.textContent = `Downloading \"${filename}\": `;\n",
              "      div.appendChild(label);\n",
              "      const progress = document.createElement('progress');\n",
              "      progress.max = size;\n",
              "      div.appendChild(progress);\n",
              "      document.body.appendChild(div);\n",
              "\n",
              "      const buffers = [];\n",
              "      let downloaded = 0;\n",
              "\n",
              "      const channel = await google.colab.kernel.comms.open(id);\n",
              "      // Send a message to notify the kernel that we're ready.\n",
              "      channel.send({})\n",
              "\n",
              "      for await (const message of channel.messages) {\n",
              "        // Send a message to notify the kernel that we're ready.\n",
              "        channel.send({})\n",
              "        if (message.buffers) {\n",
              "          for (const buffer of message.buffers) {\n",
              "            buffers.push(buffer);\n",
              "            downloaded += buffer.byteLength;\n",
              "            progress.value = downloaded;\n",
              "          }\n",
              "        }\n",
              "      }\n",
              "      const blob = new Blob(buffers, {type: 'application/binary'});\n",
              "      const a = document.createElement('a');\n",
              "      a.href = window.URL.createObjectURL(blob);\n",
              "      a.download = filename;\n",
              "      div.appendChild(a);\n",
              "      a.click();\n",
              "      div.remove();\n",
              "    }\n",
              "  "
            ]
          },
          "metadata": {}
        },
        {
          "output_type": "display_data",
          "data": {
            "text/plain": [
              "<IPython.core.display.Javascript object>"
            ],
            "application/javascript": [
              "download(\"download_511cc2f5-ae8b-4310-8278-53b3d25567c7\", \"New_Train_Features_Full.csv\", 86201)"
            ]
          },
          "metadata": {}
        },
        {
          "output_type": "display_data",
          "data": {
            "text/plain": [
              "<IPython.core.display.Javascript object>"
            ],
            "application/javascript": [
              "\n",
              "    async function download(id, filename, size) {\n",
              "      if (!google.colab.kernel.accessAllowed) {\n",
              "        return;\n",
              "      }\n",
              "      const div = document.createElement('div');\n",
              "      const label = document.createElement('label');\n",
              "      label.textContent = `Downloading \"${filename}\": `;\n",
              "      div.appendChild(label);\n",
              "      const progress = document.createElement('progress');\n",
              "      progress.max = size;\n",
              "      div.appendChild(progress);\n",
              "      document.body.appendChild(div);\n",
              "\n",
              "      const buffers = [];\n",
              "      let downloaded = 0;\n",
              "\n",
              "      const channel = await google.colab.kernel.comms.open(id);\n",
              "      // Send a message to notify the kernel that we're ready.\n",
              "      channel.send({})\n",
              "\n",
              "      for await (const message of channel.messages) {\n",
              "        // Send a message to notify the kernel that we're ready.\n",
              "        channel.send({})\n",
              "        if (message.buffers) {\n",
              "          for (const buffer of message.buffers) {\n",
              "            buffers.push(buffer);\n",
              "            downloaded += buffer.byteLength;\n",
              "            progress.value = downloaded;\n",
              "          }\n",
              "        }\n",
              "      }\n",
              "      const blob = new Blob(buffers, {type: 'application/binary'});\n",
              "      const a = document.createElement('a');\n",
              "      a.href = window.URL.createObjectURL(blob);\n",
              "      a.download = filename;\n",
              "      div.appendChild(a);\n",
              "      a.click();\n",
              "      div.remove();\n",
              "    }\n",
              "  "
            ]
          },
          "metadata": {}
        },
        {
          "output_type": "display_data",
          "data": {
            "text/plain": [
              "<IPython.core.display.Javascript object>"
            ],
            "application/javascript": [
              "download(\"download_4a199d6d-ce83-467b-9f66-50fb3e25e208\", \"New_Test_Features_Full.csv\", 26427)"
            ]
          },
          "metadata": {}
        }
      ]
    },
    {
      "cell_type": "markdown",
      "source": [
        "# Feature Selection"
      ],
      "metadata": {
        "id": "WDKCqXJlxH5x"
      }
    },
    {
      "cell_type": "markdown",
      "source": [
        "### Filter Method: Correlation"
      ],
      "metadata": {
        "id": "LsohYE467tgH"
      }
    },
    {
      "cell_type": "code",
      "source": [
        "!pip install xicorpy"
      ],
      "metadata": {
        "colab": {
          "base_uri": "https://localhost:8080/"
        },
        "collapsed": true,
        "id": "W6vh91_93140",
        "outputId": "043dc25d-17c1-43ce-b408-d9bfadeb95b9"
      },
      "execution_count": null,
      "outputs": [
        {
          "output_type": "stream",
          "name": "stdout",
          "text": [
            "Collecting xicorpy\n",
            "  Downloading xicorpy-0.6-py3-none-any.whl.metadata (3.0 kB)\n",
            "Requirement already satisfied: numpy<3,>=2 in /usr/local/lib/python3.11/dist-packages (from xicorpy) (2.0.2)\n",
            "Requirement already satisfied: pandas<3.0,>=2.2 in /usr/local/lib/python3.11/dist-packages (from xicorpy) (2.2.2)\n",
            "Requirement already satisfied: scikit-learn<2.0,>=1.5 in /usr/local/lib/python3.11/dist-packages (from xicorpy) (1.6.1)\n",
            "Requirement already satisfied: python-dateutil>=2.8.2 in /usr/local/lib/python3.11/dist-packages (from pandas<3.0,>=2.2->xicorpy) (2.8.2)\n",
            "Requirement already satisfied: pytz>=2020.1 in /usr/local/lib/python3.11/dist-packages (from pandas<3.0,>=2.2->xicorpy) (2025.1)\n",
            "Requirement already satisfied: tzdata>=2022.7 in /usr/local/lib/python3.11/dist-packages (from pandas<3.0,>=2.2->xicorpy) (2025.1)\n",
            "Requirement already satisfied: scipy>=1.6.0 in /usr/local/lib/python3.11/dist-packages (from scikit-learn<2.0,>=1.5->xicorpy) (1.14.1)\n",
            "Requirement already satisfied: joblib>=1.2.0 in /usr/local/lib/python3.11/dist-packages (from scikit-learn<2.0,>=1.5->xicorpy) (1.4.2)\n",
            "Requirement already satisfied: threadpoolctl>=3.1.0 in /usr/local/lib/python3.11/dist-packages (from scikit-learn<2.0,>=1.5->xicorpy) (3.6.0)\n",
            "Requirement already satisfied: six>=1.5 in /usr/local/lib/python3.11/dist-packages (from python-dateutil>=2.8.2->pandas<3.0,>=2.2->xicorpy) (1.17.0)\n",
            "Downloading xicorpy-0.6-py3-none-any.whl (10 kB)\n",
            "Installing collected packages: xicorpy\n",
            "Successfully installed xicorpy-0.6\n"
          ]
        }
      ]
    },
    {
      "cell_type": "code",
      "source": [
        "import xicorpy as xi"
      ],
      "metadata": {
        "id": "0oyN2d934BH6"
      },
      "execution_count": null,
      "outputs": []
    },
    {
      "cell_type": "code",
      "source": [
        "xi_correlations = {}\n",
        "\n",
        "for i in range(X_encoded.shape[1]):\n",
        "    xi_correlations[i] = xi.compute_xi_correlation(X_encoded.iloc[:, i], y)\n",
        "\n",
        "print(\"Chatterjee Correlations:\")\n",
        "print(xi_correlations)"
      ],
      "metadata": {
        "colab": {
          "base_uri": "https://localhost:8080/"
        },
        "id": "kfkAnb7F4SA5",
        "outputId": "8210c83d-aa61-40d0-844f-8727235dc6c1"
      },
      "execution_count": null,
      "outputs": [
        {
          "output_type": "stream",
          "name": "stdout",
          "text": [
            "Chatterjee Correlations:\n",
            "{0:         Placement\n",
            "Gender   0.084866, 1:              Placement\n",
            "Percent_SSC   0.113765, 2:              Placement\n",
            "Percent_HSC     0.0656, 3:                 Placement\n",
            "Percent_Degree   0.046334, 4:                 Placement\n",
            "Experience_Yrs   0.123398, 5:         Placement\n",
            "S-TEST   0.094499, 6:                Placement\n",
            "Percentile_ET   0.094499, 7:               Placement\n",
            "S-TEST*SCORE   0.094499, 8:              Placement\n",
            "Percent_MBA    0.16193, 9:                      Placement\n",
            "Marks_Communication   0.113765, 10:                    Placement\n",
            "Marks_Projectwork   0.084866, 11:             Placement\n",
            "Marks_BOCA   0.017435, 12:                 Placement\n",
            "Board_HSC_CBSE   0.123398, 13:                Placement\n",
            "Board_HSC_ISC   0.094499, 14:                   Placement\n",
            "Board_HSC_Others   0.075233, 15:                                         Placement\n",
            "Specialization_MBA_Marketing & Finance   0.055967, 16:                                    Placement\n",
            "Specialization_MBA_Marketing & HR     0.0656, 17:                                    Placement\n",
            "Specialization_MBA_Marketing & IB     0.0656, 18:                  Placement\n",
            "Stream_HSC_Arts     0.0656, 19:                      Placement\n",
            "Stream_HSC_Commerce   0.084866, 20:                     Placement\n",
            "Stream_HSC_Science     0.0656, 21:                    Placement\n",
            "Entrance_Test_CAT   0.046334, 22:                      Placement\n",
            "Entrance_Test_G-MAT     0.0656, 23:                      Placement\n",
            "Entrance_Test_G-SAT     0.0656, 24:                     Placement\n",
            "Entrance_Test_GCET     0.0656, 25:                      Placement\n",
            "Entrance_Test_K-MAT     0.0656, 26:                    Placement\n",
            "Entrance_Test_MAT     0.0656, 27:                      Placement\n",
            "Entrance_Test_PGCET   0.055967, 28:                 Placement\n",
            "Board_SSC_CBSE   0.123398, 29:                 Placement\n",
            "Board_SSC_ICSE   0.075233, 30:                   Placement\n",
            "Board_SSC_Others   0.152297, 31:                     Placement\n",
            "Course_Degree_Arts   0.084866, 32:                         Placement\n",
            "Course_Degree_Commerce   0.007802, 33:                                      Placement\n",
            "Course_Degree_Computer Applications   0.046334, 34:                            Placement\n",
            "Course_Degree_Engineering   0.027068, 35:                           Placement\n",
            "Course_Degree_Management  -0.011464, 36:                       Placement\n",
            "Course_Degree_Others     0.0656, 37:                        Placement\n",
            "Course_Degree_Science   0.113765}\n"
          ]
        }
      ]
    },
    {
      "cell_type": "code",
      "source": [
        "import matplotlib.pyplot as plt\n",
        "import seaborn as sns\n",
        "\n",
        "data = pd.concat([X_encoded, y], axis = 1)\n",
        "correlation = data.corr()['Placement'].abs().sort_values(ascending = False)\n",
        "\n",
        "plt.figure(figsize = (18,6))\n",
        "sns.barplot(x = correlation.index, y = correlation.values)\n",
        "plt.xticks(rotation = 90)\n",
        "plt.xlabel('')\n",
        "plt.ylabel('')\n",
        "plt.title('Correlation with Placement')\n",
        "plt.show()"
      ],
      "metadata": {
        "colab": {
          "base_uri": "https://localhost:8080/",
          "height": 814
        },
        "id": "S2j1_Mn26_Bv",
        "outputId": "f3545f7f-2309-4e87-d39d-bee2f1941c90"
      },
      "execution_count": null,
      "outputs": [
        {
          "output_type": "display_data",
          "data": {
            "text/plain": [
              "<Figure size 1800x600 with 1 Axes>"
            ],
            "image/png": "[encoded data removed]"
          },
          "metadata": {}
        }
      ]
    },
    {
      "cell_type": "markdown",
      "source": [
        "### Filter Method: Chi Squared"
      ],
      "metadata": {
        "id": "fOs3s81M7tXZ"
      }
    },
    {
      "cell_type": "code",
      "source": [
        "from sklearn.feature_selection import chi2\n",
        "\n",
        "chi2_scores, p_values = chi2(X_encoded, y)\n",
        "print(pd.Series(chi2_scores, index = X_encoded.columns).sort_values(ascending = False))"
      ],
      "metadata": {
        "colab": {
          "base_uri": "https://localhost:8080/"
        },
        "id": "VtrbIDTf7Zbp",
        "outputId": "1fae6dca-1e28-4e2a-cc23-7c0d21fcd3f9"
      },
      "execution_count": null,
      "outputs": [
        {
          "output_type": "stream",
          "name": "stdout",
          "text": [
            "S-TEST*SCORE                              91.616182\n",
            "Percentile_ET                             91.616182\n",
            "Percent_SSC                               19.479691\n",
            "Marks_Projectwork                          5.353672\n",
            "Percent_HSC                                4.228684\n",
            "Board_HSC_CBSE                             4.142385\n",
            "Entrance_Test_PGCET                        3.259894\n",
            "Board_SSC_CBSE                             3.169479\n",
            "Marks_BOCA                                 1.919804\n",
            "Percent_MBA                                1.466603\n",
            "Percent_Degree                             1.303803\n",
            "Course_Degree_Computer Applications        0.907127\n",
            "Board_SSC_Others                           0.880485\n",
            "Board_HSC_Others                           0.861672\n",
            "Board_HSC_ISC                              0.625606\n",
            "Board_SSC_ICSE                             0.575769\n",
            "Entrance_Test_GCET                         0.510460\n",
            "Specialization_MBA_Marketing & HR          0.484057\n",
            "Course_Degree_Science                      0.474136\n",
            "Entrance_Test_K-MAT                        0.351190\n",
            "Experience_Yrs                             0.343132\n",
            "Stream_HSC_Arts                            0.316091\n",
            "Course_Degree_Others                       0.312984\n",
            "Stream_HSC_Commerce                        0.296375\n",
            "Course_Degree_Engineering                  0.289800\n",
            "Specialization_MBA_Marketing & Finance     0.273197\n",
            "Entrance_Test_G-SAT                        0.255230\n",
            "Entrance_Test_G-MAT                        0.255230\n",
            "Stream_HSC_Science                         0.207870\n",
            "Gender                                     0.186118\n",
            "Entrance_Test_CAT                          0.149393\n",
            "Marks_Communication                        0.139358\n",
            "S-TEST                                     0.123546\n",
            "Specialization_MBA_Marketing & IB          0.019823\n",
            "Course_Degree_Arts                         0.019823\n",
            "Course_Degree_Management                   0.018833\n",
            "Course_Degree_Commerce                     0.016734\n",
            "Entrance_Test_MAT                          0.014150\n",
            "dtype: float64\n"
          ]
        }
      ]
    },
    {
      "cell_type": "markdown",
      "source": [
        "### Wrapper Method: RFE"
      ],
      "metadata": {
        "id": "sQiKkmJY8J7Z"
      }
    },
    {
      "cell_type": "code",
      "source": [
        "from sklearn.feature_selection import RFE\n",
        "from sklearn.ensemble import RandomForestClassifier\n",
        "\n",
        "rf_model = RandomForestClassifier()\n",
        "rfe = RFE(rf_model)\n",
        "X_rfe = rfe.fit_transform(X_standardized, y)\n",
        "print(f\"Selected Features: {X_standardized.columns[rfe.support_].tolist()}\")"
      ],
      "metadata": {
        "colab": {
          "base_uri": "https://localhost:8080/"
        },
        "id": "y0s6fET_8Lk7",
        "outputId": "9ec217c9-508c-460b-c37b-82aefd65d592"
      },
      "execution_count": null,
      "outputs": [
        {
          "output_type": "stream",
          "name": "stdout",
          "text": [
            "Selected Features: ['Gender', 'Percent_SSC', 'Percent_HSC', 'Percent_Degree', 'Experience_Yrs', 'Percentile_ET', 'S-TEST*SCORE', 'Percent_MBA', 'Marks_Communication', 'Marks_Projectwork', 'Marks_BOCA', 'Board_HSC_CBSE', 'Board_HSC_Others', 'Specialization_MBA_Marketing & Finance', 'Specialization_MBA_Marketing & HR', 'Stream_HSC_Commerce', 'Board_SSC_CBSE', 'Board_SSC_ICSE', 'Course_Degree_Management']\n"
          ]
        }
      ]
    },
    {
      "cell_type": "markdown",
      "source": [
        "### Embedded Method: LASSO\n"
      ],
      "metadata": {
        "id": "jZEgCrhT8n1T"
      }
    },
    {
      "cell_type": "code",
      "source": [
        "from sklearn.feature_selection import SelectFromModel\n",
        "\n",
        "lasso_model = LogisticRegression(penalty = 'l1', solver = 'liblinear')\n",
        "selector = SelectFromModel(lasso_model)\n",
        "selector.fit(X_standardized, y)\n",
        "selected_feature = X_standardized.columns[selector.get_support()].tolist()\n",
        "print(f\"Selected Features: {selected_features}\")"
      ],
      "metadata": {
        "colab": {
          "base_uri": "https://localhost:8080/"
        },
        "id": "_Vt5IcRt8ofl",
        "outputId": "6c7370ee-63b8-4ed2-e31d-9816853c0745"
      },
      "execution_count": null,
      "outputs": [
        {
          "output_type": "stream",
          "name": "stdout",
          "text": [
            "Selected Features: ['Gender', 'Percent_SSC', 'Percent_HSC', 'Percent_Degree', 'Experience_Yrs', 'Board_HSC_CBSE', 'Board_HSC_ISC', 'Board_HSC_Others', 'Specialization_MBA_Marketing & IB', 'Stream_HSC_Arts', 'Stream_HSC_Commerce', 'Stream_HSC_Science', 'Entrance_Test_CAT', 'Entrance_Test_G-MAT', 'Entrance_Test_G-SAT', 'Entrance_Test_GCET', 'Entrance_Test_K-MAT', 'Entrance_Test_PGCET', 'Board_SSC_ICSE']\n"
          ]
        }
      ]
    },
    {
      "cell_type": "markdown",
      "source": [
        "### Wrapper Method: Forward Selection"
      ],
      "metadata": {
        "id": "r1I2rLij9he_"
      }
    },
    {
      "cell_type": "code",
      "source": [
        "from sklearn.linear_model import LogisticRegression\n",
        "from sklearn.feature_selection import SequentialFeatureSelector\n",
        "\n",
        "lr_model = LogisticRegression(solver = 'newton-cg')\n",
        "selector = SequentialFeatureSelector(lr_model, direction = 'forward')\n",
        "selector.fit(X_standardized, y)\n",
        "selected_features = X_standardized.columns[selector.support_].tolist()\n",
        "print(f\"Selected Features: {selected_features}\")"
      ],
      "metadata": {
        "colab": {
          "base_uri": "https://localhost:8080/"
        },
        "id": "bjBfGKnz9iE7",
        "outputId": "0cff2c7e-d21e-4ce0-b0d9-8fdefe5c3779"
      },
      "execution_count": null,
      "outputs": [
        {
          "output_type": "stream",
          "name": "stdout",
          "text": [
            "Selected Features: ['Gender', 'Percent_SSC', 'Percent_HSC', 'Percent_Degree', 'Experience_Yrs', 'Board_HSC_CBSE', 'Board_HSC_ISC', 'Board_HSC_Others', 'Specialization_MBA_Marketing & IB', 'Stream_HSC_Arts', 'Stream_HSC_Commerce', 'Stream_HSC_Science', 'Entrance_Test_CAT', 'Entrance_Test_G-MAT', 'Entrance_Test_G-SAT', 'Entrance_Test_GCET', 'Entrance_Test_K-MAT', 'Entrance_Test_PGCET', 'Board_SSC_ICSE']\n"
          ]
        }
      ]
    }
  ]
}