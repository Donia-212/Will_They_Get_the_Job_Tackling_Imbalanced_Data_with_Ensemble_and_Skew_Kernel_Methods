{
  "cells": [
    {
      "cell_type": "code",
      "execution_count": null,
      "metadata": {
        "id": "KsiYG2WKKRRB"
      },
      "outputs": [],
      "source": [
        "import pandas as pd\n",
        "import numpy as np\n",
        "from sklearn.model_selection import train_test_split\n",
        "from sklearn.model_selection import GridSearchCV\n",
        "from mlxtend.evaluate import PredefinedHoldoutSplit\n",
        "from xgboost import XGBClassifier\n",
        "from sklearn.metrics import classification_report"
      ]
    },
    {
      "cell_type": "code",
      "execution_count": null,
      "metadata": {
        "id": "5cHqNsYyCCrZ"
      },
      "outputs": [],
      "source": [
        "X_full = pd.read_csv('New_Train_Features_Full.csv')\n",
        "X_test_full = pd.read_csv('New_Test_Features_Full.csv')\n",
        "y = pd.read_csv('Train_Target.csv').iloc[:,1]\n",
        "\n",
        "X_full_no = pd.read_csv('New_Train_Features.csv')\n",
        "X_test_full_no = pd.read_csv('New_Test_Features.csv')\n",
        "\n",
        "X_no_manual = pd.read_csv('New_Train_Features_No_Selected.csv')\n",
        "X_test_no_manual = pd.read_csv('New_Test_Features_No_Selected.csv')\n",
        "\n",
        "X_RFE = pd.read_csv('New_Train_Features_RFE.csv')\n",
        "X_RFE_test = pd.read_csv('New_Test_Features_RFE.csv')\n",
        "\n",
        "X_LASSO = pd.read_csv('New_Train_Features_LASSO.csv')\n",
        "X_LASSO_test = pd.read_csv('New_Test_Features_LASSO.csv')\n",
        "\n",
        "X_manual = pd.read_csv('New_Train_Features_Selected.csv')\n",
        "X_manual_test = pd.read_csv('New_Test_Features_Selected.csv')"
      ]
    },
    {
      "cell_type": "markdown",
      "metadata": {
        "id": "wft6E7csIUK4"
      },
      "source": [
        "# Full Dataset:"
      ]
    },
    {
      "cell_type": "code",
      "execution_count": null,
      "metadata": {
        "id": "LPlhePgoJCb0"
      },
      "outputs": [],
      "source": [
        "np.random.seed(2025)\n",
        "X_train, X_temp, y_train, y_temp = train_test_split(X_full, y, test_size = 0.3, random_state = 2025, stratify = y)\n",
        "X_val, X_test, y_val, y_test = train_test_split(X_temp, y_temp, test_size = 0.5, random_state = 2025, stratify = y_temp)"
      ]
    },
    {
      "cell_type": "code",
      "execution_count": null,
      "metadata": {
        "id": "vv_AEM4SISr2"
      },
      "outputs": [],
      "source": [
        "np.random.seed(2025)\n",
        "train_ind, val_ind = train_test_split(np.arange(X_temp.shape[0]), test_size = 0.3, random_state = 2025, stratify = y_temp)\n",
        "split = PredefinedHoldoutSplit(valid_indices = val_ind)"
      ]
    },
    {
      "cell_type": "code",
      "execution_count": null,
      "metadata": {
        "id": "L85pvOpRLfP_"
      },
      "outputs": [],
      "source": [
        "params = {\n",
        "    \"n_estimators\": [100, 200, 300],\n",
        "    \"eta\": [0.05, 0.1, 0.2],\n",
        "    \"gamma\": [0, 1],\n",
        "    \"max_depth\": [3, 5, 7],\n",
        "    \"subsample\": [0.8, 0.9, 1.0],\n",
        "    \"colsample_bytree\": [0.8, 0.9, 1.0],\n",
        "    \"booster\": [\"gbtree\", \"dart\"],\n",
        "    \"scale_pos_weight\": [1, 5]\n",
        "}\n",
        "\n",
        "xgb = XGBClassifier(random_state = 2025)"
      ]
    },
    {
      "cell_type": "code",
      "execution_count": null,
      "metadata": {
        "colab": {
          "base_uri": "https://localhost:8080/"
        },
        "id": "i4rWlWIBLvwu",
        "outputId": "9e5fef93-9f4e-49f6-a0c0-640a38e15845"
      },
      "outputs": [
        {
          "name": "stdout",
          "output_type": "stream",
          "text": [
            "Best Parameters: {'booster': 'gbtree', 'colsample_bytree': 0.8, 'eta': 0.2, 'gamma': 0, 'max_depth': 3, 'n_estimators': 200, 'scale_pos_weight': 1, 'subsample': 0.8}\n"
          ]
        }
      ],
      "source": [
        "np.random.seed(2025)\n",
        "xgb_grid = GridSearchCV(xgb, param_grid = params, cv = split, n_jobs = -1, scoring = 'f1_macro')\n",
        "xgb_grid.fit(X_temp, y_temp)\n",
        "print('Best Parameters:', xgb_grid.best_params_)"
      ]
    },
    {
      "cell_type": "code",
      "execution_count": null,
      "metadata": {
        "colab": {
          "base_uri": "https://localhost:8080/"
        },
        "id": "VU4fJQA9MdhT",
        "outputId": "69cb8581-286a-4a0f-937e-cb1d7e552700"
      },
      "outputs": [
        {
          "name": "stdout",
          "output_type": "stream",
          "text": [
            "              precision    recall  f1-score   support\n",
            "\n",
            "           0       1.00      1.00      1.00        36\n",
            "           1       1.00      1.00      1.00         9\n",
            "\n",
            "    accuracy                           1.00        45\n",
            "   macro avg       1.00      1.00      1.00        45\n",
            "weighted avg       1.00      1.00      1.00        45\n",
            "\n"
          ]
        }
      ],
      "source": [
        "np.random.seed(2025)\n",
        "xgb_model = XGBClassifier(n_estimators = 200, eta = 0.2, gamma = 0, max_depth = 3, subsample = 0.8, colsample_bytree = 0.8, booster = 'gbtree', scale_pos_weight = 1, random_state = 2025)\n",
        "xgb_model.fit(X_temp, y_temp)\n",
        "y_pred = xgb_model.predict(X_test)\n",
        "\n",
        "print(classification_report(y_test, y_pred))"
      ]
    },
    {
      "cell_type": "code",
      "execution_count": null,
      "metadata": {
        "id": "wP0FxlVFNJu5"
      },
      "outputs": [],
      "source": [
        "np.random.seed(2025)\n",
        "xgb_model.fit(X_full, y)\n",
        "y_pred_xgb = xgb_model.predict(X_test_full)"
      ]
    },
    {
      "cell_type": "code",
      "execution_count": null,
      "metadata": {
        "colab": {
          "base_uri": "https://localhost:8080/",
          "height": 17
        },
        "id": "TlXgaI7HZpiL",
        "outputId": "12cd89b2-c7ef-4d6c-f107-7b61df0f0661"
      },
      "outputs": [
        {
          "data": {
            "application/javascript": [
              "\n",
              "    async function download(id, filename, size) {\n",
              "      if (!google.colab.kernel.accessAllowed) {\n",
              "        return;\n",
              "      }\n",
              "      const div = document.createElement('div');\n",
              "      const label = document.createElement('label');\n",
              "      label.textContent = `Downloading \"${filename}\": `;\n",
              "      div.appendChild(label);\n",
              "      const progress = document.createElement('progress');\n",
              "      progress.max = size;\n",
              "      div.appendChild(progress);\n",
              "      document.body.appendChild(div);\n",
              "\n",
              "      const buffers = [];\n",
              "      let downloaded = 0;\n",
              "\n",
              "      const channel = await google.colab.kernel.comms.open(id);\n",
              "      // Send a message to notify the kernel that we're ready.\n",
              "      channel.send({})\n",
              "\n",
              "      for await (const message of channel.messages) {\n",
              "        // Send a message to notify the kernel that we're ready.\n",
              "        channel.send({})\n",
              "        if (message.buffers) {\n",
              "          for (const buffer of message.buffers) {\n",
              "            buffers.push(buffer);\n",
              "            downloaded += buffer.byteLength;\n",
              "            progress.value = downloaded;\n",
              "          }\n",
              "        }\n",
              "      }\n",
              "      const blob = new Blob(buffers, {type: 'application/binary'});\n",
              "      const a = document.createElement('a');\n",
              "      a.href = window.URL.createObjectURL(blob);\n",
              "      a.download = filename;\n",
              "      div.appendChild(a);\n",
              "      a.click();\n",
              "      div.remove();\n",
              "    }\n",
              "  "
            ],
            "text/plain": [
              "<IPython.core.display.Javascript object>"
            ]
          },
          "metadata": {},
          "output_type": "display_data"
        },
        {
          "data": {
            "application/javascript": [
              "download(\"download_4119acda-67b0-493d-84bf-33d38486570e\", \"XGB_Full_Cov.csv\", 459)"
            ],
            "text/plain": [
              "<IPython.core.display.Javascript object>"
            ]
          },
          "metadata": {},
          "output_type": "display_data"
        }
      ],
      "source": [
        "from google.colab import files\n",
        "\n",
        "pred_xgb = pd.DataFrame({'ID': range(1, 92), 'Placement': y_pred_xgb})\n",
        "\n",
        "with open('XGB_Full_Cov.csv', 'w') as file:\n",
        "    pred_xgb.to_csv(file, index = False, header = True)\n",
        "\n",
        "files.download('XGB_Full_Cov.csv')"
      ]
    },
    {
      "cell_type": "markdown",
      "metadata": {
        "id": "TEjVn1aVbK5B"
      },
      "source": [
        "# RFE Dataset:"
      ]
    },
    {
      "cell_type": "code",
      "execution_count": null,
      "metadata": {
        "id": "XBQKs3QZbSR_"
      },
      "outputs": [],
      "source": [
        "np.random.seed(2025)\n",
        "X_train_rfe, X_temp_rfe, y_train_rfe, y_temp_rfe = train_test_split(X_RFE, y, test_size = 0.3, random_state = 2025, stratify = y)\n",
        "X_val_rfe, X_test_rfe, y_val_rfe, y_test_rfe = train_test_split(X_temp_rfe, y_temp_rfe, test_size = 0.5, random_state = 2025, stratify = y_temp_rfe)"
      ]
    },
    {
      "cell_type": "code",
      "execution_count": null,
      "metadata": {
        "id": "1cE8xzu3bmxf"
      },
      "outputs": [],
      "source": [
        "np.random.seed(2025)\n",
        "train_rfe_ind, val_rfe_ind = train_test_split(np.arange(X_temp_rfe.shape[0]), test_size = 0.3, random_state = 2025, stratify = y_temp_rfe)\n",
        "split_rfe = PredefinedHoldoutSplit(valid_indices = val_rfe_ind)"
      ]
    },
    {
      "cell_type": "code",
      "execution_count": null,
      "metadata": {
        "colab": {
          "base_uri": "https://localhost:8080/"
        },
        "id": "jZ2U-BlkcXX3",
        "outputId": "6bc68d49-a806-4341-c23a-672b5ea366ea"
      },
      "outputs": [
        {
          "name": "stdout",
          "output_type": "stream",
          "text": [
            "Best Parameters: {'booster': 'gbtree', 'colsample_bytree': 0.8, 'eta': 0.2, 'gamma': 1, 'max_depth': 5, 'n_estimators': 300, 'scale_pos_weight': 1, 'subsample': 0.8}\n"
          ]
        }
      ],
      "source": [
        "np.random.seed(2025)\n",
        "xgb_grid_rfe = GridSearchCV(XGBClassifier(random_state = 2025), param_grid = params, cv = split_rfe, n_jobs = -1, scoring = 'f1_macro')\n",
        "xgb_grid_rfe.fit(X_temp_rfe, y_temp_rfe)\n",
        "print('Best Parameters:', xgb_grid_rfe.best_params_)"
      ]
    },
    {
      "cell_type": "code",
      "execution_count": null,
      "metadata": {
        "colab": {
          "base_uri": "https://localhost:8080/"
        },
        "id": "m9FDkqgOcigg",
        "outputId": "021d35d0-3180-45cb-9f4a-7b009c7b92a9"
      },
      "outputs": [
        {
          "name": "stdout",
          "output_type": "stream",
          "text": [
            "              precision    recall  f1-score   support\n",
            "\n",
            "           0       1.00      1.00      1.00        36\n",
            "           1       1.00      1.00      1.00         9\n",
            "\n",
            "    accuracy                           1.00        45\n",
            "   macro avg       1.00      1.00      1.00        45\n",
            "weighted avg       1.00      1.00      1.00        45\n",
            "\n"
          ]
        }
      ],
      "source": [
        "np.random.seed(2025)\n",
        "xgb_model_rfe = XGBClassifier(n_estimators = 300, eta = 0.2, gamma = 1, max_depth = 5, subsample = 0.8, colsample_bytree = 0.8, booster = 'gbtree', scale_pos_weight = 1, random_state = 2025)\n",
        "xgb_model_rfe.fit(X_temp_rfe, y_temp_rfe)\n",
        "y_pred_rfe = xgb_model_rfe.predict(X_test_rfe)\n",
        "\n",
        "print(classification_report(y_test, y_pred_rfe))"
      ]
    },
    {
      "cell_type": "code",
      "execution_count": null,
      "metadata": {
        "id": "7LPyGoZ5cw2I"
      },
      "outputs": [],
      "source": [
        "np.random.seed(2025)\n",
        "xgb_model_rfe.fit(X_RFE, y)\n",
        "y_pred_rfe_xgb = xgb_model_rfe.predict(X_RFE_test)"
      ]
    },
    {
      "cell_type": "code",
      "execution_count": null,
      "metadata": {
        "colab": {
          "base_uri": "https://localhost:8080/",
          "height": 17
        },
        "id": "r99bH7N9datB",
        "outputId": "30475d69-9fc3-46f7-ce01-ee220b7fb6e0"
      },
      "outputs": [
        {
          "data": {
            "application/javascript": [
              "\n",
              "    async function download(id, filename, size) {\n",
              "      if (!google.colab.kernel.accessAllowed) {\n",
              "        return;\n",
              "      }\n",
              "      const div = document.createElement('div');\n",
              "      const label = document.createElement('label');\n",
              "      label.textContent = `Downloading \"${filename}\": `;\n",
              "      div.appendChild(label);\n",
              "      const progress = document.createElement('progress');\n",
              "      progress.max = size;\n",
              "      div.appendChild(progress);\n",
              "      document.body.appendChild(div);\n",
              "\n",
              "      const buffers = [];\n",
              "      let downloaded = 0;\n",
              "\n",
              "      const channel = await google.colab.kernel.comms.open(id);\n",
              "      // Send a message to notify the kernel that we're ready.\n",
              "      channel.send({})\n",
              "\n",
              "      for await (const message of channel.messages) {\n",
              "        // Send a message to notify the kernel that we're ready.\n",
              "        channel.send({})\n",
              "        if (message.buffers) {\n",
              "          for (const buffer of message.buffers) {\n",
              "            buffers.push(buffer);\n",
              "            downloaded += buffer.byteLength;\n",
              "            progress.value = downloaded;\n",
              "          }\n",
              "        }\n",
              "      }\n",
              "      const blob = new Blob(buffers, {type: 'application/binary'});\n",
              "      const a = document.createElement('a');\n",
              "      a.href = window.URL.createObjectURL(blob);\n",
              "      a.download = filename;\n",
              "      div.appendChild(a);\n",
              "      a.click();\n",
              "      div.remove();\n",
              "    }\n",
              "  "
            ],
            "text/plain": [
              "<IPython.core.display.Javascript object>"
            ]
          },
          "metadata": {},
          "output_type": "display_data"
        },
        {
          "data": {
            "application/javascript": [
              "download(\"download_7faa4f91-f605-4527-a7b4-24a2bd8a6fdd\", \"XGB_RFE_Cov.csv\", 459)"
            ],
            "text/plain": [
              "<IPython.core.display.Javascript object>"
            ]
          },
          "metadata": {},
          "output_type": "display_data"
        }
      ],
      "source": [
        "from google.colab import files\n",
        "\n",
        "pred_xgb = pd.DataFrame({'ID': range(1, 92), 'Placement': y_pred_rfe_xgb})\n",
        "\n",
        "with open('XGB_RFE_Cov.csv', 'w') as file:\n",
        "    pred_xgb.to_csv(file, index = False, header = True)\n",
        "\n",
        "files.download('XGB_RFE_Cov.csv')"
      ]
    },
    {
      "cell_type": "markdown",
      "metadata": {
        "id": "uKIORMg6dmwe"
      },
      "source": [
        "# LASSO:"
      ]
    },
    {
      "cell_type": "code",
      "execution_count": null,
      "metadata": {
        "id": "t1ZlNAhpe8gB"
      },
      "outputs": [],
      "source": [
        "np.random.seed(2025)\n",
        "X_train_lasso, X_temp_lasso, y_train_lasso, y_temp_lasso = train_test_split(X_LASSO, y, test_size = 0.3, random_state = 2025, stratify = y)\n",
        "X_val_lasso, X_test_lasso, y_val_lasso, y_test_lasso = train_test_split(X_temp_lasso, y_temp_lasso, test_size = 0.5, random_state = 2025, stratify = y_temp_lasso)"
      ]
    },
    {
      "cell_type": "code",
      "execution_count": null,
      "metadata": {
        "id": "cbnVPMnTe8gC"
      },
      "outputs": [],
      "source": [
        "np.random.seed(2025)\n",
        "train_lasso_ind, val_lasso_ind = train_test_split(np.arange(X_temp_lasso.shape[0]), test_size = 0.3, random_state = 2025, stratify = y_temp_lasso)\n",
        "split_lasso = PredefinedHoldoutSplit(valid_indices = val_lasso_ind)"
      ]
    },
    {
      "cell_type": "code",
      "execution_count": null,
      "metadata": {
        "colab": {
          "background_save": true
        },
        "id": "FBLjP5sye8gC",
        "outputId": "8e79f0ed-d06b-4255-bc60-b712ca021e0b"
      },
      "outputs": [
        {
          "name": "stdout",
          "output_type": "stream",
          "text": [
            "Best Parameters: {'booster': 'dart', 'colsample_bytree': 1.0, 'eta': 0.1, 'gamma': 1, 'max_depth': 3, 'n_estimators': 100, 'scale_pos_weight': 5, 'subsample': 0.9}\n"
          ]
        }
      ],
      "source": [
        "np.random.seed(2025)\n",
        "xgb_grid_lasso = GridSearchCV(XGBClassifier(random_state = 2025), param_grid = params, cv = split_lasso, n_jobs = -1, scoring = 'f1_macro')\n",
        "xgb_grid_lasso.fit(X_temp_lasso, y_temp_lasso)\n",
        "print('Best Parameters:', xgb_grid_lasso.best_params_)"
      ]
    },
    {
      "cell_type": "code",
      "execution_count": 20,
      "metadata": {
        "colab": {
          "base_uri": "https://localhost:8080/"
        },
        "id": "l-vH5yw-e8gC",
        "outputId": "ef274ff4-eb7f-4961-e97f-60781a25a239"
      },
      "outputs": [
        {
          "output_type": "stream",
          "name": "stdout",
          "text": [
            "              precision    recall  f1-score   support\n",
            "\n",
            "           0       1.00      1.00      1.00        36\n",
            "           1       1.00      1.00      1.00         9\n",
            "\n",
            "    accuracy                           1.00        45\n",
            "   macro avg       1.00      1.00      1.00        45\n",
            "weighted avg       1.00      1.00      1.00        45\n",
            "\n"
          ]
        }
      ],
      "source": [
        "np.random.seed(2025)\n",
        "xgb_model_lasso = XGBClassifier(n_estimators = 100, eta = 0.1, gamma = 1, max_depth = 3, subsample = 0.9, colsample_bytree = 1.0, booster = 'dart', scale_pos_weight = 5, random_state = 2025)\n",
        "xgb_model_lasso.fit(X_temp_lasso, y_temp_lasso)\n",
        "y_pred_lasso = xgb_model_lasso.predict(X_test_lasso)\n",
        "\n",
        "print(classification_report(y_test, y_pred_lasso))"
      ]
    },
    {
      "cell_type": "code",
      "execution_count": 21,
      "metadata": {
        "id": "aGn51lAhe8gC"
      },
      "outputs": [],
      "source": [
        "np.random.seed(2025)\n",
        "xgb_model_lasso.fit(X_LASSO, y)\n",
        "y_pred_lasso_xgb = xgb_model_lasso.predict(X_LASSO_test)"
      ]
    },
    {
      "cell_type": "code",
      "execution_count": 22,
      "metadata": {
        "colab": {
          "base_uri": "https://localhost:8080/",
          "height": 17
        },
        "id": "ldcUb19Se8gC",
        "outputId": "73a3694f-601f-402d-ba23-557ca5f27bc6"
      },
      "outputs": [
        {
          "output_type": "display_data",
          "data": {
            "text/plain": [
              "<IPython.core.display.Javascript object>"
            ],
            "application/javascript": [
              "\n",
              "    async function download(id, filename, size) {\n",
              "      if (!google.colab.kernel.accessAllowed) {\n",
              "        return;\n",
              "      }\n",
              "      const div = document.createElement('div');\n",
              "      const label = document.createElement('label');\n",
              "      label.textContent = `Downloading \"${filename}\": `;\n",
              "      div.appendChild(label);\n",
              "      const progress = document.createElement('progress');\n",
              "      progress.max = size;\n",
              "      div.appendChild(progress);\n",
              "      document.body.appendChild(div);\n",
              "\n",
              "      const buffers = [];\n",
              "      let downloaded = 0;\n",
              "\n",
              "      const channel = await google.colab.kernel.comms.open(id);\n",
              "      // Send a message to notify the kernel that we're ready.\n",
              "      channel.send({})\n",
              "\n",
              "      for await (const message of channel.messages) {\n",
              "        // Send a message to notify the kernel that we're ready.\n",
              "        channel.send({})\n",
              "        if (message.buffers) {\n",
              "          for (const buffer of message.buffers) {\n",
              "            buffers.push(buffer);\n",
              "            downloaded += buffer.byteLength;\n",
              "            progress.value = downloaded;\n",
              "          }\n",
              "        }\n",
              "      }\n",
              "      const blob = new Blob(buffers, {type: 'application/binary'});\n",
              "      const a = document.createElement('a');\n",
              "      a.href = window.URL.createObjectURL(blob);\n",
              "      a.download = filename;\n",
              "      div.appendChild(a);\n",
              "      a.click();\n",
              "      div.remove();\n",
              "    }\n",
              "  "
            ]
          },
          "metadata": {}
        },
        {
          "output_type": "display_data",
          "data": {
            "text/plain": [
              "<IPython.core.display.Javascript object>"
            ],
            "application/javascript": [
              "download(\"download_8a5ad904-3ee7-4b5a-a698-5897bd715e1b\", \"XGB_LASSO_Cov.csv\", 459)"
            ]
          },
          "metadata": {}
        }
      ],
      "source": [
        "from google.colab import files\n",
        "\n",
        "pred_xgb = pd.DataFrame({'ID': range(1, 92), 'Placement': y_pred_lasso_xgb})\n",
        "\n",
        "with open('XGB_LASSO_Cov.csv', 'w') as file:\n",
        "    pred_xgb.to_csv(file, index = False, header = True)\n",
        "\n",
        "files.download('XGB_LASSO_Cov.csv')"
      ]
    },
    {
      "cell_type": "markdown",
      "metadata": {
        "id": "bdWgACdnCLGG"
      },
      "source": [
        "# Full - Without Standardization\n",
        "\n",
        "\n"
      ]
    },
    {
      "cell_type": "code",
      "execution_count": 23,
      "metadata": {
        "id": "KsbuTnJmCwaL"
      },
      "outputs": [],
      "source": [
        "np.random.seed(2025)\n",
        "X_train, X_temp, y_train, y_temp = train_test_split(X_full_no, y, test_size = 0.3, random_state = 2025, stratify = y)\n",
        "X_val, X_test, y_val, y_test = train_test_split(X_temp, y_temp, test_size = 0.5, random_state = 2025, stratify = y_temp)"
      ]
    },
    {
      "cell_type": "code",
      "execution_count": 24,
      "metadata": {
        "id": "bfnY-zuFCwaL"
      },
      "outputs": [],
      "source": [
        "np.random.seed(2025)\n",
        "train_ind, val_ind = train_test_split(np.arange(X_temp.shape[0]), test_size = 0.3, random_state = 2025, stratify = y_temp)\n",
        "split = PredefinedHoldoutSplit(valid_indices = val_ind)"
      ]
    },
    {
      "cell_type": "code",
      "execution_count": 25,
      "metadata": {
        "colab": {
          "base_uri": "https://localhost:8080/"
        },
        "id": "Zkv_OGWqCwaL",
        "outputId": "a6b8bd06-3732-45a6-cf31-9f437c1176ab"
      },
      "outputs": [
        {
          "output_type": "stream",
          "name": "stdout",
          "text": [
            "Best Parameters: {'booster': 'gbtree', 'colsample_bytree': 0.9, 'eta': 0.2, 'gamma': 1, 'max_depth': 3, 'n_estimators': 100, 'scale_pos_weight': 1, 'subsample': 1.0}\n"
          ]
        }
      ],
      "source": [
        "np.random.seed(2025)\n",
        "xgb_grid = GridSearchCV(XGBClassifier(random_state = 2025), param_grid = params, cv = split, n_jobs = -1, scoring = 'f1_macro')\n",
        "xgb_grid.fit(X_temp, y_temp)\n",
        "print('Best Parameters:', xgb_grid.best_params_)"
      ]
    },
    {
      "cell_type": "code",
      "execution_count": 26,
      "metadata": {
        "colab": {
          "base_uri": "https://localhost:8080/"
        },
        "id": "fmk6pjejCwaL",
        "outputId": "e675173d-bcfb-4818-a000-27590b457a54"
      },
      "outputs": [
        {
          "output_type": "stream",
          "name": "stdout",
          "text": [
            "              precision    recall  f1-score   support\n",
            "\n",
            "           0       1.00      1.00      1.00        36\n",
            "           1       1.00      1.00      1.00         9\n",
            "\n",
            "    accuracy                           1.00        45\n",
            "   macro avg       1.00      1.00      1.00        45\n",
            "weighted avg       1.00      1.00      1.00        45\n",
            "\n"
          ]
        }
      ],
      "source": [
        "np.random.seed(2025)\n",
        "xgb_model = XGBClassifier(n_estimators = 100, eta = 0.2, gamma = 1, max_depth = 3, subsample = 1.0, colsample_bytree = 0.9, booster = 'gbtree', scale_pos_weight = 1, random_state = 2025)\n",
        "xgb_model.fit(X_temp, y_temp)\n",
        "y_pred_xgb_no = xgb_model.predict(X_test)\n",
        "\n",
        "print(classification_report(y_test, y_pred_xgb_no))"
      ]
    },
    {
      "cell_type": "code",
      "execution_count": 27,
      "metadata": {
        "id": "CYDDtSFGCwaM"
      },
      "outputs": [],
      "source": [
        "np.random.seed(2025)\n",
        "xgb_model.fit(X_full_no, y)\n",
        "y_pred_xgb_no = xgb_model.predict(X_test_full_no)"
      ]
    },
    {
      "cell_type": "code",
      "execution_count": 28,
      "metadata": {
        "colab": {
          "base_uri": "https://localhost:8080/",
          "height": 17
        },
        "id": "H89nZtA9CwaM",
        "outputId": "d114543a-82ba-4e32-adb0-9629964d0034"
      },
      "outputs": [
        {
          "output_type": "display_data",
          "data": {
            "text/plain": [
              "<IPython.core.display.Javascript object>"
            ],
            "application/javascript": [
              "\n",
              "    async function download(id, filename, size) {\n",
              "      if (!google.colab.kernel.accessAllowed) {\n",
              "        return;\n",
              "      }\n",
              "      const div = document.createElement('div');\n",
              "      const label = document.createElement('label');\n",
              "      label.textContent = `Downloading \"${filename}\": `;\n",
              "      div.appendChild(label);\n",
              "      const progress = document.createElement('progress');\n",
              "      progress.max = size;\n",
              "      div.appendChild(progress);\n",
              "      document.body.appendChild(div);\n",
              "\n",
              "      const buffers = [];\n",
              "      let downloaded = 0;\n",
              "\n",
              "      const channel = await google.colab.kernel.comms.open(id);\n",
              "      // Send a message to notify the kernel that we're ready.\n",
              "      channel.send({})\n",
              "\n",
              "      for await (const message of channel.messages) {\n",
              "        // Send a message to notify the kernel that we're ready.\n",
              "        channel.send({})\n",
              "        if (message.buffers) {\n",
              "          for (const buffer of message.buffers) {\n",
              "            buffers.push(buffer);\n",
              "            downloaded += buffer.byteLength;\n",
              "            progress.value = downloaded;\n",
              "          }\n",
              "        }\n",
              "      }\n",
              "      const blob = new Blob(buffers, {type: 'application/binary'});\n",
              "      const a = document.createElement('a');\n",
              "      a.href = window.URL.createObjectURL(blob);\n",
              "      a.download = filename;\n",
              "      div.appendChild(a);\n",
              "      a.click();\n",
              "      div.remove();\n",
              "    }\n",
              "  "
            ]
          },
          "metadata": {}
        },
        {
          "output_type": "display_data",
          "data": {
            "text/plain": [
              "<IPython.core.display.Javascript object>"
            ],
            "application/javascript": [
              "download(\"download_a9dd71f2-b424-4289-8cba-bde401ead4be\", \"XGB_Full_No_Cov.csv\", 459)"
            ]
          },
          "metadata": {}
        }
      ],
      "source": [
        "from google.colab import files\n",
        "\n",
        "pred_xgb = pd.DataFrame({'ID': range(1, 92), 'Placement': y_pred_xgb_no})\n",
        "\n",
        "with open('XGB_Full_No_Cov.csv', 'w') as file:\n",
        "    pred_xgb.to_csv(file, index = False, header = True)\n",
        "\n",
        "files.download('XGB_Full_No_Cov.csv')"
      ]
    },
    {
      "cell_type": "markdown",
      "metadata": {
        "id": "i6nhI0eESq-h"
      },
      "source": [
        "# Full - Without Standardization - Manual\n",
        "\n"
      ]
    },
    {
      "cell_type": "code",
      "execution_count": 29,
      "metadata": {
        "id": "PO-SpXjeDusl"
      },
      "outputs": [],
      "source": [
        "np.random.seed(2025)\n",
        "X_train, X_temp, y_train, y_temp = train_test_split(X_no_manual, y, test_size = 0.3, random_state = 2025, stratify = y)\n",
        "X_val, X_test, y_val, y_test = train_test_split(X_temp, y_temp, test_size = 0.5, random_state = 2025, stratify = y_temp)"
      ]
    },
    {
      "cell_type": "code",
      "execution_count": 30,
      "metadata": {
        "id": "a-lGL53nDusm"
      },
      "outputs": [],
      "source": [
        "np.random.seed(2025)\n",
        "train_ind, val_ind = train_test_split(np.arange(X_temp.shape[0]), test_size = 0.3, random_state = 2025, stratify = y_temp)\n",
        "split = PredefinedHoldoutSplit(valid_indices = val_ind)"
      ]
    },
    {
      "cell_type": "code",
      "execution_count": 31,
      "metadata": {
        "colab": {
          "base_uri": "https://localhost:8080/"
        },
        "id": "ANEgOZbnDusm",
        "outputId": "2cdaf4cc-2330-42e7-b803-72b477b8008a"
      },
      "outputs": [
        {
          "output_type": "stream",
          "name": "stdout",
          "text": [
            "Best Parameters: {'booster': 'gbtree', 'colsample_bytree': 0.8, 'eta': 0.1, 'gamma': 0, 'max_depth': 3, 'n_estimators': 300, 'scale_pos_weight': 1, 'subsample': 0.8}\n"
          ]
        }
      ],
      "source": [
        "np.random.seed(2025)\n",
        "xgb_grid = GridSearchCV(XGBClassifier(random_state = 2025), param_grid = params, cv = split, n_jobs = -1, scoring = 'f1_macro')\n",
        "xgb_grid.fit(X_temp, y_temp)\n",
        "print('Best Parameters:', xgb_grid.best_params_)"
      ]
    },
    {
      "cell_type": "code",
      "execution_count": 32,
      "metadata": {
        "colab": {
          "base_uri": "https://localhost:8080/"
        },
        "id": "cqLI3l17Dusm",
        "outputId": "7f741e3f-c2d2-4145-dfb0-2037f0fbd315"
      },
      "outputs": [
        {
          "output_type": "stream",
          "name": "stdout",
          "text": [
            "              precision    recall  f1-score   support\n",
            "\n",
            "           0       1.00      1.00      1.00        36\n",
            "           1       1.00      1.00      1.00         9\n",
            "\n",
            "    accuracy                           1.00        45\n",
            "   macro avg       1.00      1.00      1.00        45\n",
            "weighted avg       1.00      1.00      1.00        45\n",
            "\n"
          ]
        }
      ],
      "source": [
        "np.random.seed(2025)\n",
        "xgb_model = XGBClassifier(n_estimators = 300, eta = 0.1, gamma = 0, max_depth = 3, subsample = 0.8, colsample_bytree = 0.8, booster = 'gbtree', scale_pos_weight = 1, random_state = 2025)\n",
        "xgb_model.fit(X_temp, y_temp)\n",
        "y_pred_manual = xgb_model.predict(X_test)\n",
        "\n",
        "print(classification_report(y_test, y_pred_manual))"
      ]
    },
    {
      "cell_type": "code",
      "execution_count": 33,
      "metadata": {
        "id": "tgpuyVy2Dusm"
      },
      "outputs": [],
      "source": [
        "np.random.seed(2025)\n",
        "xgb_model.fit(X_no_manual, y)\n",
        "y_pred_xgb_no_manual = xgb_model.predict(X_test_no_manual)"
      ]
    },
    {
      "cell_type": "code",
      "execution_count": 34,
      "metadata": {
        "colab": {
          "base_uri": "https://localhost:8080/",
          "height": 17
        },
        "id": "gj_QlFrgDusm",
        "outputId": "c2c45d7e-a040-45e8-9a57-d7a5d3b665ac"
      },
      "outputs": [
        {
          "output_type": "display_data",
          "data": {
            "text/plain": [
              "<IPython.core.display.Javascript object>"
            ],
            "application/javascript": [
              "\n",
              "    async function download(id, filename, size) {\n",
              "      if (!google.colab.kernel.accessAllowed) {\n",
              "        return;\n",
              "      }\n",
              "      const div = document.createElement('div');\n",
              "      const label = document.createElement('label');\n",
              "      label.textContent = `Downloading \"${filename}\": `;\n",
              "      div.appendChild(label);\n",
              "      const progress = document.createElement('progress');\n",
              "      progress.max = size;\n",
              "      div.appendChild(progress);\n",
              "      document.body.appendChild(div);\n",
              "\n",
              "      const buffers = [];\n",
              "      let downloaded = 0;\n",
              "\n",
              "      const channel = await google.colab.kernel.comms.open(id);\n",
              "      // Send a message to notify the kernel that we're ready.\n",
              "      channel.send({})\n",
              "\n",
              "      for await (const message of channel.messages) {\n",
              "        // Send a message to notify the kernel that we're ready.\n",
              "        channel.send({})\n",
              "        if (message.buffers) {\n",
              "          for (const buffer of message.buffers) {\n",
              "            buffers.push(buffer);\n",
              "            downloaded += buffer.byteLength;\n",
              "            progress.value = downloaded;\n",
              "          }\n",
              "        }\n",
              "      }\n",
              "      const blob = new Blob(buffers, {type: 'application/binary'});\n",
              "      const a = document.createElement('a');\n",
              "      a.href = window.URL.createObjectURL(blob);\n",
              "      a.download = filename;\n",
              "      div.appendChild(a);\n",
              "      a.click();\n",
              "      div.remove();\n",
              "    }\n",
              "  "
            ]
          },
          "metadata": {}
        },
        {
          "output_type": "display_data",
          "data": {
            "text/plain": [
              "<IPython.core.display.Javascript object>"
            ],
            "application/javascript": [
              "download(\"download_3bb3bee7-2e09-433f-8999-9474f27ef8d7\", \"XGB_No_Manual_Cov.csv\", 459)"
            ]
          },
          "metadata": {}
        }
      ],
      "source": [
        "from google.colab import files\n",
        "\n",
        "pred_xgb = pd.DataFrame({'ID': range(1, 92), 'Placement': y_pred_xgb_no_manual})\n",
        "\n",
        "with open('XGB_No_Manual_Cov.csv', 'w') as file:\n",
        "    pred_xgb.to_csv(file, index = False, header = True)\n",
        "\n",
        "files.download('XGB_No_Manual_Cov.csv')"
      ]
    },
    {
      "cell_type": "markdown",
      "metadata": {
        "id": "ii1owwaSDn2D"
      },
      "source": [
        "# Manual Selection:"
      ]
    },
    {
      "cell_type": "code",
      "execution_count": 35,
      "metadata": {
        "id": "5UhWWJ-PS0FC"
      },
      "outputs": [],
      "source": [
        "np.random.seed(2025)\n",
        "X_train, X_temp, y_train, y_temp = train_test_split(X_manual, y, test_size = 0.3, random_state = 2025, stratify = y)\n",
        "X_val, X_test, y_val, y_test = train_test_split(X_temp, y_temp, test_size = 0.5, random_state = 2025, stratify = y_temp)"
      ]
    },
    {
      "cell_type": "code",
      "execution_count": 36,
      "metadata": {
        "id": "nvuCb96ZS0FC"
      },
      "outputs": [],
      "source": [
        "np.random.seed(2025)\n",
        "train_ind, val_ind = train_test_split(np.arange(X_temp.shape[0]), test_size = 0.3, random_state = 2025, stratify = y_temp)\n",
        "split = PredefinedHoldoutSplit(valid_indices = val_ind)"
      ]
    },
    {
      "cell_type": "code",
      "execution_count": 37,
      "metadata": {
        "colab": {
          "base_uri": "https://localhost:8080/"
        },
        "id": "3Ty77_GYS0FD",
        "outputId": "32308aa3-19cb-402d-870a-0b7f36bc3ff5"
      },
      "outputs": [
        {
          "output_type": "stream",
          "name": "stdout",
          "text": [
            "Best Parameters: {'booster': 'dart', 'colsample_bytree': 0.8, 'eta': 0.1, 'gamma': 1, 'max_depth': 3, 'n_estimators': 100, 'scale_pos_weight': 5, 'subsample': 0.9}\n"
          ]
        }
      ],
      "source": [
        "np.random.seed(2025)\n",
        "xgb_grid = GridSearchCV(XGBClassifier(random_state = 2025), param_grid = params, cv = split, n_jobs = -1, scoring = 'f1_macro')\n",
        "xgb_grid.fit(X_temp, y_temp)\n",
        "print('Best Parameters:', xgb_grid.best_params_)"
      ]
    },
    {
      "cell_type": "code",
      "execution_count": 38,
      "metadata": {
        "colab": {
          "base_uri": "https://localhost:8080/"
        },
        "id": "QdLgcQKVS0FD",
        "outputId": "6abb05c3-a5e0-446b-891c-e28d348773db"
      },
      "outputs": [
        {
          "output_type": "stream",
          "name": "stdout",
          "text": [
            "              precision    recall  f1-score   support\n",
            "\n",
            "           0       1.00      1.00      1.00        36\n",
            "           1       1.00      1.00      1.00         9\n",
            "\n",
            "    accuracy                           1.00        45\n",
            "   macro avg       1.00      1.00      1.00        45\n",
            "weighted avg       1.00      1.00      1.00        45\n",
            "\n"
          ]
        }
      ],
      "source": [
        "np.random.seed(2025)\n",
        "xgb_model = XGBClassifier(n_estimators = 100, eta = 0.1, gamma = 1, max_depth = 3, subsample = 0.9, colsample_bytree = 0.8, booster = 'dart', scale_pos_weight = 5, random_state = 2025)\n",
        "xgb_model.fit(X_temp, y_temp)\n",
        "y_pred_manual = xgb_model.predict(X_test)\n",
        "\n",
        "print(classification_report(y_test, y_pred_manual))"
      ]
    },
    {
      "cell_type": "code",
      "execution_count": 39,
      "metadata": {
        "id": "jB3KD3mgS0FD"
      },
      "outputs": [],
      "source": [
        "np.random.seed(2025)\n",
        "xgb_model.fit(X_manual, y)\n",
        "y_pred_xgb_manual = xgb_model.predict(X_manual_test)"
      ]
    },
    {
      "cell_type": "code",
      "execution_count": 40,
      "metadata": {
        "colab": {
          "base_uri": "https://localhost:8080/",
          "height": 17
        },
        "id": "ri2wHb4jS0FD",
        "outputId": "bd762a0b-1d1a-4657-ac7e-98907b1e1458"
      },
      "outputs": [
        {
          "output_type": "display_data",
          "data": {
            "text/plain": [
              "<IPython.core.display.Javascript object>"
            ],
            "application/javascript": [
              "\n",
              "    async function download(id, filename, size) {\n",
              "      if (!google.colab.kernel.accessAllowed) {\n",
              "        return;\n",
              "      }\n",
              "      const div = document.createElement('div');\n",
              "      const label = document.createElement('label');\n",
              "      label.textContent = `Downloading \"${filename}\": `;\n",
              "      div.appendChild(label);\n",
              "      const progress = document.createElement('progress');\n",
              "      progress.max = size;\n",
              "      div.appendChild(progress);\n",
              "      document.body.appendChild(div);\n",
              "\n",
              "      const buffers = [];\n",
              "      let downloaded = 0;\n",
              "\n",
              "      const channel = await google.colab.kernel.comms.open(id);\n",
              "      // Send a message to notify the kernel that we're ready.\n",
              "      channel.send({})\n",
              "\n",
              "      for await (const message of channel.messages) {\n",
              "        // Send a message to notify the kernel that we're ready.\n",
              "        channel.send({})\n",
              "        if (message.buffers) {\n",
              "          for (const buffer of message.buffers) {\n",
              "            buffers.push(buffer);\n",
              "            downloaded += buffer.byteLength;\n",
              "            progress.value = downloaded;\n",
              "          }\n",
              "        }\n",
              "      }\n",
              "      const blob = new Blob(buffers, {type: 'application/binary'});\n",
              "      const a = document.createElement('a');\n",
              "      a.href = window.URL.createObjectURL(blob);\n",
              "      a.download = filename;\n",
              "      div.appendChild(a);\n",
              "      a.click();\n",
              "      div.remove();\n",
              "    }\n",
              "  "
            ]
          },
          "metadata": {}
        },
        {
          "output_type": "display_data",
          "data": {
            "text/plain": [
              "<IPython.core.display.Javascript object>"
            ],
            "application/javascript": [
              "download(\"download_266b1d7a-4e81-4d94-902e-77381ca21298\", \"XGB_Manual_Cov.csv\", 459)"
            ]
          },
          "metadata": {}
        }
      ],
      "source": [
        "from google.colab import files\n",
        "\n",
        "pred_xgb = pd.DataFrame({'ID': range(1, 92), 'Placement': y_pred_xgb_manual})\n",
        "\n",
        "with open('XGB_Manual_Cov.csv', 'w') as file:\n",
        "    pred_xgb.to_csv(file, index = False, header = True)\n",
        "\n",
        "files.download('XGB_Manual_Cov.csv')"
      ]
    },
    {
      "cell_type": "markdown",
      "metadata": {
        "id": "_EVxmajxjU85"
      },
      "source": [
        "# SMOTE FOR BEST XGB:"
      ]
    },
    {
      "cell_type": "code",
      "execution_count": 41,
      "metadata": {
        "id": "I8nin9u8jb9G"
      },
      "outputs": [],
      "source": [
        "from imblearn.over_sampling import SMOTE"
      ]
    },
    {
      "cell_type": "code",
      "execution_count": 42,
      "metadata": {
        "id": "DG6QQyS9jfSN"
      },
      "outputs": [],
      "source": [
        "np.random.seed(2025)\n",
        "X_train, X_temp, y_train, y_temp = train_test_split(X_full, y, test_size = 0.3, random_state = 2025, stratify = y)\n",
        "X_val, X_test, y_val, y_test = train_test_split(X_temp, y_temp, test_size = 0.5, random_state = 2025, stratify = y_temp)\n",
        "\n",
        "np.random.seed(2025)\n",
        "train_ind, val_ind = train_test_split(np.arange(X_temp.shape[0]), test_size = 0.3, random_state = 2025, stratify = y_temp)\n",
        "split = PredefinedHoldoutSplit(valid_indices = val_ind)\n",
        "\n",
        "smote = SMOTE(random_state = 2025)\n",
        "X_resampled, y_resampled = smote.fit_resample(X_temp, y_temp)"
      ]
    },
    {
      "cell_type": "code",
      "execution_count": 45,
      "metadata": {
        "colab": {
          "base_uri": "https://localhost:8080/"
        },
        "id": "Fw8Sd_6rsrhF",
        "outputId": "fc85d30a-086f-476b-9a59-cc0e150d8884"
      },
      "outputs": [
        {
          "output_type": "stream",
          "name": "stdout",
          "text": [
            "Best Parameters: {'booster': 'gbtree', 'colsample_bytree': 0.8, 'eta': 0.2, 'gamma': 0, 'max_depth': 3, 'n_estimators': 200, 'scale_pos_weight': 1, 'subsample': 0.8}\n"
          ]
        }
      ],
      "source": [
        "np.random.seed(2025)\n",
        "xgb_grid = GridSearchCV(XGBClassifier(random_state = 2025), param_grid = params, cv = split, n_jobs = -1, scoring = 'f1_macro')\n",
        "xgb_grid.fit(X_temp, y_temp)\n",
        "print('Best Parameters:', xgb_grid.best_params_)"
      ]
    },
    {
      "cell_type": "code",
      "execution_count": 47,
      "metadata": {
        "colab": {
          "base_uri": "https://localhost:8080/"
        },
        "id": "ZJrQ422gkFXM",
        "outputId": "df153b66-4429-486f-aed5-98b7c656ae1f"
      },
      "outputs": [
        {
          "output_type": "stream",
          "name": "stdout",
          "text": [
            "              precision    recall  f1-score   support\n",
            "\n",
            "           0       1.00      1.00      1.00        36\n",
            "           1       1.00      1.00      1.00         9\n",
            "\n",
            "    accuracy                           1.00        45\n",
            "   macro avg       1.00      1.00      1.00        45\n",
            "weighted avg       1.00      1.00      1.00        45\n",
            "\n"
          ]
        }
      ],
      "source": [
        "np.random.seed(2025)\n",
        "xgb_model_smote = XGBClassifier(n_estimators = 200, eta = 0.2, gamma = 0, max_depth = 3, subsample = 0.8, colsample_bytree = 0.8, booster = 'gbtree', scale_pos_weight = 1, random_state = 2025)\n",
        "xgb_model_smote.fit(X_resampled, y_resampled)\n",
        "y_pred_smote = xgb_model_smote.predict(X_test)\n",
        "\n",
        "print(classification_report(y_test, y_pred_smote))\n",
        "y_pred_smote_xgb = xgb_model_smote.predict(X_test_full)"
      ]
    },
    {
      "cell_type": "code",
      "execution_count": 48,
      "metadata": {
        "colab": {
          "base_uri": "https://localhost:8080/",
          "height": 17
        },
        "id": "ozKJgNiDpuF0",
        "outputId": "223370bb-3145-449d-d51d-f1c1673cccf2"
      },
      "outputs": [
        {
          "output_type": "display_data",
          "data": {
            "text/plain": [
              "<IPython.core.display.Javascript object>"
            ],
            "application/javascript": [
              "\n",
              "    async function download(id, filename, size) {\n",
              "      if (!google.colab.kernel.accessAllowed) {\n",
              "        return;\n",
              "      }\n",
              "      const div = document.createElement('div');\n",
              "      const label = document.createElement('label');\n",
              "      label.textContent = `Downloading \"${filename}\": `;\n",
              "      div.appendChild(label);\n",
              "      const progress = document.createElement('progress');\n",
              "      progress.max = size;\n",
              "      div.appendChild(progress);\n",
              "      document.body.appendChild(div);\n",
              "\n",
              "      const buffers = [];\n",
              "      let downloaded = 0;\n",
              "\n",
              "      const channel = await google.colab.kernel.comms.open(id);\n",
              "      // Send a message to notify the kernel that we're ready.\n",
              "      channel.send({})\n",
              "\n",
              "      for await (const message of channel.messages) {\n",
              "        // Send a message to notify the kernel that we're ready.\n",
              "        channel.send({})\n",
              "        if (message.buffers) {\n",
              "          for (const buffer of message.buffers) {\n",
              "            buffers.push(buffer);\n",
              "            downloaded += buffer.byteLength;\n",
              "            progress.value = downloaded;\n",
              "          }\n",
              "        }\n",
              "      }\n",
              "      const blob = new Blob(buffers, {type: 'application/binary'});\n",
              "      const a = document.createElement('a');\n",
              "      a.href = window.URL.createObjectURL(blob);\n",
              "      a.download = filename;\n",
              "      div.appendChild(a);\n",
              "      a.click();\n",
              "      div.remove();\n",
              "    }\n",
              "  "
            ]
          },
          "metadata": {}
        },
        {
          "output_type": "display_data",
          "data": {
            "text/plain": [
              "<IPython.core.display.Javascript object>"
            ],
            "application/javascript": [
              "download(\"download_3b248bde-6f50-4fa4-9fc0-24400ca1bd32\", \"XGB_SMOTE_Cov.csv\", 459)"
            ]
          },
          "metadata": {}
        }
      ],
      "source": [
        "from google.colab import files\n",
        "\n",
        "pred_xgb = pd.DataFrame({'ID': range(1, 92), 'Placement': y_pred_smote_xgb})\n",
        "\n",
        "with open('XGB_SMOTE_Cov.csv', 'w') as file:\n",
        "    pred_xgb.to_csv(file, index = False, header = True)\n",
        "\n",
        "files.download('XGB_SMOTE_Cov.csv')"
      ]
    },
    {
      "cell_type": "markdown",
      "metadata": {
        "id": "ECwEwxSukmBV"
      },
      "source": [
        "# GHOST:\n"
      ]
    },
    {
      "cell_type": "code",
      "execution_count": 49,
      "metadata": {
        "colab": {
          "base_uri": "https://localhost:8080/"
        },
        "id": "fqIFJC9XljyX",
        "outputId": "922fe21b-ce5d-47e7-d974-3be42d16de31"
      },
      "outputs": [
        {
          "output_type": "stream",
          "name": "stdout",
          "text": [
            "Collecting ghostml\n",
            "  Downloading ghostml-0.3.0-py3-none-any.whl.metadata (4.1 kB)\n",
            "Requirement already satisfied: numpy in /usr/local/lib/python3.11/dist-packages (from ghostml) (2.0.2)\n",
            "Requirement already satisfied: pandas in /usr/local/lib/python3.11/dist-packages (from ghostml) (2.2.2)\n",
            "Requirement already satisfied: scikit-learn>=0.22 in /usr/local/lib/python3.11/dist-packages (from ghostml) (1.6.1)\n",
            "Requirement already satisfied: scipy>=1.6.0 in /usr/local/lib/python3.11/dist-packages (from scikit-learn>=0.22->ghostml) (1.14.1)\n",
            "Requirement already satisfied: joblib>=1.2.0 in /usr/local/lib/python3.11/dist-packages (from scikit-learn>=0.22->ghostml) (1.4.2)\n",
            "Requirement already satisfied: threadpoolctl>=3.1.0 in /usr/local/lib/python3.11/dist-packages (from scikit-learn>=0.22->ghostml) (3.6.0)\n",
            "Requirement already satisfied: python-dateutil>=2.8.2 in /usr/local/lib/python3.11/dist-packages (from pandas->ghostml) (2.8.2)\n",
            "Requirement already satisfied: pytz>=2020.1 in /usr/local/lib/python3.11/dist-packages (from pandas->ghostml) (2025.1)\n",
            "Requirement already satisfied: tzdata>=2022.7 in /usr/local/lib/python3.11/dist-packages (from pandas->ghostml) (2025.1)\n",
            "Requirement already satisfied: six>=1.5 in /usr/local/lib/python3.11/dist-packages (from python-dateutil>=2.8.2->pandas->ghostml) (1.17.0)\n",
            "Downloading ghostml-0.3.0-py3-none-any.whl (6.5 kB)\n",
            "Installing collected packages: ghostml\n",
            "Successfully installed ghostml-0.3.0\n"
          ]
        }
      ],
      "source": [
        "!pip install ghostml"
      ]
    },
    {
      "cell_type": "code",
      "execution_count": 50,
      "metadata": {
        "id": "c6IhwNj7lltt"
      },
      "outputs": [],
      "source": [
        "import ghostml\n",
        "from sklearn import metrics\n",
        "\n",
        "def calc_metrics(labels_test, test_probs, threshold = 0.5):\n",
        "  scores = [1 if x>=threshold else 0 for x in test_probs]\n",
        "  auc = metrics.roc_auc_score(labels_test, test_probs)\n",
        "  kappa = metrics.cohen_kappa_score(labels_test, scores)\n",
        "  confusion = metrics.confusion_matrix(labels_test, scores, labels = list(set(labels_test)))\n",
        "\n",
        "  print('Threshold: %.2f, kappa: %.3f, AUC test set: %.3f'%(threshold, kappa, auc))\n",
        "  print(confusion)\n",
        "  print(metrics.classification_report(labels_test, scores))\n",
        "\n",
        "  return\n",
        "\n",
        "thresholds = np.round(np.arange(0.01, 0.75,0.01),2)"
      ]
    },
    {
      "cell_type": "code",
      "execution_count": 51,
      "metadata": {
        "colab": {
          "base_uri": "https://localhost:8080/"
        },
        "id": "aSLnv8t_l6Qy",
        "outputId": "585e93be-fdd9-4e7d-d76c-47268a04a859"
      },
      "outputs": [
        {
          "output_type": "stream",
          "name": "stdout",
          "text": [
            "Threshold: 0.50, kappa: 1.000, AUC test set: 1.000\n",
            "[[36  0]\n",
            " [ 0  9]]\n",
            "              precision    recall  f1-score   support\n",
            "\n",
            "           0       1.00      1.00      1.00        36\n",
            "           1       1.00      1.00      1.00         9\n",
            "\n",
            "    accuracy                           1.00        45\n",
            "   macro avg       1.00      1.00      1.00        45\n",
            "weighted avg       1.00      1.00      1.00        45\n",
            "\n"
          ]
        }
      ],
      "source": [
        "np.random.seed(2025)\n",
        "X_train, X_temp, y_train, y_temp = train_test_split(X_full, y, test_size = 0.3, random_state = 2025, stratify = y)\n",
        "X_val, X_test, y_val, y_test = train_test_split(X_temp, y_temp, test_size = 0.5, random_state = 2025, stratify = y_temp)\n",
        "\n",
        "xgb_ghost = XGBClassifier(n_estimators = 200, eta = 0.2, gamma = 0, max_depth = 3, subsample = 0.8, colsample_bytree = 0.8, booster = 'gbtree', scale_pos_weight = 1, random_state = 2025)\n",
        "xgb_ghost.fit(X_temp, y_temp)\n",
        "xgb_test_probs = xgb_ghost.predict_proba(X_test)[:,1]\n",
        "calc_metrics(y_test, xgb_test_probs, threshold = 0.5)"
      ]
    },
    {
      "cell_type": "code",
      "execution_count": 52,
      "metadata": {
        "colab": {
          "base_uri": "https://localhost:8080/"
        },
        "id": "N_BdHPs0mOBQ",
        "outputId": "fbe54c75-bc77-47f4-96c2-4e8307fd3a99"
      },
      "outputs": [
        {
          "output_type": "stream",
          "name": "stdout",
          "text": [
            "Threshold: 0.07, kappa: 0.872, AUC test set: 1.000\n",
            "[[34  2]\n",
            " [ 0  9]]\n",
            "              precision    recall  f1-score   support\n",
            "\n",
            "           0       1.00      0.94      0.97        36\n",
            "           1       0.82      1.00      0.90         9\n",
            "\n",
            "    accuracy                           0.96        45\n",
            "   macro avg       0.91      0.97      0.94        45\n",
            "weighted avg       0.96      0.96      0.96        45\n",
            "\n"
          ]
        }
      ],
      "source": [
        "np.random.seed(2025)\n",
        "xgb_temp_probs = xgb_ghost.predict_proba(X_temp)[:,1]\n",
        "xgb_threshold = ghostml.optimize_threshold_from_predictions(y_temp, xgb_temp_probs, thresholds, ThOpt_metrics = 'Kappa')\n",
        "\n",
        "np.random.seed(2025)\n",
        "calc_metrics(y_test, xgb_test_probs, threshold = xgb_threshold)\n",
        "xgb_GHOST_test = [1 if x >= xgb_threshold else 0 for x in xgb_test_probs]"
      ]
    },
    {
      "cell_type": "code",
      "execution_count": 53,
      "metadata": {
        "id": "ZYpcby63wwE-"
      },
      "outputs": [],
      "source": [
        "np.random.seed(2025)\n",
        "xgb_ghost.fit(X_full, y)\n",
        "xgb_probs = xgb_ghost.predict_proba(X_test_full)[:,1]\n",
        "xgb_pred_ghost = [1 if x >= xgb_threshold else 0 for x in xgb_probs]"
      ]
    },
    {
      "cell_type": "code",
      "execution_count": 55,
      "metadata": {
        "colab": {
          "base_uri": "https://localhost:8080/",
          "height": 17
        },
        "id": "e5Zrd6POxio3",
        "outputId": "32e44baf-d4e1-4d9c-ca7f-9db7c452da76"
      },
      "outputs": [
        {
          "output_type": "display_data",
          "data": {
            "text/plain": [
              "<IPython.core.display.Javascript object>"
            ],
            "application/javascript": [
              "\n",
              "    async function download(id, filename, size) {\n",
              "      if (!google.colab.kernel.accessAllowed) {\n",
              "        return;\n",
              "      }\n",
              "      const div = document.createElement('div');\n",
              "      const label = document.createElement('label');\n",
              "      label.textContent = `Downloading \"${filename}\": `;\n",
              "      div.appendChild(label);\n",
              "      const progress = document.createElement('progress');\n",
              "      progress.max = size;\n",
              "      div.appendChild(progress);\n",
              "      document.body.appendChild(div);\n",
              "\n",
              "      const buffers = [];\n",
              "      let downloaded = 0;\n",
              "\n",
              "      const channel = await google.colab.kernel.comms.open(id);\n",
              "      // Send a message to notify the kernel that we're ready.\n",
              "      channel.send({})\n",
              "\n",
              "      for await (const message of channel.messages) {\n",
              "        // Send a message to notify the kernel that we're ready.\n",
              "        channel.send({})\n",
              "        if (message.buffers) {\n",
              "          for (const buffer of message.buffers) {\n",
              "            buffers.push(buffer);\n",
              "            downloaded += buffer.byteLength;\n",
              "            progress.value = downloaded;\n",
              "          }\n",
              "        }\n",
              "      }\n",
              "      const blob = new Blob(buffers, {type: 'application/binary'});\n",
              "      const a = document.createElement('a');\n",
              "      a.href = window.URL.createObjectURL(blob);\n",
              "      a.download = filename;\n",
              "      div.appendChild(a);\n",
              "      a.click();\n",
              "      div.remove();\n",
              "    }\n",
              "  "
            ]
          },
          "metadata": {}
        },
        {
          "output_type": "display_data",
          "data": {
            "text/plain": [
              "<IPython.core.display.Javascript object>"
            ],
            "application/javascript": [
              "download(\"download_1ca53776-d497-4245-ba1b-c4342b6f4f8e\", \"XGB_GHOST_Cov.csv\", 459)"
            ]
          },
          "metadata": {}
        }
      ],
      "source": [
        "from google.colab import files\n",
        "\n",
        "pred_rf = pd.DataFrame({'ID': range(1, 92), 'Placement': xgb_pred_ghost})\n",
        "\n",
        "with open('XGB_GHOST_Cov.csv', 'w') as file:\n",
        "    pred_rf.to_csv(file, index = False, header = True)\n",
        "\n",
        "files.download('XGB_GHOST_Cov.csv')"
      ]
    }
  ],
  "metadata": {
    "colab": {
      "provenance": []
    },
    "kernelspec": {
      "display_name": "Python 3",
      "name": "python3"
    },
    "language_info": {
      "name": "python"
    }
  },
  "nbformat": 4,
  "nbformat_minor": 0
}