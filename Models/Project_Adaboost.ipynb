{
  "nbformat": 4,
  "nbformat_minor": 0,
  "metadata": {
    "colab": {
      "provenance": []
    },
    "kernelspec": {
      "name": "python3",
      "display_name": "Python 3"
    },
    "language_info": {
      "name": "python"
    }
  },
  "cells": [
    {
      "cell_type": "code",
      "execution_count": 6,
      "metadata": {
        "id": "KsiYG2WKKRRB"
      },
      "outputs": [],
      "source": [
        "import pandas as pd\n",
        "import numpy as np\n",
        "from sklearn.model_selection import train_test_split\n",
        "from sklearn.model_selection import GridSearchCV\n",
        "from mlxtend.evaluate import PredefinedHoldoutSplit\n",
        "from sklearn.ensemble import AdaBoostClassifier\n",
        "from sklearn.neighbors import KNeighborsClassifier\n",
        "from sklearn.tree import DecisionTreeClassifier\n",
        "from sklearn.metrics import classification_report"
      ]
    },
    {
      "cell_type": "code",
      "source": [
        "X_full = pd.read_csv('New_Train_Features_Full.csv')\n",
        "X_test_full = pd.read_csv('New_Test_Features_Full.csv')\n",
        "y = pd.read_csv('Train_Target.csv').iloc[:,1]\n",
        "\n",
        "X_full_no = pd.read_csv('New_Train_Features.csv')\n",
        "X_test_full_no = pd.read_csv('New_Test_Features.csv')\n",
        "\n",
        "X_no_manual = pd.read_csv('New_Train_Features_No_Selected.csv')\n",
        "X_test_no_manual = pd.read_csv('New_Test_Features_No_Selected.csv')\n",
        "\n",
        "X_RFE = pd.read_csv('New_Train_Features_RFE.csv')\n",
        "X_RFE_test = pd.read_csv('New_Test_Features_RFE.csv')\n",
        "\n",
        "X_LASSO = pd.read_csv('New_Train_Features_LASSO.csv')\n",
        "X_LASSO_test = pd.read_csv('New_Test_Features_LASSO.csv')\n",
        "\n",
        "X_manual = pd.read_csv('New_Train_Features_Selected.csv')\n",
        "X_manual_test = pd.read_csv('New_Test_Features_Selected.csv')"
      ],
      "metadata": {
        "id": "5cHqNsYyCCrZ"
      },
      "execution_count": 3,
      "outputs": []
    },
    {
      "cell_type": "markdown",
      "source": [
        "# Full Dataset:"
      ],
      "metadata": {
        "id": "wft6E7csIUK4"
      }
    },
    {
      "cell_type": "code",
      "source": [
        "np.random.seed(2025)\n",
        "X_train, X_temp, y_train, y_temp = train_test_split(X_full, y, test_size = 0.3, random_state = 2025, stratify = y)\n",
        "X_val, X_test, y_val, y_test = train_test_split(X_temp, y_temp, test_size = 0.5, random_state = 2025, stratify = y_temp)"
      ],
      "metadata": {
        "id": "LPlhePgoJCb0"
      },
      "execution_count": 4,
      "outputs": []
    },
    {
      "cell_type": "code",
      "source": [
        "np.random.seed(2025)\n",
        "train_ind, val_ind = train_test_split(np.arange(X_temp.shape[0]), test_size = 0.3, random_state = 2025, stratify = y_temp)\n",
        "split = PredefinedHoldoutSplit(valid_indices = val_ind)"
      ],
      "metadata": {
        "id": "vv_AEM4SISr2"
      },
      "execution_count": 5,
      "outputs": []
    },
    {
      "cell_type": "code",
      "source": [
        "params = {\n",
        "    'estimator': [\n",
        "        DecisionTreeClassifier(max_depth = 1, random_state = 2025),\n",
        "        DecisionTreeClassifier(max_depth = 2, random_state = 2025)],\n",
        "    'n_estimators': [10, 20, 50, 100, 200, 300],\n",
        "    'learning_rate': [0.01, 0.05, 0.1, 0.5, 1.0]\n",
        "}\n",
        "\n",
        "ada = AdaBoostClassifier(random_state = 2025)"
      ],
      "metadata": {
        "id": "L85pvOpRLfP_"
      },
      "execution_count": 17,
      "outputs": []
    },
    {
      "cell_type": "code",
      "source": [
        "np.random.seed(2025)\n",
        "ada_grid = GridSearchCV(ada, param_grid = params, cv = split, n_jobs = -1, scoring = 'f1_macro')\n",
        "ada_grid.fit(X_temp, y_temp)\n",
        "print('Best Parameters:', ada_grid.best_params_)"
      ],
      "metadata": {
        "colab": {
          "base_uri": "https://localhost:8080/"
        },
        "id": "i4rWlWIBLvwu",
        "outputId": "c3c1798f-2a6d-4f71-d6a9-55005947e51d"
      },
      "execution_count": 18,
      "outputs": [
        {
          "output_type": "stream",
          "name": "stdout",
          "text": [
            "Best Parameters: {'estimator': DecisionTreeClassifier(max_depth=2, random_state=2025), 'learning_rate': 0.5, 'n_estimators': 200}\n"
          ]
        }
      ]
    },
    {
      "cell_type": "code",
      "source": [
        "np.random.seed(2025)\n",
        "ada_model = AdaBoostClassifier(estimator = DecisionTreeClassifier(max_depth = 2, random_state = 2025), learning_rate = 0.5, n_estimators = 200, random_state = 2025)\n",
        "ada_model.fit(X_temp, y_temp)\n",
        "y_pred = ada_model.predict(X_test)\n",
        "\n",
        "print(classification_report(y_test, y_pred))"
      ],
      "metadata": {
        "colab": {
          "base_uri": "https://localhost:8080/"
        },
        "id": "VU4fJQA9MdhT",
        "outputId": "bc9796b2-285d-4a40-bfeb-3d224e860bd8"
      },
      "execution_count": 19,
      "outputs": [
        {
          "output_type": "stream",
          "name": "stdout",
          "text": [
            "              precision    recall  f1-score   support\n",
            "\n",
            "           0       1.00      1.00      1.00        36\n",
            "           1       1.00      1.00      1.00         9\n",
            "\n",
            "    accuracy                           1.00        45\n",
            "   macro avg       1.00      1.00      1.00        45\n",
            "weighted avg       1.00      1.00      1.00        45\n",
            "\n"
          ]
        }
      ]
    },
    {
      "cell_type": "code",
      "source": [
        "np.random.seed(2025)\n",
        "ada_model.fit(X_full, y)\n",
        "y_pred_ada = ada_model.predict(X_test_full)"
      ],
      "metadata": {
        "id": "wP0FxlVFNJu5"
      },
      "execution_count": 20,
      "outputs": []
    },
    {
      "cell_type": "code",
      "source": [
        "from google.colab import files\n",
        "\n",
        "pred_ada = pd.DataFrame({'ID': range(1, 92), 'Placement': y_pred_ada})\n",
        "\n",
        "with open('ADA_Full_Cov.csv', 'w') as file:\n",
        "    pred_ada.to_csv(file, index = False, header = True)\n",
        "\n",
        "files.download('ADA_Full_Cov.csv')"
      ],
      "metadata": {
        "colab": {
          "base_uri": "https://localhost:8080/",
          "height": 17
        },
        "id": "TlXgaI7HZpiL",
        "outputId": "17b341ef-9d8f-4379-870e-454201533aab"
      },
      "execution_count": 21,
      "outputs": [
        {
          "output_type": "display_data",
          "data": {
            "text/plain": [
              "<IPython.core.display.Javascript object>"
            ],
            "application/javascript": [
              "\n",
              "    async function download(id, filename, size) {\n",
              "      if (!google.colab.kernel.accessAllowed) {\n",
              "        return;\n",
              "      }\n",
              "      const div = document.createElement('div');\n",
              "      const label = document.createElement('label');\n",
              "      label.textContent = `Downloading \"${filename}\": `;\n",
              "      div.appendChild(label);\n",
              "      const progress = document.createElement('progress');\n",
              "      progress.max = size;\n",
              "      div.appendChild(progress);\n",
              "      document.body.appendChild(div);\n",
              "\n",
              "      const buffers = [];\n",
              "      let downloaded = 0;\n",
              "\n",
              "      const channel = await google.colab.kernel.comms.open(id);\n",
              "      // Send a message to notify the kernel that we're ready.\n",
              "      channel.send({})\n",
              "\n",
              "      for await (const message of channel.messages) {\n",
              "        // Send a message to notify the kernel that we're ready.\n",
              "        channel.send({})\n",
              "        if (message.buffers) {\n",
              "          for (const buffer of message.buffers) {\n",
              "            buffers.push(buffer);\n",
              "            downloaded += buffer.byteLength;\n",
              "            progress.value = downloaded;\n",
              "          }\n",
              "        }\n",
              "      }\n",
              "      const blob = new Blob(buffers, {type: 'application/binary'});\n",
              "      const a = document.createElement('a');\n",
              "      a.href = window.URL.createObjectURL(blob);\n",
              "      a.download = filename;\n",
              "      div.appendChild(a);\n",
              "      a.click();\n",
              "      div.remove();\n",
              "    }\n",
              "  "
            ]
          },
          "metadata": {}
        },
        {
          "output_type": "display_data",
          "data": {
            "text/plain": [
              "<IPython.core.display.Javascript object>"
            ],
            "application/javascript": [
              "download(\"download_acc5ac04-3cf3-4f33-94e1-2c9037e8b107\", \"ADA_Full_Cov.csv\", 459)"
            ]
          },
          "metadata": {}
        }
      ]
    },
    {
      "cell_type": "markdown",
      "source": [
        "# RFE Dataset:"
      ],
      "metadata": {
        "id": "TEjVn1aVbK5B"
      }
    },
    {
      "cell_type": "code",
      "source": [
        "np.random.seed(2025)\n",
        "X_train_rfe, X_temp_rfe, y_train_rfe, y_temp_rfe = train_test_split(X_RFE, y, test_size = 0.3, random_state = 2025, stratify = y)\n",
        "X_val_rfe, X_test_rfe, y_val_rfe, y_test_rfe = train_test_split(X_temp_rfe, y_temp_rfe, test_size = 0.5, random_state = 2025, stratify = y_temp_rfe)"
      ],
      "metadata": {
        "id": "XBQKs3QZbSR_"
      },
      "execution_count": 22,
      "outputs": []
    },
    {
      "cell_type": "code",
      "source": [
        "np.random.seed(2025)\n",
        "train_rfe_ind, val_rfe_ind = train_test_split(np.arange(X_temp_rfe.shape[0]), test_size = 0.3, random_state = 2025, stratify = y_temp_rfe)\n",
        "split_rfe = PredefinedHoldoutSplit(valid_indices = val_rfe_ind)"
      ],
      "metadata": {
        "id": "1cE8xzu3bmxf"
      },
      "execution_count": 23,
      "outputs": []
    },
    {
      "cell_type": "code",
      "source": [
        "np.random.seed(2025)\n",
        "ada_grid_rfe = GridSearchCV(AdaBoostClassifier(random_state = 2025), param_grid = params, cv = split_rfe, n_jobs = -1, scoring = 'f1_macro')\n",
        "ada_grid_rfe.fit(X_temp_rfe, y_temp_rfe)\n",
        "print('Best Parameters:', ada_grid_rfe.best_params_)"
      ],
      "metadata": {
        "colab": {
          "base_uri": "https://localhost:8080/"
        },
        "id": "jZ2U-BlkcXX3",
        "outputId": "39f3748f-af23-4dc1-db84-5e457ed348c9"
      },
      "execution_count": 24,
      "outputs": [
        {
          "output_type": "stream",
          "name": "stdout",
          "text": [
            "Best Parameters: {'estimator': DecisionTreeClassifier(max_depth=2, random_state=2025), 'learning_rate': 1.0, 'n_estimators': 10}\n"
          ]
        }
      ]
    },
    {
      "cell_type": "code",
      "source": [
        "np.random.seed(2025)\n",
        "ada_model_rfe = AdaBoostClassifier(estimator = DecisionTreeClassifier(max_depth = 2, random_state = 2025), learning_rate = 1.0, n_estimators = 10, random_state = 2025)\n",
        "ada_model_rfe.fit(X_temp_rfe, y_temp_rfe)\n",
        "y_pred_rfe = ada_model_rfe.predict(X_test_rfe)\n",
        "\n",
        "print(classification_report(y_test, y_pred_rfe))"
      ],
      "metadata": {
        "colab": {
          "base_uri": "https://localhost:8080/"
        },
        "id": "m9FDkqgOcigg",
        "outputId": "18b8f548-446e-434f-c525-6d42118758c9"
      },
      "execution_count": 25,
      "outputs": [
        {
          "output_type": "stream",
          "name": "stdout",
          "text": [
            "              precision    recall  f1-score   support\n",
            "\n",
            "           0       1.00      1.00      1.00        36\n",
            "           1       1.00      1.00      1.00         9\n",
            "\n",
            "    accuracy                           1.00        45\n",
            "   macro avg       1.00      1.00      1.00        45\n",
            "weighted avg       1.00      1.00      1.00        45\n",
            "\n"
          ]
        }
      ]
    },
    {
      "cell_type": "code",
      "source": [
        "np.random.seed(2025)\n",
        "ada_model_rfe.fit(X_RFE, y)\n",
        "y_pred_rfe_ada = ada_model_rfe.predict(X_RFE_test)"
      ],
      "metadata": {
        "id": "7LPyGoZ5cw2I"
      },
      "execution_count": 26,
      "outputs": []
    },
    {
      "cell_type": "code",
      "source": [
        "from google.colab import files\n",
        "\n",
        "pred_ada = pd.DataFrame({'ID': range(1, 92), 'Placement': y_pred_rfe_ada})\n",
        "\n",
        "with open('ADA_RFE_Cov.csv', 'w') as file:\n",
        "    pred_ada.to_csv(file, index = False, header = True)\n",
        "\n",
        "files.download('ADA_RFE_Cov.csv')"
      ],
      "metadata": {
        "colab": {
          "base_uri": "https://localhost:8080/",
          "height": 17
        },
        "id": "r99bH7N9datB",
        "outputId": "52670437-4e85-4325-e38a-0f361b743a69"
      },
      "execution_count": 27,
      "outputs": [
        {
          "output_type": "display_data",
          "data": {
            "text/plain": [
              "<IPython.core.display.Javascript object>"
            ],
            "application/javascript": [
              "\n",
              "    async function download(id, filename, size) {\n",
              "      if (!google.colab.kernel.accessAllowed) {\n",
              "        return;\n",
              "      }\n",
              "      const div = document.createElement('div');\n",
              "      const label = document.createElement('label');\n",
              "      label.textContent = `Downloading \"${filename}\": `;\n",
              "      div.appendChild(label);\n",
              "      const progress = document.createElement('progress');\n",
              "      progress.max = size;\n",
              "      div.appendChild(progress);\n",
              "      document.body.appendChild(div);\n",
              "\n",
              "      const buffers = [];\n",
              "      let downloaded = 0;\n",
              "\n",
              "      const channel = await google.colab.kernel.comms.open(id);\n",
              "      // Send a message to notify the kernel that we're ready.\n",
              "      channel.send({})\n",
              "\n",
              "      for await (const message of channel.messages) {\n",
              "        // Send a message to notify the kernel that we're ready.\n",
              "        channel.send({})\n",
              "        if (message.buffers) {\n",
              "          for (const buffer of message.buffers) {\n",
              "            buffers.push(buffer);\n",
              "            downloaded += buffer.byteLength;\n",
              "            progress.value = downloaded;\n",
              "          }\n",
              "        }\n",
              "      }\n",
              "      const blob = new Blob(buffers, {type: 'application/binary'});\n",
              "      const a = document.createElement('a');\n",
              "      a.href = window.URL.createObjectURL(blob);\n",
              "      a.download = filename;\n",
              "      div.appendChild(a);\n",
              "      a.click();\n",
              "      div.remove();\n",
              "    }\n",
              "  "
            ]
          },
          "metadata": {}
        },
        {
          "output_type": "display_data",
          "data": {
            "text/plain": [
              "<IPython.core.display.Javascript object>"
            ],
            "application/javascript": [
              "download(\"download_9e60172f-61de-4a93-952e-5e992a0256a3\", \"ADA_RFE_Cov.csv\", 459)"
            ]
          },
          "metadata": {}
        }
      ]
    },
    {
      "cell_type": "markdown",
      "source": [
        "# LASSO:"
      ],
      "metadata": {
        "id": "uKIORMg6dmwe"
      }
    },
    {
      "cell_type": "code",
      "source": [
        "np.random.seed(2025)\n",
        "X_train_lasso, X_temp_lasso, y_train_lasso, y_temp_lasso = train_test_split(X_LASSO, y, test_size = 0.3, random_state = 2025, stratify = y)\n",
        "X_val_lasso, X_test_lasso, y_val_lasso, y_test_lasso = train_test_split(X_temp_lasso, y_temp_lasso, test_size = 0.5, random_state = 2025, stratify = y_temp_lasso)"
      ],
      "metadata": {
        "id": "t1ZlNAhpe8gB"
      },
      "execution_count": 28,
      "outputs": []
    },
    {
      "cell_type": "code",
      "source": [
        "np.random.seed(2025)\n",
        "train_lasso_ind, val_lasso_ind = train_test_split(np.arange(X_temp_lasso.shape[0]), test_size = 0.3, random_state = 2025, stratify = y_temp_lasso)\n",
        "split_lasso = PredefinedHoldoutSplit(valid_indices = val_lasso_ind)"
      ],
      "metadata": {
        "id": "cbnVPMnTe8gC"
      },
      "execution_count": 29,
      "outputs": []
    },
    {
      "cell_type": "code",
      "source": [
        "np.random.seed(2025)\n",
        "ada_grid_lasso = GridSearchCV(AdaBoostClassifier(random_state = 2025), param_grid = params, cv = split_lasso, n_jobs = -1, scoring = 'f1_macro')\n",
        "ada_grid_lasso.fit(X_temp_lasso, y_temp_lasso)\n",
        "print('Best Parameters:', ada_grid_lasso.best_params_)"
      ],
      "metadata": {
        "colab": {
          "base_uri": "https://localhost:8080/"
        },
        "outputId": "34ad5149-0a2b-4fd0-9493-22a44d8716da",
        "id": "FBLjP5sye8gC"
      },
      "execution_count": 30,
      "outputs": [
        {
          "output_type": "stream",
          "name": "stdout",
          "text": [
            "Best Parameters: {'estimator': DecisionTreeClassifier(max_depth=2, random_state=2025), 'learning_rate': 1.0, 'n_estimators': 50}\n"
          ]
        }
      ]
    },
    {
      "cell_type": "code",
      "source": [
        "np.random.seed(2025)\n",
        "ada_model_lasso = AdaBoostClassifier(estimator = DecisionTreeClassifier(max_depth = 2, random_state = 2025), learning_rate = 1.0, n_estimators = 50, random_state = 2025)\n",
        "ada_model_lasso.fit(X_temp_lasso, y_temp_lasso)\n",
        "y_pred_lasso = ada_model_lasso.predict(X_test_lasso)\n",
        "\n",
        "print(classification_report(y_test, y_pred_lasso))"
      ],
      "metadata": {
        "colab": {
          "base_uri": "https://localhost:8080/"
        },
        "outputId": "939b4273-0107-455f-b420-417f8bba3735",
        "id": "l-vH5yw-e8gC"
      },
      "execution_count": 31,
      "outputs": [
        {
          "output_type": "stream",
          "name": "stdout",
          "text": [
            "              precision    recall  f1-score   support\n",
            "\n",
            "           0       1.00      1.00      1.00        36\n",
            "           1       1.00      1.00      1.00         9\n",
            "\n",
            "    accuracy                           1.00        45\n",
            "   macro avg       1.00      1.00      1.00        45\n",
            "weighted avg       1.00      1.00      1.00        45\n",
            "\n"
          ]
        }
      ]
    },
    {
      "cell_type": "code",
      "source": [
        "np.random.seed(2025)\n",
        "ada_model_lasso.fit(X_LASSO, y)\n",
        "y_pred_lasso_ada = ada_model_lasso.predict(X_LASSO_test)"
      ],
      "metadata": {
        "id": "aGn51lAhe8gC"
      },
      "execution_count": 32,
      "outputs": []
    },
    {
      "cell_type": "code",
      "source": [
        "from google.colab import files\n",
        "\n",
        "pred_ada = pd.DataFrame({'ID': range(1, 92), 'Placement': y_pred_lasso_ada})\n",
        "\n",
        "with open('ADA_LASSO_Cov.csv', 'w') as file:\n",
        "    pred_ada.to_csv(file, index = False, header = True)\n",
        "\n",
        "files.download('ADA_LASSO_Cov.csv')"
      ],
      "metadata": {
        "colab": {
          "base_uri": "https://localhost:8080/",
          "height": 17
        },
        "outputId": "73f5d01f-7662-4c45-836f-7fe3cd3d558a",
        "id": "ldcUb19Se8gC"
      },
      "execution_count": 33,
      "outputs": [
        {
          "output_type": "display_data",
          "data": {
            "text/plain": [
              "<IPython.core.display.Javascript object>"
            ],
            "application/javascript": [
              "\n",
              "    async function download(id, filename, size) {\n",
              "      if (!google.colab.kernel.accessAllowed) {\n",
              "        return;\n",
              "      }\n",
              "      const div = document.createElement('div');\n",
              "      const label = document.createElement('label');\n",
              "      label.textContent = `Downloading \"${filename}\": `;\n",
              "      div.appendChild(label);\n",
              "      const progress = document.createElement('progress');\n",
              "      progress.max = size;\n",
              "      div.appendChild(progress);\n",
              "      document.body.appendChild(div);\n",
              "\n",
              "      const buffers = [];\n",
              "      let downloaded = 0;\n",
              "\n",
              "      const channel = await google.colab.kernel.comms.open(id);\n",
              "      // Send a message to notify the kernel that we're ready.\n",
              "      channel.send({})\n",
              "\n",
              "      for await (const message of channel.messages) {\n",
              "        // Send a message to notify the kernel that we're ready.\n",
              "        channel.send({})\n",
              "        if (message.buffers) {\n",
              "          for (const buffer of message.buffers) {\n",
              "            buffers.push(buffer);\n",
              "            downloaded += buffer.byteLength;\n",
              "            progress.value = downloaded;\n",
              "          }\n",
              "        }\n",
              "      }\n",
              "      const blob = new Blob(buffers, {type: 'application/binary'});\n",
              "      const a = document.createElement('a');\n",
              "      a.href = window.URL.createObjectURL(blob);\n",
              "      a.download = filename;\n",
              "      div.appendChild(a);\n",
              "      a.click();\n",
              "      div.remove();\n",
              "    }\n",
              "  "
            ]
          },
          "metadata": {}
        },
        {
          "output_type": "display_data",
          "data": {
            "text/plain": [
              "<IPython.core.display.Javascript object>"
            ],
            "application/javascript": [
              "download(\"download_124437e1-c8a1-418b-836e-ef2499548fc9\", \"ADA_LASSO_Cov.csv\", 459)"
            ]
          },
          "metadata": {}
        }
      ]
    },
    {
      "cell_type": "markdown",
      "source": [
        "# Full - Without Standardization\n",
        "\n",
        "\n"
      ],
      "metadata": {
        "id": "bdWgACdnCLGG"
      }
    },
    {
      "cell_type": "code",
      "source": [
        "np.random.seed(2025)\n",
        "X_train, X_temp, y_train, y_temp = train_test_split(X_full_no, y, test_size = 0.3, random_state = 2025, stratify = y)\n",
        "X_val, X_test, y_val, y_test = train_test_split(X_temp, y_temp, test_size = 0.5, random_state = 2025, stratify = y_temp)"
      ],
      "metadata": {
        "id": "KsbuTnJmCwaL"
      },
      "execution_count": 34,
      "outputs": []
    },
    {
      "cell_type": "code",
      "source": [
        "np.random.seed(2025)\n",
        "train_ind, val_ind = train_test_split(np.arange(X_temp.shape[0]), test_size = 0.3, random_state = 2025, stratify = y_temp)\n",
        "split = PredefinedHoldoutSplit(valid_indices = val_ind)"
      ],
      "metadata": {
        "id": "bfnY-zuFCwaL"
      },
      "execution_count": 35,
      "outputs": []
    },
    {
      "cell_type": "code",
      "source": [
        "np.random.seed(2025)\n",
        "ada_grid = GridSearchCV(AdaBoostClassifier(random_state = 2025), param_grid = params, cv = split, n_jobs = -1, scoring = 'f1_macro')\n",
        "ada_grid.fit(X_temp, y_temp)\n",
        "print('Best Parameters:', ada_grid.best_params_)"
      ],
      "metadata": {
        "colab": {
          "base_uri": "https://localhost:8080/"
        },
        "outputId": "62b53bb5-904d-4b21-9608-a2d8b435cdf6",
        "id": "Zkv_OGWqCwaL"
      },
      "execution_count": 36,
      "outputs": [
        {
          "output_type": "stream",
          "name": "stdout",
          "text": [
            "Best Parameters: {'estimator': DecisionTreeClassifier(max_depth=2, random_state=2025), 'learning_rate': 1.0, 'n_estimators': 10}\n"
          ]
        }
      ]
    },
    {
      "cell_type": "code",
      "source": [
        "np.random.seed(2025)\n",
        "ada_model = AdaBoostClassifier(estimator = DecisionTreeClassifier(max_depth = 2, random_state = 2025), learning_rate = 1.0, n_estimators = 10, random_state = 2025)\n",
        "ada_model.fit(X_temp, y_temp)\n",
        "y_pred_ada_no = ada_model.predict(X_test)\n",
        "\n",
        "print(classification_report(y_test, y_pred_ada_no))"
      ],
      "metadata": {
        "colab": {
          "base_uri": "https://localhost:8080/"
        },
        "outputId": "48471405-aea2-44b5-cba8-2794d8ff0639",
        "id": "fmk6pjejCwaL"
      },
      "execution_count": 37,
      "outputs": [
        {
          "output_type": "stream",
          "name": "stdout",
          "text": [
            "              precision    recall  f1-score   support\n",
            "\n",
            "           0       1.00      1.00      1.00        36\n",
            "           1       1.00      1.00      1.00         9\n",
            "\n",
            "    accuracy                           1.00        45\n",
            "   macro avg       1.00      1.00      1.00        45\n",
            "weighted avg       1.00      1.00      1.00        45\n",
            "\n"
          ]
        }
      ]
    },
    {
      "cell_type": "code",
      "source": [
        "np.random.seed(2025)\n",
        "ada_model.fit(X_full_no, y)\n",
        "y_pred_ada_no = ada_model.predict(X_test_full_no)"
      ],
      "metadata": {
        "id": "CYDDtSFGCwaM"
      },
      "execution_count": 38,
      "outputs": []
    },
    {
      "cell_type": "code",
      "source": [
        "from google.colab import files\n",
        "\n",
        "pred_ada = pd.DataFrame({'ID': range(1, 92), 'Placement': y_pred_ada_no})\n",
        "\n",
        "with open('ADA_Full_No_Cov.csv', 'w') as file:\n",
        "    pred_ada.to_csv(file, index = False, header = True)\n",
        "\n",
        "files.download('ADA_Full_No_Cov.csv')"
      ],
      "metadata": {
        "colab": {
          "base_uri": "https://localhost:8080/",
          "height": 17
        },
        "outputId": "600a760b-df69-4d4d-d578-77c42fe80568",
        "id": "H89nZtA9CwaM"
      },
      "execution_count": 39,
      "outputs": [
        {
          "output_type": "display_data",
          "data": {
            "text/plain": [
              "<IPython.core.display.Javascript object>"
            ],
            "application/javascript": [
              "\n",
              "    async function download(id, filename, size) {\n",
              "      if (!google.colab.kernel.accessAllowed) {\n",
              "        return;\n",
              "      }\n",
              "      const div = document.createElement('div');\n",
              "      const label = document.createElement('label');\n",
              "      label.textContent = `Downloading \"${filename}\": `;\n",
              "      div.appendChild(label);\n",
              "      const progress = document.createElement('progress');\n",
              "      progress.max = size;\n",
              "      div.appendChild(progress);\n",
              "      document.body.appendChild(div);\n",
              "\n",
              "      const buffers = [];\n",
              "      let downloaded = 0;\n",
              "\n",
              "      const channel = await google.colab.kernel.comms.open(id);\n",
              "      // Send a message to notify the kernel that we're ready.\n",
              "      channel.send({})\n",
              "\n",
              "      for await (const message of channel.messages) {\n",
              "        // Send a message to notify the kernel that we're ready.\n",
              "        channel.send({})\n",
              "        if (message.buffers) {\n",
              "          for (const buffer of message.buffers) {\n",
              "            buffers.push(buffer);\n",
              "            downloaded += buffer.byteLength;\n",
              "            progress.value = downloaded;\n",
              "          }\n",
              "        }\n",
              "      }\n",
              "      const blob = new Blob(buffers, {type: 'application/binary'});\n",
              "      const a = document.createElement('a');\n",
              "      a.href = window.URL.createObjectURL(blob);\n",
              "      a.download = filename;\n",
              "      div.appendChild(a);\n",
              "      a.click();\n",
              "      div.remove();\n",
              "    }\n",
              "  "
            ]
          },
          "metadata": {}
        },
        {
          "output_type": "display_data",
          "data": {
            "text/plain": [
              "<IPython.core.display.Javascript object>"
            ],
            "application/javascript": [
              "download(\"download_488b1c57-5116-4634-81a9-fa5d9aeac3e4\", \"ADA_Full_No_Cov.csv\", 459)"
            ]
          },
          "metadata": {}
        }
      ]
    },
    {
      "cell_type": "markdown",
      "source": [
        "# Full - Without Standardization - Manual\n",
        "\n"
      ],
      "metadata": {
        "id": "i6nhI0eESq-h"
      }
    },
    {
      "cell_type": "code",
      "source": [
        "np.random.seed(2025)\n",
        "X_train, X_temp, y_train, y_temp = train_test_split(X_no_manual, y, test_size = 0.3, random_state = 2025, stratify = y)\n",
        "X_val, X_test, y_val, y_test = train_test_split(X_temp, y_temp, test_size = 0.5, random_state = 2025, stratify = y_temp)"
      ],
      "metadata": {
        "id": "PO-SpXjeDusl"
      },
      "execution_count": 40,
      "outputs": []
    },
    {
      "cell_type": "code",
      "source": [
        "np.random.seed(2025)\n",
        "train_ind, val_ind = train_test_split(np.arange(X_temp.shape[0]), test_size = 0.3, random_state = 2025, stratify = y_temp)\n",
        "split = PredefinedHoldoutSplit(valid_indices = val_ind)"
      ],
      "metadata": {
        "id": "a-lGL53nDusm"
      },
      "execution_count": 41,
      "outputs": []
    },
    {
      "cell_type": "code",
      "source": [
        "np.random.seed(2025)\n",
        "ada_grid = GridSearchCV(AdaBoostClassifier(random_state = 2025), param_grid = params, cv = split, n_jobs = -1, scoring = 'f1_macro')\n",
        "ada_grid.fit(X_temp, y_temp)\n",
        "print('Best Parameters:', ada_grid.best_params_)"
      ],
      "metadata": {
        "colab": {
          "base_uri": "https://localhost:8080/"
        },
        "outputId": "9f8fab9f-8df2-492f-8fdd-45fec03dfa4a",
        "id": "ANEgOZbnDusm"
      },
      "execution_count": 42,
      "outputs": [
        {
          "output_type": "stream",
          "name": "stdout",
          "text": [
            "Best Parameters: {'estimator': DecisionTreeClassifier(max_depth=2, random_state=2025), 'learning_rate': 0.5, 'n_estimators': 200}\n"
          ]
        }
      ]
    },
    {
      "cell_type": "code",
      "source": [
        "np.random.seed(2025)\n",
        "ada_model = AdaBoostClassifier(estimator = DecisionTreeClassifier(max_depth = 2, random_state = 2025), learning_rate = 0.5, n_estimators = 200, random_state = 2025)\n",
        "ada_model.fit(X_temp, y_temp)\n",
        "y_pred_manual = ada_model.predict(X_test)\n",
        "\n",
        "print(classification_report(y_test, y_pred_manual))"
      ],
      "metadata": {
        "colab": {
          "base_uri": "https://localhost:8080/"
        },
        "outputId": "839cfd54-6bf5-456f-dfac-43bc37d9d769",
        "id": "cqLI3l17Dusm"
      },
      "execution_count": 43,
      "outputs": [
        {
          "output_type": "stream",
          "name": "stdout",
          "text": [
            "              precision    recall  f1-score   support\n",
            "\n",
            "           0       1.00      1.00      1.00        36\n",
            "           1       1.00      1.00      1.00         9\n",
            "\n",
            "    accuracy                           1.00        45\n",
            "   macro avg       1.00      1.00      1.00        45\n",
            "weighted avg       1.00      1.00      1.00        45\n",
            "\n"
          ]
        }
      ]
    },
    {
      "cell_type": "code",
      "source": [
        "np.random.seed(2025)\n",
        "ada_model.fit(X_no_manual, y)\n",
        "y_pred_ada_no_manual = ada_model.predict(X_test_no_manual)"
      ],
      "metadata": {
        "id": "tgpuyVy2Dusm"
      },
      "execution_count": 44,
      "outputs": []
    },
    {
      "cell_type": "code",
      "source": [
        "from google.colab import files\n",
        "\n",
        "pred_ada = pd.DataFrame({'ID': range(1, 92), 'Placement': y_pred_ada_no_manual})\n",
        "\n",
        "with open('ADA_No_Manual_Cov.csv', 'w') as file:\n",
        "    pred_ada.to_csv(file, index = False, header = True)\n",
        "\n",
        "files.download('ADA_No_Manual_Cov.csv')"
      ],
      "metadata": {
        "colab": {
          "base_uri": "https://localhost:8080/",
          "height": 17
        },
        "outputId": "7f2a98b8-974c-4184-aed1-5107ffda4095",
        "id": "gj_QlFrgDusm"
      },
      "execution_count": 45,
      "outputs": [
        {
          "output_type": "display_data",
          "data": {
            "text/plain": [
              "<IPython.core.display.Javascript object>"
            ],
            "application/javascript": [
              "\n",
              "    async function download(id, filename, size) {\n",
              "      if (!google.colab.kernel.accessAllowed) {\n",
              "        return;\n",
              "      }\n",
              "      const div = document.createElement('div');\n",
              "      const label = document.createElement('label');\n",
              "      label.textContent = `Downloading \"${filename}\": `;\n",
              "      div.appendChild(label);\n",
              "      const progress = document.createElement('progress');\n",
              "      progress.max = size;\n",
              "      div.appendChild(progress);\n",
              "      document.body.appendChild(div);\n",
              "\n",
              "      const buffers = [];\n",
              "      let downloaded = 0;\n",
              "\n",
              "      const channel = await google.colab.kernel.comms.open(id);\n",
              "      // Send a message to notify the kernel that we're ready.\n",
              "      channel.send({})\n",
              "\n",
              "      for await (const message of channel.messages) {\n",
              "        // Send a message to notify the kernel that we're ready.\n",
              "        channel.send({})\n",
              "        if (message.buffers) {\n",
              "          for (const buffer of message.buffers) {\n",
              "            buffers.push(buffer);\n",
              "            downloaded += buffer.byteLength;\n",
              "            progress.value = downloaded;\n",
              "          }\n",
              "        }\n",
              "      }\n",
              "      const blob = new Blob(buffers, {type: 'application/binary'});\n",
              "      const a = document.createElement('a');\n",
              "      a.href = window.URL.createObjectURL(blob);\n",
              "      a.download = filename;\n",
              "      div.appendChild(a);\n",
              "      a.click();\n",
              "      div.remove();\n",
              "    }\n",
              "  "
            ]
          },
          "metadata": {}
        },
        {
          "output_type": "display_data",
          "data": {
            "text/plain": [
              "<IPython.core.display.Javascript object>"
            ],
            "application/javascript": [
              "download(\"download_e0859f84-9d5a-40e2-92f0-8ebbce94c1c4\", \"ADA_No_Manual_Cov.csv\", 459)"
            ]
          },
          "metadata": {}
        }
      ]
    },
    {
      "cell_type": "markdown",
      "source": [
        "# Manual Selection:"
      ],
      "metadata": {
        "id": "ii1owwaSDn2D"
      }
    },
    {
      "cell_type": "code",
      "source": [
        "np.random.seed(2025)\n",
        "X_train, X_temp, y_train, y_temp = train_test_split(X_manual, y, test_size = 0.3, random_state = 2025, stratify = y)\n",
        "X_val, X_test, y_val, y_test = train_test_split(X_temp, y_temp, test_size = 0.5, random_state = 2025, stratify = y_temp)"
      ],
      "metadata": {
        "id": "5UhWWJ-PS0FC"
      },
      "execution_count": 46,
      "outputs": []
    },
    {
      "cell_type": "code",
      "source": [
        "np.random.seed(2025)\n",
        "train_ind, val_ind = train_test_split(np.arange(X_temp.shape[0]), test_size = 0.3, random_state = 2025, stratify = y_temp)\n",
        "split = PredefinedHoldoutSplit(valid_indices = val_ind)"
      ],
      "metadata": {
        "id": "nvuCb96ZS0FC"
      },
      "execution_count": 47,
      "outputs": []
    },
    {
      "cell_type": "code",
      "source": [
        "np.random.seed(2025)\n",
        "ada_grid = GridSearchCV(AdaBoostClassifier(random_state = 2025), param_grid = params, cv = split, n_jobs = -1, scoring = 'f1_macro')\n",
        "ada_grid.fit(X_temp, y_temp)\n",
        "print('Best Parameters:', ada_grid.best_params_)"
      ],
      "metadata": {
        "colab": {
          "base_uri": "https://localhost:8080/"
        },
        "outputId": "13cf9d61-6ba1-45eb-ccb8-69c816464b61",
        "id": "3Ty77_GYS0FD"
      },
      "execution_count": 48,
      "outputs": [
        {
          "output_type": "stream",
          "name": "stdout",
          "text": [
            "Best Parameters: {'estimator': DecisionTreeClassifier(max_depth=2, random_state=2025), 'learning_rate': 1.0, 'n_estimators': 200}\n"
          ]
        }
      ]
    },
    {
      "cell_type": "code",
      "source": [
        "np.random.seed(2025)\n",
        "ada_model = AdaBoostClassifier(estimator = DecisionTreeClassifier(max_depth = 2, random_state = 2025), learning_rate = 1.0, n_estimators = 200, random_state = 2025)\n",
        "ada_model.fit(X_temp, y_temp)\n",
        "y_pred_manual = ada_model.predict(X_test)\n",
        "\n",
        "print(classification_report(y_test, y_pred_manual))"
      ],
      "metadata": {
        "colab": {
          "base_uri": "https://localhost:8080/"
        },
        "outputId": "0d87124d-b1cc-4d92-c929-6c0da28802bc",
        "id": "QdLgcQKVS0FD"
      },
      "execution_count": 49,
      "outputs": [
        {
          "output_type": "stream",
          "name": "stdout",
          "text": [
            "              precision    recall  f1-score   support\n",
            "\n",
            "           0       1.00      1.00      1.00        36\n",
            "           1       1.00      1.00      1.00         9\n",
            "\n",
            "    accuracy                           1.00        45\n",
            "   macro avg       1.00      1.00      1.00        45\n",
            "weighted avg       1.00      1.00      1.00        45\n",
            "\n"
          ]
        }
      ]
    },
    {
      "cell_type": "code",
      "source": [
        "np.random.seed(2025)\n",
        "ada_model.fit(X_manual, y)\n",
        "y_pred_ada_manual = ada_model.predict(X_manual_test)"
      ],
      "metadata": {
        "id": "jB3KD3mgS0FD"
      },
      "execution_count": 50,
      "outputs": []
    },
    {
      "cell_type": "code",
      "source": [
        "from google.colab import files\n",
        "\n",
        "pred_ada = pd.DataFrame({'ID': range(1, 92), 'Placement': y_pred_ada_manual})\n",
        "\n",
        "with open('ADA_Manual_Cov.csv', 'w') as file:\n",
        "    pred_ada.to_csv(file, index = False, header = True)\n",
        "\n",
        "files.download('ADA_Manual_Cov.csv')"
      ],
      "metadata": {
        "colab": {
          "base_uri": "https://localhost:8080/",
          "height": 17
        },
        "outputId": "09932c10-55ea-48d1-9057-2ea7cb678c0c",
        "id": "ri2wHb4jS0FD"
      },
      "execution_count": 51,
      "outputs": [
        {
          "output_type": "display_data",
          "data": {
            "text/plain": [
              "<IPython.core.display.Javascript object>"
            ],
            "application/javascript": [
              "\n",
              "    async function download(id, filename, size) {\n",
              "      if (!google.colab.kernel.accessAllowed) {\n",
              "        return;\n",
              "      }\n",
              "      const div = document.createElement('div');\n",
              "      const label = document.createElement('label');\n",
              "      label.textContent = `Downloading \"${filename}\": `;\n",
              "      div.appendChild(label);\n",
              "      const progress = document.createElement('progress');\n",
              "      progress.max = size;\n",
              "      div.appendChild(progress);\n",
              "      document.body.appendChild(div);\n",
              "\n",
              "      const buffers = [];\n",
              "      let downloaded = 0;\n",
              "\n",
              "      const channel = await google.colab.kernel.comms.open(id);\n",
              "      // Send a message to notify the kernel that we're ready.\n",
              "      channel.send({})\n",
              "\n",
              "      for await (const message of channel.messages) {\n",
              "        // Send a message to notify the kernel that we're ready.\n",
              "        channel.send({})\n",
              "        if (message.buffers) {\n",
              "          for (const buffer of message.buffers) {\n",
              "            buffers.push(buffer);\n",
              "            downloaded += buffer.byteLength;\n",
              "            progress.value = downloaded;\n",
              "          }\n",
              "        }\n",
              "      }\n",
              "      const blob = new Blob(buffers, {type: 'application/binary'});\n",
              "      const a = document.createElement('a');\n",
              "      a.href = window.URL.createObjectURL(blob);\n",
              "      a.download = filename;\n",
              "      div.appendChild(a);\n",
              "      a.click();\n",
              "      div.remove();\n",
              "    }\n",
              "  "
            ]
          },
          "metadata": {}
        },
        {
          "output_type": "display_data",
          "data": {
            "text/plain": [
              "<IPython.core.display.Javascript object>"
            ],
            "application/javascript": [
              "download(\"download_0b44d7ee-d0eb-41e8-a0d0-3e982bb5c7c2\", \"ADA_Manual_Cov.csv\", 459)"
            ]
          },
          "metadata": {}
        }
      ]
    },
    {
      "cell_type": "markdown",
      "source": [
        "# SMOTE FOR BEST ADA:"
      ],
      "metadata": {
        "id": "_EVxmajxjU85"
      }
    },
    {
      "cell_type": "code",
      "source": [
        "from imblearn.over_sampling import SMOTE"
      ],
      "metadata": {
        "id": "I8nin9u8jb9G"
      },
      "execution_count": 52,
      "outputs": []
    },
    {
      "cell_type": "code",
      "source": [
        "np.random.seed(2025)\n",
        "X_train, X_temp, y_train, y_temp = train_test_split(X_full_no, y, test_size = 0.3, random_state = 2025, stratify = y)\n",
        "X_val, X_test, y_val, y_test = train_test_split(X_temp, y_temp, test_size = 0.5, random_state = 2025, stratify = y_temp)\n",
        "\n",
        "np.random.seed(2025)\n",
        "train_ind, val_ind = train_test_split(np.arange(X_temp.shape[0]), test_size = 0.3, random_state = 2025, stratify = y_temp)\n",
        "split = PredefinedHoldoutSplit(valid_indices = val_ind)\n",
        "\n",
        "smote = SMOTE(random_state = 2025)\n",
        "X_resampled, y_resampled = smote.fit_resample(X_temp, y_temp)"
      ],
      "metadata": {
        "id": "DG6QQyS9jfSN"
      },
      "execution_count": 61,
      "outputs": []
    },
    {
      "cell_type": "code",
      "source": [
        "np.random.seed(2025)\n",
        "ada_model_smote = AdaBoostClassifier(estimator = DecisionTreeClassifier(max_depth = 2, random_state = 2025), learning_rate = 1.0, n_estimators = 10, random_state = 2025)\n",
        "ada_model_smote.fit(X_resampled, y_resampled)\n",
        "y_pred_smote = ada_model_smote.predict(X_test)\n",
        "\n",
        "print(classification_report(y_test, y_pred_smote))\n",
        "y_pred_smote_ada = ada_model_smote.predict(X_test_full_no)"
      ],
      "metadata": {
        "colab": {
          "base_uri": "https://localhost:8080/"
        },
        "id": "ZJrQ422gkFXM",
        "outputId": "f9a5ceff-06fc-4583-f55f-db0f4662bb11"
      },
      "execution_count": 62,
      "outputs": [
        {
          "output_type": "stream",
          "name": "stdout",
          "text": [
            "              precision    recall  f1-score   support\n",
            "\n",
            "           0       1.00      0.97      0.99        36\n",
            "           1       0.90      1.00      0.95         9\n",
            "\n",
            "    accuracy                           0.98        45\n",
            "   macro avg       0.95      0.99      0.97        45\n",
            "weighted avg       0.98      0.98      0.98        45\n",
            "\n"
          ]
        }
      ]
    },
    {
      "cell_type": "code",
      "source": [
        "from google.colab import files\n",
        "\n",
        "pred_ada = pd.DataFrame({'ID': range(1, 92), 'Placement': y_pred_smote_ada})\n",
        "\n",
        "with open('ADA_SMOTE_Cov.csv', 'w') as file:\n",
        "    pred_ada.to_csv(file, index = False, header = True)\n",
        "\n",
        "files.download('ADA_SMOTE_Cov.csv')"
      ],
      "metadata": {
        "colab": {
          "base_uri": "https://localhost:8080/",
          "height": 17
        },
        "id": "ozKJgNiDpuF0",
        "outputId": "9c082bed-a1de-4894-a4f1-889e3699e18f"
      },
      "execution_count": 63,
      "outputs": [
        {
          "output_type": "display_data",
          "data": {
            "text/plain": [
              "<IPython.core.display.Javascript object>"
            ],
            "application/javascript": [
              "\n",
              "    async function download(id, filename, size) {\n",
              "      if (!google.colab.kernel.accessAllowed) {\n",
              "        return;\n",
              "      }\n",
              "      const div = document.createElement('div');\n",
              "      const label = document.createElement('label');\n",
              "      label.textContent = `Downloading \"${filename}\": `;\n",
              "      div.appendChild(label);\n",
              "      const progress = document.createElement('progress');\n",
              "      progress.max = size;\n",
              "      div.appendChild(progress);\n",
              "      document.body.appendChild(div);\n",
              "\n",
              "      const buffers = [];\n",
              "      let downloaded = 0;\n",
              "\n",
              "      const channel = await google.colab.kernel.comms.open(id);\n",
              "      // Send a message to notify the kernel that we're ready.\n",
              "      channel.send({})\n",
              "\n",
              "      for await (const message of channel.messages) {\n",
              "        // Send a message to notify the kernel that we're ready.\n",
              "        channel.send({})\n",
              "        if (message.buffers) {\n",
              "          for (const buffer of message.buffers) {\n",
              "            buffers.push(buffer);\n",
              "            downloaded += buffer.byteLength;\n",
              "            progress.value = downloaded;\n",
              "          }\n",
              "        }\n",
              "      }\n",
              "      const blob = new Blob(buffers, {type: 'application/binary'});\n",
              "      const a = document.createElement('a');\n",
              "      a.href = window.URL.createObjectURL(blob);\n",
              "      a.download = filename;\n",
              "      div.appendChild(a);\n",
              "      a.click();\n",
              "      div.remove();\n",
              "    }\n",
              "  "
            ]
          },
          "metadata": {}
        },
        {
          "output_type": "display_data",
          "data": {
            "text/plain": [
              "<IPython.core.display.Javascript object>"
            ],
            "application/javascript": [
              "download(\"download_bc1aa879-0d5e-491b-819e-19a92e31fc2d\", \"ADA_SMOTE_Cov.csv\", 459)"
            ]
          },
          "metadata": {}
        }
      ]
    },
    {
      "cell_type": "code",
      "source": [
        "np.random.seed(2025)\n",
        "X_train, X_temp, y_train, y_temp = train_test_split(X_LASSO, y, test_size = 0.3, random_state = 2025, stratify = y)\n",
        "X_val, X_test, y_val, y_test = train_test_split(X_temp, y_temp, test_size = 0.5, random_state = 2025, stratify = y_temp)\n",
        "\n",
        "np.random.seed(2025)\n",
        "train_ind, val_ind = train_test_split(np.arange(X_temp.shape[0]), test_size = 0.3, random_state = 2025, stratify = y_temp)\n",
        "split = PredefinedHoldoutSplit(valid_indices = val_ind)\n",
        "\n",
        "smote = SMOTE(random_state = 2025)\n",
        "X_resampled, y_resampled = smote.fit_resample(X_temp, y_temp)"
      ],
      "metadata": {
        "id": "ZrhZlXX4JpgY"
      },
      "execution_count": 70,
      "outputs": []
    },
    {
      "cell_type": "code",
      "source": [
        "np.random.seed(2025)\n",
        "ada_grid_lasso = GridSearchCV(AdaBoostClassifier(random_state = 2025), param_grid = params, cv = split_lasso, n_jobs = -1, scoring = 'f1_macro')\n",
        "ada_grid_lasso.fit(X_temp, y_temp)\n",
        "print('Best Parameters:', ada_grid_lasso.best_params_)"
      ],
      "metadata": {
        "colab": {
          "base_uri": "https://localhost:8080/"
        },
        "id": "Fw8Sd_6rsrhF",
        "outputId": "c2051660-da73-4f7c-a1c1-abe98c1f1827"
      },
      "execution_count": 71,
      "outputs": [
        {
          "output_type": "stream",
          "name": "stdout",
          "text": [
            "Best Parameters: {'estimator': DecisionTreeClassifier(max_depth=2, random_state=2025), 'learning_rate': 1.0, 'n_estimators': 50}\n"
          ]
        }
      ]
    },
    {
      "cell_type": "code",
      "source": [
        "np.random.seed(2025)\n",
        "ada_model_smote = AdaBoostClassifier(estimator = DecisionTreeClassifier(max_depth = 2, random_state = 2025), learning_rate = 1.0, n_estimators = 50, random_state = 2025)\n",
        "ada_model_smote.fit(X_resampled, y_resampled)\n",
        "y_pred_smote = ada_model_smote.predict(X_test)\n",
        "\n",
        "print(classification_report(y_test, y_pred_smote))\n",
        "y_pred_smote_ada = ada_model_smote.predict(X_LASSO_test)"
      ],
      "metadata": {
        "colab": {
          "base_uri": "https://localhost:8080/"
        },
        "outputId": "42e703fe-98eb-46c1-c0f3-48ef8839349c",
        "id": "1aboSfBrJpgY"
      },
      "execution_count": 72,
      "outputs": [
        {
          "output_type": "stream",
          "name": "stdout",
          "text": [
            "              precision    recall  f1-score   support\n",
            "\n",
            "           0       1.00      1.00      1.00        36\n",
            "           1       1.00      1.00      1.00         9\n",
            "\n",
            "    accuracy                           1.00        45\n",
            "   macro avg       1.00      1.00      1.00        45\n",
            "weighted avg       1.00      1.00      1.00        45\n",
            "\n"
          ]
        }
      ]
    },
    {
      "cell_type": "code",
      "source": [
        "from google.colab import files\n",
        "\n",
        "pred_ada = pd.DataFrame({'ID': range(1, 92), 'Placement': y_pred_smote_ada})\n",
        "\n",
        "with open('ADA_SMOTE_LASSO_Cov.csv', 'w') as file:\n",
        "    pred_ada.to_csv(file, index = False, header = True)\n",
        "\n",
        "files.download('ADA_SMOTE_LASSO_Cov.csv')"
      ],
      "metadata": {
        "colab": {
          "base_uri": "https://localhost:8080/",
          "height": 17
        },
        "outputId": "0855a351-86f1-4217-9d4c-b9f516c614d1",
        "id": "IjbU-3dBJpgY"
      },
      "execution_count": 73,
      "outputs": [
        {
          "output_type": "display_data",
          "data": {
            "text/plain": [
              "<IPython.core.display.Javascript object>"
            ],
            "application/javascript": [
              "\n",
              "    async function download(id, filename, size) {\n",
              "      if (!google.colab.kernel.accessAllowed) {\n",
              "        return;\n",
              "      }\n",
              "      const div = document.createElement('div');\n",
              "      const label = document.createElement('label');\n",
              "      label.textContent = `Downloading \"${filename}\": `;\n",
              "      div.appendChild(label);\n",
              "      const progress = document.createElement('progress');\n",
              "      progress.max = size;\n",
              "      div.appendChild(progress);\n",
              "      document.body.appendChild(div);\n",
              "\n",
              "      const buffers = [];\n",
              "      let downloaded = 0;\n",
              "\n",
              "      const channel = await google.colab.kernel.comms.open(id);\n",
              "      // Send a message to notify the kernel that we're ready.\n",
              "      channel.send({})\n",
              "\n",
              "      for await (const message of channel.messages) {\n",
              "        // Send a message to notify the kernel that we're ready.\n",
              "        channel.send({})\n",
              "        if (message.buffers) {\n",
              "          for (const buffer of message.buffers) {\n",
              "            buffers.push(buffer);\n",
              "            downloaded += buffer.byteLength;\n",
              "            progress.value = downloaded;\n",
              "          }\n",
              "        }\n",
              "      }\n",
              "      const blob = new Blob(buffers, {type: 'application/binary'});\n",
              "      const a = document.createElement('a');\n",
              "      a.href = window.URL.createObjectURL(blob);\n",
              "      a.download = filename;\n",
              "      div.appendChild(a);\n",
              "      a.click();\n",
              "      div.remove();\n",
              "    }\n",
              "  "
            ]
          },
          "metadata": {}
        },
        {
          "output_type": "display_data",
          "data": {
            "text/plain": [
              "<IPython.core.display.Javascript object>"
            ],
            "application/javascript": [
              "download(\"download_09a643f6-ed44-4631-97b1-5ff6dee16520\", \"ADA_SMOTE_LASSO_Cov.csv\", 459)"
            ]
          },
          "metadata": {}
        }
      ]
    }
  ]
}